{
 "cells": [
  {
   "cell_type": "markdown",
   "metadata": {},
   "source": [
    "## Types of ML\n",
    "1. Supervised ML\n",
    "2. Unsupervised ML\n",
    "3. Semi Supervised ML\n",
    "4. Reinforcement ML\n",
    "\n",
    "1. SUpervised ML:\n",
    "    - Classification\n",
    "    - Regression\n",
    "\n",
    "2. Unsupervised ML:\n",
    "    - Clusters or similar groups\n",
    "    - eg: customer segmentation    \n",
    "\n",
    "3. Semisupervised ML:\n",
    "    - SUpervised + Unsupervised\n",
    "\n",
    "4. Reinforcement Learning:\n",
    "    - "
   ]
  },
  {
   "cell_type": "code",
   "execution_count": null,
   "metadata": {},
   "outputs": [],
   "source": []
  }
 ],
 "metadata": {
  "language_info": {
   "name": "python"
  }
 },
 "nbformat": 4,
 "nbformat_minor": 2
}
