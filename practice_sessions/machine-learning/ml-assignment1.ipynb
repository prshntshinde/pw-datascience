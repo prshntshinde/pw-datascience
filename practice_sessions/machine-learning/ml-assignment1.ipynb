{
 "cells": [
  {
   "cell_type": "markdown",
   "metadata": {},
   "source": [
    "Q1- Explain the following with an example\n",
    "    1. Artificial IntKlli*KncJ\n",
    "    2. MachinK LKarnin,\n",
    "    3. DKKp LKarning"
   ]
  },
  {
   "cell_type": "markdown",
   "metadata": {},
   "source": [
    "1. Artificial Intelligence:\n",
    "    - AI is the process of imparting data, information, and human intelligence to machines. \n",
    "    - The main goal of Artificial Intelligence is to develop self-reliant machines that can think and act like humans. \n",
    "    - These machines can mimic human behavior and perform tasks by learning and problem-solving.\n",
    "\n",
    "2. Machine Learning:\n",
    "    - Machine learning is a discipline of computer science that uses computer algorithms and analytics to build predictive models that can solve business problems.\n",
    "\n",
    "3. Deep learning:\n",
    "    - Deep learning is a subset of machine learning that deals with algorithms inspired by the structure and function of the human brain. \n",
    "    - Deep learning algorithms can work with an enormous amount of both structured and unstructured data. Deep learning’s core concept lies in artificial neural networks, which enable machines to make decisions. "
   ]
  },
  {
   "cell_type": "markdown",
   "metadata": {},
   "source": [
    "---\n",
    "Q2- What is Supervised Learning? List some examples of Supervised Learning.\n"
   ]
  },
  {
   "cell_type": "markdown",
   "metadata": {},
   "source": [
    "In supervised learning, the data is already labeled, which means you know the target variable. Using this method of learning, systems can predict future outcomes based on past data. It requires that at least an input and output variable be given to the model for it to be trained. \n",
    "\n",
    "examples:\n",
    "- Forecasting\n",
    "- image classification"
   ]
  },
  {
   "cell_type": "markdown",
   "metadata": {},
   "source": [
    "---\n",
    "Q3- What is Unsupervised Learning? List some examples of Unsupervised Learning.\n"
   ]
  },
  {
   "cell_type": "markdown",
   "metadata": {},
   "source": [
    "Unsupervised learning algorithms employ unlabeled data to discover patterns from the data on their own. The systems are able to identify hidden features from the input data provided. Once the data is more readable, the patterns and similarities become more evident.\n",
    "\n",
    "examples:\n",
    "- Customer Segmentation.\n",
    "- Recommended Systems"
   ]
  },
  {
   "cell_type": "markdown",
   "metadata": {},
   "source": [
    "---\n",
    "Q4- What is the difference between AI, ML, DL, and DS?\n"
   ]
  },
  {
   "cell_type": "markdown",
   "metadata": {},
   "source": [
    "|AI|ML|DL|DS|\n",
    "|:-:|:-:|:-:|:-:|\n",
    "|AI involves creating intelligent systems that can mimic human-like decision-making processes. It encompasses a wide range of techniques and methods to enable machines to learn from experience, reason, and make decisions based on data.|ML is a subset of AI, focusing on developing algorithms that allow computers to learn patterns from data without being explicitly programmed. |DL is a subfield of ML that utilizes artificial neural networks, inspired by the human brain's structure, to process and learn from vast amounts of data. It has gained significant attention due to its breakthroughs in image recognition, natural language processing, and more.|DS involves the extraction of knowledge and insights from structured and unstructured data. It combines elements of statistics, computer science, and domain expertise to interpret and draw meaningful conclusions from data.|\n",
    "|The aim is to basically increase chances of success and not accuracy.|The aim is to increase accuracy not caring much about the success ratio.|It attains the highest rank in terms of accuracy when it is trained with large amount of data.|It involves data collection, cleaning, analysis, and visualization to uncover hidden.|"
   ]
  },
  {
   "cell_type": "markdown",
   "metadata": {},
   "source": [
    "---\n",
    "Q5- What the difference between Supervised, UnSupervised, and Semi-Supervised learning*?\n"
   ]
  },
  {
   "cell_type": "markdown",
   "metadata": {},
   "source": [
    "|Supervised|UnSupervised|Semi-Supervised|\n",
    "|-|-|-|\n",
    "|Supervised learning involves training an AI algorithm using unlabeled data. Here, developers provide input data (features) and corresponding output labels to the ML model. The algorithm learns to map inputs to outputs by identifying patterns and relationships within the dataset.|Unsupervised learning involves training algorithms on unlabeled data and attempts to find hidden patterns or intrinsic structures within the dataset. The model explores the data without explicit oversight or guidance, making autonomous inferences or organizing data based on similarities or differences.|semi-supervised learning combines elements of both supervised and unsupervised learning. It uses a limited amount of labeled data, along with a more extensive pool of labeled data, to improve the model's accuracy and performance.|\n",
    "|supervised learning techniques include: Regression, Classification|unsupervised learning techniques are: Clustering, Dimensionality reduction, Association mining |semi-supervised learning approaches include: Self-training, Co-training|"
   ]
  },
  {
   "cell_type": "markdown",
   "metadata": {},
   "source": [
    "---\n",
    "Q6- What is train, test and validation split? Explain the importance of each term.\n"
   ]
  },
  {
   "cell_type": "markdown",
   "metadata": {},
   "source": [
    "Training, Validation, and Testing\n",
    "- Data splitting divides a dataset into three main subsets: the training set, used to train the model; the validation set, used to track model parameters and avoid overfitting; and the testing set, used for checking the model’s performance on new data. \n",
    "- Each subset serves a unique purpose in the iterative process of developing a machine-learning model.\n",
    "\n",
    "Importance of train, test and validtion split:\n",
    "- Evaluation of Model Generalization\n",
    "- Prevention of Overfitting\n",
    "- Strength Assessment\n",
    "- Bias-Variance Trade-off Management"
   ]
  },
  {
   "cell_type": "markdown",
   "metadata": {},
   "source": [
    "---\n",
    "Q7- How can unsupervised learning be used in anomaly dtection?\n"
   ]
  },
  {
   "cell_type": "markdown",
   "metadata": {},
   "source": [
    "- An anomaly is an observation or data point that deviates significantly from the expected behavior or pattern of a given dataset. Anomalies are also known as outliers or anomalies.\n",
    "\n",
    "- Unsupervised machine learning is one of the main branches of machine learning and it has a multitude of applications. One of the most important is anomaly detection: identifying normal patterns within a data sample and then detecting outliers based on the natural characteristics of the data set itself.\n",
    "- the model learns to identify anomalies without prior knowledge of what constitutes normal behavior. It is useful when there are no labeled datasets available or when anomalies are rare and difficult to find."
   ]
  },
  {
   "cell_type": "markdown",
   "metadata": {},
   "source": [
    "\n",
    "---\n",
    "Q8- List down some commonly used supervised learning algorithms and unsupervised learning algorithms."
   ]
  },
  {
   "cell_type": "markdown",
   "metadata": {},
   "source": [
    "Some popular examples of supervised machine learning algorithms are:\n",
    "- Linear regression for regression problems.\n",
    "- Random forest for classification and regression problems.\n",
    "- Support vector machines for classification problems.\n",
    "\n",
    "Some popular examples of unsupervised learning algorithms are:\n",
    "- k-means for clustering problems.\n",
    "- Apriori algorithm for association rule learning problems.\n",
    "- LDA for topic modeling of text passages, i.e., discover and associate keywords to text."
   ]
  }
 ],
 "metadata": {
  "language_info": {
   "name": "python"
  }
 },
 "nbformat": 4,
 "nbformat_minor": 2
}
