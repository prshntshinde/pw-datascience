{
 "cells": [
  {
   "cell_type": "markdown",
   "metadata": {},
   "source": [
    "### Q1. What is Web Scraping? Why is it Used? Give three areas where Web Scraping is used to get data."
   ]
  },
  {
   "cell_type": "markdown",
   "metadata": {},
   "source": [
    "- Web Scraping is a process of using bots or programmatically extract content and data from a website.\n",
    "- This information is collected and then exported into a format that is more useful for the user.\n",
    "- Areas where it is used is as follows:\n",
    "    - Scraping data from ECommerce website for price monitoring.\n",
    "    - Scraping Stock prices for Market analysis.\n",
    "    - Scarping news sites for News Monitoring.\n"
   ]
  },
  {
   "cell_type": "markdown",
   "metadata": {},
   "source": [
    "### Q2. What are the different methods used for Web Scraping?"
   ]
  },
  {
   "cell_type": "markdown",
   "metadata": {},
   "source": [
    "1. HTML Parsing:\n",
    "    - It involves the use of HTML to target a linear or nested HTML page. \n",
    "    - It is a powerful and fast method for extracting text and links.\n",
    "\n",
    "2. DOM Parsing:\n",
    "    - The Document Object Model (DOM) defines the structure, style and content of an XML file. \n",
    "    - Scrapers typically use a DOM parser to view the structure of web pages in depth. \n",
    "    - DOM parsers can be used to access the nodes that contain information and scrape the web page with tools like XPath.\n",
    "\n",
    "3. XPath:\n",
    "    - XPath is short for XML Path Language, which is a query language for XML documents.\n",
    "    - XML documents have tree-like structures, so scrapers can use XPath to navigate through them by selecting nodes according to various parameters."
   ]
  },
  {
   "cell_type": "markdown",
   "metadata": {},
   "source": [
    "### Q3. What is Beautiful Soup? Why is it used?\n"
   ]
  },
  {
   "cell_type": "markdown",
   "metadata": {},
   "source": [
    "- Beautiful Soup is a python library used for web scraping.\n",
    "- It creates a parse tree that can be used to extract data from HTML on a website. \n",
    "- Beautiful soup also has multiple features for navigation, searching, and modifying these parse trees."
   ]
  },
  {
   "cell_type": "markdown",
   "metadata": {},
   "source": [
    "### Q4. Why is flask used in this Web Scraping project?"
   ]
  },
  {
   "cell_type": "markdown",
   "metadata": {},
   "source": [
    "- Flask will allows us to send HTTP based request to the website which we want to scrape.\n",
    "- It also allows us to display the data by building a web page."
   ]
  },
  {
   "cell_type": "markdown",
   "metadata": {},
   "source": [
    "### Q5. Write the names of AWS services used in this project. Also, explain the use of each service."
   ]
  },
  {
   "cell_type": "markdown",
   "metadata": {},
   "source": [
    "- Elastic Beanstalk\n",
    "    - It is an AWS service with which we can quickly deploy and manage applications in the AWS Cloud without having to learn about the infrastructure that runs those applications. \n",
    "    - It reduces management complexity. \n",
    "    - You simply upload your application, and Elastic Beanstalk automatically handles the details of capacity provisioning, load balancing, scaling, and application health monitoring.\n",
    "    ---\n",
    "\n",
    "- CodePipeline\n",
    "    - It is an AWS service with which we can automate delivery pipelines for fast and reliable updates.\n",
    "    - It is used to model, visualize, and automate the steps required to release your software. \n",
    "    - We can quickly model and configure the different stages of a software release process.\n"
   ]
  }
 ],
 "metadata": {
  "language_info": {
   "name": "python"
  },
  "orig_nbformat": 4
 },
 "nbformat": 4,
 "nbformat_minor": 2
}
