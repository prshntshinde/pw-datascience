{
 "cells": [
  {
   "cell_type": "markdown",
   "metadata": {},
   "source": [
    "Go to this given URL and solve the following questions\n",
    "URL: https://www.youtube.com/@PW-Foundation/videos\n"
   ]
  },
  {
   "cell_type": "markdown",
   "metadata": {},
   "source": [
    "### Q1. Write a python program to extract the video URL of the first five videos."
   ]
  },
  {
   "cell_type": "code",
   "execution_count": 17,
   "metadata": {},
   "outputs": [],
   "source": [
    "from selenium import webdriver\n",
    "from selenium.webdriver.common.by import By\n",
    "from selenium.webdriver.support.wait import WebDriverWait\n",
    "from selenium.webdriver.support import expected_conditions as EC"
   ]
  },
  {
   "cell_type": "code",
   "execution_count": 26,
   "metadata": {},
   "outputs": [
    {
     "name": "stdout",
     "output_type": "stream",
     "text": [
      "https://www.youtube.com/watch?v=LuTONVLzESM\n",
      "https://www.youtube.com/watch?v=KWXKegvNa-I\n",
      "https://www.youtube.com/watch?v=dArUpCasmnE\n",
      "https://www.youtube.com/watch?v=HqG2QchBw8Y\n",
      "https://www.youtube.com/watch?v=1izKrQHyx9M\n"
     ]
    }
   ],
   "source": [
    "base_url = \"https://www.youtube.com/@PW-Foundation/videos\"\n",
    "\n",
    "\n",
    "def get_video_url():\n",
    "    driver = webdriver.Chrome()\n",
    "    driver.implicitly_wait(10)\n",
    "\n",
    "    driver.get(base_url)\n",
    "    element = WebDriverWait(driver, 20).until(\n",
    "        EC.presence_of_element_located((By.ID, \"thumbnail\")))\n",
    "\n",
    "    video_url = driver.find_elements(\n",
    "        By.XPATH, '//*[@id=\"thumbnail\"]')\n",
    "\n",
    "    # titles = driver.find_elements(By.ID, 'video-title')\n",
    "    # video_url = driver.find_elements(By.ID,'thumbnail')\n",
    "    # print(video_url)\n",
    "\n",
    "    video_url_list = []\n",
    "    for url in video_url:\n",
    "        # print(url.get_attribute(\"href\"))\n",
    "        video_url_list.append(url.get_attribute(\"href\"))\n",
    "\n",
    "    # print(len(video_url_list))\n",
    "    video_url_list = list(filter(None, video_url_list))\n",
    "    video_url_list2 = list(set(video_url_list))\n",
    "    video_url_list2.sort(key=video_url_list.index)\n",
    "\n",
    "    for i in range(5):\n",
    "        print(video_url_list2[i])\n",
    "    # print(thumbnails)\n",
    "    # print(title.text for title in titles)\n",
    "\n",
    "    # get_attribute(\"value\")\n",
    "    #\n",
    "    driver.quit()\n",
    "\n",
    "\n",
    "get_video_url()"
   ]
  },
  {
   "cell_type": "markdown",
   "metadata": {},
   "source": [
    "### Q2. Write a python program to extract the URL of the video thumbnails of the first five videos.\n"
   ]
  },
  {
   "cell_type": "code",
   "execution_count": 28,
   "metadata": {},
   "outputs": [
    {
     "name": "stdout",
     "output_type": "stream",
     "text": [
      "30\n",
      "https://i.ytimg.com/vi/LuTONVLzESM/hqdefault.jpg?sqp=-oaymwEcCNACELwBSFXyq4qpAw4IARUAAIhCGAFwAcABBg==&rs=AOn4CLCaMVZmPmUqryYudQm6lobkny_-Cg\n",
      "https://i.ytimg.com/vi/KWXKegvNa-I/hqdefault.jpg?sqp=-oaymwEcCNACELwBSFXyq4qpAw4IARUAAIhCGAFwAcABBg==&rs=AOn4CLAZ9XEzNrcu4YfUzbEfohE3CdXIVw\n",
      "https://i.ytimg.com/vi/dArUpCasmnE/hqdefault.jpg?sqp=-oaymwEcCNACELwBSFXyq4qpAw4IARUAAIhCGAFwAcABBg==&rs=AOn4CLCdiUURSFwzHKBaqzNQnNYVFf1PZA\n"
     ]
    },
    {
     "ename": "IndexError",
     "evalue": "list index out of range",
     "output_type": "error",
     "traceback": [
      "\u001b[1;31m---------------------------------------------------------------------------\u001b[0m",
      "\u001b[1;31mIndexError\u001b[0m                                Traceback (most recent call last)",
      "Cell \u001b[1;32mIn[28], line 31\u001b[0m\n\u001b[0;32m     26\u001b[0m         \u001b[39mprint\u001b[39m(thumbnail_url_list2[i])\n\u001b[0;32m     28\u001b[0m     driver\u001b[39m.\u001b[39mquit()\n\u001b[1;32m---> 31\u001b[0m get_video_thumbnail()\n",
      "Cell \u001b[1;32mIn[28], line 26\u001b[0m, in \u001b[0;36mget_video_thumbnail\u001b[1;34m()\u001b[0m\n\u001b[0;32m     23\u001b[0m thumbnail_url_list2\u001b[39m.\u001b[39msort(key\u001b[39m=\u001b[39mthumbnail_url_list\u001b[39m.\u001b[39mindex)\n\u001b[0;32m     25\u001b[0m \u001b[39mfor\u001b[39;00m i \u001b[39min\u001b[39;00m \u001b[39mrange\u001b[39m(\u001b[39m5\u001b[39m):\n\u001b[1;32m---> 26\u001b[0m     \u001b[39mprint\u001b[39m(thumbnail_url_list2[i])\n\u001b[0;32m     28\u001b[0m driver\u001b[39m.\u001b[39mquit()\n",
      "\u001b[1;31mIndexError\u001b[0m: list index out of range"
     ]
    }
   ],
   "source": [
    "base_url = \"https://www.youtube.com/@PW-Foundation/videos\"\n",
    "\n",
    "\n",
    "def get_video_thumbnail():\n",
    "    driver = webdriver.Chrome()\n",
    "    driver.implicitly_wait(10)\n",
    "\n",
    "    driver.get(base_url)\n",
    "    element = WebDriverWait(driver, 20).until(\n",
    "        EC.presence_of_element_located((By.ID, \"thumbnail\")))\n",
    "\n",
    "    thumbnails = driver.find_elements(\n",
    "        By.XPATH, '//*[@id=\"thumbnail\"]/yt-image/img')\n",
    "\n",
    "    thumbnail_url_list = []\n",
    "    for url in thumbnails:\n",
    "        # print(url.get_attribute(\"href\"))\n",
    "        thumbnail_url_list.append(url.get_attribute(\"src\"))\n",
    "\n",
    "    print(len(thumbnail_url_list))\n",
    "    thumbnail_url_list = list(filter(None, thumbnail_url_list))\n",
    "    thumbnail_url_list2 = list(set(thumbnail_url_list))\n",
    "    thumbnail_url_list2.sort(key=thumbnail_url_list.index)\n",
    "\n",
    "    for i in range(5):\n",
    "        print(thumbnail_url_list2[i])\n",
    "\n",
    "    driver.quit()\n",
    "\n",
    "\n",
    "get_video_thumbnail()"
   ]
  },
  {
   "cell_type": "markdown",
   "metadata": {},
   "source": [
    "Q3. Write a python program to extract the title of the first five videos.\n"
   ]
  },
  {
   "cell_type": "markdown",
   "metadata": {},
   "source": [
    "Q4. Write a python program to extract the number of views of the first five videos.\n"
   ]
  },
  {
   "cell_type": "markdown",
   "metadata": {},
   "source": [
    "Q5. Write a python program to extract the time of posting of video for the first five videos.\n",
    "Note: Save all the data scraped in the above questions in a CSV file."
   ]
  }
 ],
 "metadata": {
  "kernelspec": {
   "display_name": "Python 3",
   "language": "python",
   "name": "python3"
  },
  "language_info": {
   "codemirror_mode": {
    "name": "ipython",
    "version": 3
   },
   "file_extension": ".py",
   "mimetype": "text/x-python",
   "name": "python",
   "nbconvert_exporter": "python",
   "pygments_lexer": "ipython3",
   "version": "3.10.10"
  },
  "orig_nbformat": 4
 },
 "nbformat": 4,
 "nbformat_minor": 2
}
