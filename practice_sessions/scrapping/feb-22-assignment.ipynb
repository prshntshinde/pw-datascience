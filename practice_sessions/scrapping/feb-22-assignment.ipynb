{
 "cells": [
  {
   "cell_type": "markdown",
   "metadata": {},
   "source": [
    "Go to this given URL and solve the following questions\n",
    "URL: https://www.youtube.com/@PW-Foundation/videos\n"
   ]
  },
  {
   "cell_type": "markdown",
   "metadata": {},
   "source": [
    "### Q1. Write a python program to extract the video URL of the first five videos."
   ]
  },
  {
   "cell_type": "code",
   "execution_count": 17,
   "metadata": {},
   "outputs": [],
   "source": [
    "from selenium import webdriver\n",
    "from selenium.webdriver.common.by import By\n",
    "from selenium.webdriver.support.wait import WebDriverWait\n",
    "from selenium.webdriver.support import expected_conditions as EC"
   ]
  },
  {
   "cell_type": "code",
   "execution_count": 26,
   "metadata": {},
   "outputs": [
    {
     "name": "stdout",
     "output_type": "stream",
     "text": [
      "https://www.youtube.com/watch?v=LuTONVLzESM\n",
      "https://www.youtube.com/watch?v=KWXKegvNa-I\n",
      "https://www.youtube.com/watch?v=dArUpCasmnE\n",
      "https://www.youtube.com/watch?v=HqG2QchBw8Y\n",
      "https://www.youtube.com/watch?v=1izKrQHyx9M\n"
     ]
    }
   ],
   "source": [
    "base_url = \"https://www.youtube.com/@PW-Foundation/videos\"\n",
    "\n",
    "\n",
    "def get_video_url():\n",
    "    driver = webdriver.Chrome()\n",
    "    driver.implicitly_wait(10)\n",
    "\n",
    "    driver.get(base_url)\n",
    "    element = WebDriverWait(driver, 20).until(\n",
    "        EC.presence_of_element_located((By.ID, \"thumbnail\")))\n",
    "\n",
    "    video_url = driver.find_elements(\n",
    "        By.XPATH, '//*[@id=\"thumbnail\"]')\n",
    "\n",
    "    # titles = driver.find_elements(By.ID, 'video-title')\n",
    "    # video_url = driver.find_elements(By.ID,'thumbnail')\n",
    "    # print(video_url)\n",
    "\n",
    "    video_url_list = []\n",
    "    for url in video_url:\n",
    "        # print(url.get_attribute(\"href\"))\n",
    "        video_url_list.append(url.get_attribute(\"href\"))\n",
    "\n",
    "    # print(len(video_url_list))\n",
    "    video_url_list = list(filter(None, video_url_list))\n",
    "    video_url_list2 = list(set(video_url_list))\n",
    "    video_url_list2.sort(key=video_url_list.index)\n",
    "\n",
    "    for i in range(5):\n",
    "        print(video_url_list2[i])\n",
    "    # print(thumbnails)\n",
    "    # print(title.text for title in titles)\n",
    "\n",
    "    # get_attribute(\"value\")\n",
    "    #\n",
    "    driver.quit()\n",
    "\n",
    "\n",
    "get_video_url()"
   ]
  },
  {
   "cell_type": "markdown",
   "metadata": {},
   "source": [
    "### Q2. Write a python program to extract the URL of the video thumbnails of the first five videos.\n"
   ]
  },
  {
   "cell_type": "code",
   "execution_count": 30,
   "metadata": {},
   "outputs": [
    {
     "name": "stdout",
     "output_type": "stream",
     "text": [
      "30\n",
      "https://i.ytimg.com/vi/LuTONVLzESM/hqdefault.jpg?sqp=-oaymwEcCNACELwBSFXyq4qpAw4IARUAAIhCGAFwAcABBg==&rs=AOn4CLCaMVZmPmUqryYudQm6lobkny_-Cg\n",
      "https://i.ytimg.com/vi/KWXKegvNa-I/hqdefault.jpg?sqp=-oaymwEcCNACELwBSFXyq4qpAw4IARUAAIhCGAFwAcABBg==&rs=AOn4CLAZ9XEzNrcu4YfUzbEfohE3CdXIVw\n",
      "https://i.ytimg.com/vi/dArUpCasmnE/hqdefault.jpg?sqp=-oaymwEcCNACELwBSFXyq4qpAw4IARUAAIhCGAFwAcABBg==&rs=AOn4CLCdiUURSFwzHKBaqzNQnNYVFf1PZA\n",
      "https://i.ytimg.com/vi/HqG2QchBw8Y/hqdefault.jpg?sqp=-oaymwEcCNACELwBSFXyq4qpAw4IARUAAIhCGAFwAcABBg==&rs=AOn4CLB2qRg5GsfQROPt6YiiG3CXXiExjg\n",
      "https://i.ytimg.com/vi/1izKrQHyx9M/hqdefault.jpg?sqp=-oaymwEcCNACELwBSFXyq4qpAw4IARUAAIhCGAFwAcABBg==&rs=AOn4CLCvjSUCwD4j5ZVE_nUMLg6QNCpkfg\n"
     ]
    }
   ],
   "source": [
    "base_url = \"https://www.youtube.com/@PW-Foundation/videos\"\n",
    "\n",
    "\n",
    "def get_video_thumbnail():\n",
    "    driver = webdriver.Chrome()\n",
    "    driver.implicitly_wait(10)\n",
    "\n",
    "    driver.get(base_url)\n",
    "    element = WebDriverWait(driver, 20).until(\n",
    "        EC.presence_of_element_located((By.ID, \"thumbnail\")))\n",
    "\n",
    "    thumbnails = driver.find_elements(\n",
    "        By.XPATH, '//*[@id=\"thumbnail\"]/yt-image/img')\n",
    "\n",
    "    thumbnail_url_list = []\n",
    "    for url in thumbnails:\n",
    "        # print(url.get_attribute(\"href\"))\n",
    "        thumbnail_url_list.append(url.get_attribute(\"src\"))\n",
    "\n",
    "    print(len(thumbnail_url_list))\n",
    "    thumbnail_url_list = list(filter(None, thumbnail_url_list))\n",
    "    thumbnail_url_list2 = list(set(thumbnail_url_list))\n",
    "    thumbnail_url_list2.sort(key=thumbnail_url_list.index)\n",
    "\n",
    "    for i in range(5):\n",
    "        print(thumbnail_url_list2[i])\n",
    "\n",
    "    driver.quit()\n",
    "\n",
    "\n",
    "get_video_thumbnail()\n"
   ]
  },
  {
   "cell_type": "markdown",
   "metadata": {},
   "source": [
    "### Q3. Write a python program to extract the title of the first five videos.\n"
   ]
  },
  {
   "cell_type": "code",
   "execution_count": 32,
   "metadata": {},
   "outputs": [
    {
     "name": "stdout",
     "output_type": "stream",
     "text": [
      "30\n",
      "ARTS की दुनिया की PAHAL 🔥 || Launching Class 11th ARTS BATCH\n",
      "Something Big Coming Soon For Class - 9th & 10th Students 🔥 || Stay Tuned For More Updates 🖋️\n",
      "Launching PAHAL Batch 🔥 For Class 11th Arts Students 💪\n",
      "Launching FUNDO For Class - 6th to 8th Students 🔥💯 || Ab Hoga Padhai Ke Sath FUN 🤩\n",
      "⚡Unleashing the Power of PW Internationally⚡| Launching Physics Wallah Gulf\n"
     ]
    }
   ],
   "source": [
    "base_url = \"https://www.youtube.com/@PW-Foundation/videos\"\n",
    "\n",
    "\n",
    "def get_video_title():\n",
    "    driver = webdriver.Chrome()\n",
    "    driver.implicitly_wait(10)\n",
    "\n",
    "    driver.get(base_url)\n",
    "    element = WebDriverWait(driver, 20).until(\n",
    "        EC.presence_of_element_located((By.ID, \"thumbnail\")))\n",
    "\n",
    "    titles = driver.find_elements(\n",
    "        By.XPATH, '//*[@id=\"video-title\"]')\n",
    "\n",
    "    titles_list = []\n",
    "    for title in titles:\n",
    "        titles_list.append(title.text)\n",
    "\n",
    "    # print(len(titles_list))\n",
    "    titles_list = list(filter(None, titles_list))\n",
    "    titles_list2 = list(set(titles_list))\n",
    "    titles_list2.sort(key=titles_list.index)\n",
    "\n",
    "    for i in range(5):\n",
    "        print(titles_list2[i])\n",
    "\n",
    "    driver.quit()\n",
    "\n",
    "\n",
    "get_video_title()"
   ]
  },
  {
   "cell_type": "markdown",
   "metadata": {},
   "source": [
    "### Q4. Write a python program to extract the number of views of the first five videos.\n"
   ]
  },
  {
   "cell_type": "code",
   "execution_count": 35,
   "metadata": {},
   "outputs": [
    {
     "name": "stdout",
     "output_type": "stream",
     "text": [
      "15K views\n",
      "39K views\n",
      "32K views\n",
      "26K views\n",
      "70K views\n"
     ]
    }
   ],
   "source": [
    "base_url = \"https://www.youtube.com/@PW-Foundation/videos\"\n",
    "\n",
    "\n",
    "def get_views():\n",
    "    driver = webdriver.Chrome()\n",
    "    driver.implicitly_wait(10)\n",
    "\n",
    "    driver.get(base_url)\n",
    "    element = WebDriverWait(driver, 20).until(\n",
    "        EC.presence_of_element_located((By.ID, \"thumbnail\")))\n",
    "\n",
    "    views = driver.find_elements(\n",
    "        By.XPATH, '//*[@id=\"metadata\"]/div/span')\n",
    "\n",
    "    views_list = []\n",
    "    for view in views:\n",
    "        if (view.text.__contains__(\"views\")):\n",
    "            views_list.append(view.text)\n",
    "\n",
    "    # print(len(titles_list))\n",
    "    views_list = list(filter(None, views_list))\n",
    "    views_list2 = list(set(views_list))\n",
    "    views_list2.sort(key=views_list.index)\n",
    "\n",
    "    for i in range(5):\n",
    "        print(views_list2[i])\n",
    "\n",
    "    driver.quit()\n",
    "\n",
    "\n",
    "get_views()"
   ]
  },
  {
   "cell_type": "markdown",
   "metadata": {},
   "source": [
    "### Q5. Write a python program to extract the time of posting of video for the first five videos.\n"
   ]
  },
  {
   "cell_type": "code",
   "execution_count": 37,
   "metadata": {},
   "outputs": [
    {
     "name": "stdout",
     "output_type": "stream",
     "text": [
      "5 days ago\n",
      "2 weeks ago\n",
      "3 weeks ago\n",
      "1 month ago\n",
      "2 months ago\n"
     ]
    }
   ],
   "source": [
    "base_url = \"https://www.youtube.com/@PW-Foundation/videos\"\n",
    "\n",
    "\n",
    "def get_time():\n",
    "    driver = webdriver.Chrome()\n",
    "    driver.implicitly_wait(10)\n",
    "\n",
    "    driver.get(base_url)\n",
    "    element = WebDriverWait(driver, 20).until(\n",
    "        EC.presence_of_element_located((By.ID, \"thumbnail\")))\n",
    "\n",
    "    times = driver.find_elements(\n",
    "        By.XPATH, '//*[@id=\"metadata\"]/div/span')\n",
    "\n",
    "    times_list = []\n",
    "    for time in times:\n",
    "        if (time.text.__contains__(\"ago\")):\n",
    "            times_list.append(time.text)\n",
    "\n",
    "    # print(len(titles_list))\n",
    "    times_list = list(filter(None, times_list))\n",
    "    times_list2 = list(set(times_list))\n",
    "    times_list2.sort(key=times_list.index)\n",
    "\n",
    "    for i in range(5):\n",
    "        print(times_list2[i])\n",
    "\n",
    "    driver.quit()\n",
    "\n",
    "\n",
    "get_time()"
   ]
  },
  {
   "cell_type": "markdown",
   "metadata": {},
   "source": [
    "Note: Save all the data scraped in the above questions in a CSV file."
   ]
  },
  {
   "cell_type": "markdown",
   "metadata": {},
   "source": []
  }
 ],
 "metadata": {
  "kernelspec": {
   "display_name": "Python 3",
   "language": "python",
   "name": "python3"
  },
  "language_info": {
   "codemirror_mode": {
    "name": "ipython",
    "version": 3
   },
   "file_extension": ".py",
   "mimetype": "text/x-python",
   "name": "python",
   "nbconvert_exporter": "python",
   "pygments_lexer": "ipython3",
   "version": "3.10.10"
  },
  "orig_nbformat": 4
 },
 "nbformat": 4,
 "nbformat_minor": 2
}
