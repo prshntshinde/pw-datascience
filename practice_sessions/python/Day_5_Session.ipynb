{
 "cells": [
  {
   "cell_type": "markdown",
   "id": "419e4ab5-2035-45c5-90a1-e118f3d3cf04",
   "metadata": {},
   "source": [
    "# Tuples, Set, Dictionaries"
   ]
  },
  {
   "cell_type": "markdown",
   "id": "080e30e4-bbfa-4204-8ae5-f4498c252214",
   "metadata": {},
   "source": [
    "# Tuples"
   ]
  },
  {
   "cell_type": "code",
   "execution_count": 2,
   "id": "654bb2a5-64e7-4195-8e9c-f04521d8c0a8",
   "metadata": {},
   "outputs": [],
   "source": [
    "t = ()"
   ]
  },
  {
   "cell_type": "code",
   "execution_count": 3,
   "id": "23259d26-d7ed-4e96-b74d-a923902bad06",
   "metadata": {},
   "outputs": [
    {
     "data": {
      "text/plain": [
       "tuple"
      ]
     },
     "execution_count": 3,
     "metadata": {},
     "output_type": "execute_result"
    }
   ],
   "source": [
    "type(t)"
   ]
  },
  {
   "cell_type": "code",
   "execution_count": 4,
   "id": "6bde9e60-38e2-4a4b-bd01-3641a536f9f4",
   "metadata": {},
   "outputs": [],
   "source": [
    "t1 = (1,2,3,4,5,6,7,44.44,\"Prashant\",True, 2+5j)"
   ]
  },
  {
   "cell_type": "code",
   "execution_count": 5,
   "id": "e4ea83cc-aee8-4e0c-ba11-6c3fc32d70d9",
   "metadata": {},
   "outputs": [
    {
     "data": {
      "text/plain": [
       "tuple"
      ]
     },
     "execution_count": 5,
     "metadata": {},
     "output_type": "execute_result"
    }
   ],
   "source": [
    "type(t1)"
   ]
  },
  {
   "cell_type": "code",
   "execution_count": 6,
   "id": "e4467c42-f881-475a-9200-8ceaa70fe1e5",
   "metadata": {},
   "outputs": [
    {
     "data": {
      "text/plain": [
       "1"
      ]
     },
     "execution_count": 6,
     "metadata": {},
     "output_type": "execute_result"
    }
   ],
   "source": [
    "t1[0]"
   ]
  },
  {
   "cell_type": "code",
   "execution_count": 7,
   "id": "a224c301-69cd-48fd-ba8a-3de7d9a38490",
   "metadata": {},
   "outputs": [
    {
     "data": {
      "text/plain": [
       "5"
      ]
     },
     "execution_count": 7,
     "metadata": {},
     "output_type": "execute_result"
    }
   ],
   "source": [
    "t1[4]"
   ]
  },
  {
   "cell_type": "code",
   "execution_count": 8,
   "id": "d90ed9dd-3bd4-4479-b62d-efb0ca8b9bfb",
   "metadata": {},
   "outputs": [
    {
     "data": {
      "text/plain": [
       "'Prashant'"
      ]
     },
     "execution_count": 8,
     "metadata": {},
     "output_type": "execute_result"
    }
   ],
   "source": [
    "t1[8]"
   ]
  },
  {
   "cell_type": "code",
   "execution_count": 9,
   "id": "db73a8ba-2614-48ca-9573-7dd5a2a85ffe",
   "metadata": {},
   "outputs": [
    {
     "data": {
      "text/plain": [
       "((2+5j), True, 'Prashant', 44.44, 7, 6, 5, 4, 3, 2, 1)"
      ]
     },
     "execution_count": 9,
     "metadata": {},
     "output_type": "execute_result"
    }
   ],
   "source": [
    "t1[::-1]"
   ]
  },
  {
   "cell_type": "code",
   "execution_count": 10,
   "id": "d07c559e-4c33-4712-809c-0092fe007ed4",
   "metadata": {},
   "outputs": [
    {
     "data": {
      "text/plain": [
       "(1, 2, 3, 4, 5, 6, 7, 44.44, 'Prashant', True, (2+5j))"
      ]
     },
     "execution_count": 10,
     "metadata": {},
     "output_type": "execute_result"
    }
   ],
   "source": [
    "t1"
   ]
  },
  {
   "cell_type": "code",
   "execution_count": 11,
   "id": "069613c2-e6a7-4cae-926e-078dd94b3fbf",
   "metadata": {},
   "outputs": [
    {
     "data": {
      "text/plain": [
       "(1, 2, 3)"
      ]
     },
     "execution_count": 11,
     "metadata": {},
     "output_type": "execute_result"
    }
   ],
   "source": [
    "t1[:3]"
   ]
  },
  {
   "cell_type": "code",
   "execution_count": 14,
   "id": "6dfaa3a4-aee7-4fee-8674-cdc99b4bb5aa",
   "metadata": {},
   "outputs": [
    {
     "data": {
      "text/plain": [
       "1"
      ]
     },
     "execution_count": 14,
     "metadata": {},
     "output_type": "execute_result"
    }
   ],
   "source": [
    "t1.count(4)"
   ]
  },
  {
   "cell_type": "code",
   "execution_count": 15,
   "id": "0309d1ec-fad3-42b6-b4db-b01a03472682",
   "metadata": {},
   "outputs": [
    {
     "data": {
      "text/plain": [
       "0"
      ]
     },
     "execution_count": 15,
     "metadata": {},
     "output_type": "execute_result"
    }
   ],
   "source": [
    "t1.count(\"abc\")"
   ]
  },
  {
   "cell_type": "code",
   "execution_count": 16,
   "id": "495e14ee-06a7-4397-a5d1-eb928e085e06",
   "metadata": {},
   "outputs": [
    {
     "data": {
      "text/plain": [
       "0"
      ]
     },
     "execution_count": 16,
     "metadata": {},
     "output_type": "execute_result"
    }
   ],
   "source": [
    "t1.index(1)"
   ]
  },
  {
   "cell_type": "code",
   "execution_count": 18,
   "id": "6091b544-c37e-4437-b487-25c095189067",
   "metadata": {},
   "outputs": [
    {
     "data": {
      "text/plain": [
       "9"
      ]
     },
     "execution_count": 18,
     "metadata": {},
     "output_type": "execute_result"
    }
   ],
   "source": [
    "t1.index(1,1)"
   ]
  },
  {
   "cell_type": "code",
   "execution_count": 19,
   "id": "02a14729-ed00-4a0e-b644-3089a54fe06e",
   "metadata": {},
   "outputs": [
    {
     "data": {
      "text/plain": [
       "8"
      ]
     },
     "execution_count": 19,
     "metadata": {},
     "output_type": "execute_result"
    }
   ],
   "source": [
    "t1.index(\"Prashant\")"
   ]
  },
  {
   "cell_type": "code",
   "execution_count": 20,
   "id": "d9555847-5573-46ec-83f2-0a3fb0038104",
   "metadata": {},
   "outputs": [
    {
     "data": {
      "text/plain": [
       "2"
      ]
     },
     "execution_count": 20,
     "metadata": {},
     "output_type": "execute_result"
    }
   ],
   "source": [
    "t1.count(True)"
   ]
  },
  {
   "cell_type": "code",
   "execution_count": 21,
   "id": "5ac5c5ee-f338-4458-b812-ff252618c1f7",
   "metadata": {},
   "outputs": [],
   "source": [
    "l = [1,2,3,4]"
   ]
  },
  {
   "cell_type": "code",
   "execution_count": 22,
   "id": "0edf8f6d-8de8-42e1-bae5-7acd129fc64a",
   "metadata": {},
   "outputs": [
    {
     "data": {
      "text/plain": [
       "list"
      ]
     },
     "execution_count": 22,
     "metadata": {},
     "output_type": "execute_result"
    }
   ],
   "source": [
    "type(l)"
   ]
  },
  {
   "cell_type": "code",
   "execution_count": 23,
   "id": "8c5e3980-28e2-49b8-96e5-5de25f93050e",
   "metadata": {},
   "outputs": [
    {
     "data": {
      "text/plain": [
       "(1, 2, 3, 4, 5, 6, 7, 44.44, 'Prashant', True, (2+5j))"
      ]
     },
     "execution_count": 23,
     "metadata": {},
     "output_type": "execute_result"
    }
   ],
   "source": [
    "t1"
   ]
  },
  {
   "cell_type": "code",
   "execution_count": 24,
   "id": "598d7c2a-655c-4b78-a01c-27d6d99eed95",
   "metadata": {},
   "outputs": [
    {
     "ename": "TypeError",
     "evalue": "'tuple' object does not support item assignment",
     "output_type": "error",
     "traceback": [
      "\u001b[0;31m---------------------------------------------------------------------------\u001b[0m",
      "\u001b[0;31mTypeError\u001b[0m                                 Traceback (most recent call last)",
      "Cell \u001b[0;32mIn[24], line 1\u001b[0m\n\u001b[0;32m----> 1\u001b[0m \u001b[43mt1\u001b[49m\u001b[43m[\u001b[49m\u001b[38;5;241;43m0\u001b[39;49m\u001b[43m]\u001b[49m \u001b[38;5;241m=\u001b[39m \u001b[38;5;241m111\u001b[39m\n",
      "\u001b[0;31mTypeError\u001b[0m: 'tuple' object does not support item assignment"
     ]
    }
   ],
   "source": [
    "t1[0] = 111"
   ]
  },
  {
   "cell_type": "code",
   "execution_count": 25,
   "id": "56bb28b3-082b-46ba-a261-d9a293cfcc8a",
   "metadata": {},
   "outputs": [],
   "source": [
    "l[0] = 100"
   ]
  },
  {
   "cell_type": "code",
   "execution_count": 26,
   "id": "7a337e32-e907-4514-9383-39dff8af6958",
   "metadata": {},
   "outputs": [
    {
     "data": {
      "text/plain": [
       "[100, 2, 3, 4]"
      ]
     },
     "execution_count": 26,
     "metadata": {},
     "output_type": "execute_result"
    }
   ],
   "source": [
    "l"
   ]
  },
  {
   "cell_type": "code",
   "execution_count": 27,
   "id": "aeac2992-be19-428d-997e-21daacc8ba6e",
   "metadata": {},
   "outputs": [
    {
     "name": "stdout",
     "output_type": "stream",
     "text": [
      "1\n",
      "2\n",
      "3\n",
      "4\n",
      "5\n",
      "6\n",
      "7\n",
      "44.44\n",
      "Prashant\n",
      "True\n",
      "(2+5j)\n"
     ]
    }
   ],
   "source": [
    "for i in iter(t1):\n",
    "    print(i)"
   ]
  },
  {
   "cell_type": "code",
   "execution_count": 28,
   "id": "05fd5408-2cb8-4f67-92e5-aae45a20cf85",
   "metadata": {},
   "outputs": [
    {
     "name": "stdout",
     "output_type": "stream",
     "text": [
      "1 <class 'int'>\n",
      "2 <class 'int'>\n",
      "3 <class 'int'>\n",
      "4 <class 'int'>\n",
      "5 <class 'int'>\n",
      "6 <class 'int'>\n",
      "7 <class 'int'>\n",
      "44.44 <class 'float'>\n",
      "Prashant <class 'str'>\n",
      "True <class 'bool'>\n",
      "(2+5j) <class 'complex'>\n"
     ]
    }
   ],
   "source": [
    "for i in t1:\n",
    "    print(i, type(i))"
   ]
  },
  {
   "cell_type": "code",
   "execution_count": 30,
   "id": "f31ddd85-f659-4ea9-8571-f44c6c23c5c1",
   "metadata": {},
   "outputs": [],
   "source": [
    "t2 = (1,2,3,4,5,6)"
   ]
  },
  {
   "cell_type": "code",
   "execution_count": 31,
   "id": "c7feaab3-ac42-4d68-a86c-dee7982adfaa",
   "metadata": {},
   "outputs": [
    {
     "data": {
      "text/plain": [
       "(1, 2, 3, 4, 5, 6)"
      ]
     },
     "execution_count": 31,
     "metadata": {},
     "output_type": "execute_result"
    }
   ],
   "source": [
    "t2"
   ]
  },
  {
   "cell_type": "code",
   "execution_count": 32,
   "id": "6a19b3ba-dede-4474-a4d6-8f9f1bafead9",
   "metadata": {},
   "outputs": [
    {
     "data": {
      "text/plain": [
       "(1, 2, 3, 4, 5, 6, 1, 2, 3, 4, 5, 6, 1, 2, 3, 4, 5, 6)"
      ]
     },
     "execution_count": 32,
     "metadata": {},
     "output_type": "execute_result"
    }
   ],
   "source": [
    "t2 * 3"
   ]
  },
  {
   "cell_type": "code",
   "execution_count": 33,
   "id": "95453477-b1b5-41e1-b37f-c6b27f105243",
   "metadata": {},
   "outputs": [
    {
     "data": {
      "text/plain": [
       "(1, 2, 3, 4, 5, 6)"
      ]
     },
     "execution_count": 33,
     "metadata": {},
     "output_type": "execute_result"
    }
   ],
   "source": [
    "t2"
   ]
  },
  {
   "cell_type": "code",
   "execution_count": 35,
   "id": "dff21709-add9-494c-b670-2c5fcc49fdfc",
   "metadata": {},
   "outputs": [
    {
     "data": {
      "text/plain": [
       "6"
      ]
     },
     "execution_count": 35,
     "metadata": {},
     "output_type": "execute_result"
    }
   ],
   "source": [
    "max(t2)"
   ]
  },
  {
   "cell_type": "code",
   "execution_count": 36,
   "id": "c543b404-c552-438f-9d29-d39b699e45cf",
   "metadata": {},
   "outputs": [
    {
     "data": {
      "text/plain": [
       "1"
      ]
     },
     "execution_count": 36,
     "metadata": {},
     "output_type": "execute_result"
    }
   ],
   "source": [
    "min(t2)"
   ]
  },
  {
   "cell_type": "code",
   "execution_count": 37,
   "id": "6b429e65-ccfb-4762-9914-34c4595787a1",
   "metadata": {},
   "outputs": [],
   "source": [
    "# Tuples basically follows immutability concepts where no change is allowed at a peific index"
   ]
  },
  {
   "cell_type": "code",
   "execution_count": 38,
   "id": "c6a396cc-e3a4-419d-9a89-857d514b46b4",
   "metadata": {},
   "outputs": [],
   "source": [
    "t3 = (1,2,34,5)\n",
    "t4 = (5,6,7,88)"
   ]
  },
  {
   "cell_type": "code",
   "execution_count": 39,
   "id": "f691c6ec-fae6-4d12-97f2-e1bae6176b05",
   "metadata": {},
   "outputs": [],
   "source": [
    "t5 = (t3,t4)"
   ]
  },
  {
   "cell_type": "code",
   "execution_count": 40,
   "id": "957276bc-b053-4f77-9ae9-e28d87e8b3ae",
   "metadata": {},
   "outputs": [
    {
     "data": {
      "text/plain": [
       "((1, 2, 34, 5), (5, 6, 7, 88))"
      ]
     },
     "execution_count": 40,
     "metadata": {},
     "output_type": "execute_result"
    }
   ],
   "source": [
    "t5"
   ]
  },
  {
   "cell_type": "code",
   "execution_count": 41,
   "id": "365907fd-a1e5-4ab8-946a-8c41b3480289",
   "metadata": {},
   "outputs": [
    {
     "data": {
      "text/plain": [
       "(1, 2, 34, 5)"
      ]
     },
     "execution_count": 41,
     "metadata": {},
     "output_type": "execute_result"
    }
   ],
   "source": [
    "t5[0]"
   ]
  },
  {
   "cell_type": "code",
   "execution_count": 42,
   "id": "1a62a26a-72e3-4442-937b-47cea41f9e7e",
   "metadata": {},
   "outputs": [
    {
     "data": {
      "text/plain": [
       "1"
      ]
     },
     "execution_count": 42,
     "metadata": {},
     "output_type": "execute_result"
    }
   ],
   "source": [
    "t5[0][0]"
   ]
  },
  {
   "cell_type": "code",
   "execution_count": 43,
   "id": "060071d0-5257-4e55-b17f-70fc70f95913",
   "metadata": {},
   "outputs": [],
   "source": [
    "t6 = ((1,2,3),[4,5,6])"
   ]
  },
  {
   "cell_type": "code",
   "execution_count": 44,
   "id": "453a1c91-572f-4231-b0a1-be3693f4137e",
   "metadata": {},
   "outputs": [
    {
     "data": {
      "text/plain": [
       "((1, 2, 3), [4, 5, 6])"
      ]
     },
     "execution_count": 44,
     "metadata": {},
     "output_type": "execute_result"
    }
   ],
   "source": [
    "t6"
   ]
  },
  {
   "cell_type": "code",
   "execution_count": 46,
   "id": "1ce370ed-ab05-418b-ac3e-6729e03caac5",
   "metadata": {},
   "outputs": [
    {
     "data": {
      "text/plain": [
       "5"
      ]
     },
     "execution_count": 46,
     "metadata": {},
     "output_type": "execute_result"
    }
   ],
   "source": [
    "t6[1][1]"
   ]
  },
  {
   "cell_type": "code",
   "execution_count": 47,
   "id": "190d9536-846f-4d25-a7fc-09f6bccf859b",
   "metadata": {},
   "outputs": [],
   "source": [
    "del t6"
   ]
  },
  {
   "cell_type": "code",
   "execution_count": 48,
   "id": "9dd7f84b-e3dd-47c4-a354-1a17014a985c",
   "metadata": {},
   "outputs": [
    {
     "ename": "NameError",
     "evalue": "name 't6' is not defined",
     "output_type": "error",
     "traceback": [
      "\u001b[0;31m---------------------------------------------------------------------------\u001b[0m",
      "\u001b[0;31mNameError\u001b[0m                                 Traceback (most recent call last)",
      "Cell \u001b[0;32mIn[48], line 1\u001b[0m\n\u001b[0;32m----> 1\u001b[0m \u001b[43mt6\u001b[49m\n",
      "\u001b[0;31mNameError\u001b[0m: name 't6' is not defined"
     ]
    }
   ],
   "source": [
    "t6"
   ]
  },
  {
   "cell_type": "code",
   "execution_count": 49,
   "id": "d515c74a-87ed-4c3a-81e7-e62404582853",
   "metadata": {},
   "outputs": [
    {
     "data": {
      "text/plain": [
       "2"
      ]
     },
     "execution_count": 49,
     "metadata": {},
     "output_type": "execute_result"
    }
   ],
   "source": [
    "len(t5)"
   ]
  },
  {
   "cell_type": "code",
   "execution_count": 50,
   "id": "86aa3c77-ce39-42be-8bd4-8daa201b6eba",
   "metadata": {},
   "outputs": [
    {
     "data": {
      "text/plain": [
       "((1, 2, 34, 5), (5, 6, 7, 88))"
      ]
     },
     "execution_count": 50,
     "metadata": {},
     "output_type": "execute_result"
    }
   ],
   "source": [
    "t5"
   ]
  },
  {
   "cell_type": "code",
   "execution_count": 51,
   "id": "97006f9a-ecb2-433f-b7e4-c1737b060244",
   "metadata": {},
   "outputs": [
    {
     "data": {
      "text/plain": [
       "False"
      ]
     },
     "execution_count": 51,
     "metadata": {},
     "output_type": "execute_result"
    }
   ],
   "source": [
    "2 in t5"
   ]
  },
  {
   "cell_type": "code",
   "execution_count": 52,
   "id": "4beb3937-73c9-44b4-84ed-88ed0d5d4c0d",
   "metadata": {},
   "outputs": [
    {
     "data": {
      "text/plain": [
       "(1, 2, 3, 4, 5, 6, 7, 44.44, 'Prashant', True, (2+5j))"
      ]
     },
     "execution_count": 52,
     "metadata": {},
     "output_type": "execute_result"
    }
   ],
   "source": [
    "t1"
   ]
  },
  {
   "cell_type": "code",
   "execution_count": 53,
   "id": "7a6592a5-8314-45c4-9a39-df2f1f5f04f0",
   "metadata": {},
   "outputs": [
    {
     "data": {
      "text/plain": [
       "True"
      ]
     },
     "execution_count": 53,
     "metadata": {},
     "output_type": "execute_result"
    }
   ],
   "source": [
    "1 in t1"
   ]
  },
  {
   "cell_type": "code",
   "execution_count": 54,
   "id": "7af27cff-526c-4f01-8485-8e8772c08126",
   "metadata": {},
   "outputs": [
    {
     "data": {
      "text/plain": [
       "True"
      ]
     },
     "execution_count": 54,
     "metadata": {},
     "output_type": "execute_result"
    }
   ],
   "source": [
    "44.44 in t1"
   ]
  },
  {
   "cell_type": "markdown",
   "id": "9691a44c-d467-4516-9be6-83f5f3bf1a44",
   "metadata": {},
   "source": [
    "# Sets"
   ]
  },
  {
   "cell_type": "code",
   "execution_count": 55,
   "id": "703c6909-a602-4f2b-b1e6-11c1e63968f8",
   "metadata": {},
   "outputs": [],
   "source": [
    "s = {}"
   ]
  },
  {
   "cell_type": "code",
   "execution_count": 56,
   "id": "479a2d85-b75b-4ece-bb4c-c7b2fb368514",
   "metadata": {},
   "outputs": [
    {
     "data": {
      "text/plain": [
       "dict"
      ]
     },
     "execution_count": 56,
     "metadata": {},
     "output_type": "execute_result"
    }
   ],
   "source": [
    "type(s)"
   ]
  },
  {
   "cell_type": "code",
   "execution_count": 57,
   "id": "fc198943-57ed-4297-9b6f-07f6fc5175a5",
   "metadata": {},
   "outputs": [],
   "source": [
    "s1 = {1,2,3,4,5}"
   ]
  },
  {
   "cell_type": "code",
   "execution_count": 58,
   "id": "4117c55b-0d25-47e1-aab2-2d6c633a366a",
   "metadata": {},
   "outputs": [
    {
     "data": {
      "text/plain": [
       "set"
      ]
     },
     "execution_count": 58,
     "metadata": {},
     "output_type": "execute_result"
    }
   ],
   "source": [
    "type(s1)"
   ]
  },
  {
   "cell_type": "code",
   "execution_count": 69,
   "id": "9b0d01e1-6370-406f-8433-d71f8fe8c815",
   "metadata": {},
   "outputs": [],
   "source": [
    "s2 = {1,1,33,33,55,66,77,77}"
   ]
  },
  {
   "cell_type": "code",
   "execution_count": 60,
   "id": "be34ee99-a1eb-45e9-9658-ced045a69f7e",
   "metadata": {},
   "outputs": [
    {
     "data": {
      "text/plain": [
       "{1, 33, 55, 66, 77}"
      ]
     },
     "execution_count": 60,
     "metadata": {},
     "output_type": "execute_result"
    }
   ],
   "source": [
    "s2"
   ]
  },
  {
   "cell_type": "code",
   "execution_count": 61,
   "id": "e70e7d95-a2fc-4052-bc51-ae7f4d27f14b",
   "metadata": {},
   "outputs": [],
   "source": [
    "# Sets stores unique data or distinct data"
   ]
  },
  {
   "cell_type": "code",
   "execution_count": 65,
   "id": "b194838c-2a87-4efa-a240-045d3babdd79",
   "metadata": {},
   "outputs": [
    {
     "data": {
      "text/plain": [
       "[1, 66, 33, 55, 77]"
      ]
     },
     "execution_count": 65,
     "metadata": {},
     "output_type": "execute_result"
    }
   ],
   "source": [
    "l = list(s2)\n",
    "l"
   ]
  },
  {
   "cell_type": "code",
   "execution_count": 63,
   "id": "d0a25977-b023-4349-87d7-0d79f637d26a",
   "metadata": {},
   "outputs": [
    {
     "data": {
      "text/plain": [
       "(1, 66, 33, 55, 77)"
      ]
     },
     "execution_count": 63,
     "metadata": {},
     "output_type": "execute_result"
    }
   ],
   "source": [
    "tuple(s2)"
   ]
  },
  {
   "cell_type": "code",
   "execution_count": 66,
   "id": "5bb54d9f-4562-4f93-a09a-e7d0c79da3a4",
   "metadata": {},
   "outputs": [
    {
     "data": {
      "text/plain": [
       "{1, 33, 55, 66, 77}"
      ]
     },
     "execution_count": 66,
     "metadata": {},
     "output_type": "execute_result"
    }
   ],
   "source": [
    "set(l)"
   ]
  },
  {
   "cell_type": "code",
   "execution_count": 67,
   "id": "ae03d927-664d-4688-b0fa-22e8184d1d26",
   "metadata": {},
   "outputs": [
    {
     "ename": "TypeError",
     "evalue": "unhashable type: 'list'",
     "output_type": "error",
     "traceback": [
      "\u001b[0;31m---------------------------------------------------------------------------\u001b[0m",
      "\u001b[0;31mTypeError\u001b[0m                                 Traceback (most recent call last)",
      "Cell \u001b[0;32mIn[67], line 1\u001b[0m\n\u001b[0;32m----> 1\u001b[0m s4 \u001b[38;5;241m=\u001b[39m {\u001b[38;5;241m1\u001b[39m,\u001b[38;5;241m2\u001b[39m,\u001b[38;5;241m3\u001b[39m,\u001b[38;5;241m4\u001b[39m,[\u001b[38;5;241m1\u001b[39m,\u001b[38;5;241m2\u001b[39m,\u001b[38;5;241m3\u001b[39m,\u001b[38;5;241m4\u001b[39m]}\n",
      "\u001b[0;31mTypeError\u001b[0m: unhashable type: 'list'"
     ]
    }
   ],
   "source": [
    "s4 = {1,2,3,4,[1,2,3,4]}"
   ]
  },
  {
   "cell_type": "code",
   "execution_count": 70,
   "id": "3aff86c5-0743-41aa-998d-c4e1fa5d0feb",
   "metadata": {},
   "outputs": [
    {
     "data": {
      "text/plain": [
       "5"
      ]
     },
     "execution_count": 70,
     "metadata": {},
     "output_type": "execute_result"
    }
   ],
   "source": [
    "len(s2)"
   ]
  },
  {
   "cell_type": "code",
   "execution_count": 72,
   "id": "bf996d4a-5283-4f41-b604-37959a0d02e3",
   "metadata": {},
   "outputs": [],
   "source": [
    "s5 = {1,2,3,4, (6,7,8)}"
   ]
  },
  {
   "cell_type": "code",
   "execution_count": 73,
   "id": "6f52adb3-ae5d-4052-af28-aa426c798656",
   "metadata": {},
   "outputs": [
    {
     "data": {
      "text/plain": [
       "{(6, 7, 8), 1, 2, 3, 4}"
      ]
     },
     "execution_count": 73,
     "metadata": {},
     "output_type": "execute_result"
    }
   ],
   "source": [
    "s5"
   ]
  },
  {
   "cell_type": "code",
   "execution_count": 74,
   "id": "913452ae-a6a4-4257-b29d-e4aaf94049c6",
   "metadata": {},
   "outputs": [],
   "source": [
    "s6 = {\"prashant\",\"PRASHANT\",2,3,4,5}"
   ]
  },
  {
   "cell_type": "code",
   "execution_count": 75,
   "id": "7438a7e5-1afc-4f48-b285-c8a29c5f0edf",
   "metadata": {},
   "outputs": [
    {
     "data": {
      "text/plain": [
       "{2, 3, 4, 5, 'PRASHANT', 'prashant'}"
      ]
     },
     "execution_count": 75,
     "metadata": {},
     "output_type": "execute_result"
    }
   ],
   "source": [
    "s6"
   ]
  },
  {
   "cell_type": "code",
   "execution_count": 76,
   "id": "defe3d0a-1516-4ccf-9501-6a6283a0c942",
   "metadata": {},
   "outputs": [],
   "source": [
    "s7 = {\"prashant\",\"prashant\",2,3,4,5}"
   ]
  },
  {
   "cell_type": "code",
   "execution_count": 77,
   "id": "34ac3d86-d69f-45f5-9933-78fcb5abb5f1",
   "metadata": {},
   "outputs": [
    {
     "data": {
      "text/plain": [
       "{2, 3, 4, 5, 'prashant'}"
      ]
     },
     "execution_count": 77,
     "metadata": {},
     "output_type": "execute_result"
    }
   ],
   "source": [
    "s7"
   ]
  },
  {
   "cell_type": "code",
   "execution_count": 78,
   "id": "cba86c32-1d26-4228-a9d3-2c577967e911",
   "metadata": {},
   "outputs": [
    {
     "ename": "TypeError",
     "evalue": "'set' object is not subscriptable",
     "output_type": "error",
     "traceback": [
      "\u001b[0;31m---------------------------------------------------------------------------\u001b[0m",
      "\u001b[0;31mTypeError\u001b[0m                                 Traceback (most recent call last)",
      "Cell \u001b[0;32mIn[78], line 1\u001b[0m\n\u001b[0;32m----> 1\u001b[0m \u001b[43ms7\u001b[49m\u001b[43m[\u001b[49m\u001b[38;5;241;43m0\u001b[39;49m\u001b[43m]\u001b[49m\n",
      "\u001b[0;31mTypeError\u001b[0m: 'set' object is not subscriptable"
     ]
    }
   ],
   "source": [
    "s7[0]"
   ]
  },
  {
   "cell_type": "code",
   "execution_count": 79,
   "id": "5b4fc727-dbb9-4f79-96c7-f675808c062f",
   "metadata": {},
   "outputs": [
    {
     "ename": "TypeError",
     "evalue": "'set' object is not subscriptable",
     "output_type": "error",
     "traceback": [
      "\u001b[0;31m---------------------------------------------------------------------------\u001b[0m",
      "\u001b[0;31mTypeError\u001b[0m                                 Traceback (most recent call last)",
      "Cell \u001b[0;32mIn[79], line 1\u001b[0m\n\u001b[0;32m----> 1\u001b[0m \u001b[43ms7\u001b[49m\u001b[43m[\u001b[49m\u001b[43m:\u001b[49m\u001b[43m:\u001b[49m\u001b[38;5;241;43m-\u001b[39;49m\u001b[38;5;241;43m1\u001b[39;49m\u001b[43m]\u001b[49m\n",
      "\u001b[0;31mTypeError\u001b[0m: 'set' object is not subscriptable"
     ]
    }
   ],
   "source": [
    "s7[::-1]"
   ]
  },
  {
   "cell_type": "code",
   "execution_count": 80,
   "id": "653d596c-948a-40bc-af9c-1220cdc3a609",
   "metadata": {},
   "outputs": [
    {
     "data": {
      "text/plain": [
       "{2, 3, 4, 5, 'prashant'}"
      ]
     },
     "execution_count": 80,
     "metadata": {},
     "output_type": "execute_result"
    }
   ],
   "source": [
    "s7"
   ]
  },
  {
   "cell_type": "code",
   "execution_count": 82,
   "id": "f96c8121-d7e1-408c-9fd6-4dd8a21405f0",
   "metadata": {},
   "outputs": [
    {
     "name": "stdout",
     "output_type": "stream",
     "text": [
      "prashant\n",
      "2\n",
      "3\n",
      "4\n",
      "5\n"
     ]
    }
   ],
   "source": [
    "for i in s7:\n",
    "    print(i)"
   ]
  },
  {
   "cell_type": "code",
   "execution_count": 83,
   "id": "13c64711-e762-48c8-9b05-b39d05a739b0",
   "metadata": {},
   "outputs": [],
   "source": [
    "s7.add(10)"
   ]
  },
  {
   "cell_type": "code",
   "execution_count": 84,
   "id": "e7c421f6-cfb3-4aa6-a256-69bfc5773f0b",
   "metadata": {},
   "outputs": [
    {
     "data": {
      "text/plain": [
       "{10, 2, 3, 4, 5, 'prashant'}"
      ]
     },
     "execution_count": 84,
     "metadata": {},
     "output_type": "execute_result"
    }
   ],
   "source": [
    "s7"
   ]
  },
  {
   "cell_type": "code",
   "execution_count": 85,
   "id": "2e6d7c15-752a-4793-9cf6-35e84e2ed21a",
   "metadata": {},
   "outputs": [],
   "source": [
    "s7.add(2)"
   ]
  },
  {
   "cell_type": "code",
   "execution_count": 86,
   "id": "2e6ba672-eabc-4709-a542-80bed417cc9b",
   "metadata": {},
   "outputs": [
    {
     "data": {
      "text/plain": [
       "{10, 2, 3, 4, 5, 'prashant'}"
      ]
     },
     "execution_count": 86,
     "metadata": {},
     "output_type": "execute_result"
    }
   ],
   "source": [
    "s7"
   ]
  },
  {
   "cell_type": "code",
   "execution_count": 88,
   "id": "bfe4b5cd-eab6-4aa2-af88-0cec1967580d",
   "metadata": {},
   "outputs": [
    {
     "data": {
      "text/plain": [
       "6"
      ]
     },
     "execution_count": 88,
     "metadata": {},
     "output_type": "execute_result"
    }
   ],
   "source": [
    "len(s7)"
   ]
  },
  {
   "cell_type": "code",
   "execution_count": 89,
   "id": "5c667b7c-842e-4359-8123-2bfc6c357cea",
   "metadata": {},
   "outputs": [
    {
     "data": {
      "text/plain": [
       "'prashant'"
      ]
     },
     "execution_count": 89,
     "metadata": {},
     "output_type": "execute_result"
    }
   ],
   "source": [
    "s7.pop()"
   ]
  },
  {
   "cell_type": "code",
   "execution_count": 90,
   "id": "647466ed-c3ed-4529-a4c0-e68ac2d77f98",
   "metadata": {},
   "outputs": [
    {
     "data": {
      "text/plain": [
       "{2, 3, 4, 5, 10}"
      ]
     },
     "execution_count": 90,
     "metadata": {},
     "output_type": "execute_result"
    }
   ],
   "source": [
    "s7"
   ]
  },
  {
   "cell_type": "code",
   "execution_count": 91,
   "id": "c0ead513-dacd-40fd-a6fb-7042ffca28d9",
   "metadata": {},
   "outputs": [
    {
     "data": {
      "text/plain": [
       "2"
      ]
     },
     "execution_count": 91,
     "metadata": {},
     "output_type": "execute_result"
    }
   ],
   "source": [
    "s7.pop()"
   ]
  },
  {
   "cell_type": "code",
   "execution_count": 92,
   "id": "17acbfed-edf0-4100-a3f9-2741a0b50197",
   "metadata": {},
   "outputs": [
    {
     "data": {
      "text/plain": [
       "3"
      ]
     },
     "execution_count": 92,
     "metadata": {},
     "output_type": "execute_result"
    }
   ],
   "source": [
    "s7.pop()"
   ]
  },
  {
   "cell_type": "code",
   "execution_count": 93,
   "id": "e69a53f0-905c-4c28-bb17-73153148d1d3",
   "metadata": {},
   "outputs": [
    {
     "data": {
      "text/plain": [
       "4"
      ]
     },
     "execution_count": 93,
     "metadata": {},
     "output_type": "execute_result"
    }
   ],
   "source": [
    "s7.pop()"
   ]
  },
  {
   "cell_type": "code",
   "execution_count": 94,
   "id": "0da37f0c-27b0-4dad-80da-40d705135981",
   "metadata": {},
   "outputs": [
    {
     "data": {
      "text/plain": [
       "{5, 10}"
      ]
     },
     "execution_count": 94,
     "metadata": {},
     "output_type": "execute_result"
    }
   ],
   "source": [
    "s7"
   ]
  },
  {
   "cell_type": "code",
   "execution_count": 95,
   "id": "daeacca7-600d-4c5a-a161-12f13336feae",
   "metadata": {},
   "outputs": [],
   "source": [
    "s7.clear()"
   ]
  },
  {
   "cell_type": "code",
   "execution_count": 96,
   "id": "ff50d891-d8a6-4a25-ac78-074f4e2e9c23",
   "metadata": {},
   "outputs": [
    {
     "data": {
      "text/plain": [
       "set()"
      ]
     },
     "execution_count": 96,
     "metadata": {},
     "output_type": "execute_result"
    }
   ],
   "source": [
    "s7"
   ]
  },
  {
   "cell_type": "code",
   "execution_count": 97,
   "id": "f40a61db-881f-44e3-8c8c-987ce3ff0590",
   "metadata": {},
   "outputs": [],
   "source": [
    "s8 = {1,2,3,4}\n",
    "s9 ={1,2,3,5}"
   ]
  },
  {
   "cell_type": "code",
   "execution_count": 99,
   "id": "99085e0b-f6cf-4ad5-aa83-9f1bcb516d1e",
   "metadata": {},
   "outputs": [
    {
     "data": {
      "text/plain": [
       "{4}"
      ]
     },
     "execution_count": 99,
     "metadata": {},
     "output_type": "execute_result"
    }
   ],
   "source": [
    "s8.difference(s9)"
   ]
  },
  {
   "cell_type": "code",
   "execution_count": 100,
   "id": "4ff7a1fb-ae48-4fdf-9ce4-7cd8c9883633",
   "metadata": {},
   "outputs": [
    {
     "data": {
      "text/plain": [
       "{5}"
      ]
     },
     "execution_count": 100,
     "metadata": {},
     "output_type": "execute_result"
    }
   ],
   "source": [
    "s9.difference(s8)"
   ]
  },
  {
   "cell_type": "code",
   "execution_count": null,
   "id": "3393b2b3-d036-4341-9b06-bbf1d298a78a",
   "metadata": {},
   "outputs": [],
   "source": []
  }
 ],
 "metadata": {
  "kernelspec": {
   "display_name": "Python 3 (ipykernel)",
   "language": "python",
   "name": "python3"
  },
  "language_info": {
   "codemirror_mode": {
    "name": "ipython",
    "version": 3
   },
   "file_extension": ".py",
   "mimetype": "text/x-python",
   "name": "python",
   "nbconvert_exporter": "python",
   "pygments_lexer": "ipython3",
   "version": "3.10.8"
  }
 },
 "nbformat": 4,
 "nbformat_minor": 5
}
