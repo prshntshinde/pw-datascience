{
 "cells": [
  {
   "cell_type": "markdown",
   "id": "3984f13c-0a08-4f42-a1de-715952e4cc0c",
   "metadata": {},
   "source": [
    "# Lambda Function\n"
   ]
  },
  {
   "cell_type": "code",
   "execution_count": 1,
   "id": "ec06f282-328a-44fb-af9e-d6884931bfdb",
   "metadata": {},
   "outputs": [],
   "source": [
    "def power(n,p):\n",
    "    return n**p"
   ]
  },
  {
   "cell_type": "code",
   "execution_count": 2,
   "id": "8ce2bda5-b7d3-4b8a-82f7-59f73bb1ef6e",
   "metadata": {},
   "outputs": [
    {
     "data": {
      "text/plain": [
       "729"
      ]
     },
     "execution_count": 2,
     "metadata": {},
     "output_type": "execute_result"
    }
   ],
   "source": [
    "power(9,3)"
   ]
  },
  {
   "cell_type": "code",
   "execution_count": 3,
   "id": "aa788dc9-ad43-4100-83cb-8b9c7872e0d0",
   "metadata": {},
   "outputs": [],
   "source": [
    "# Lambda function\n",
    "\n",
    "power_lambda = lambda n,p : n**p"
   ]
  },
  {
   "cell_type": "code",
   "execution_count": 4,
   "id": "e9a1fceb-45b3-4dac-aec1-4ca513bf7ed8",
   "metadata": {},
   "outputs": [
    {
     "data": {
      "text/plain": [
       "729"
      ]
     },
     "execution_count": 4,
     "metadata": {},
     "output_type": "execute_result"
    }
   ],
   "source": [
    "power_lambda(9,3)"
   ]
  },
  {
   "cell_type": "code",
   "execution_count": 5,
   "id": "e2e3ba3b-1ec0-4b5d-8f9d-9241e67dc62a",
   "metadata": {},
   "outputs": [],
   "source": [
    "add = lambda a,b : a+b"
   ]
  },
  {
   "cell_type": "code",
   "execution_count": 6,
   "id": "d9922407-2538-4157-8e1e-c5c6e1dbd65b",
   "metadata": {},
   "outputs": [
    {
     "data": {
      "text/plain": [
       "5"
      ]
     },
     "execution_count": 6,
     "metadata": {},
     "output_type": "execute_result"
    }
   ],
   "source": [
    "add(2,3)"
   ]
  },
  {
   "cell_type": "code",
   "execution_count": 7,
   "id": "1f1b5543-b10d-44a1-9078-ece3dffb891a",
   "metadata": {},
   "outputs": [],
   "source": [
    "c_to_f = lambda c: (9/5) * c + 32"
   ]
  },
  {
   "cell_type": "code",
   "execution_count": 8,
   "id": "e967333a-876e-4977-a13b-93d727407c2c",
   "metadata": {},
   "outputs": [
    {
     "data": {
      "text/plain": [
       "100.4"
      ]
     },
     "execution_count": 8,
     "metadata": {},
     "output_type": "execute_result"
    }
   ],
   "source": [
    "c_to_f(38)"
   ]
  },
  {
   "cell_type": "code",
   "execution_count": 11,
   "id": "ae63bc70-0f36-4509-977d-069b907eae44",
   "metadata": {},
   "outputs": [],
   "source": [
    "max_two = lambda a,b : a if a > b else b"
   ]
  },
  {
   "cell_type": "code",
   "execution_count": 12,
   "id": "4b062e83-21a2-48c3-807d-4e29e19d2d14",
   "metadata": {},
   "outputs": [
    {
     "data": {
      "text/plain": [
       "56"
      ]
     },
     "execution_count": 12,
     "metadata": {},
     "output_type": "execute_result"
    }
   ],
   "source": [
    "max_two(44,56)"
   ]
  },
  {
   "cell_type": "code",
   "execution_count": 13,
   "id": "608fb2f6-99ec-4c4d-9dc3-2b1381a09119",
   "metadata": {},
   "outputs": [],
   "source": [
    "s = \"PW Skills\""
   ]
  },
  {
   "cell_type": "code",
   "execution_count": 14,
   "id": "df1966b1-2a23-4c4b-8702-c1efafba338c",
   "metadata": {},
   "outputs": [],
   "source": [
    "len_str = lambda s : len(s)"
   ]
  },
  {
   "cell_type": "code",
   "execution_count": 15,
   "id": "7f3ca7dc-974e-4c00-93b0-f9e1a323bd1b",
   "metadata": {},
   "outputs": [
    {
     "data": {
      "text/plain": [
       "9"
      ]
     },
     "execution_count": 15,
     "metadata": {},
     "output_type": "execute_result"
    }
   ],
   "source": [
    "len_str(s)"
   ]
  },
  {
   "cell_type": "code",
   "execution_count": null,
   "id": "020137dc-9761-4456-b876-41c7ce9d2e83",
   "metadata": {},
   "outputs": [],
   "source": []
  }
 ],
 "metadata": {
  "kernelspec": {
   "display_name": "Python 3 (ipykernel)",
   "language": "python",
   "name": "python3"
  },
  "language_info": {
   "codemirror_mode": {
    "name": "ipython",
    "version": 3
   },
   "file_extension": ".py",
   "mimetype": "text/x-python",
   "name": "python",
   "nbconvert_exporter": "python",
   "pygments_lexer": "ipython3",
   "version": "3.10.8"
  }
 },
 "nbformat": 4,
 "nbformat_minor": 5
}
