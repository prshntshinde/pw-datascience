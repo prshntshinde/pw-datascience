{
 "cells": [
  {
   "cell_type": "markdown",
   "id": "3984f13c-0a08-4f42-a1de-715952e4cc0c",
   "metadata": {},
   "source": [
    "# Lambda Function\n"
   ]
  },
  {
   "cell_type": "code",
   "execution_count": 1,
   "id": "ec06f282-328a-44fb-af9e-d6884931bfdb",
   "metadata": {},
   "outputs": [],
   "source": [
    "def power(n,p):\n",
    "    return n**p"
   ]
  },
  {
   "cell_type": "code",
   "execution_count": 2,
   "id": "8ce2bda5-b7d3-4b8a-82f7-59f73bb1ef6e",
   "metadata": {},
   "outputs": [
    {
     "data": {
      "text/plain": [
       "729"
      ]
     },
     "execution_count": 2,
     "metadata": {},
     "output_type": "execute_result"
    }
   ],
   "source": [
    "power(9,3)"
   ]
  },
  {
   "cell_type": "code",
   "execution_count": 3,
   "id": "aa788dc9-ad43-4100-83cb-8b9c7872e0d0",
   "metadata": {},
   "outputs": [],
   "source": [
    "# Lambda function\n",
    "\n",
    "power_lambda = lambda n,p : n**p"
   ]
  },
  {
   "cell_type": "code",
   "execution_count": 4,
   "id": "e9a1fceb-45b3-4dac-aec1-4ca513bf7ed8",
   "metadata": {},
   "outputs": [
    {
     "data": {
      "text/plain": [
       "729"
      ]
     },
     "execution_count": 4,
     "metadata": {},
     "output_type": "execute_result"
    }
   ],
   "source": [
    "power_lambda(9,3)"
   ]
  },
  {
   "cell_type": "code",
   "execution_count": 5,
   "id": "e2e3ba3b-1ec0-4b5d-8f9d-9241e67dc62a",
   "metadata": {},
   "outputs": [],
   "source": [
    "add = lambda a,b : a+b"
   ]
  },
  {
   "cell_type": "code",
   "execution_count": 6,
   "id": "d9922407-2538-4157-8e1e-c5c6e1dbd65b",
   "metadata": {},
   "outputs": [
    {
     "data": {
      "text/plain": [
       "5"
      ]
     },
     "execution_count": 6,
     "metadata": {},
     "output_type": "execute_result"
    }
   ],
   "source": [
    "add(2,3)"
   ]
  },
  {
   "cell_type": "code",
   "execution_count": 7,
   "id": "1f1b5543-b10d-44a1-9078-ece3dffb891a",
   "metadata": {},
   "outputs": [],
   "source": [
    "c_to_f = lambda c: (9/5) * c + 32"
   ]
  },
  {
   "cell_type": "code",
   "execution_count": 8,
   "id": "e967333a-876e-4977-a13b-93d727407c2c",
   "metadata": {},
   "outputs": [
    {
     "data": {
      "text/plain": [
       "100.4"
      ]
     },
     "execution_count": 8,
     "metadata": {},
     "output_type": "execute_result"
    }
   ],
   "source": [
    "c_to_f(38)"
   ]
  },
  {
   "cell_type": "code",
   "execution_count": 11,
   "id": "ae63bc70-0f36-4509-977d-069b907eae44",
   "metadata": {},
   "outputs": [],
   "source": [
    "max_two = lambda a,b : a if a > b else b"
   ]
  },
  {
   "cell_type": "code",
   "execution_count": 12,
   "id": "4b062e83-21a2-48c3-807d-4e29e19d2d14",
   "metadata": {},
   "outputs": [
    {
     "data": {
      "text/plain": [
       "56"
      ]
     },
     "execution_count": 12,
     "metadata": {},
     "output_type": "execute_result"
    }
   ],
   "source": [
    "max_two(44,56)"
   ]
  },
  {
   "cell_type": "code",
   "execution_count": 13,
   "id": "608fb2f6-99ec-4c4d-9dc3-2b1381a09119",
   "metadata": {},
   "outputs": [],
   "source": [
    "s = \"PW Skills\""
   ]
  },
  {
   "cell_type": "code",
   "execution_count": 14,
   "id": "df1966b1-2a23-4c4b-8702-c1efafba338c",
   "metadata": {},
   "outputs": [],
   "source": [
    "len_str = lambda s : len(s)"
   ]
  },
  {
   "cell_type": "code",
   "execution_count": 16,
   "id": "7f3ca7dc-974e-4c00-93b0-f9e1a323bd1b",
   "metadata": {},
   "outputs": [
    {
     "data": {
      "text/plain": [
       "9"
      ]
     },
     "execution_count": 16,
     "metadata": {},
     "output_type": "execute_result"
    }
   ],
   "source": [
    "len_str(s)"
   ]
  },
  {
   "cell_type": "code",
   "execution_count": null,
   "id": "020137dc-9761-4456-b876-41c7ce9d2e83",
   "metadata": {},
   "outputs": [],
   "source": []
  },
  {
   "cell_type": "markdown",
   "id": "55f64d1b-cf45-4a3f-9d61-df73ef3593ea",
   "metadata": {},
   "source": [
    "# Map Reduce and Filter functions"
   ]
  },
  {
   "cell_type": "code",
   "execution_count": 17,
   "id": "179f2db2-427f-4bf3-9f1f-3365c6f01bc6",
   "metadata": {},
   "outputs": [],
   "source": [
    "l =[1,2,3,4,5,6,7,8]"
   ]
  },
  {
   "cell_type": "code",
   "execution_count": 18,
   "id": "27165a11-2af0-4867-ab03-0b1ca5bf2363",
   "metadata": {},
   "outputs": [],
   "source": [
    "# normal way\n",
    "def squares(input_list):\n",
    "    temp_list = []\n",
    "    for i in input_list:\n",
    "        temp_list.append(i**2)\n",
    "    return temp_list\n",
    "    "
   ]
  },
  {
   "cell_type": "code",
   "execution_count": 19,
   "id": "44989081-7cb6-4676-a727-aafaab7ef6dd",
   "metadata": {},
   "outputs": [
    {
     "data": {
      "text/plain": [
       "[1, 4, 9, 16, 25, 36, 49, 64]"
      ]
     },
     "execution_count": 19,
     "metadata": {},
     "output_type": "execute_result"
    }
   ],
   "source": [
    "squares(l)"
   ]
  },
  {
   "cell_type": "code",
   "execution_count": 21,
   "id": "cfbedb4e-476a-4627-bb60-62db90ee0e97",
   "metadata": {},
   "outputs": [
    {
     "data": {
      "text/plain": [
       "<map at 0x7f444661b3d0>"
      ]
     },
     "execution_count": 21,
     "metadata": {},
     "output_type": "execute_result"
    }
   ],
   "source": [
    "# MAP\n",
    "\n",
    "def sq(input_num):\n",
    "    return input_num**2\n",
    "\n",
    "map(sq, l)"
   ]
  },
  {
   "cell_type": "code",
   "execution_count": 22,
   "id": "66449e47-97af-4640-831c-9d43777b1e82",
   "metadata": {},
   "outputs": [
    {
     "data": {
      "text/plain": [
       "[1, 4, 9, 16, 25, 36, 49, 64]"
      ]
     },
     "execution_count": 22,
     "metadata": {},
     "output_type": "execute_result"
    }
   ],
   "source": [
    "list(map(sq, l))"
   ]
  },
  {
   "cell_type": "code",
   "execution_count": 23,
   "id": "bd84e318-6d74-473e-b733-640ff3a5bc4e",
   "metadata": {},
   "outputs": [
    {
     "data": {
      "text/plain": [
       "<map at 0x7f4446618610>"
      ]
     },
     "execution_count": 23,
     "metadata": {},
     "output_type": "execute_result"
    }
   ],
   "source": [
    "map(lambda x: x**2, l)"
   ]
  },
  {
   "cell_type": "code",
   "execution_count": 24,
   "id": "ec725c1c-800f-4524-a49a-35d0cbb502b3",
   "metadata": {},
   "outputs": [
    {
     "data": {
      "text/plain": [
       "[1, 4, 9, 16, 25, 36, 49, 64]"
      ]
     },
     "execution_count": 24,
     "metadata": {},
     "output_type": "execute_result"
    }
   ],
   "source": [
    "list(map(lambda x: x**2, l))"
   ]
  },
  {
   "cell_type": "code",
   "execution_count": 25,
   "id": "e59a3d02-e735-461b-b67b-1f08468c0c75",
   "metadata": {},
   "outputs": [
    {
     "data": {
      "text/plain": [
       "[11, 12, 13, 14, 15, 16, 17, 18]"
      ]
     },
     "execution_count": 25,
     "metadata": {},
     "output_type": "execute_result"
    }
   ],
   "source": [
    "list(map(lambda x: x+10, l))"
   ]
  },
  {
   "cell_type": "code",
   "execution_count": 26,
   "id": "0e83e5aa-dd95-4289-947b-801c6df151cb",
   "metadata": {},
   "outputs": [
    {
     "data": {
      "text/plain": [
       "['1', '2', '3', '4', '5', '6', '7', '8']"
      ]
     },
     "execution_count": 26,
     "metadata": {},
     "output_type": "execute_result"
    }
   ],
   "source": [
    "list(map(lambda x: str(x), l))"
   ]
  },
  {
   "cell_type": "code",
   "execution_count": 27,
   "id": "fe67f4e3-e674-42ad-b4df-04f81972a766",
   "metadata": {},
   "outputs": [],
   "source": [
    "l1 = [1,2,3,4,5]\n",
    "l2 = [6,7,8,9,10]"
   ]
  },
  {
   "cell_type": "code",
   "execution_count": 33,
   "id": "976b5ec7-2ca2-49fc-ad75-14b40687643e",
   "metadata": {},
   "outputs": [
    {
     "data": {
      "text/plain": [
       "[7, 9, 11, 13, 15]"
      ]
     },
     "execution_count": 33,
     "metadata": {},
     "output_type": "execute_result"
    }
   ],
   "source": [
    "list(map(lambda x, y: x+y , l1,l2))"
   ]
  },
  {
   "cell_type": "code",
   "execution_count": 34,
   "id": "bfc0a07f-4da6-426c-8859-7953c837f220",
   "metadata": {},
   "outputs": [],
   "source": [
    "s = \"PW Skills\""
   ]
  },
  {
   "cell_type": "code",
   "execution_count": 35,
   "id": "49273216-aa35-401a-a844-6c6e63dbc8c1",
   "metadata": {},
   "outputs": [
    {
     "data": {
      "text/plain": [
       "['P', 'W', ' ', 'S', 'K', 'I', 'L', 'L', 'S']"
      ]
     },
     "execution_count": 35,
     "metadata": {},
     "output_type": "execute_result"
    }
   ],
   "source": [
    "list(map(lambda x: x.upper(), s))"
   ]
  },
  {
   "cell_type": "markdown",
   "id": "8781d743-557e-4a59-9a8f-1491aabe0d03",
   "metadata": {},
   "source": [
    "# Reduce"
   ]
  },
  {
   "cell_type": "code",
   "execution_count": 36,
   "id": "debe4952-4ade-4869-85ee-a800e858c3f6",
   "metadata": {},
   "outputs": [],
   "source": [
    "# not available by default\n",
    "from functools import reduce"
   ]
  },
  {
   "cell_type": "code",
   "execution_count": 37,
   "id": "a60972c4-15ac-44fc-ad29-013ae7d81b24",
   "metadata": {},
   "outputs": [
    {
     "data": {
      "text/plain": [
       "[1, 2, 3, 4, 5, 6, 7, 8]"
      ]
     },
     "execution_count": 37,
     "metadata": {},
     "output_type": "execute_result"
    }
   ],
   "source": [
    "l"
   ]
  },
  {
   "cell_type": "code",
   "execution_count": 38,
   "id": "06cd8e0b-fe45-49b0-aec8-14bf70a52171",
   "metadata": {},
   "outputs": [
    {
     "data": {
      "text/plain": [
       "36"
      ]
     },
     "execution_count": 38,
     "metadata": {},
     "output_type": "execute_result"
    }
   ],
   "source": [
    "reduce(lambda x,y: x+y, l)"
   ]
  },
  {
   "cell_type": "code",
   "execution_count": 39,
   "id": "513e49b0-c2da-4ffa-87e6-69d3a45b03cf",
   "metadata": {},
   "outputs": [
    {
     "ename": "TypeError",
     "evalue": "<lambda>() missing 1 required positional argument: 'z'",
     "output_type": "error",
     "traceback": [
      "\u001b[0;31m---------------------------------------------------------------------------\u001b[0m",
      "\u001b[0;31mTypeError\u001b[0m                                 Traceback (most recent call last)",
      "Cell \u001b[0;32mIn[39], line 1\u001b[0m\n\u001b[0;32m----> 1\u001b[0m \u001b[43mreduce\u001b[49m\u001b[43m(\u001b[49m\u001b[38;5;28;43;01mlambda\u001b[39;49;00m\u001b[43m \u001b[49m\u001b[43mx\u001b[49m\u001b[43m,\u001b[49m\u001b[43my\u001b[49m\u001b[43m,\u001b[49m\u001b[43mz\u001b[49m\u001b[43m:\u001b[49m\u001b[43m \u001b[49m\u001b[43mx\u001b[49m\u001b[38;5;241;43m+\u001b[39;49m\u001b[43my\u001b[49m\u001b[38;5;241;43m+\u001b[39;49m\u001b[43mz\u001b[49m\u001b[43m,\u001b[49m\u001b[43m \u001b[49m\u001b[43ml\u001b[49m\u001b[43m)\u001b[49m\n",
      "\u001b[0;31mTypeError\u001b[0m: <lambda>() missing 1 required positional argument: 'z'"
     ]
    }
   ],
   "source": [
    "reduce(lambda x,y,z: x+y+z, l)"
   ]
  },
  {
   "cell_type": "code",
   "execution_count": 40,
   "id": "d0c85038-c582-43c1-95ac-86865325b72a",
   "metadata": {},
   "outputs": [],
   "source": [
    "# takes only 2 arguments\n"
   ]
  },
  {
   "cell_type": "code",
   "execution_count": 41,
   "id": "3c11e024-371a-4a40-a1fe-100c906e9a7d",
   "metadata": {},
   "outputs": [
    {
     "ename": "TypeError",
     "evalue": "reduce() of empty iterable with no initial value",
     "output_type": "error",
     "traceback": [
      "\u001b[0;31m---------------------------------------------------------------------------\u001b[0m",
      "\u001b[0;31mTypeError\u001b[0m                                 Traceback (most recent call last)",
      "Cell \u001b[0;32mIn[41], line 1\u001b[0m\n\u001b[0;32m----> 1\u001b[0m \u001b[43mreduce\u001b[49m\u001b[43m(\u001b[49m\u001b[38;5;28;43;01mlambda\u001b[39;49;00m\u001b[43m \u001b[49m\u001b[43mx\u001b[49m\u001b[43m,\u001b[49m\u001b[43my\u001b[49m\u001b[43m,\u001b[49m\u001b[43mz\u001b[49m\u001b[43m:\u001b[49m\u001b[43m \u001b[49m\u001b[43mx\u001b[49m\u001b[38;5;241;43m+\u001b[39;49m\u001b[43my\u001b[49m\u001b[38;5;241;43m+\u001b[39;49m\u001b[43mz\u001b[49m\u001b[43m,\u001b[49m\u001b[43m \u001b[49m\u001b[43m[\u001b[49m\u001b[43m]\u001b[49m\u001b[43m)\u001b[49m\n",
      "\u001b[0;31mTypeError\u001b[0m: reduce() of empty iterable with no initial value"
     ]
    }
   ],
   "source": [
    "reduce(lambda x,y,z: x+y+z, [])"
   ]
  },
  {
   "cell_type": "code",
   "execution_count": 42,
   "id": "34aa7ce1-0cc2-43a0-a26f-b4cf6d20099a",
   "metadata": {},
   "outputs": [
    {
     "data": {
      "text/plain": [
       "1"
      ]
     },
     "execution_count": 42,
     "metadata": {},
     "output_type": "execute_result"
    }
   ],
   "source": [
    "#Exceptional case\n",
    "reduce(lambda x,y,z: x+y+z, [1])"
   ]
  },
  {
   "cell_type": "code",
   "execution_count": 43,
   "id": "93068486-64c2-4192-8071-05fb40357032",
   "metadata": {},
   "outputs": [
    {
     "data": {
      "text/plain": [
       "3"
      ]
     },
     "execution_count": 43,
     "metadata": {},
     "output_type": "execute_result"
    }
   ],
   "source": [
    "reduce(lambda x,y,z: x+y+z, [3])"
   ]
  },
  {
   "cell_type": "code",
   "execution_count": 44,
   "id": "05983ac3-a481-4d44-964a-92d9bfa54e49",
   "metadata": {},
   "outputs": [
    {
     "data": {
      "text/plain": [
       "8"
      ]
     },
     "execution_count": 44,
     "metadata": {},
     "output_type": "execute_result"
    }
   ],
   "source": [
    "reduce(lambda x,y: x if x > y else y, l)"
   ]
  },
  {
   "cell_type": "markdown",
   "id": "75892391-79eb-4026-ac06-d87a6e6329cf",
   "metadata": {},
   "source": [
    "# Filter"
   ]
  },
  {
   "cell_type": "code",
   "execution_count": 45,
   "id": "399f1b89-5cdc-4809-b6fa-06cb86ac86f6",
   "metadata": {},
   "outputs": [
    {
     "data": {
      "text/plain": [
       "[1, 2, 3, 4, 5, 6, 7, 8]"
      ]
     },
     "execution_count": 45,
     "metadata": {},
     "output_type": "execute_result"
    }
   ],
   "source": [
    "l"
   ]
  },
  {
   "cell_type": "code",
   "execution_count": 48,
   "id": "4cbf6c71-d2da-4403-821b-cc1da0afe2a6",
   "metadata": {},
   "outputs": [
    {
     "data": {
      "text/plain": [
       "<filter at 0x7f44466bedd0>"
      ]
     },
     "execution_count": 48,
     "metadata": {},
     "output_type": "execute_result"
    }
   ],
   "source": [
    "# Filter even numbers\n",
    "filter(lambda x: x%2==0, l)"
   ]
  },
  {
   "cell_type": "code",
   "execution_count": 49,
   "id": "d8b1bc9d-9593-4e7e-8064-e12da6bb18a8",
   "metadata": {},
   "outputs": [
    {
     "data": {
      "text/plain": [
       "[2, 4, 6, 8]"
      ]
     },
     "execution_count": 49,
     "metadata": {},
     "output_type": "execute_result"
    }
   ],
   "source": [
    "list(filter(lambda x: x%2==0, l))"
   ]
  },
  {
   "cell_type": "code",
   "execution_count": 50,
   "id": "84fb2289-d06a-4492-a441-5b07d5b692de",
   "metadata": {},
   "outputs": [
    {
     "data": {
      "text/plain": [
       "[1, 3, 5, 7]"
      ]
     },
     "execution_count": 50,
     "metadata": {},
     "output_type": "execute_result"
    }
   ],
   "source": [
    "list(filter(lambda x: x%2!= 0, l))"
   ]
  },
  {
   "cell_type": "code",
   "execution_count": 54,
   "id": "b1b05ed2-f50b-48e0-b758-f1cc660adc2a",
   "metadata": {},
   "outputs": [],
   "source": [
    "l1 = [-1,3,-60,27,456,53,789,-24,-35]"
   ]
  },
  {
   "cell_type": "code",
   "execution_count": 55,
   "id": "809e951e-f2ff-47c0-9590-e477ac873e1b",
   "metadata": {},
   "outputs": [
    {
     "data": {
      "text/plain": [
       "<filter at 0x7f44466bc5e0>"
      ]
     },
     "execution_count": 55,
     "metadata": {},
     "output_type": "execute_result"
    }
   ],
   "source": [
    "filter(lambda x: x<0,l1)"
   ]
  },
  {
   "cell_type": "code",
   "execution_count": 56,
   "id": "d04bd874-b007-4364-879f-1ce062fdae56",
   "metadata": {},
   "outputs": [
    {
     "data": {
      "text/plain": [
       "[-1, -60, -24, -35]"
      ]
     },
     "execution_count": 56,
     "metadata": {},
     "output_type": "execute_result"
    }
   ],
   "source": [
    "list(filter(lambda x: x<0,l1))"
   ]
  },
  {
   "cell_type": "code",
   "execution_count": 57,
   "id": "56f711fe-1416-43b2-b052-75187fbb7fb7",
   "metadata": {},
   "outputs": [],
   "source": [
    "l2 = [\"Pras\",\"PW Skills\",\"Bangalore\",\"Shinde\"]"
   ]
  },
  {
   "cell_type": "code",
   "execution_count": 58,
   "id": "5aeb2de3-da35-440c-824f-7f1d5c6ecfcc",
   "metadata": {},
   "outputs": [
    {
     "data": {
      "text/plain": [
       "['Pras']"
      ]
     },
     "execution_count": 58,
     "metadata": {},
     "output_type": "execute_result"
    }
   ],
   "source": [
    "list(filter(lambda s: len(s)<6, l2))"
   ]
  },
  {
   "cell_type": "code",
   "execution_count": null,
   "id": "d8c570d4-c457-4c63-aacb-92b5c9f5392f",
   "metadata": {},
   "outputs": [],
   "source": []
  }
 ],
 "metadata": {
  "kernelspec": {
   "display_name": "Python 3 (ipykernel)",
   "language": "python",
   "name": "python3"
  },
  "language_info": {
   "codemirror_mode": {
    "name": "ipython",
    "version": 3
   },
   "file_extension": ".py",
   "mimetype": "text/x-python",
   "name": "python",
   "nbconvert_exporter": "python",
   "pygments_lexer": "ipython3",
   "version": "3.10.8"
  }
 },
 "nbformat": 4,
 "nbformat_minor": 5
}
