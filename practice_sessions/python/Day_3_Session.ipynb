{
 "cells": [
  {
   "cell_type": "markdown",
   "id": "9a065f41-17ef-4298-a80c-1a34f9fcdd8f",
   "metadata": {},
   "source": [
    "## String manipulation, Methods, Expressions, Operators and Precedence"
   ]
  },
  {
   "cell_type": "markdown",
   "id": "597f063c-a7d9-4dc4-9690-7110d53577ce",
   "metadata": {},
   "source": [
    "### Logical Operators\n",
    "1. And\n",
    "2. Or\n",
    "3. Not\n"
   ]
  },
  {
   "cell_type": "code",
   "execution_count": 2,
   "id": "14f0ec2c-e8bd-4f1b-9a34-5cf84f7d6d1b",
   "metadata": {},
   "outputs": [
    {
     "data": {
      "text/plain": [
       "True"
      ]
     },
     "execution_count": 2,
     "metadata": {},
     "output_type": "execute_result"
    }
   ],
   "source": [
    "bool(3)"
   ]
  },
  {
   "cell_type": "code",
   "execution_count": 3,
   "id": "063ce0e9-44f2-49fc-a397-84e27b03a412",
   "metadata": {},
   "outputs": [
    {
     "data": {
      "text/plain": [
       "True"
      ]
     },
     "execution_count": 3,
     "metadata": {},
     "output_type": "execute_result"
    }
   ],
   "source": [
    "bool(-3)"
   ]
  },
  {
   "cell_type": "code",
   "execution_count": 4,
   "id": "05968973-2f70-4d58-b928-ad0313793e5f",
   "metadata": {},
   "outputs": [
    {
     "data": {
      "text/plain": [
       "False"
      ]
     },
     "execution_count": 4,
     "metadata": {},
     "output_type": "execute_result"
    }
   ],
   "source": [
    "bool(not 3)"
   ]
  },
  {
   "cell_type": "code",
   "execution_count": 5,
   "id": "a182d7a9-a17b-434b-a8a9-72f1d3372d86",
   "metadata": {},
   "outputs": [
    {
     "data": {
      "text/plain": [
       "False"
      ]
     },
     "execution_count": 5,
     "metadata": {},
     "output_type": "execute_result"
    }
   ],
   "source": [
    "bool(0)"
   ]
  },
  {
   "cell_type": "code",
   "execution_count": 6,
   "id": "cab1638a-a186-4c94-ac98-cbb40b36c3f4",
   "metadata": {},
   "outputs": [
    {
     "data": {
      "text/plain": [
       "True"
      ]
     },
     "execution_count": 6,
     "metadata": {},
     "output_type": "execute_result"
    }
   ],
   "source": [
    "bool(-1)"
   ]
  },
  {
   "cell_type": "code",
   "execution_count": 8,
   "id": "978e03cd-dbdd-45c0-aa84-49beb24cc372",
   "metadata": {},
   "outputs": [
    {
     "data": {
      "text/plain": [
       "0"
      ]
     },
     "execution_count": 8,
     "metadata": {},
     "output_type": "execute_result"
    }
   ],
   "source": [
    "True * False"
   ]
  },
  {
   "cell_type": "code",
   "execution_count": 9,
   "id": "eeb7b81f-eb34-4aa4-9367-b9d353631457",
   "metadata": {},
   "outputs": [
    {
     "data": {
      "text/plain": [
       "0"
      ]
     },
     "execution_count": 9,
     "metadata": {},
     "output_type": "execute_result"
    }
   ],
   "source": [
    "False * True"
   ]
  },
  {
   "cell_type": "code",
   "execution_count": 10,
   "id": "607728f3-75de-4bca-b6a0-a6055aa0af2d",
   "metadata": {},
   "outputs": [
    {
     "data": {
      "text/plain": [
       "1"
      ]
     },
     "execution_count": 10,
     "metadata": {},
     "output_type": "execute_result"
    }
   ],
   "source": [
    "True * True"
   ]
  },
  {
   "cell_type": "code",
   "execution_count": 11,
   "id": "9105e51a-4c1e-4229-9c47-2c4e3c53c6f5",
   "metadata": {},
   "outputs": [
    {
     "data": {
      "text/plain": [
       "0"
      ]
     },
     "execution_count": 11,
     "metadata": {},
     "output_type": "execute_result"
    }
   ],
   "source": [
    "False * False"
   ]
  },
  {
   "cell_type": "code",
   "execution_count": 12,
   "id": "25acb318-0f4f-4a06-bd17-92d90d0d4655",
   "metadata": {},
   "outputs": [
    {
     "data": {
      "text/plain": [
       "True"
      ]
     },
     "execution_count": 12,
     "metadata": {},
     "output_type": "execute_result"
    }
   ],
   "source": [
    "not(False) * False == True"
   ]
  },
  {
   "cell_type": "code",
   "execution_count": 13,
   "id": "9c5adbcc-7fb3-40e2-baa8-27c9e2a21989",
   "metadata": {},
   "outputs": [
    {
     "data": {
      "text/plain": [
       "14.0"
      ]
     },
     "execution_count": 13,
     "metadata": {},
     "output_type": "execute_result"
    }
   ],
   "source": [
    "# BODMAS rule - Brackets, Of, Division, Mul, Add, sub\n",
    "2*3+40/5"
   ]
  },
  {
   "cell_type": "code",
   "execution_count": 14,
   "id": "9726d7fc-556c-4920-84dc-5650f13e604c",
   "metadata": {},
   "outputs": [
    {
     "data": {
      "text/plain": [
       "9.2"
      ]
     },
     "execution_count": 14,
     "metadata": {},
     "output_type": "execute_result"
    }
   ],
   "source": [
    "(2*3+40)/5"
   ]
  },
  {
   "cell_type": "markdown",
   "id": "b269582c-4d71-4076-b249-40ff950ff38d",
   "metadata": {},
   "source": [
    "# Equality Operators:\n",
    "1. is - a is b returs true if variable/identifier a and b points to same object\n",
    "2. is not -  a is not b returs true if variable/identifier a and b points to different object\n",
    "3. == -  a == b returns true if variable/identifier a and b has same value\n",
    "4. != - a != b returns true if variable/identifier a and b has different value"
   ]
  },
  {
   "cell_type": "code",
   "execution_count": 15,
   "id": "76982cec-5442-46eb-bf13-b554a1fb6e66",
   "metadata": {},
   "outputs": [],
   "source": [
    "lst_a = [1,2,3,4]\n",
    "lst_b = [1,2,3,4]"
   ]
  },
  {
   "cell_type": "code",
   "execution_count": 16,
   "id": "b4b87c0d-ac9d-4e02-a2cb-30ec282fc093",
   "metadata": {},
   "outputs": [
    {
     "data": {
      "text/plain": [
       "140493713455936"
      ]
     },
     "execution_count": 16,
     "metadata": {},
     "output_type": "execute_result"
    }
   ],
   "source": [
    "id(lst_a)"
   ]
  },
  {
   "cell_type": "code",
   "execution_count": 17,
   "id": "62503d1d-21ba-4d92-ab5b-af45cc09e053",
   "metadata": {},
   "outputs": [
    {
     "data": {
      "text/plain": [
       "140494147592832"
      ]
     },
     "execution_count": 17,
     "metadata": {},
     "output_type": "execute_result"
    }
   ],
   "source": [
    "id(lst_b)"
   ]
  },
  {
   "cell_type": "code",
   "execution_count": 18,
   "id": "82aa4c2d-64e3-4664-a6fa-b9e3299b2479",
   "metadata": {},
   "outputs": [
    {
     "data": {
      "text/plain": [
       "False"
      ]
     },
     "execution_count": 18,
     "metadata": {},
     "output_type": "execute_result"
    }
   ],
   "source": [
    "lst_a is lst_b"
   ]
  },
  {
   "cell_type": "code",
   "execution_count": 19,
   "id": "9e498acc-2767-4830-86f5-e46e6b79f11d",
   "metadata": {},
   "outputs": [
    {
     "data": {
      "text/plain": [
       "True"
      ]
     },
     "execution_count": 19,
     "metadata": {},
     "output_type": "execute_result"
    }
   ],
   "source": [
    "lst_a is not lst_b"
   ]
  },
  {
   "cell_type": "code",
   "execution_count": 20,
   "id": "d4b628c5-fc6d-4b75-8e1a-baeeff8f3aa5",
   "metadata": {},
   "outputs": [],
   "source": [
    "lst_b = lst_a"
   ]
  },
  {
   "cell_type": "code",
   "execution_count": 21,
   "id": "de1c8352-790a-44b8-86f9-b38fce90f214",
   "metadata": {},
   "outputs": [
    {
     "data": {
      "text/plain": [
       "True"
      ]
     },
     "execution_count": 21,
     "metadata": {},
     "output_type": "execute_result"
    }
   ],
   "source": [
    "lst_a is lst_b"
   ]
  },
  {
   "cell_type": "code",
   "execution_count": 22,
   "id": "01cdbc28-ad12-4d0d-b175-31e784b80622",
   "metadata": {},
   "outputs": [
    {
     "data": {
      "text/plain": [
       "140493713455936"
      ]
     },
     "execution_count": 22,
     "metadata": {},
     "output_type": "execute_result"
    }
   ],
   "source": [
    "id(lst_a)"
   ]
  },
  {
   "cell_type": "code",
   "execution_count": 23,
   "id": "b290168b-e7ea-4b11-ae9c-6fa106fbc6e0",
   "metadata": {},
   "outputs": [
    {
     "data": {
      "text/plain": [
       "140493713455936"
      ]
     },
     "execution_count": 23,
     "metadata": {},
     "output_type": "execute_result"
    }
   ],
   "source": [
    "id(lst_b)"
   ]
  },
  {
   "cell_type": "code",
   "execution_count": 24,
   "id": "7f978d4b-3593-42b6-b68c-b0a79959bdba",
   "metadata": {},
   "outputs": [],
   "source": [
    "# Same Id (Memory Location)"
   ]
  },
  {
   "cell_type": "code",
   "execution_count": 25,
   "id": "ebb71543-cc2f-425f-bbf5-c05699d66b50",
   "metadata": {},
   "outputs": [],
   "source": [
    "lst_a = [1,2,3,4]\n",
    "lst_b = [1,2,3,4]"
   ]
  },
  {
   "cell_type": "code",
   "execution_count": 26,
   "id": "ae218568-8d38-4076-9a47-fe4a921b2207",
   "metadata": {},
   "outputs": [
    {
     "data": {
      "text/plain": [
       "True"
      ]
     },
     "execution_count": 26,
     "metadata": {},
     "output_type": "execute_result"
    }
   ],
   "source": [
    "lst_a == lst_b"
   ]
  },
  {
   "cell_type": "code",
   "execution_count": 27,
   "id": "cd73508c-3a9c-4a46-91b3-552b26b2a093",
   "metadata": {},
   "outputs": [
    {
     "data": {
      "text/plain": [
       "False"
      ]
     },
     "execution_count": 27,
     "metadata": {},
     "output_type": "execute_result"
    }
   ],
   "source": [
    "lst_a != lst_b"
   ]
  },
  {
   "cell_type": "code",
   "execution_count": 28,
   "id": "b101ecc5-11a7-4c5f-874a-006da0a2883b",
   "metadata": {},
   "outputs": [
    {
     "name": "stdout",
     "output_type": "stream",
     "text": [
      "140494196556048\n",
      "140494196556048\n"
     ]
    }
   ],
   "source": [
    "# Same address as the meemory stores value.\n",
    "a = 2\n",
    "b = 2\n",
    "\n",
    "print(id(a))\n",
    "print(id(b))"
   ]
  },
  {
   "cell_type": "code",
   "execution_count": 29,
   "id": "32c06d46-aaa1-4a09-b793-5a566cd621d2",
   "metadata": {},
   "outputs": [
    {
     "name": "stdout",
     "output_type": "stream",
     "text": [
      "140493715190960\n",
      "140493715190960\n"
     ]
    }
   ],
   "source": [
    "str1 = \"Prashant\"\n",
    "str2 = \"Prashant\"\n",
    "\n",
    "print(id(str1))\n",
    "print(id(str2))"
   ]
  },
  {
   "cell_type": "code",
   "execution_count": 30,
   "id": "aecb0866-2918-46f3-adae-a851e7b94dce",
   "metadata": {},
   "outputs": [
    {
     "data": {
      "text/plain": [
       "'P'"
      ]
     },
     "execution_count": 30,
     "metadata": {},
     "output_type": "execute_result"
    }
   ],
   "source": [
    "str1[0]"
   ]
  },
  {
   "cell_type": "code",
   "execution_count": 31,
   "id": "3f01855c-2bee-46c7-b3fd-09ecb9ae55f5",
   "metadata": {},
   "outputs": [
    {
     "ename": "TypeError",
     "evalue": "'str' object does not support item assignment",
     "output_type": "error",
     "traceback": [
      "\u001b[0;31m---------------------------------------------------------------------------\u001b[0m",
      "\u001b[0;31mTypeError\u001b[0m                                 Traceback (most recent call last)",
      "Cell \u001b[0;32mIn[31], line 1\u001b[0m\n\u001b[0;32m----> 1\u001b[0m \u001b[43mstr1\u001b[49m\u001b[43m[\u001b[49m\u001b[38;5;241;43m0\u001b[39;49m\u001b[43m]\u001b[49m \u001b[38;5;241m=\u001b[39m \u001b[38;5;124m\"\u001b[39m\u001b[38;5;124mS\u001b[39m\u001b[38;5;124m\"\u001b[39m\n",
      "\u001b[0;31mTypeError\u001b[0m: 'str' object does not support item assignment"
     ]
    }
   ],
   "source": [
    "str1[0] = \"S\" ## Immutable - cannot change the elements in the string. List are mutable."
   ]
  },
  {
   "cell_type": "markdown",
   "id": "8f9b810d-d424-46a5-9e04-f3a5033cc15c",
   "metadata": {},
   "source": [
    "# Operations\n",
    "    1. < - less than\n",
    "    2. <= - less than or equal to\n",
    "    3. >  - greater than\n",
    "    4. >= - greater than or equal to"
   ]
  },
  {
   "cell_type": "markdown",
   "id": "8f4d55b7-c662-4c2d-9f27-0f9736f6ef8b",
   "metadata": {},
   "source": [
    "# Arithmatic Operations\n",
    "    1. + - addition\n",
    "    2. - - substraction\n",
    "    3. * - multiplication\n",
    "    4. / - true division\n",
    "    5. // - integer division\n",
    "    6 % - the modulo operator"
   ]
  },
  {
   "cell_type": "code",
   "execution_count": 35,
   "id": "dfd0af4c-ef03-48a4-9ca2-4f659bd1bf8e",
   "metadata": {},
   "outputs": [
    {
     "data": {
      "text/plain": [
       "4.954545454545454"
      ]
     },
     "execution_count": 35,
     "metadata": {},
     "output_type": "execute_result"
    }
   ],
   "source": [
    "num1 = 10.9\n",
    "num2 = 2.2\n",
    "\n",
    "num1 / num2"
   ]
  },
  {
   "cell_type": "code",
   "execution_count": 36,
   "id": "4dc169e8-96fa-4b2f-84c3-89166c27f415",
   "metadata": {},
   "outputs": [
    {
     "data": {
      "text/plain": [
       "4.0"
      ]
     },
     "execution_count": 36,
     "metadata": {},
     "output_type": "execute_result"
    }
   ],
   "source": [
    "num1 //num2"
   ]
  },
  {
   "cell_type": "code",
   "execution_count": 37,
   "id": "923e5085-b1f1-4ba3-b675-2252b3497e03",
   "metadata": {},
   "outputs": [
    {
     "data": {
      "text/plain": [
       "2.0999999999999996"
      ]
     },
     "execution_count": 37,
     "metadata": {},
     "output_type": "execute_result"
    }
   ],
   "source": [
    "num1 % num2"
   ]
  },
  {
   "cell_type": "markdown",
   "id": "6ac7bb14-5b3c-46f3-a11e-f17f3ec0bf56",
   "metadata": {},
   "source": [
    "# Bitwise Operators\n",
    "    ~ - bitwise complement (prefix unary Operator)\n",
    "    & - bitwsie And\n",
    "    | - Bitwise Or\n",
    "    ^ - Bitwsie exclusive-or\n",
    "    << - shift bits left, filling in with zeros\n",
    "    >> - shift bits right, filling in with sign bit"
   ]
  },
  {
   "cell_type": "code",
   "execution_count": 39,
   "id": "d3611cfc-7991-496d-a14f-f6ea5db7f9cd",
   "metadata": {},
   "outputs": [
    {
     "data": {
      "text/plain": [
       "'0b1010'"
      ]
     },
     "execution_count": 39,
     "metadata": {},
     "output_type": "execute_result"
    }
   ],
   "source": [
    "num3 = 10\n",
    "bin(num3)"
   ]
  },
  {
   "cell_type": "code",
   "execution_count": 40,
   "id": "ba44f813-b9b6-4ded-9ec9-1554768232dc",
   "metadata": {},
   "outputs": [
    {
     "data": {
      "text/plain": [
       "-11"
      ]
     },
     "execution_count": 40,
     "metadata": {},
     "output_type": "execute_result"
    }
   ],
   "source": [
    "~num3"
   ]
  },
  {
   "cell_type": "code",
   "execution_count": 41,
   "id": "db2c1fd6-2032-49b7-98f8-1664c1b5048b",
   "metadata": {},
   "outputs": [],
   "source": [
    "num4 = 8"
   ]
  },
  {
   "cell_type": "code",
   "execution_count": 44,
   "id": "53d4605d-f6e4-492e-ace1-600d80bd65d3",
   "metadata": {},
   "outputs": [
    {
     "data": {
      "text/plain": [
       "10"
      ]
     },
     "execution_count": 44,
     "metadata": {},
     "output_type": "execute_result"
    }
   ],
   "source": [
    "num3 | num4"
   ]
  },
  {
   "cell_type": "code",
   "execution_count": 45,
   "id": "26969c27-c7f9-4dd8-a78a-237f314e5d67",
   "metadata": {},
   "outputs": [
    {
     "data": {
      "text/plain": [
       "8"
      ]
     },
     "execution_count": 45,
     "metadata": {},
     "output_type": "execute_result"
    }
   ],
   "source": [
    "num3 & num4"
   ]
  },
  {
   "cell_type": "markdown",
   "id": "2e9e6d70-a50e-43b0-8fae-99f785b22044",
   "metadata": {},
   "source": [
    "# Strings"
   ]
  },
  {
   "cell_type": "code",
   "execution_count": 1,
   "id": "e89d793d-c0a8-4e26-b858-843aee9ba4b8",
   "metadata": {},
   "outputs": [],
   "source": [
    "welcome = \"Welcome to Data Science Masters\""
   ]
  },
  {
   "cell_type": "code",
   "execution_count": 2,
   "id": "2a3c4d06-cab7-4a86-a143-5098745021d9",
   "metadata": {},
   "outputs": [
    {
     "data": {
      "text/plain": [
       "str"
      ]
     },
     "execution_count": 2,
     "metadata": {},
     "output_type": "execute_result"
    }
   ],
   "source": [
    "type (welcome)"
   ]
  },
  {
   "cell_type": "code",
   "execution_count": 3,
   "id": "f79adc00-fce6-495a-9278-10afb06428e8",
   "metadata": {},
   "outputs": [
    {
     "name": "stdout",
     "output_type": "stream",
     "text": [
      "Welcome to data science masters\n"
     ]
    }
   ],
   "source": [
    "print(welcome.capitalize())"
   ]
  },
  {
   "cell_type": "code",
   "execution_count": 4,
   "id": "44f3bf71-e266-448f-9fba-0cd406517449",
   "metadata": {},
   "outputs": [
    {
     "data": {
      "text/plain": [
       "'welcome to data science masters'"
      ]
     },
     "execution_count": 4,
     "metadata": {},
     "output_type": "execute_result"
    }
   ],
   "source": [
    "welcome.lower()"
   ]
  },
  {
   "cell_type": "code",
   "execution_count": 5,
   "id": "324b9d12-1cf8-4077-abed-e9d489a977e4",
   "metadata": {},
   "outputs": [
    {
     "data": {
      "text/plain": [
       "'me to Data Science Masters'"
      ]
     },
     "execution_count": 5,
     "metadata": {},
     "output_type": "execute_result"
    }
   ],
   "source": [
    "welcome[5:]"
   ]
  },
  {
   "cell_type": "code",
   "execution_count": 6,
   "id": "a51f39f0-e2f8-428f-85cd-c76658cffc86",
   "metadata": {},
   "outputs": [
    {
     "data": {
      "text/plain": [
       "'Welco'"
      ]
     },
     "execution_count": 6,
     "metadata": {},
     "output_type": "execute_result"
    }
   ],
   "source": [
    "welcome[:5]"
   ]
  },
  {
   "cell_type": "code",
   "execution_count": 7,
   "id": "5707c020-0d03-43b7-8c36-c180a9d0fa84",
   "metadata": {},
   "outputs": [
    {
     "data": {
      "text/plain": [
       "'com'"
      ]
     },
     "execution_count": 7,
     "metadata": {},
     "output_type": "execute_result"
    }
   ],
   "source": [
    "welcome[3:6]"
   ]
  },
  {
   "cell_type": "code",
   "execution_count": 8,
   "id": "7d790d93-0a25-4dbe-b8bd-09c0052ebf7c",
   "metadata": {},
   "outputs": [
    {
     "data": {
      "text/plain": [
       "'s'"
      ]
     },
     "execution_count": 8,
     "metadata": {},
     "output_type": "execute_result"
    }
   ],
   "source": [
    "welcome[-1]"
   ]
  },
  {
   "cell_type": "code",
   "execution_count": 12,
   "id": "d14ecd0f-e131-44fc-ae51-9486826b9f2f",
   "metadata": {},
   "outputs": [
    {
     "data": {
      "text/plain": [
       "'ers'"
      ]
     },
     "execution_count": 12,
     "metadata": {},
     "output_type": "execute_result"
    }
   ],
   "source": [
    "welcome[-3:]"
   ]
  },
  {
   "cell_type": "code",
   "execution_count": 13,
   "id": "19e6335f-e3aa-4d1b-8a20-57d0fd0a4481",
   "metadata": {},
   "outputs": [
    {
     "data": {
      "text/plain": [
       "''"
      ]
     },
     "execution_count": 13,
     "metadata": {},
     "output_type": "execute_result"
    }
   ],
   "source": [
    "welcome[-1:3]"
   ]
  },
  {
   "cell_type": "code",
   "execution_count": 14,
   "id": "2a752308-00c4-480a-bcb4-48ef277ff481",
   "metadata": {},
   "outputs": [
    {
     "data": {
      "text/plain": [
       "'Welcome to Data Science Master'"
      ]
     },
     "execution_count": 14,
     "metadata": {},
     "output_type": "execute_result"
    }
   ],
   "source": [
    "welcome[:-1]"
   ]
  },
  {
   "cell_type": "code",
   "execution_count": 16,
   "id": "b1ec0e8a-5fae-4a89-88e9-029e48920ffb",
   "metadata": {},
   "outputs": [
    {
     "data": {
      "text/plain": [
       "''"
      ]
     },
     "execution_count": 16,
     "metadata": {},
     "output_type": "execute_result"
    }
   ],
   "source": [
    "welcome[-10:4]"
   ]
  },
  {
   "cell_type": "code",
   "execution_count": 17,
   "id": "eee39f96-d0e4-4020-95bb-e5f030430259",
   "metadata": {},
   "outputs": [
    {
     "data": {
      "text/plain": [
       "'sretsaM ecneicS ataD ot emocleW'"
      ]
     },
     "execution_count": 17,
     "metadata": {},
     "output_type": "execute_result"
    }
   ],
   "source": [
    "welcome[::-1]"
   ]
  },
  {
   "cell_type": "code",
   "execution_count": 18,
   "id": "c8b98234-5ed5-42db-9332-c9843f9405e0",
   "metadata": {},
   "outputs": [
    {
     "data": {
      "text/plain": [
       "'sesMeniSaa teolW'"
      ]
     },
     "execution_count": 18,
     "metadata": {},
     "output_type": "execute_result"
    }
   ],
   "source": [
    "welcome[::-2]"
   ]
  },
  {
   "cell_type": "code",
   "execution_count": 19,
   "id": "9293362c-46ef-4462-913e-d1aa74373d7a",
   "metadata": {},
   "outputs": [
    {
     "data": {
      "text/plain": [
       "'emocleW'"
      ]
     },
     "execution_count": 19,
     "metadata": {},
     "output_type": "execute_result"
    }
   ],
   "source": [
    "welcome[6::-1]"
   ]
  },
  {
   "cell_type": "code",
   "execution_count": 20,
   "id": "06b6333b-943f-46b4-bbf2-dd0c35a7f837",
   "metadata": {},
   "outputs": [
    {
     "data": {
      "text/plain": [
       "'emo'"
      ]
     },
     "execution_count": 20,
     "metadata": {},
     "output_type": "execute_result"
    }
   ],
   "source": [
    "welcome[6:3:-1]"
   ]
  },
  {
   "cell_type": "code",
   "execution_count": 21,
   "id": "f9a32902-7072-4dc4-9ff3-2919d7db3408",
   "metadata": {},
   "outputs": [
    {
     "data": {
      "text/plain": [
       "'Wloet aaSineMses'"
      ]
     },
     "execution_count": 21,
     "metadata": {},
     "output_type": "execute_result"
    }
   ],
   "source": [
    "welcome[::2]"
   ]
  },
  {
   "cell_type": "code",
   "execution_count": 22,
   "id": "ba65adf5-ff27-4d45-977f-f80b9c516535",
   "metadata": {},
   "outputs": [
    {
     "data": {
      "text/plain": [
       "'Welcome to Data Science MastersWelcome to Data Science MastersWelcome to Data Science MastersWelcome to Data Science MastersWelcome to Data Science Masters'"
      ]
     },
     "execution_count": 22,
     "metadata": {},
     "output_type": "execute_result"
    }
   ],
   "source": [
    "welcome * 5"
   ]
  },
  {
   "cell_type": "code",
   "execution_count": 23,
   "id": "f1508c9e-322a-4bcf-90c6-d2cc06b274d0",
   "metadata": {},
   "outputs": [
    {
     "data": {
      "text/plain": [
       "31"
      ]
     },
     "execution_count": 23,
     "metadata": {},
     "output_type": "execute_result"
    }
   ],
   "source": [
    "len(welcome)"
   ]
  },
  {
   "cell_type": "code",
   "execution_count": 24,
   "id": "c809cd0c-ac17-479d-825b-3cae14a8c035",
   "metadata": {},
   "outputs": [
    {
     "data": {
      "text/plain": [
       "20"
      ]
     },
     "execution_count": 24,
     "metadata": {},
     "output_type": "execute_result"
    }
   ],
   "source": [
    "welcome.find(\"n\")"
   ]
  },
  {
   "cell_type": "code",
   "execution_count": 26,
   "id": "f0974ba9-0823-43ff-b250-c0661f72d97c",
   "metadata": {},
   "outputs": [
    {
     "data": {
      "text/plain": [
       "12"
      ]
     },
     "execution_count": 26,
     "metadata": {},
     "output_type": "execute_result"
    }
   ],
   "source": [
    "welcome.find(\"a\",2,15)"
   ]
  },
  {
   "cell_type": "code",
   "execution_count": 28,
   "id": "402ed4a3-93ac-4fc6-bad7-e2021510996f",
   "metadata": {},
   "outputs": [
    {
     "data": {
      "text/plain": [
       "3"
      ]
     },
     "execution_count": 28,
     "metadata": {},
     "output_type": "execute_result"
    }
   ],
   "source": [
    "welcome.count(\"a\")"
   ]
  },
  {
   "cell_type": "code",
   "execution_count": 30,
   "id": "2ba8217a-b32c-44ae-9dd4-06940d556a0f",
   "metadata": {},
   "outputs": [
    {
     "data": {
      "text/plain": [
       "4"
      ]
     },
     "execution_count": 30,
     "metadata": {},
     "output_type": "execute_result"
    }
   ],
   "source": [
    "welcome.count(\" \")"
   ]
  },
  {
   "cell_type": "code",
   "execution_count": 31,
   "id": "c9dfd69a-7251-459c-9ad1-0e72f2606f73",
   "metadata": {},
   "outputs": [
    {
     "data": {
      "text/plain": [
       "['Welcome', 'to', 'Data', 'Science', 'Masters']"
      ]
     },
     "execution_count": 31,
     "metadata": {},
     "output_type": "execute_result"
    }
   ],
   "source": [
    "welcome.split(sep=\" \")"
   ]
  },
  {
   "cell_type": "code",
   "execution_count": 32,
   "id": "754f7fa5-29dd-4b1b-b73c-9b19275408aa",
   "metadata": {},
   "outputs": [
    {
     "data": {
      "text/plain": [
       "['W', 'lcom', ' to Data Sci', 'nc', ' Mast', 'rs']"
      ]
     },
     "execution_count": 32,
     "metadata": {},
     "output_type": "execute_result"
    }
   ],
   "source": [
    "welcome.split(sep=\"e\")"
   ]
  },
  {
   "cell_type": "code",
   "execution_count": 33,
   "id": "89c3e373-f68e-42ca-8c3b-ba1d504cb8f5",
   "metadata": {},
   "outputs": [
    {
     "data": {
      "text/plain": [
       "('W', 'e', 'lcome to Data Science Masters')"
      ]
     },
     "execution_count": 33,
     "metadata": {},
     "output_type": "execute_result"
    }
   ],
   "source": [
    "welcome.partition(\"e\")"
   ]
  },
  {
   "cell_type": "code",
   "execution_count": 34,
   "id": "29123b6c-68ca-4fd3-8c53-e796dec5d2b7",
   "metadata": {},
   "outputs": [
    {
     "data": {
      "text/plain": [
       "('Welcome to Data ', 'S', 'cience Masters')"
      ]
     },
     "execution_count": 34,
     "metadata": {},
     "output_type": "execute_result"
    }
   ],
   "source": [
    "welcome.partition(\"S\")"
   ]
  },
  {
   "cell_type": "code",
   "execution_count": 35,
   "id": "d00a822a-176d-47df-aa49-a4742a2ce983",
   "metadata": {},
   "outputs": [
    {
     "data": {
      "text/plain": [
       "'WELCOME TO DATA SCIENCE MASTERS'"
      ]
     },
     "execution_count": 35,
     "metadata": {},
     "output_type": "execute_result"
    }
   ],
   "source": [
    "welcome.upper()"
   ]
  },
  {
   "cell_type": "code",
   "execution_count": 36,
   "id": "d38e5b06-3029-4418-baa2-efa87e82207c",
   "metadata": {},
   "outputs": [
    {
     "data": {
      "text/plain": [
       "'welcome to data science masters'"
      ]
     },
     "execution_count": 36,
     "metadata": {},
     "output_type": "execute_result"
    }
   ],
   "source": [
    "welcome.lower()"
   ]
  },
  {
   "cell_type": "code",
   "execution_count": 37,
   "id": "10cf6f12-a320-4adf-a680-d6b8f0c735b7",
   "metadata": {},
   "outputs": [
    {
     "data": {
      "text/plain": [
       "'wELCOME TO dATA sCIENCE mASTERS'"
      ]
     },
     "execution_count": 37,
     "metadata": {},
     "output_type": "execute_result"
    }
   ],
   "source": [
    "welcome.swapcase()"
   ]
  },
  {
   "cell_type": "code",
   "execution_count": 38,
   "id": "ff404316-a358-43ee-b51c-0c1bba6c5c68",
   "metadata": {},
   "outputs": [
    {
     "data": {
      "text/plain": [
       "'Welcome To Data Science Masters'"
      ]
     },
     "execution_count": 38,
     "metadata": {},
     "output_type": "execute_result"
    }
   ],
   "source": [
    "welcome.title()"
   ]
  },
  {
   "cell_type": "code",
   "execution_count": null,
   "id": "57ce684d-56bf-4225-b7e4-23d583014818",
   "metadata": {},
   "outputs": [],
   "source": []
  }
 ],
 "metadata": {
  "kernelspec": {
   "display_name": "Python 3 (ipykernel)",
   "language": "python",
   "name": "python3"
  },
  "language_info": {
   "codemirror_mode": {
    "name": "ipython",
    "version": 3
   },
   "file_extension": ".py",
   "mimetype": "text/x-python",
   "name": "python",
   "nbconvert_exporter": "python",
   "pygments_lexer": "ipython3",
   "version": "3.10.8"
  }
 },
 "nbformat": 4,
 "nbformat_minor": 5
}
