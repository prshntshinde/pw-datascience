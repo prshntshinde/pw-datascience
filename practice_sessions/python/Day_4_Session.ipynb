{
 "cells": [
  {
   "cell_type": "markdown",
   "id": "c12cbd1e-94a1-40a6-9757-ebb555e2db44",
   "metadata": {},
   "source": [
    "# String List"
   ]
  },
  {
   "cell_type": "code",
   "execution_count": 1,
   "id": "88f1aa53-6bbd-4c5a-862f-eb17f3a130f6",
   "metadata": {},
   "outputs": [],
   "source": [
    "welcome = \"Data Science masters\""
   ]
  },
  {
   "cell_type": "code",
   "execution_count": 2,
   "id": "fc2d5e21-442f-404f-a2e2-6fe4579f742f",
   "metadata": {},
   "outputs": [
    {
     "data": {
      "text/plain": [
       "'Data science masters'"
      ]
     },
     "execution_count": 2,
     "metadata": {},
     "output_type": "execute_result"
    }
   ],
   "source": [
    "welcome.capitalize()"
   ]
  },
  {
   "cell_type": "code",
   "execution_count": 3,
   "id": "96655914-eac5-447a-9011-428ecab3572a",
   "metadata": {},
   "outputs": [
    {
     "data": {
      "text/plain": [
       "'sretsam ecneicS ataD'"
      ]
     },
     "execution_count": 3,
     "metadata": {},
     "output_type": "execute_result"
    }
   ],
   "source": [
    "## Reversing a string\n",
    "\n",
    "welcome[::-1]"
   ]
  },
  {
   "cell_type": "code",
   "execution_count": 4,
   "id": "f82d9400-796f-4024-94a4-a32ea355f18d",
   "metadata": {},
   "outputs": [
    {
     "data": {
      "text/plain": [
       "<reversed at 0x7f9cdbce4820>"
      ]
     },
     "execution_count": 4,
     "metadata": {},
     "output_type": "execute_result"
    }
   ],
   "source": [
    "reversed(welcome)"
   ]
  },
  {
   "cell_type": "code",
   "execution_count": 5,
   "id": "1d7cf0e6-4cdb-43b4-bd9b-e6d3205bcdf6",
   "metadata": {},
   "outputs": [
    {
     "data": {
      "text/plain": [
       "'s r e t s a m   e c n e i c S   a t a D'"
      ]
     },
     "execution_count": 5,
     "metadata": {},
     "output_type": "execute_result"
    }
   ],
   "source": [
    "\" \".join(reversed(welcome))"
   ]
  },
  {
   "cell_type": "code",
   "execution_count": 6,
   "id": "9a3ab89a-6fdc-4e70-bf02-31728f6f3ac7",
   "metadata": {},
   "outputs": [
    {
     "data": {
      "text/plain": [
       "'a'"
      ]
     },
     "execution_count": 6,
     "metadata": {},
     "output_type": "execute_result"
    }
   ],
   "source": [
    "\" \".join(\"a\")"
   ]
  },
  {
   "cell_type": "code",
   "execution_count": 8,
   "id": "8b47366f-170c-4b94-a3a5-7d0dc9a3aa9d",
   "metadata": {},
   "outputs": [
    {
     "name": "stdout",
     "output_type": "stream",
     "text": [
      "sretsam ecneicS ataD"
     ]
    }
   ],
   "source": [
    "for i in iter(reversed(welcome)):\n",
    "    print(i,end=\"\")"
   ]
  },
  {
   "cell_type": "code",
   "execution_count": 9,
   "id": "b7687f18-b2b5-4947-a833-7d15d45e9ef7",
   "metadata": {},
   "outputs": [],
   "source": [
    "# Removing characters from end of string\n",
    "\n",
    "str1 = \" Skills \""
   ]
  },
  {
   "cell_type": "code",
   "execution_count": 10,
   "id": "36b0c621-ea9f-4d48-8ef1-6e839eb704b2",
   "metadata": {},
   "outputs": [
    {
     "data": {
      "text/plain": [
       "'Skills'"
      ]
     },
     "execution_count": 10,
     "metadata": {},
     "output_type": "execute_result"
    }
   ],
   "source": [
    "str1.strip()"
   ]
  },
  {
   "cell_type": "code",
   "execution_count": 12,
   "id": "9074a378-e3a5-4fac-8010-175f9cf460e3",
   "metadata": {},
   "outputs": [
    {
     "data": {
      "text/plain": [
       "'Skills '"
      ]
     },
     "execution_count": 12,
     "metadata": {},
     "output_type": "execute_result"
    }
   ],
   "source": [
    "str1.lstrip()"
   ]
  },
  {
   "cell_type": "code",
   "execution_count": 13,
   "id": "5dcba7cd-a7ef-471d-bb80-361ab2090c04",
   "metadata": {},
   "outputs": [
    {
     "data": {
      "text/plain": [
       "' Skills'"
      ]
     },
     "execution_count": 13,
     "metadata": {},
     "output_type": "execute_result"
    }
   ],
   "source": [
    "str1.rstrip()"
   ]
  },
  {
   "cell_type": "code",
   "execution_count": 16,
   "id": "95b7fc3f-1cbd-43ce-99af-448e5a602b07",
   "metadata": {},
   "outputs": [],
   "source": [
    "greeting = \"Greeting to Skills\""
   ]
  },
  {
   "cell_type": "code",
   "execution_count": 17,
   "id": "8027e2ad-5e47-420b-b276-dfd18c408519",
   "metadata": {},
   "outputs": [
    {
     "data": {
      "text/plain": [
       "140312019222816"
      ]
     },
     "execution_count": 17,
     "metadata": {},
     "output_type": "execute_result"
    }
   ],
   "source": [
    "id(greeting)"
   ]
  },
  {
   "cell_type": "code",
   "execution_count": 21,
   "id": "b04d3a5c-94b1-44f8-b2ac-9a01e40cd4e0",
   "metadata": {},
   "outputs": [
    {
     "name": "stdout",
     "output_type": "stream",
     "text": [
      "Greeting from Skills\n"
     ]
    }
   ],
   "source": [
    "rep_greet =  greeting.replace(\"to\",\"from\")\n",
    "print(rep_greet)"
   ]
  },
  {
   "cell_type": "code",
   "execution_count": 22,
   "id": "8c0d3572-8d02-47b2-822b-d559f252abad",
   "metadata": {},
   "outputs": [
    {
     "data": {
      "text/plain": [
       "140312020695632"
      ]
     },
     "execution_count": 22,
     "metadata": {},
     "output_type": "execute_result"
    }
   ],
   "source": [
    "id(rep_greet)"
   ]
  },
  {
   "cell_type": "code",
   "execution_count": 24,
   "id": "63b0b33d-6c5d-4f87-8d05-8137a1f32c7a",
   "metadata": {},
   "outputs": [
    {
     "data": {
      "text/plain": [
       "'hello   world'"
      ]
     },
     "execution_count": 24,
     "metadata": {},
     "output_type": "execute_result"
    }
   ],
   "source": [
    "\"hello\\tworld\".expandtabs()"
   ]
  },
  {
   "cell_type": "code",
   "execution_count": 25,
   "id": "4e1c1f41-5dd8-4c18-ae29-af13f6ea4261",
   "metadata": {},
   "outputs": [],
   "source": [
    "wel2 = \"Welcome to PWSkills. Welcome to Data Science Masters\""
   ]
  },
  {
   "cell_type": "code",
   "execution_count": 26,
   "id": "dbd9b5f4-a281-4a76-9637-ed23c19662d6",
   "metadata": {},
   "outputs": [
    {
     "data": {
      "text/plain": [
       "'Welcome to  PW Skills. Welcome to Data Science Masters'"
      ]
     },
     "execution_count": 26,
     "metadata": {},
     "output_type": "execute_result"
    }
   ],
   "source": [
    "wel2.replace(\"PWSkills\",\" PW Skills\")"
   ]
  },
  {
   "cell_type": "code",
   "execution_count": 27,
   "id": "bfe249eb-82ad-421e-b821-57a33ba84914",
   "metadata": {},
   "outputs": [
    {
     "data": {
      "text/plain": [
       "False"
      ]
     },
     "execution_count": 27,
     "metadata": {},
     "output_type": "execute_result"
    }
   ],
   "source": [
    "wel2.isupper()"
   ]
  },
  {
   "cell_type": "code",
   "execution_count": 28,
   "id": "b28560cd-0653-4972-b1d9-f87cca943fe7",
   "metadata": {},
   "outputs": [
    {
     "data": {
      "text/plain": [
       "False"
      ]
     },
     "execution_count": 28,
     "metadata": {},
     "output_type": "execute_result"
    }
   ],
   "source": [
    "wel2.islower()"
   ]
  },
  {
   "cell_type": "code",
   "execution_count": 29,
   "id": "4177ba58-5d5b-4120-bf2f-dc18a046e4ba",
   "metadata": {},
   "outputs": [
    {
     "data": {
      "text/plain": [
       "False"
      ]
     },
     "execution_count": 29,
     "metadata": {},
     "output_type": "execute_result"
    }
   ],
   "source": [
    "wel2.isalpha()"
   ]
  },
  {
   "cell_type": "code",
   "execution_count": 31,
   "id": "507c60b5-6627-47c2-9f89-acca2214201d",
   "metadata": {},
   "outputs": [
    {
     "data": {
      "text/plain": [
       "True"
      ]
     },
     "execution_count": 31,
     "metadata": {},
     "output_type": "execute_result"
    }
   ],
   "source": [
    "\" \".isspace()"
   ]
  },
  {
   "cell_type": "code",
   "execution_count": 32,
   "id": "96aee367-35bb-4dd9-87b8-edb323d58743",
   "metadata": {},
   "outputs": [
    {
     "data": {
      "text/plain": [
       "True"
      ]
     },
     "execution_count": 32,
     "metadata": {},
     "output_type": "execute_result"
    }
   ],
   "source": [
    "\"pra\".isalpha()"
   ]
  },
  {
   "cell_type": "code",
   "execution_count": 34,
   "id": "312268e0-d5e2-4e36-8ae6-86dd66d09b4e",
   "metadata": {},
   "outputs": [
    {
     "data": {
      "text/plain": [
       "True"
      ]
     },
     "execution_count": 34,
     "metadata": {},
     "output_type": "execute_result"
    }
   ],
   "source": [
    "wel2.endswith(\"s\")"
   ]
  },
  {
   "cell_type": "code",
   "execution_count": 35,
   "id": "93a604ca-18ef-47b0-9ef7-a613944b69c5",
   "metadata": {},
   "outputs": [
    {
     "data": {
      "text/plain": [
       "True"
      ]
     },
     "execution_count": 35,
     "metadata": {},
     "output_type": "execute_result"
    }
   ],
   "source": [
    "wel2.startswith(\"Welcome\")"
   ]
  },
  {
   "cell_type": "code",
   "execution_count": 44,
   "id": "4ed4892b-98d4-43a4-a240-333393d50a07",
   "metadata": {},
   "outputs": [
    {
     "name": "stdout",
     "output_type": "stream",
     "text": [
      "sretsaM ecneicS ataD ot emocleW .sllikSWP ot emocleW"
     ]
    }
   ],
   "source": [
    "# Reverse string using index\n",
    "\n",
    "i = len(wel2) - 1\n",
    "\n",
    "while(i >= 0):\n",
    "    print(wel2[i], end=\"\")\n",
    "    i = i-1"
   ]
  },
  {
   "cell_type": "code",
   "execution_count": 49,
   "id": "4a61e638-5e8e-46a2-a21a-b2a7047e6a78",
   "metadata": {},
   "outputs": [
    {
     "name": "stdout",
     "output_type": "stream",
     "text": [
      "sretsaM ecneicS ataD ot emocleW .sllikSWP ot emocleW"
     ]
    }
   ],
   "source": [
    "# Another approach\n",
    "\n",
    "for i in range(len(wel2)-1,-1,-1):\n",
    "    print(wel2[i], end=\"\")"
   ]
  },
  {
   "cell_type": "code",
   "execution_count": 50,
   "id": "738812f3-cffa-4695-a8a3-eb001d2c7c1c",
   "metadata": {},
   "outputs": [],
   "source": [
    "name = \"Prashant\"\n",
    "vowels = \"AEIOUaeiou\""
   ]
  },
  {
   "cell_type": "code",
   "execution_count": 54,
   "id": "0b294236-cd6b-446a-85a5-16ebdf372957",
   "metadata": {},
   "outputs": [
    {
     "name": "stdout",
     "output_type": "stream",
     "text": [
      "P is NOT a vowel.\n",
      "r is NOT a vowel.\n",
      "a is a vovel\n",
      "s is NOT a vowel.\n",
      "h is NOT a vowel.\n",
      "a is a vovel\n",
      "n is NOT a vowel.\n",
      "t is NOT a vowel.\n"
     ]
    }
   ],
   "source": [
    "for ch in name:\n",
    "    if ch in vowels:\n",
    "        print(\"{} is a vovel\".format(ch))\n",
    "    else:\n",
    "        print(\"{} is NOT a vowel.\".format(ch))"
   ]
  },
  {
   "cell_type": "markdown",
   "id": "1bc18ac4-65a0-4615-839d-212f8b8c2d79",
   "metadata": {},
   "source": [
    "# List"
   ]
  },
  {
   "cell_type": "code",
   "execution_count": 55,
   "id": "68b1c425-02d7-44e7-a906-cb752280b920",
   "metadata": {},
   "outputs": [
    {
     "data": {
      "text/plain": [
       "list"
      ]
     },
     "execution_count": 55,
     "metadata": {},
     "output_type": "execute_result"
    }
   ],
   "source": [
    "type([])"
   ]
  },
  {
   "cell_type": "code",
   "execution_count": 56,
   "id": "faf30208-6b7b-42b7-9f86-c440e2a7ed22",
   "metadata": {},
   "outputs": [],
   "source": [
    "lst = [\"Prashant\",\"Curiosity\",\"Magma\",\"Fire\",10]"
   ]
  },
  {
   "cell_type": "code",
   "execution_count": 58,
   "id": "b401707d-3d8f-42c3-a155-df9c1a99a716",
   "metadata": {},
   "outputs": [
    {
     "data": {
      "text/plain": [
       "['Welcome', 'to', 'PWSkills.', 'Welcome', 'to', 'Data', 'Science', 'Masters']"
      ]
     },
     "execution_count": 58,
     "metadata": {},
     "output_type": "execute_result"
    }
   ],
   "source": [
    "lst2 = wel2.split(\" \")\n",
    "lst2"
   ]
  },
  {
   "cell_type": "code",
   "execution_count": 59,
   "id": "0125f911-a327-4594-a2f4-de4f9e010b5c",
   "metadata": {},
   "outputs": [
    {
     "data": {
      "text/plain": [
       "['to', 'PWSkills.']"
      ]
     },
     "execution_count": 59,
     "metadata": {},
     "output_type": "execute_result"
    }
   ],
   "source": [
    "lst2[1:3]"
   ]
  },
  {
   "cell_type": "code",
   "execution_count": 60,
   "id": "a73cd4c7-c7d7-4b93-81e4-e3540fce07fa",
   "metadata": {},
   "outputs": [],
   "source": [
    "lst2[2] = \"PWSkills\""
   ]
  },
  {
   "cell_type": "code",
   "execution_count": 61,
   "id": "15bb7fce-a081-4f52-8d33-93c0c9929d56",
   "metadata": {},
   "outputs": [
    {
     "data": {
      "text/plain": [
       "['Welcome', 'to', 'PWSkills', 'Welcome', 'to', 'Data', 'Science', 'Masters']"
      ]
     },
     "execution_count": 61,
     "metadata": {},
     "output_type": "execute_result"
    }
   ],
   "source": [
    "lst2"
   ]
  },
  {
   "cell_type": "code",
   "execution_count": 62,
   "id": "429e571a-76f2-4285-95bf-664464c559f8",
   "metadata": {},
   "outputs": [
    {
     "data": {
      "text/plain": [
       "['Prashant',\n",
       " 'Curiosity',\n",
       " 'Magma',\n",
       " 'Fire',\n",
       " 10,\n",
       " 'Welcome',\n",
       " 'to',\n",
       " 'PWSkills',\n",
       " 'Welcome',\n",
       " 'to',\n",
       " 'Data',\n",
       " 'Science',\n",
       " 'Masters']"
      ]
     },
     "execution_count": 62,
     "metadata": {},
     "output_type": "execute_result"
    }
   ],
   "source": [
    "lst + lst2"
   ]
  },
  {
   "cell_type": "code",
   "execution_count": 63,
   "id": "c78d6778-08e6-4041-a25c-a3c7ea151267",
   "metadata": {},
   "outputs": [
    {
     "data": {
      "text/plain": [
       "['Welcome',\n",
       " 'to',\n",
       " 'PWSkills',\n",
       " 'Welcome',\n",
       " 'to',\n",
       " 'Data',\n",
       " 'Science',\n",
       " 'Masters',\n",
       " 'ML',\n",
       " 'DL']"
      ]
     },
     "execution_count": 63,
     "metadata": {},
     "output_type": "execute_result"
    }
   ],
   "source": [
    "lst2 + [\"ML\",\"DL\"]"
   ]
  },
  {
   "cell_type": "code",
   "execution_count": 64,
   "id": "ae14b5b3-30c8-438d-8252-40a5fc7140c3",
   "metadata": {},
   "outputs": [],
   "source": [
    "lst2 = lst + [[\"gNa\",\"Man\"]]"
   ]
  },
  {
   "cell_type": "code",
   "execution_count": 65,
   "id": "b8dda539-7d66-4988-a497-1d89d9c41868",
   "metadata": {},
   "outputs": [
    {
     "data": {
      "text/plain": [
       "'gNa'"
      ]
     },
     "execution_count": 65,
     "metadata": {},
     "output_type": "execute_result"
    }
   ],
   "source": [
    "lst2[-1][0]"
   ]
  },
  {
   "cell_type": "code",
   "execution_count": 66,
   "id": "d35715df-5fec-4e7f-a68a-08109a11a4a4",
   "metadata": {},
   "outputs": [
    {
     "data": {
      "text/plain": [
       "'Man'"
      ]
     },
     "execution_count": 66,
     "metadata": {},
     "output_type": "execute_result"
    }
   ],
   "source": [
    "lst2[-1][1]"
   ]
  },
  {
   "cell_type": "code",
   "execution_count": 71,
   "id": "34417a0f-1e1d-4d9f-9086-198d5278bf6c",
   "metadata": {},
   "outputs": [
    {
     "data": {
      "text/plain": [
       "['Prashant', 'Curiosity', 'Magma', 'Fire', 10, ['gNa', 'Man']]"
      ]
     },
     "execution_count": 71,
     "metadata": {},
     "output_type": "execute_result"
    }
   ],
   "source": [
    "lst2"
   ]
  },
  {
   "cell_type": "code",
   "execution_count": 73,
   "id": "7d87367c-d9bc-4ee7-a1e5-081a07f97021",
   "metadata": {},
   "outputs": [
    {
     "name": "stdout",
     "output_type": "stream",
     "text": [
      "Prashant\n",
      "Curiosity\n"
     ]
    }
   ],
   "source": [
    "# Task - if science present in list stop and come out\n",
    "\n",
    "# Logic\n",
    "for i in range(len(lst2)):\n",
    "    if lst2[i] == \"Magma\":\n",
    "        break\n",
    "    else:\n",
    "        print(lst2[i])"
   ]
  },
  {
   "cell_type": "code",
   "execution_count": 75,
   "id": "5f4fc89b-68cb-47c1-bc70-c97402d58741",
   "metadata": {},
   "outputs": [],
   "source": [
    "num_list = [1,2,3,4]"
   ]
  },
  {
   "cell_type": "code",
   "execution_count": 76,
   "id": "8b471c9c-bad8-4a95-8e9f-77d5ae35ddaf",
   "metadata": {},
   "outputs": [
    {
     "data": {
      "text/plain": [
       "True"
      ]
     },
     "execution_count": 76,
     "metadata": {},
     "output_type": "execute_result"
    }
   ],
   "source": [
    "4 in num_list"
   ]
  },
  {
   "cell_type": "code",
   "execution_count": 78,
   "id": "64c8e33f-883c-44b1-9a27-e4966bcec780",
   "metadata": {},
   "outputs": [
    {
     "data": {
      "text/plain": [
       "False"
      ]
     },
     "execution_count": 78,
     "metadata": {},
     "output_type": "execute_result"
    }
   ],
   "source": [
    "5 in num_list"
   ]
  },
  {
   "cell_type": "code",
   "execution_count": 79,
   "id": "29831285-aa45-4c95-95b8-86a65b3cc439",
   "metadata": {},
   "outputs": [],
   "source": [
    "animals = [\"Zebra\",\"Monkey\",\"Donkey\",\"Lion\"]\n",
    "numbers = [5,7,3,2,7,5,9,3,2,6,7,1]"
   ]
  },
  {
   "cell_type": "code",
   "execution_count": 80,
   "id": "46f09f21-071d-4c81-97c4-24d5a5274df8",
   "metadata": {},
   "outputs": [
    {
     "data": {
      "text/plain": [
       "'Zebra'"
      ]
     },
     "execution_count": 80,
     "metadata": {},
     "output_type": "execute_result"
    }
   ],
   "source": [
    "max(animals)"
   ]
  },
  {
   "cell_type": "code",
   "execution_count": 81,
   "id": "50fcf5be-ae8d-4b13-bf3e-b7cceb4a3421",
   "metadata": {},
   "outputs": [
    {
     "data": {
      "text/plain": [
       "9"
      ]
     },
     "execution_count": 81,
     "metadata": {},
     "output_type": "execute_result"
    }
   ],
   "source": [
    "max(numbers)"
   ]
  },
  {
   "cell_type": "code",
   "execution_count": 82,
   "id": "25d04b1e-b5e0-4381-93d6-3fb9ae56aa2d",
   "metadata": {},
   "outputs": [
    {
     "data": {
      "text/plain": [
       "'Donkey'"
      ]
     },
     "execution_count": 82,
     "metadata": {},
     "output_type": "execute_result"
    }
   ],
   "source": [
    "min(animals)"
   ]
  },
  {
   "cell_type": "code",
   "execution_count": 83,
   "id": "7c384b61-6a06-4cc4-98c6-c095f121bc47",
   "metadata": {},
   "outputs": [
    {
     "data": {
      "text/plain": [
       "1"
      ]
     },
     "execution_count": 83,
     "metadata": {},
     "output_type": "execute_result"
    }
   ],
   "source": [
    "min(numbers)"
   ]
  },
  {
   "cell_type": "code",
   "execution_count": 84,
   "id": "e263855b-a0f8-4076-b362-38664d100ad8",
   "metadata": {},
   "outputs": [],
   "source": [
    "# Append\n",
    "\n",
    "beta = [1,2,3,4,5]"
   ]
  },
  {
   "cell_type": "code",
   "execution_count": 91,
   "id": "a3638b19-010d-4aa0-ba52-a0582793c847",
   "metadata": {},
   "outputs": [],
   "source": [
    "beta.append([\"Skills\",\"DS\"])"
   ]
  },
  {
   "cell_type": "code",
   "execution_count": 92,
   "id": "5bb063ea-4a17-48bb-ab9d-967872f656d8",
   "metadata": {},
   "outputs": [
    {
     "data": {
      "text/plain": [
       "[1,\n",
       " 2,\n",
       " 3,\n",
       " 4,\n",
       " 5,\n",
       " ['Skills', 'DS'],\n",
       " ['Skills', 'DS'],\n",
       " ['Skills', 'DS'],\n",
       " ['Skills', 'DS']]"
      ]
     },
     "execution_count": 92,
     "metadata": {},
     "output_type": "execute_result"
    }
   ],
   "source": [
    "beta"
   ]
  },
  {
   "cell_type": "code",
   "execution_count": 99,
   "id": "d4cadc0f-c9e7-4668-b496-3ba42af6ab06",
   "metadata": {},
   "outputs": [
    {
     "data": {
      "text/plain": [
       "['Skills', 'DS']"
      ]
     },
     "execution_count": 99,
     "metadata": {},
     "output_type": "execute_result"
    }
   ],
   "source": [
    "beta.pop(5)"
   ]
  },
  {
   "cell_type": "code",
   "execution_count": 100,
   "id": "80ad5c0a-1fd8-4e5f-bd24-c355d3ee2853",
   "metadata": {},
   "outputs": [
    {
     "data": {
      "text/plain": [
       "[1, 2, 3, 4, 5, ['Skills', 'DS']]"
      ]
     },
     "execution_count": 100,
     "metadata": {},
     "output_type": "execute_result"
    }
   ],
   "source": [
    "beta"
   ]
  },
  {
   "cell_type": "code",
   "execution_count": 101,
   "id": "6432ce80-d0d1-40d9-ab06-ad36a525ff36",
   "metadata": {},
   "outputs": [],
   "source": [
    "# Sorting and reverse method in list\n",
    "\n",
    "char_list = [\"q\",\"e\",\"f\",\"s\",\"t\",\"u\"]\n"
   ]
  },
  {
   "cell_type": "code",
   "execution_count": 102,
   "id": "8dddc4e8-ef0e-46b3-9b70-d4e80296d07c",
   "metadata": {},
   "outputs": [],
   "source": [
    "## In place operation\n",
    "char_list.reverse()"
   ]
  },
  {
   "cell_type": "code",
   "execution_count": 103,
   "id": "d627a761-1d03-4593-a13e-9d45add893c6",
   "metadata": {},
   "outputs": [
    {
     "data": {
      "text/plain": [
       "['u', 't', 's', 'f', 'e', 'q']"
      ]
     },
     "execution_count": 103,
     "metadata": {},
     "output_type": "execute_result"
    }
   ],
   "source": [
    "char_list"
   ]
  },
  {
   "cell_type": "code",
   "execution_count": 104,
   "id": "d52390a4-6c8f-403a-8e7d-ae801be17db1",
   "metadata": {},
   "outputs": [],
   "source": [
    "char_list.sort()"
   ]
  },
  {
   "cell_type": "code",
   "execution_count": 105,
   "id": "6013ba22-3f97-407a-aeed-9db8c0066442",
   "metadata": {},
   "outputs": [
    {
     "data": {
      "text/plain": [
       "['e', 'f', 'q', 's', 't', 'u']"
      ]
     },
     "execution_count": 105,
     "metadata": {},
     "output_type": "execute_result"
    }
   ],
   "source": [
    "char_list"
   ]
  },
  {
   "cell_type": "code",
   "execution_count": 107,
   "id": "7aba6c56-98f1-4bba-b9ba-6d793cc74c74",
   "metadata": {},
   "outputs": [],
   "source": [
    "char_list.append([\"z\",\"p\"])"
   ]
  },
  {
   "cell_type": "code",
   "execution_count": 108,
   "id": "e7356e1e-6533-455c-8bb5-9116449eb9ff",
   "metadata": {},
   "outputs": [
    {
     "data": {
      "text/plain": [
       "['e', 'f', 'q', 's', 't', 'u', ['z', 'p'], ['z', 'p']]"
      ]
     },
     "execution_count": 108,
     "metadata": {},
     "output_type": "execute_result"
    }
   ],
   "source": [
    "char_list"
   ]
  },
  {
   "cell_type": "code",
   "execution_count": 109,
   "id": "ee04e412-f887-45d3-988c-7685ecd02b2c",
   "metadata": {},
   "outputs": [
    {
     "data": {
      "text/plain": [
       "[1, 2, 3, 4]"
      ]
     },
     "execution_count": 109,
     "metadata": {},
     "output_type": "execute_result"
    }
   ],
   "source": [
    "num_list"
   ]
  },
  {
   "cell_type": "code",
   "execution_count": 110,
   "id": "e730ab8f-d727-43e4-89ec-7418ded34667",
   "metadata": {},
   "outputs": [],
   "source": [
    "num_list.append([\"z\",\"p\"])"
   ]
  },
  {
   "cell_type": "code",
   "execution_count": 111,
   "id": "e01a594e-6064-494b-898d-40212da9305b",
   "metadata": {},
   "outputs": [
    {
     "data": {
      "text/plain": [
       "[1, 2, 3, 4, ['z', 'p']]"
      ]
     },
     "execution_count": 111,
     "metadata": {},
     "output_type": "execute_result"
    }
   ],
   "source": [
    "num_list"
   ]
  },
  {
   "cell_type": "code",
   "execution_count": 112,
   "id": "0da47ec0-d3ec-4d63-80b8-533803eeda0d",
   "metadata": {},
   "outputs": [],
   "source": [
    "# add 2 elements at once\n",
    "\n",
    "num_list.extend([\"z\",\"p\"])"
   ]
  },
  {
   "cell_type": "code",
   "execution_count": 113,
   "id": "6d77b7a7-4640-4033-8e82-3a5fdfe99ece",
   "metadata": {},
   "outputs": [
    {
     "data": {
      "text/plain": [
       "[1, 2, 3, 4, ['z', 'p'], 'z', 'p']"
      ]
     },
     "execution_count": 113,
     "metadata": {},
     "output_type": "execute_result"
    }
   ],
   "source": [
    "num_list"
   ]
  },
  {
   "cell_type": "markdown",
   "id": "447f11c1-fa26-4f5b-9b39-db8625723b0f",
   "metadata": {
    "tags": []
   },
   "source": [
    "## Nested List"
   ]
  },
  {
   "cell_type": "code",
   "execution_count": 114,
   "id": "2573750b-b619-4a0f-9b1a-f11d5471bcc9",
   "metadata": {},
   "outputs": [
    {
     "name": "stdout",
     "output_type": "stream",
     "text": [
      "[[1, 2, 3], [4, 5, 6], [7, 8, 9]]\n"
     ]
    }
   ],
   "source": [
    "l1 = [1,2,3]\n",
    "l2 = [4,5,6]\n",
    "l3 = [7,8,9]\n",
    "\n",
    "matrix = [l1,l2,l3]\n",
    "print(matrix)"
   ]
  },
  {
   "cell_type": "code",
   "execution_count": 115,
   "id": "90de8e19-9e04-4629-bbfc-c67835cf638c",
   "metadata": {},
   "outputs": [
    {
     "data": {
      "text/plain": [
       "[4, 5, 6]"
      ]
     },
     "execution_count": 115,
     "metadata": {},
     "output_type": "execute_result"
    }
   ],
   "source": [
    "matrix[1]"
   ]
  },
  {
   "cell_type": "code",
   "execution_count": 116,
   "id": "d56a701f-d3d1-4835-8cf7-ae750b3bfc22",
   "metadata": {},
   "outputs": [
    {
     "data": {
      "text/plain": [
       "9"
      ]
     },
     "execution_count": 116,
     "metadata": {},
     "output_type": "execute_result"
    }
   ],
   "source": [
    "matrix[2][2]"
   ]
  },
  {
   "cell_type": "code",
   "execution_count": 156,
   "id": "d798705c-fddd-45fd-a9e3-efb3724b1885",
   "metadata": {},
   "outputs": [],
   "source": [
    "# List Comprehension"
   ]
  },
  {
   "cell_type": "code",
   "execution_count": 158,
   "id": "0ffca438-d28d-4c2b-8b34-4d172fb5ed9a",
   "metadata": {},
   "outputs": [
    {
     "data": {
      "text/plain": [
       "[0, 1, 2, 3, 4, 5, 6, 7, 8, 9, 10, 11, 12, 13, 14, 15, 16, 17, 18, 19]"
      ]
     },
     "execution_count": 158,
     "metadata": {},
     "output_type": "execute_result"
    }
   ],
   "source": [
    "[i for i in range(20)]"
   ]
  },
  {
   "cell_type": "code",
   "execution_count": 160,
   "id": "41e85dd7-9b69-4364-9a86-dfdf2272b26f",
   "metadata": {},
   "outputs": [
    {
     "data": {
      "text/plain": [
       "[0, 2, 4, 6, 8, 10, 12, 14, 16, 18]"
      ]
     },
     "execution_count": 160,
     "metadata": {},
     "output_type": "execute_result"
    }
   ],
   "source": [
    "# Even Numbers\n",
    "[i for i in range(20) if i%2 == 0]"
   ]
  },
  {
   "cell_type": "code",
   "execution_count": 167,
   "id": "e496d704-8e95-4b89-ac42-e53402255123",
   "metadata": {},
   "outputs": [
    {
     "data": {
      "text/plain": [
       "[0,\n",
       " 'Odd',\n",
       " 2,\n",
       " 'Odd',\n",
       " 4,\n",
       " 'Odd',\n",
       " 6,\n",
       " 'Odd',\n",
       " 8,\n",
       " 'Odd',\n",
       " 10,\n",
       " 'Odd',\n",
       " 12,\n",
       " 'Odd',\n",
       " 14,\n",
       " 'Odd',\n",
       " 16,\n",
       " 'Odd',\n",
       " 18,\n",
       " 'Odd']"
      ]
     },
     "execution_count": 167,
     "metadata": {},
     "output_type": "execute_result"
    }
   ],
   "source": [
    "# Another approach\n",
    "[ i if i%2 == 0 else \"Odd\" for i in range(20)]"
   ]
  },
  {
   "cell_type": "code",
   "execution_count": 10,
   "id": "9a209952-d1f8-4e2a-9aa1-789eb13f7ea0",
   "metadata": {},
   "outputs": [],
   "source": [
    "# Assignment\n",
    "## Sum of even numbers and odd numbers\n",
    "numbers = [1,2,3,4,5,6,7,8]"
   ]
  },
  {
   "cell_type": "code",
   "execution_count": 11,
   "id": "5daf4684-ef37-4a0d-a2cf-3c639ed88dad",
   "metadata": {},
   "outputs": [
    {
     "name": "stdout",
     "output_type": "stream",
     "text": [
      "20 16\n"
     ]
    }
   ],
   "source": [
    "# using normal approach\n",
    "\n",
    "even_sum = 0\n",
    "odd_sum = 0\n",
    "\n",
    "for i in numbers:\n",
    "    if i%2 == 0:\n",
    "        even_sum = even_sum +i\n",
    "    else:\n",
    "        odd_sum = odd_sum  + i\n",
    "\n",
    "print(even_sum,odd_sum)"
   ]
  },
  {
   "cell_type": "code",
   "execution_count": 15,
   "id": "cade6324-117e-4690-97b1-99c07e55e6a0",
   "metadata": {},
   "outputs": [
    {
     "data": {
      "text/plain": [
       "20"
      ]
     },
     "execution_count": 15,
     "metadata": {},
     "output_type": "execute_result"
    }
   ],
   "source": [
    "# Using List comprehension approach\n",
    "\n",
    "sum([num for num in numbers if num%2==0])"
   ]
  },
  {
   "cell_type": "code",
   "execution_count": 17,
   "id": "29db4230-5e7c-46c3-b5d1-16c49232b586",
   "metadata": {},
   "outputs": [
    {
     "data": {
      "text/plain": [
       "16"
      ]
     },
     "execution_count": 17,
     "metadata": {},
     "output_type": "execute_result"
    }
   ],
   "source": [
    "sum([num for num in numbers if num%2!=0])"
   ]
  },
  {
   "cell_type": "code",
   "execution_count": 19,
   "id": "b43011cc-786c-4d62-8db5-e29699d4b9e6",
   "metadata": {},
   "outputs": [
    {
     "data": {
      "text/plain": [
       "[0, 1, 2, 3]"
      ]
     },
     "execution_count": 19,
     "metadata": {},
     "output_type": "execute_result"
    }
   ],
   "source": [
    "# List of only positive numbers\n",
    "numbers = [-2,-1,0,1,2,3]\n",
    "\n",
    "[num for num in numbers if num>=0]"
   ]
  },
  {
   "cell_type": "code",
   "execution_count": 21,
   "id": "11c500fe-4a33-478d-a6da-be6fe3e45971",
   "metadata": {},
   "outputs": [
    {
     "data": {
      "text/plain": [
       "['M', 'A', 'B', 'P', 'J']"
      ]
     },
     "execution_count": 21,
     "metadata": {},
     "output_type": "execute_result"
    }
   ],
   "source": [
    "# list of first letter of word in list\n",
    "fruits = [\"Mango\",\"Apple\",\"Banana\",\"Papaya\",\"Jackfruit\"]\n",
    "\n",
    "[ch[:1] for ch in fruits]"
   ]
  },
  {
   "cell_type": "code",
   "execution_count": 22,
   "id": "588f4b15-fa14-404f-81da-4afbfd2e4de5",
   "metadata": {},
   "outputs": [
    {
     "data": {
      "text/plain": [
       "[32.0, 50.0, 73.4, 89.6, 98.60000000000001, 104.0, 122.0]"
      ]
     },
     "execution_count": 22,
     "metadata": {},
     "output_type": "execute_result"
    }
   ],
   "source": [
    "# Formula to convert celcius to farenhiet\n",
    "#(9/5) * temp_in_celcius + 32\n",
    "\n",
    "cel_temperature = [0,10,23,32,37,40,50]\n",
    "\n",
    "[(9/5) * cel_temp + 32 for cel_temp in cel_temperature]"
   ]
  },
  {
   "cell_type": "code",
   "execution_count": 53,
   "id": "1e115c5a-db1b-48c4-bdd2-fed50386f072",
   "metadata": {},
   "outputs": [
    {
     "data": {
      "text/plain": [
       "[1, 2, 3, 4, 5, 6, 7, 8, 9]"
      ]
     },
     "execution_count": 53,
     "metadata": {},
     "output_type": "execute_result"
    }
   ],
   "source": [
    "# Flatten a list of list into a single list\n",
    "lst_in_lst = [[1,2,3],[4,5,6],[7,8,9]]\n",
    "\n",
    "[num for sublist in lst_in_lst for num in sublist]"
   ]
  },
  {
   "cell_type": "code",
   "execution_count": null,
   "id": "b769aa4e-be6b-4bb7-b760-6391915bad1e",
   "metadata": {},
   "outputs": [],
   "source": []
  },
  {
   "cell_type": "code",
   "execution_count": 56,
   "id": "da35c7a9-4dfd-4f7d-9b61-c54d0403cbb7",
   "metadata": {},
   "outputs": [],
   "source": [
    "# Assignment\n",
    "## Using both code and List Comprehension\n",
    "\n",
    "# Question 1\n",
    "# Create a list of only prime numbers form a given list\n",
    "\n",
    "numbers = [1,2,3,4,5,6,7,8,9,10]"
   ]
  },
  {
   "cell_type": "code",
   "execution_count": 78,
   "id": "09936afe-136b-432d-beb2-92df17c1b420",
   "metadata": {},
   "outputs": [
    {
     "ename": "SyntaxError",
     "evalue": "invalid syntax (3448196585.py, line 6)",
     "output_type": "error",
     "traceback": [
      "\u001b[0;36m  Cell \u001b[0;32mIn[78], line 6\u001b[0;36m\u001b[0m\n\u001b[0;31m    count = count--\u001b[0m\n\u001b[0m                   ^\u001b[0m\n\u001b[0;31mSyntaxError\u001b[0m\u001b[0;31m:\u001b[0m invalid syntax\n"
     ]
    }
   ],
   "source": [
    "# Normal Code approach\n",
    "count = 0\n",
    "for num in numbers:\n",
    "    while count < max(numbers):\n",
    "        print(num)\n",
    "        count = count--\n",
    "\n",
    "#prime_numbers = [num for num in numbers]\n",
    "#prime_numbers"
   ]
  },
  {
   "cell_type": "code",
   "execution_count": 55,
   "id": "c7039e5b-6df5-41a9-88bf-11043f52fc2b",
   "metadata": {},
   "outputs": [],
   "source": [
    "# Question 2\n",
    "# Create a list of all positive combinmations of 2 elements from a list\n",
    "\n",
    "numbers = [1,2,3,4,5]"
   ]
  },
  {
   "cell_type": "code",
   "execution_count": null,
   "id": "4881316b-c609-4b20-bf62-6c49a4ed3ba5",
   "metadata": {},
   "outputs": [],
   "source": []
  }
 ],
 "metadata": {
  "kernelspec": {
   "display_name": "Python 3 (ipykernel)",
   "language": "python",
   "name": "python3"
  },
  "language_info": {
   "codemirror_mode": {
    "name": "ipython",
    "version": 3
   },
   "file_extension": ".py",
   "mimetype": "text/x-python",
   "name": "python",
   "nbconvert_exporter": "python",
   "pygments_lexer": "ipython3",
   "version": "3.10.8"
  }
 },
 "nbformat": 4,
 "nbformat_minor": 5
}
