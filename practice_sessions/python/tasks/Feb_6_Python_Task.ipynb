{
 "cells": [
  {
   "attachments": {},
   "cell_type": "markdown",
   "metadata": {},
   "source": [
    "#### Q1. Create a function which will take a list as an argument and return the product of all the numbers after creating a flat list.\n",
    "Use the below-given list as an argument for your function.\n",
    "list1 = [1,2,3,4, [44,55,66, True], False, (34,56,78,89,34), {1,2,3,3,2,1}, {1:34, \"key2\": [55, 67, 78, 89], 4: (45,\n",
    "22, 61, 34)}, [56, 'data science'], 'Machine Learning']\n",
    "\n",
    "###### Note: you must extract numeric keys and values of the dictionary also.\n"
   ]
  },
  {
   "cell_type": "code",
   "execution_count": 20,
   "metadata": {},
   "outputs": [],
   "source": [
    "def product(input_list):\n",
    "    product_of_nums = 1\n",
    "    temp_list = []\n",
    "    for item in input_list:\n",
    "        if type(item) == int:\n",
    "            temp_list.append(item)\n",
    "        elif type(item) == dict:\n",
    "            dict_keys = list(item.keys())\n",
    "            dict_values = list(item.values())\n",
    "            for key in dict_keys:\n",
    "                if type(key) == int:\n",
    "                    temp_list.append(key)\n",
    "            for value in dict_values:\n",
    "                if type(value) == int:\n",
    "                    temp_list.append(value)\n",
    "        elif type(item) != bool and type(item) != dict:\n",
    "            for i in item:\n",
    "                if type(i) == int:\n",
    "                    temp_list.append(i)\n",
    "    for num in temp_list:\n",
    "        product_of_nums *= num\n",
    "    return product_of_nums\n",
    "\n",
    "\n",
    "list1 = [1, 2, 3, 4, [44, 55, 66, True], False, (34, 56, 78, 89, 34), {1, 2, 3, 3, 2, 1}, {1: 34, \"key2\": [55, 67, 78, 89], 4: (45,\n",
    "                                                                                                                                22, 61, 34)}, [56, 'data science'], 'Machine Learning']\n"
   ]
  },
  {
   "cell_type": "code",
   "execution_count": 21,
   "metadata": {},
   "outputs": [
    {
     "data": {
      "text/plain": [
       "78718933113238978560"
      ]
     },
     "execution_count": 21,
     "metadata": {},
     "output_type": "execute_result"
    }
   ],
   "source": [
    "product(list1)\n"
   ]
  },
  {
   "attachments": {},
   "cell_type": "markdown",
   "metadata": {},
   "source": [
    "#### Q2. Write a python program for encrypting a message sent to you by your friend. The logic of encryption should be such that, for a the output should be z. For b, the output should be y. For c, the output should be x respectively. Also, the whitespace should be replaced with a dollar sign. Keep the punctuation marks unchanged.\n",
    "\n",
    "- Input Sentence: I want to become a Data Scientist.\n",
    "\n",
    "Encrypt the above input sentence using the program you just created.\n",
    "\n",
    "###### Note: Convert the given input sentence into lowercase before encrypting. The final output should be lowercase."
   ]
  },
  {
   "cell_type": "code",
   "execution_count": 55,
   "metadata": {},
   "outputs": [],
   "source": [
    "#input_str = \"I want to become a Data Scientist.\"\n",
    "\n",
    "def encrypt(input_string):\n",
    "    # Lowered the case of the input string\n",
    "    encrypted_string = input_string.lower()\n",
    "    encrypted_string = encrypted_string.replace(\" \", \"$\")\n",
    "\n",
    "    encode_dict = {97:122, 98:121,99:120,100:119,101:118,102:117,103:116,104:115,105:114,106:113,107:112,108:111,109:110,110:109,111:108,112:107,113:106,114:105,115:104,116:103,117:102,118:101,119:100,120:99,121:98,122:97}\n",
    "\n",
    "    # Encryption logic\n",
    "    encrypted_string = encrypted_string.translate(encode_dict)\n",
    "\n",
    "    return encrypted_string\n"
   ]
  },
  {
   "cell_type": "code",
   "execution_count": 58,
   "metadata": {},
   "outputs": [
    {
     "name": "stdout",
     "output_type": "stream",
     "text": [
      "r$dzmg$gl$yvxlnv$z$wzgz$hxrvmgrhg.\n"
     ]
    }
   ],
   "source": [
    "print(encrypt(\"I want to become a Data Scientist.\"))\n"
   ]
  },
  {
   "cell_type": "code",
   "execution_count": 50,
   "metadata": {},
   "outputs": [
    {
     "data": {
      "text/plain": [
       "122"
      ]
     },
     "execution_count": 50,
     "metadata": {},
     "output_type": "execute_result"
    }
   ],
   "source": [
    "#ord(\"a\")\n",
    "ord(\"z\")"
   ]
  },
  {
   "cell_type": "code",
   "execution_count": null,
   "metadata": {},
   "outputs": [],
   "source": []
  }
 ],
 "metadata": {
  "kernelspec": {
   "display_name": "Python 3",
   "language": "python",
   "name": "python3"
  },
  "language_info": {
   "codemirror_mode": {
    "name": "ipython",
    "version": 3
   },
   "file_extension": ".py",
   "mimetype": "text/x-python",
   "name": "python",
   "nbconvert_exporter": "python",
   "pygments_lexer": "ipython3",
   "version": "3.10.10"
  },
  "orig_nbformat": 4
 },
 "nbformat": 4,
 "nbformat_minor": 2
}
