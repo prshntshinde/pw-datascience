{
 "cells": [
  {
   "attachments": {},
   "cell_type": "markdown",
   "metadata": {},
   "source": [
    "Q1, Create a vehicle class with an init method having instance variables as name_of_vehicle, max_speed\n",
    "and average_of_vehicle."
   ]
  },
  {
   "cell_type": "code",
   "execution_count": 1,
   "metadata": {},
   "outputs": [],
   "source": [
    "class Vehicle:\n",
    "\n",
    "    def __init__(self, name_of_vehicle, max_speed, average_of_vehicle):\n",
    "        self.name_of_vehicle = name_of_vehicle\n",
    "        self.max_speed = max_speed\n",
    "        self.average_of_vehicle = average_of_vehicle\n"
   ]
  },
  {
   "attachments": {},
   "cell_type": "markdown",
   "metadata": {},
   "source": [
    "Q2. Create a child class car from the vehicle class created in Que 1, which will inherit the vehicle class.\n",
    "Create a method named seating_capacity which takes capacity as an argument and returns the name of\n",
    "the vehicle and its seating capacity.\n"
   ]
  },
  {
   "cell_type": "code",
   "execution_count": 2,
   "metadata": {},
   "outputs": [],
   "source": [
    "class Car(Vehicle):\n",
    "\n",
    "    def seating_capacity(self, capacity):\n",
    "        self.capacity = capacity\n",
    "        return self.name_of_vehicle, self.capacity\n"
   ]
  },
  {
   "cell_type": "code",
   "execution_count": 5,
   "metadata": {},
   "outputs": [
    {
     "data": {
      "text/plain": [
       "('Innova', 7)"
      ]
     },
     "execution_count": 5,
     "metadata": {},
     "output_type": "execute_result"
    }
   ],
   "source": [
    "obj_car = Car(\"Innova\", 120, 20)\n",
    "obj_car.seating_capacity(7)\n"
   ]
  },
  {
   "attachments": {},
   "cell_type": "markdown",
   "metadata": {},
   "source": [
    "Q3. What is multiple inheritance? Write a python code to demonstrate multiple inheritance.\n"
   ]
  },
  {
   "attachments": {},
   "cell_type": "markdown",
   "metadata": {},
   "source": [
    "Multiple Inheritance:\n",
    "- When a class is derived from more than one base class it is called multiple Inheritance. The derived class inherits all the features of the base case."
   ]
  },
  {
   "cell_type": "code",
   "execution_count": 7,
   "metadata": {},
   "outputs": [],
   "source": [
    "# Multiple Inheritance\n",
    "\n",
    "class Base1:\n",
    "    def set_b1_func1(self, name):\n",
    "        self.name1 = name\n",
    "\n",
    "    def get_b1_func1(self):\n",
    "        print(self.name1)\n",
    "\n",
    "\n",
    "class Base2:\n",
    "    def set_b2_func1(self, name):\n",
    "        self.name2 = name\n",
    "\n",
    "    def get_b2_func1(self):\n",
    "        print(self.name2)\n",
    "\n",
    "\n",
    "class Derived(Base1, Base2):\n",
    "    def get_derived(self):\n",
    "        print(\"From Derived class\")\n"
   ]
  },
  {
   "cell_type": "code",
   "execution_count": 9,
   "metadata": {},
   "outputs": [
    {
     "name": "stdout",
     "output_type": "stream",
     "text": [
      "Base 1\n",
      "Base 2\n"
     ]
    }
   ],
   "source": [
    "obj_derived = Derived()\n",
    "\n",
    "obj_derived.set_b1_func1(\"Base 1\")\n",
    "obj_derived.set_b2_func1(\"Base 2\")\n",
    "\n",
    "obj_derived.get_b1_func1()\n",
    "obj_derived.get_b2_func1()\n"
   ]
  },
  {
   "attachments": {},
   "cell_type": "markdown",
   "metadata": {},
   "source": [
    "Q4. What are getter and setter in python? Create a class and create a getter and a setter method in this\n",
    "class.\n"
   ]
  },
  {
   "attachments": {},
   "cell_type": "markdown",
   "metadata": {},
   "source": [
    "Getters and Setters are methods which allows you to access and change private attributes of a class."
   ]
  },
  {
   "cell_type": "code",
   "execution_count": 14,
   "metadata": {},
   "outputs": [],
   "source": [
    "class Employee:\n",
    "\n",
    "    def __init__(self, name, salary):\n",
    "        self._name = name\n",
    "        self._salary = salary\n",
    "\n",
    "    # Getter function\n",
    "    def get_emp_name(self):\n",
    "        return self._name\n",
    "\n",
    "    # Setter function\n",
    "    def set_emp_name(self, name):\n",
    "        self._name = name\n",
    "        return self._name\n"
   ]
  },
  {
   "cell_type": "code",
   "execution_count": 15,
   "metadata": {},
   "outputs": [
    {
     "name": "stdout",
     "output_type": "stream",
     "text": [
      "Prashant\n",
      "Prash\n"
     ]
    }
   ],
   "source": [
    "obj_emp = Employee(\"Prashant\", 40000)\n",
    "\n",
    "print(obj_emp.get_emp_name())\n",
    "obj_emp.set_emp_name(\"Prash\")\n",
    "print(obj_emp.get_emp_name())\n"
   ]
  },
  {
   "attachments": {},
   "cell_type": "markdown",
   "metadata": {},
   "source": [
    "Q5.What is method overriding in python? Write a python code to demonstrate method overriding."
   ]
  },
  {
   "attachments": {},
   "cell_type": "markdown",
   "metadata": {},
   "source": [
    "Method Overriding allows the child class to provide its own implementation of method that is already present in Parent class. The method in parent must be of the same name, parameters and return type."
   ]
  },
  {
   "cell_type": "code",
   "execution_count": 16,
   "metadata": {},
   "outputs": [],
   "source": [
    "class Shape:\n",
    "\n",
    "    name = \"Shape\"\n",
    "\n",
    "    def no_of_sides(self):\n",
    "        return \"Sides are not yet defined. \"\n",
    "\n",
    "\n",
    "class Square(Shape):\n",
    "\n",
    "    name = \"Square\"\n",
    "\n",
    "    def no_of_sides(self):\n",
    "        return \"4 sides\"\n"
   ]
  },
  {
   "cell_type": "code",
   "execution_count": 17,
   "metadata": {},
   "outputs": [
    {
     "name": "stdout",
     "output_type": "stream",
     "text": [
      "Sides are not yet defined. \n",
      "4 sides\n"
     ]
    }
   ],
   "source": [
    "obj_shape = Shape()\n",
    "obj_square = Square()\n",
    "\n",
    "print(obj_shape.no_of_sides())\n",
    "print(obj_square.no_of_sides())\n"
   ]
  },
  {
   "cell_type": "code",
   "execution_count": null,
   "metadata": {},
   "outputs": [],
   "source": []
  }
 ],
 "metadata": {
  "kernelspec": {
   "display_name": "Python 3",
   "language": "python",
   "name": "python3"
  },
  "language_info": {
   "codemirror_mode": {
    "name": "ipython",
    "version": 3
   },
   "file_extension": ".py",
   "mimetype": "text/x-python",
   "name": "python",
   "nbconvert_exporter": "python",
   "pygments_lexer": "ipython3",
   "version": "3.10.10"
  },
  "orig_nbformat": 4
 },
 "nbformat": 4,
 "nbformat_minor": 2
}
