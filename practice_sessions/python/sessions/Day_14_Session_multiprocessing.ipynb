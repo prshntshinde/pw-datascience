{
 "cells": [
  {
   "cell_type": "markdown",
   "metadata": {},
   "source": [
    "# Multiprocessing"
   ]
  },
  {
   "cell_type": "code",
   "execution_count": 1,
   "metadata": {},
   "outputs": [],
   "source": [
    "import multiprocessing\n",
    "\n",
    "\n",
    "def test():\n",
    "    print('This is multiprocessing program')\n",
    "\n",
    "    if __name__ == '__main__':\n",
    "        m = multiprocessing.Process(target=test)\n",
    "        print('this is main program')\n",
    "        m.start()\n",
    "        m.join()\n"
   ]
  },
  {
   "cell_type": "code",
   "execution_count": 2,
   "metadata": {},
   "outputs": [
    {
     "name": "stdout",
     "output_type": "stream",
     "text": [
      "This is multiprocessing program\n",
      "this is main program\n"
     ]
    }
   ],
   "source": [
    "test()\n"
   ]
  },
  {
   "cell_type": "code",
   "execution_count": 4,
   "metadata": {},
   "outputs": [],
   "source": [
    "def square(n):\n",
    "    return n**2\n",
    "\n",
    "\n",
    "if __name__ == '__main__':\n",
    "    with multiprocessing.Pool(processes=5) as pool:\n",
    "        out = pool.map(square, [3, 4, 5, 6, 7, 8, 9, 2, 45, 875])\n",
    "        print(out)\n"
   ]
  },
  {
   "cell_type": "code",
   "execution_count": 5,
   "metadata": {},
   "outputs": [],
   "source": [
    "# queue\n",
    "\n",
    "import multiprocessing\n",
    "\n",
    "\n",
    "def producer(q):\n",
    "    for i in ['pram', 'swa', 'skills', \"ml\"]:\n",
    "        q.put(i)\n",
    "\n",
    "\n",
    "def consume(q):\n",
    "    while True:\n",
    "        item = q.get()\n",
    "        if item is None:\n",
    "            break\n",
    "        print(item)\n",
    "\n",
    "\n",
    "if __name__ == '__main__':\n",
    "    queue = multiprocessing.Queue()\n",
    "    m1 = multiprocessing.Process(target=producer, args=(queue,))\n",
    "    m2 = multiprocessing.Process(target=consume, args=(queue,))\n",
    "    m1.start()\n",
    "    m2.start()\n",
    "    queue.put(\"xyz\")\n",
    "    m1.join()\n",
    "    m2.join()\n"
   ]
  },
  {
   "cell_type": "code",
   "execution_count": 9,
   "metadata": {},
   "outputs": [
    {
     "name": "stdout",
     "output_type": "stream",
     "text": [
      "[2, 3, 4, 5, 6, 1, 7, 8, 9, 2]\n"
     ]
    }
   ],
   "source": [
    "import multiprocessing\n",
    "\n",
    "\n",
    "def square(index, value):\n",
    "    value[index] = value[index] **2\n",
    "\n",
    "\n",
    "if __name__ == '__main__':\n",
    "    arr = multiprocessing.Array('i', [2, 3, 4, 5,6,1,7,8,9,2])\n",
    "    process = []\n",
    "    for i in range(10):\n",
    "        m = multiprocessing.Process(target=square, args=(i, arr))\n",
    "        process.append(m)\n",
    "        m.start()\n",
    "    for m in process:\n",
    "        m.join()\n",
    "    print(list(arr))\n"
   ]
  },
  {
   "cell_type": "code",
   "execution_count": 12,
   "metadata": {},
   "outputs": [],
   "source": [
    "import multiprocessing\n",
    "\n",
    "def sender(conn,msg):\n",
    "    for i in msg:\n",
    "        conn.send(i)\n",
    "    conn.close()\n",
    "\n",
    "def receive(conn):\n",
    "    while True:\n",
    "        try:\n",
    "            conn.recv()\n",
    "        except Exception as e:\n",
    "            print(e)\n",
    "            break\n",
    "        print(msg)\n",
    "\n",
    "if __name__ == '__main__':\n",
    "    msg = ['name is Pras','Hi','How are you','good to connect']\n",
    "    parent_conn, child_conn = multiprocessing.Pipe()\n",
    "    m1 = multiprocessing.Process(target=sender,args=(child_conn,msg))\n",
    "    m2 = multiprocessing.Process(target=receive,args=(parent_conn,))\n",
    "\n",
    "    m1.start()\n",
    "    m2.start()\n",
    "\n",
    "    m1.join()\n",
    "    child_conn.close()\n",
    "    m2.join()\n",
    "    parent_conn.close()\n",
    "    "
   ]
  },
  {
   "cell_type": "code",
   "execution_count": null,
   "metadata": {},
   "outputs": [],
   "source": []
  }
 ],
 "metadata": {
  "kernelspec": {
   "display_name": "Python 3",
   "language": "python",
   "name": "python3"
  },
  "language_info": {
   "codemirror_mode": {
    "name": "ipython",
    "version": 3
   },
   "file_extension": ".py",
   "mimetype": "text/x-python",
   "name": "python",
   "nbconvert_exporter": "python",
   "pygments_lexer": "ipython3",
   "version": "3.10.10"
  },
  "orig_nbformat": 4
 },
 "nbformat": 4,
 "nbformat_minor": 2
}
