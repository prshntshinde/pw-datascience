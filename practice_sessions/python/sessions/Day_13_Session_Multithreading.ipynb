{
 "cells": [
  {
   "cell_type": "markdown",
   "metadata": {},
   "source": [
    "# Multithreading"
   ]
  },
  {
   "cell_type": "code",
   "execution_count": 1,
   "metadata": {},
   "outputs": [],
   "source": [
    "import threading\n"
   ]
  },
  {
   "cell_type": "code",
   "execution_count": 2,
   "metadata": {},
   "outputs": [],
   "source": [
    "def test(id):\n",
    "    print(\"This is my id %d\" % id)\n"
   ]
  },
  {
   "cell_type": "code",
   "execution_count": 4,
   "metadata": {},
   "outputs": [
    {
     "name": "stdout",
     "output_type": "stream",
     "text": [
      "This is my id 10\n"
     ]
    }
   ],
   "source": [
    "test(10)"
   ]
  },
  {
   "cell_type": "code",
   "execution_count": 5,
   "metadata": {},
   "outputs": [
    {
     "name": "stdout",
     "output_type": "stream",
     "text": [
      "This is my id 1\n"
     ]
    }
   ],
   "source": [
    "test(1)"
   ]
  },
  {
   "cell_type": "code",
   "execution_count": 6,
   "metadata": {},
   "outputs": [
    {
     "name": "stdout",
     "output_type": "stream",
     "text": [
      "This is my id 13\n"
     ]
    }
   ],
   "source": [
    "test(13)"
   ]
  },
  {
   "cell_type": "code",
   "execution_count": 7,
   "metadata": {},
   "outputs": [],
   "source": [
    "thread = [threading.Thread(target=test, args=(i,)) for i in [10,1,3]]"
   ]
  },
  {
   "cell_type": "code",
   "execution_count": 8,
   "metadata": {},
   "outputs": [
    {
     "data": {
      "text/plain": [
       "[<Thread(Thread-5 (test), initial)>,\n",
       " <Thread(Thread-6 (test), initial)>,\n",
       " <Thread(Thread-7 (test), initial)>]"
      ]
     },
     "execution_count": 8,
     "metadata": {},
     "output_type": "execute_result"
    }
   ],
   "source": [
    "thread"
   ]
  },
  {
   "cell_type": "code",
   "execution_count": 9,
   "metadata": {},
   "outputs": [
    {
     "name": "stdout",
     "output_type": "stream",
     "text": [
      "This is my id 10\n",
      "This is my id 1\n",
      "This is my id 3\n"
     ]
    }
   ],
   "source": [
    "for t in thread:\n",
    "    t.start()"
   ]
  },
  {
   "cell_type": "code",
   "execution_count": 10,
   "metadata": {},
   "outputs": [],
   "source": [
    "import urllib.request\n",
    "\n",
    "def file_download(url,filename):\n",
    "    urllib.request.urlretrieve(url,filename)\n",
    "    \n"
   ]
  },
  {
   "cell_type": "code",
   "execution_count": 12,
   "metadata": {},
   "outputs": [],
   "source": [
    "file_download('https://raw.githubusercontent.com/itsfoss/text-files/master/agatha.txt','test11.txt')"
   ]
  },
  {
   "cell_type": "code",
   "execution_count": 11,
   "metadata": {},
   "outputs": [],
   "source": [
    "url_list = ['https://raw.githubusercontent.com/itsfoss/text-files/master/agatha.txt' , 'https://raw.githubusercontent.com/itsfoss/text-files/master/sherlock.txt' ,'https://raw.githubusercontent.com/itsfoss/text-files/master/sample_log_file.txt' ]"
   ]
  },
  {
   "cell_type": "code",
   "execution_count": 13,
   "metadata": {},
   "outputs": [],
   "source": [
    "data_file_list = ['data1.txt','data2.txt','data3.txt']"
   ]
  },
  {
   "cell_type": "code",
   "execution_count": 15,
   "metadata": {},
   "outputs": [],
   "source": [
    "thread1 = [threading.Thread(target=file_download,args=(url_list[i],data_file_list[i])) for i in range(len(url_list))]"
   ]
  },
  {
   "cell_type": "code",
   "execution_count": 16,
   "metadata": {},
   "outputs": [],
   "source": [
    "for t in thread1:\n",
    "    t.start()"
   ]
  },
  {
   "cell_type": "code",
   "execution_count": 17,
   "metadata": {},
   "outputs": [
    {
     "data": {
      "text/plain": [
       "[<Thread(Thread-8 (file_download), stopped 20768)>,\n",
       " <Thread(Thread-9 (file_download), stopped 29496)>,\n",
       " <Thread(Thread-10 (file_download), stopped 10024)>]"
      ]
     },
     "execution_count": 17,
     "metadata": {},
     "output_type": "execute_result"
    }
   ],
   "source": [
    "thread1"
   ]
  },
  {
   "cell_type": "code",
   "execution_count": 18,
   "metadata": {},
   "outputs": [],
   "source": [
    "import time"
   ]
  },
  {
   "cell_type": "code",
   "execution_count": 24,
   "metadata": {},
   "outputs": [],
   "source": [
    "def test2(x):\n",
    "    for i in range(10):\n",
    "        print(\"The value of x = %d and the value of i = %d\"%(x,i))\n",
    "        time.sleep(1)"
   ]
  },
  {
   "cell_type": "code",
   "execution_count": 25,
   "metadata": {},
   "outputs": [
    {
     "name": "stdout",
     "output_type": "stream",
     "text": [
      "The value of x = 10 and the value of i = 0\n",
      "The value of x = 10 and the value of i = 1\n",
      "The value of x = 10 and the value of i = 2\n",
      "The value of x = 10 and the value of i = 3\n",
      "The value of x = 10 and the value of i = 4\n",
      "The value of x = 10 and the value of i = 5\n",
      "The value of x = 10 and the value of i = 6\n",
      "The value of x = 10 and the value of i = 7\n",
      "The value of x = 10 and the value of i = 8\n",
      "The value of x = 10 and the value of i = 9\n"
     ]
    }
   ],
   "source": [
    "test2(10)"
   ]
  },
  {
   "cell_type": "code",
   "execution_count": 26,
   "metadata": {},
   "outputs": [],
   "source": [
    "thread3 = [threading.Thread(target=test2, args=(i,)) for i in [10,20,5,100]]"
   ]
  },
  {
   "cell_type": "code",
   "execution_count": 27,
   "metadata": {},
   "outputs": [
    {
     "name": "stdout",
     "output_type": "stream",
     "text": [
      "The value of x = 10 and the value of i = 0\n",
      "The value of x = 20 and the value of i = 0\n",
      "The value of x = 5 and the value of i = 0\n",
      "The value of x = 100 and the value of i = 0\n"
     ]
    },
    {
     "name": "stdout",
     "output_type": "stream",
     "text": [
      "The value of x = 10 and the value of i = 1The value of x = 100 and the value of i = 1\n",
      "The value of x = 5 and the value of i = 1\n",
      "The value of x = 20 and the value of i = 1\n",
      "\n",
      "The value of x = 5 and the value of i = 2\n",
      "The value of x = 10 and the value of i = 2\n",
      "The value of x = 100 and the value of i = 2\n",
      "The value of x = 20 and the value of i = 2\n",
      "The value of x = 100 and the value of i = 3\n",
      "The value of x = 10 and the value of i = 3\n",
      "The value of x = 20 and the value of i = 3\n",
      "The value of x = 5 and the value of i = 3\n",
      "The value of x = 100 and the value of i = 4The value of x = 10 and the value of i = 4\n",
      "The value of x = 5 and the value of i = 4\n",
      "The value of x = 20 and the value of i = 4\n",
      "\n",
      "The value of x = 20 and the value of i = 5\n",
      "The value of x = 10 and the value of i = 5\n",
      "The value of x = 100 and the value of i = 5\n",
      "The value of x = 5 and the value of i = 5\n",
      "The value of x = 100 and the value of i = 6The value of x = 5 and the value of i = 6\n",
      "The value of x = 10 and the value of i = 6\n",
      "\n",
      "The value of x = 20 and the value of i = 6\n",
      "The value of x = 100 and the value of i = 7The value of x = 10 and the value of i = 7\n",
      "The value of x = 20 and the value of i = 7\n",
      "The value of x = 5 and the value of i = 7\n",
      "\n",
      "The value of x = 100 and the value of i = 8The value of x = 10 and the value of i = 8\n",
      "The value of x = 20 and the value of i = 8\n",
      "The value of x = 5 and the value of i = 8\n",
      "\n",
      "The value of x = 20 and the value of i = 9The value of x = 10 and the value of i = 9\n",
      "The value of x = 5 and the value of i = 9\n",
      "The value of x = 100 and the value of i = 9\n",
      "\n"
     ]
    }
   ],
   "source": [
    "for t in thread3:\n",
    "    t.start()"
   ]
  },
  {
   "cell_type": "code",
   "execution_count": 30,
   "metadata": {},
   "outputs": [
    {
     "name": "stdout",
     "output_type": "stream",
     "text": [
      "The value of x = 1 and the value of shared_var = 1\n"
     ]
    },
    {
     "name": "stdout",
     "output_type": "stream",
     "text": [
      "The value of x = 2 and the value of shared_var = 2\n",
      "The value of x = 3 and the value of shared_var = 3\n",
      "The value of x = 4 and the value of shared_var = 4\n",
      "The value of x = 5 and the value of shared_var = 5\n"
     ]
    }
   ],
   "source": [
    "shared_var = 0\n",
    "lock_var = threading.Lock()\n",
    "\n",
    "def test4(x):\n",
    "    global shared_var\n",
    "    with lock_var:\n",
    "        shared_var = shared_var + 1\n",
    "        print('The value of x = %d and the value of shared_var = %d' %(x,shared_var))\n",
    "        time.sleep(1)\n",
    "\n",
    "thread5 = [threading.Thread(target=test4,args=(i,)) for i in [1,2,3,4,5]]\n",
    "\n",
    "for t in thread5:\n",
    "    t.start()"
   ]
  },
  {
   "cell_type": "code",
   "execution_count": null,
   "metadata": {},
   "outputs": [],
   "source": []
  }
 ],
 "metadata": {
  "kernelspec": {
   "display_name": "Python 3",
   "language": "python",
   "name": "python3"
  },
  "language_info": {
   "codemirror_mode": {
    "name": "ipython",
    "version": 3
   },
   "file_extension": ".py",
   "mimetype": "text/x-python",
   "name": "python",
   "nbconvert_exporter": "python",
   "pygments_lexer": "ipython3",
   "version": "3.10.10"
  },
  "orig_nbformat": 4
 },
 "nbformat": 4,
 "nbformat_minor": 2
}
