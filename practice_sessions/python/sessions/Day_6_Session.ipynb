{
 "cells": [
  {
   "cell_type": "markdown",
   "id": "f1a0ef13-fbd1-4c96-8939-f41db0ef4256",
   "metadata": {},
   "source": [
    "# Functions"
   ]
  },
  {
   "cell_type": "code",
   "execution_count": 1,
   "id": "df8f0ce6-e62f-4802-a156-0dac266c5d43",
   "metadata": {},
   "outputs": [
    {
     "ename": "SyntaxError",
     "evalue": "incomplete input (2690612609.py, line 2)",
     "output_type": "error",
     "traceback": [
      "\u001b[0;36m  Cell \u001b[0;32mIn[1], line 2\u001b[0;36m\u001b[0m\n\u001b[0;31m    \u001b[0m\n\u001b[0m    ^\u001b[0m\n\u001b[0;31mSyntaxError\u001b[0m\u001b[0;31m:\u001b[0m incomplete input\n"
     ]
    }
   ],
   "source": [
    "def test():\n",
    "    "
   ]
  },
  {
   "cell_type": "code",
   "execution_count": 4,
   "id": "18991c80-ffd5-40b2-821a-cc8e6c2cd01c",
   "metadata": {},
   "outputs": [],
   "source": [
    "def test():\n",
    "    pass"
   ]
  },
  {
   "cell_type": "code",
   "execution_count": 5,
   "id": "cb2e66be-8485-4093-ab8b-75b6ab9f88fd",
   "metadata": {},
   "outputs": [],
   "source": [
    "test()"
   ]
  },
  {
   "cell_type": "code",
   "execution_count": 6,
   "id": "e0a5647e-fe42-44e2-b7c5-fab8696888ac",
   "metadata": {},
   "outputs": [],
   "source": [
    "def test1():\n",
    "    print(\"My first function\")"
   ]
  },
  {
   "cell_type": "code",
   "execution_count": 7,
   "id": "c2c1b9a5-0bc8-4b10-bfcb-06ff97a873b2",
   "metadata": {},
   "outputs": [
    {
     "name": "stdout",
     "output_type": "stream",
     "text": [
      "My first function\n"
     ]
    }
   ],
   "source": [
    "test1()"
   ]
  },
  {
   "cell_type": "code",
   "execution_count": 8,
   "id": "deb19e71-a714-478c-83f3-1d7aa10aee7e",
   "metadata": {},
   "outputs": [
    {
     "name": "stdout",
     "output_type": "stream",
     "text": [
      "My first function\n"
     ]
    }
   ],
   "source": [
    "test1()"
   ]
  },
  {
   "cell_type": "code",
   "execution_count": 10,
   "id": "c21440c9-5cb7-4037-b6f6-19ec6f000af5",
   "metadata": {},
   "outputs": [
    {
     "name": "stdout",
     "output_type": "stream",
     "text": [
      "My first function\n"
     ]
    },
    {
     "ename": "TypeError",
     "evalue": "unsupported operand type(s) for +: 'NoneType' and 'int'",
     "output_type": "error",
     "traceback": [
      "\u001b[0;31m---------------------------------------------------------------------------\u001b[0m",
      "\u001b[0;31mTypeError\u001b[0m                                 Traceback (most recent call last)",
      "Cell \u001b[0;32mIn[10], line 1\u001b[0m\n\u001b[0;32m----> 1\u001b[0m \u001b[43mtest1\u001b[49m\u001b[43m(\u001b[49m\u001b[43m)\u001b[49m\u001b[43m \u001b[49m\u001b[38;5;241;43m+\u001b[39;49m\u001b[43m \u001b[49m\u001b[38;5;241;43m1\u001b[39;49m\n",
      "\u001b[0;31mTypeError\u001b[0m: unsupported operand type(s) for +: 'NoneType' and 'int'"
     ]
    }
   ],
   "source": [
    "test1() + 1"
   ]
  },
  {
   "cell_type": "code",
   "execution_count": 12,
   "id": "60a0906d-a6cc-4567-89b1-97933a5ec631",
   "metadata": {},
   "outputs": [
    {
     "name": "stdout",
     "output_type": "stream",
     "text": [
      "My first function\n"
     ]
    },
    {
     "data": {
      "text/plain": [
       "'NonePrashant'"
      ]
     },
     "execution_count": 12,
     "metadata": {},
     "output_type": "execute_result"
    }
   ],
   "source": [
    "str(test1()) + \"Prashant\""
   ]
  },
  {
   "cell_type": "code",
   "execution_count": 13,
   "id": "4b4baf4c-4977-463a-a992-ee6ddc267df4",
   "metadata": {},
   "outputs": [],
   "source": [
    "def test2():\n",
    "    return \"This is my function\""
   ]
  },
  {
   "cell_type": "code",
   "execution_count": 15,
   "id": "238f09f2-d9fe-4efc-96f1-b0ed7ab66a47",
   "metadata": {},
   "outputs": [
    {
     "data": {
      "text/plain": [
       "'This is my function Prashant'"
      ]
     },
     "execution_count": 15,
     "metadata": {},
     "output_type": "execute_result"
    }
   ],
   "source": [
    "test2() + \" Prashant\""
   ]
  },
  {
   "cell_type": "code",
   "execution_count": 16,
   "id": "3ef20061-13c1-4091-9a7a-ed47eb7ebb06",
   "metadata": {},
   "outputs": [],
   "source": [
    "def test3():\n",
    "    return 1,4,\"Prashant\", 34.12"
   ]
  },
  {
   "cell_type": "code",
   "execution_count": 17,
   "id": "f83c1019-c6b7-432d-a020-d05174d707bb",
   "metadata": {},
   "outputs": [
    {
     "data": {
      "text/plain": [
       "(1, 4, 'Prashant', 34.12)"
      ]
     },
     "execution_count": 17,
     "metadata": {},
     "output_type": "execute_result"
    }
   ],
   "source": [
    "test3()"
   ]
  },
  {
   "cell_type": "code",
   "execution_count": 18,
   "id": "3ac92107-94c8-43a9-9597-eb6cfcc411d2",
   "metadata": {},
   "outputs": [
    {
     "data": {
      "text/plain": [
       "tuple"
      ]
     },
     "execution_count": 18,
     "metadata": {},
     "output_type": "execute_result"
    }
   ],
   "source": [
    "type(test3())"
   ]
  },
  {
   "cell_type": "code",
   "execution_count": 19,
   "id": "e65e35d4-3ddf-4ca8-86c5-5e7a0ea7e808",
   "metadata": {},
   "outputs": [
    {
     "data": {
      "text/plain": [
       "(1, 2, 3, 4, 5, 6)"
      ]
     },
     "execution_count": 19,
     "metadata": {},
     "output_type": "execute_result"
    }
   ],
   "source": [
    "a = 1,2,3,4,5,6\n",
    "a"
   ]
  },
  {
   "cell_type": "code",
   "execution_count": 20,
   "id": "28481ea0-f756-466e-a48a-dfc7b12975ef",
   "metadata": {},
   "outputs": [],
   "source": [
    "a,b,c,d, = 1,2,34.56, True"
   ]
  },
  {
   "cell_type": "code",
   "execution_count": 21,
   "id": "0ab4d3ac-d390-4c72-a178-07465f30b15c",
   "metadata": {},
   "outputs": [
    {
     "data": {
      "text/plain": [
       "True"
      ]
     },
     "execution_count": 21,
     "metadata": {},
     "output_type": "execute_result"
    }
   ],
   "source": [
    "d"
   ]
  },
  {
   "cell_type": "code",
   "execution_count": 22,
   "id": "8c3df478-27b5-4601-be96-711784f1e109",
   "metadata": {},
   "outputs": [
    {
     "data": {
      "text/plain": [
       "1"
      ]
     },
     "execution_count": 22,
     "metadata": {},
     "output_type": "execute_result"
    }
   ],
   "source": [
    "test3()[0]"
   ]
  },
  {
   "cell_type": "code",
   "execution_count": 23,
   "id": "73d6f262-6fa4-427e-8b3d-b11210c49acc",
   "metadata": {},
   "outputs": [
    {
     "data": {
      "text/plain": [
       "34.12"
      ]
     },
     "execution_count": 23,
     "metadata": {},
     "output_type": "execute_result"
    }
   ],
   "source": [
    "test3()[3]"
   ]
  },
  {
   "cell_type": "code",
   "execution_count": 24,
   "id": "4550ea6d-7ad8-4173-8fa3-bf65af6be74e",
   "metadata": {},
   "outputs": [],
   "source": [
    "def test4():\n",
    "    a = 3*4+5\n",
    "    return a"
   ]
  },
  {
   "cell_type": "code",
   "execution_count": 25,
   "id": "746c26d4-3c90-4776-91e5-0b5e2e66abd7",
   "metadata": {},
   "outputs": [
    {
     "data": {
      "text/plain": [
       "17"
      ]
     },
     "execution_count": 25,
     "metadata": {},
     "output_type": "execute_result"
    }
   ],
   "source": [
    "test4()"
   ]
  },
  {
   "cell_type": "code",
   "execution_count": 26,
   "id": "508f679a-6dc9-4d41-9904-33f6b9afeabd",
   "metadata": {},
   "outputs": [
    {
     "data": {
      "text/plain": [
       "int"
      ]
     },
     "execution_count": 26,
     "metadata": {},
     "output_type": "execute_result"
    }
   ],
   "source": [
    "type(test4())"
   ]
  },
  {
   "cell_type": "code",
   "execution_count": 27,
   "id": "f178a5d8-635f-464b-9dc0-9355b9cbe197",
   "metadata": {},
   "outputs": [],
   "source": [
    "def test5(a,b):\n",
    "    c = a+b\n",
    "    return c"
   ]
  },
  {
   "cell_type": "code",
   "execution_count": 29,
   "id": "ee90b94e-9697-44df-9c37-8b407f2e253b",
   "metadata": {},
   "outputs": [
    {
     "data": {
      "text/plain": [
       "3"
      ]
     },
     "execution_count": 29,
     "metadata": {},
     "output_type": "execute_result"
    }
   ],
   "source": [
    "test5(1,2)"
   ]
  },
  {
   "cell_type": "code",
   "execution_count": 31,
   "id": "5982233b-c9b8-4ccf-95af-8edbc4f3a28e",
   "metadata": {},
   "outputs": [
    {
     "data": {
      "text/plain": [
       "'prasshin'"
      ]
     },
     "execution_count": 31,
     "metadata": {},
     "output_type": "execute_result"
    }
   ],
   "source": [
    "test5(\"pras\", \"shin\")"
   ]
  },
  {
   "cell_type": "code",
   "execution_count": 32,
   "id": "0e83b796-a29f-451a-8488-a5fb6648a78a",
   "metadata": {},
   "outputs": [
    {
     "data": {
      "text/plain": [
       "[1, 2, 3, 4, 5, 6, 7, 8]"
      ]
     },
     "execution_count": 32,
     "metadata": {},
     "output_type": "execute_result"
    }
   ],
   "source": [
    "test5([1,2,3,4],[5,6,7,8])"
   ]
  },
  {
   "cell_type": "code",
   "execution_count": 33,
   "id": "acf7940d-2d94-4f72-9aa9-3f1858e45b99",
   "metadata": {},
   "outputs": [
    {
     "data": {
      "text/plain": [
       "'Prashant Shinde'"
      ]
     },
     "execution_count": 33,
     "metadata": {},
     "output_type": "execute_result"
    }
   ],
   "source": [
    "test5(b = \"Shinde\", a = \"Prashant \")"
   ]
  },
  {
   "cell_type": "code",
   "execution_count": 34,
   "id": "2b0097c5-451b-4601-a477-5850739e22c0",
   "metadata": {},
   "outputs": [],
   "source": [
    "l = [1,2,3,\"Prashant\", \"Shine\", [1,2,3,4,5,6]]"
   ]
  },
  {
   "cell_type": "code",
   "execution_count": 35,
   "id": "7c7dbd18-a46a-4575-84ba-9e135ee9051f",
   "metadata": {},
   "outputs": [],
   "source": [
    "# Function which takes list as input and give a final list of all numeric values\n",
    "\n",
    "def num_list(l1):\n",
    "    final_lst = []\n",
    "    for i in l1:\n",
    "        if type(i) == int or type(i) == float:\n",
    "            final_lst.append(i)\n",
    "    return final_lst"
   ]
  },
  {
   "cell_type": "code",
   "execution_count": 36,
   "id": "ed292c5f-45f9-4d69-a0fc-013c51d38d32",
   "metadata": {},
   "outputs": [
    {
     "data": {
      "text/plain": [
       "[1, 2, 3]"
      ]
     },
     "execution_count": 36,
     "metadata": {},
     "output_type": "execute_result"
    }
   ],
   "source": [
    "num_list(l)"
   ]
  },
  {
   "cell_type": "code",
   "execution_count": 37,
   "id": "1f626164-9f55-46db-9fc0-36d70cda753d",
   "metadata": {},
   "outputs": [
    {
     "data": {
      "text/plain": [
       "[1, 2, 3, 'Prashant', 'Shine', [1, 2, 3, 4, 5, 6]]"
      ]
     },
     "execution_count": 37,
     "metadata": {},
     "output_type": "execute_result"
    }
   ],
   "source": [
    "l"
   ]
  },
  {
   "cell_type": "code",
   "execution_count": 38,
   "id": "63561f95-dc38-416f-b0af-7d8fe137c0c3",
   "metadata": {},
   "outputs": [],
   "source": [
    "def num_listv2(l1):\n",
    "    final_lst = []\n",
    "    for i in l1:\n",
    "        if type(i) == list:\n",
    "            for j in i:\n",
    "                if type(j) == int or type(j) == float:\n",
    "                    final_lst.append(j)\n",
    "        elif type(i) == int or type(i) == float:\n",
    "            final_lst.append(i)\n",
    "    return final_lst"
   ]
  },
  {
   "cell_type": "code",
   "execution_count": 39,
   "id": "6184e96f-5b25-4a7b-9fe4-0e789c13374a",
   "metadata": {},
   "outputs": [
    {
     "data": {
      "text/plain": [
       "[1, 2, 3, 1, 2, 3, 4, 5, 6]"
      ]
     },
     "execution_count": 39,
     "metadata": {},
     "output_type": "execute_result"
    }
   ],
   "source": [
    "num_listv2(l)"
   ]
  },
  {
   "cell_type": "code",
   "execution_count": 40,
   "id": "ce6b7a19-94a2-46c2-a106-6d565bb8ce0e",
   "metadata": {},
   "outputs": [],
   "source": [
    "def test6(a,b,c,d,e,f):\n",
    "    pass"
   ]
  },
  {
   "cell_type": "code",
   "execution_count": 41,
   "id": "50af4aab-c57f-4a0b-89db-2d41ba84c476",
   "metadata": {},
   "outputs": [
    {
     "ename": "TypeError",
     "evalue": "test6() missing 1 required positional argument: 'f'",
     "output_type": "error",
     "traceback": [
      "\u001b[0;31m---------------------------------------------------------------------------\u001b[0m",
      "\u001b[0;31mTypeError\u001b[0m                                 Traceback (most recent call last)",
      "Cell \u001b[0;32mIn[41], line 1\u001b[0m\n\u001b[0;32m----> 1\u001b[0m \u001b[43mtest6\u001b[49m\u001b[43m(\u001b[49m\u001b[38;5;241;43m1\u001b[39;49m\u001b[43m,\u001b[49m\u001b[38;5;241;43m2\u001b[39;49m\u001b[43m,\u001b[49m\u001b[38;5;241;43m3\u001b[39;49m\u001b[43m,\u001b[49m\u001b[38;5;241;43m4\u001b[39;49m\u001b[43m,\u001b[49m\u001b[38;5;241;43m5\u001b[39;49m\u001b[43m)\u001b[49m\n",
      "\u001b[0;31mTypeError\u001b[0m: test6() missing 1 required positional argument: 'f'"
     ]
    }
   ],
   "source": [
    "test6(1,2,3,4,5)"
   ]
  },
  {
   "cell_type": "code",
   "execution_count": 42,
   "id": "2821a853-0e61-4c26-acf3-6bbdd3135558",
   "metadata": {},
   "outputs": [],
   "source": [
    "test6(1,2,3,4,5,6)"
   ]
  },
  {
   "cell_type": "code",
   "execution_count": 43,
   "id": "16e7405f-ee0f-4c78-9cdf-82763c1ab793",
   "metadata": {},
   "outputs": [],
   "source": [
    "def test7(*args):\n",
    "    return args"
   ]
  },
  {
   "cell_type": "code",
   "execution_count": 44,
   "id": "85157824-0ed6-4db9-b732-f5cfe76968a5",
   "metadata": {},
   "outputs": [
    {
     "data": {
      "text/plain": [
       "(2,)"
      ]
     },
     "execution_count": 44,
     "metadata": {},
     "output_type": "execute_result"
    }
   ],
   "source": [
    "test7(2)"
   ]
  },
  {
   "cell_type": "code",
   "execution_count": 45,
   "id": "3fe02585-21cd-42d3-ae42-6b887b7e41dd",
   "metadata": {},
   "outputs": [
    {
     "data": {
      "text/plain": [
       "(1, 2, 3, 4, 5, 6)"
      ]
     },
     "execution_count": 45,
     "metadata": {},
     "output_type": "execute_result"
    }
   ],
   "source": [
    "test7(1,2,3,4,5,6)"
   ]
  },
  {
   "cell_type": "code",
   "execution_count": 46,
   "id": "38a8ca03-2491-4938-bf8e-8ead2a0daa5b",
   "metadata": {},
   "outputs": [
    {
     "data": {
      "text/plain": [
       "('Pras', True, 2.33, [123, 3454], (1, 2, 3))"
      ]
     },
     "execution_count": 46,
     "metadata": {},
     "output_type": "execute_result"
    }
   ],
   "source": [
    "test7(\"Pras\",True,2.33, [123,3454],(1,2,3))"
   ]
  },
  {
   "cell_type": "code",
   "execution_count": 49,
   "id": "e451d510-75e9-4fe5-9045-a7c90a9b74fc",
   "metadata": {},
   "outputs": [],
   "source": [
    "def test8(*pras):\n",
    "    return pras"
   ]
  },
  {
   "cell_type": "code",
   "execution_count": 51,
   "id": "b084346e-9c77-42d6-b1be-88f0e397c614",
   "metadata": {},
   "outputs": [
    {
     "data": {
      "text/plain": [
       "(1, 2, 3, 4)"
      ]
     },
     "execution_count": 51,
     "metadata": {},
     "output_type": "execute_result"
    }
   ],
   "source": [
    "test8(1,2,3,4)"
   ]
  },
  {
   "cell_type": "code",
   "execution_count": 53,
   "id": "685f7939-895f-4339-9bde-7ad05979f04a",
   "metadata": {},
   "outputs": [],
   "source": [
    "def test9(*args, a):\n",
    "    return args, a"
   ]
  },
  {
   "cell_type": "code",
   "execution_count": 54,
   "id": "4a33dfc3-84f0-4288-b4c3-ec2af0e4d20e",
   "metadata": {},
   "outputs": [
    {
     "ename": "TypeError",
     "evalue": "test9() missing 1 required keyword-only argument: 'a'",
     "output_type": "error",
     "traceback": [
      "\u001b[0;31m---------------------------------------------------------------------------\u001b[0m",
      "\u001b[0;31mTypeError\u001b[0m                                 Traceback (most recent call last)",
      "Cell \u001b[0;32mIn[54], line 1\u001b[0m\n\u001b[0;32m----> 1\u001b[0m \u001b[43mtest9\u001b[49m\u001b[43m(\u001b[49m\u001b[38;5;241;43m4\u001b[39;49m\u001b[43m)\u001b[49m\n",
      "\u001b[0;31mTypeError\u001b[0m: test9() missing 1 required keyword-only argument: 'a'"
     ]
    }
   ],
   "source": [
    "test9(4)"
   ]
  },
  {
   "cell_type": "code",
   "execution_count": 55,
   "id": "b65863a3-e803-4446-b948-e0e4bedd1777",
   "metadata": {},
   "outputs": [
    {
     "ename": "TypeError",
     "evalue": "test9() missing 1 required keyword-only argument: 'a'",
     "output_type": "error",
     "traceback": [
      "\u001b[0;31m---------------------------------------------------------------------------\u001b[0m",
      "\u001b[0;31mTypeError\u001b[0m                                 Traceback (most recent call last)",
      "Cell \u001b[0;32mIn[55], line 1\u001b[0m\n\u001b[0;32m----> 1\u001b[0m \u001b[43mtest9\u001b[49m\u001b[43m(\u001b[49m\u001b[38;5;241;43m1\u001b[39;49m\u001b[43m,\u001b[49m\u001b[38;5;241;43m2\u001b[39;49m\u001b[43m)\u001b[49m\n",
      "\u001b[0;31mTypeError\u001b[0m: test9() missing 1 required keyword-only argument: 'a'"
     ]
    }
   ],
   "source": [
    "test9(1,2)"
   ]
  },
  {
   "cell_type": "code",
   "execution_count": 56,
   "id": "8d2637b5-4fe9-4e78-803e-d4a44ec7875b",
   "metadata": {},
   "outputs": [
    {
     "data": {
      "text/plain": [
       "((1, 2, 3), 3.44)"
      ]
     },
     "execution_count": 56,
     "metadata": {},
     "output_type": "execute_result"
    }
   ],
   "source": [
    "test9(1,2,3, a= 3.44)"
   ]
  },
  {
   "cell_type": "code",
   "execution_count": 58,
   "id": "8142cc09-dce1-45d0-ae4c-5eff395c2d19",
   "metadata": {},
   "outputs": [],
   "source": [
    "def test10(*args):\n",
    "    l = []\n",
    "    for i in args:\n",
    "        if type(i) == list:\n",
    "            l.append(i)\n",
    "    return l"
   ]
  },
  {
   "cell_type": "code",
   "execution_count": 59,
   "id": "d10f0fb4-2818-4ca1-800a-520d8d6cf66a",
   "metadata": {},
   "outputs": [
    {
     "data": {
      "text/plain": [
       "[[4, 5, 6, 7, 8]]"
      ]
     },
     "execution_count": 59,
     "metadata": {},
     "output_type": "execute_result"
    }
   ],
   "source": [
    "test10(1,2,3,[4,5,6,7,8],(1,2,3,4,5,6),\"Prashant\")"
   ]
  },
  {
   "cell_type": "code",
   "execution_count": 60,
   "id": "ab927b86-68e6-45d3-ac23-09de63ec6bed",
   "metadata": {},
   "outputs": [
    {
     "data": {
      "text/plain": [
       "[[4, 5, 6, 7, 8], [99, 88, 77, 55, 66]]"
      ]
     },
     "execution_count": 60,
     "metadata": {},
     "output_type": "execute_result"
    }
   ],
   "source": [
    "test10(1,2,3,[4,5,6,7,8],(1,2,3,4,5,6),\"Prashant\",[99,88,77,55,66])"
   ]
  },
  {
   "cell_type": "code",
   "execution_count": 61,
   "id": "a44327e5-a120-44a3-b147-5190adde621c",
   "metadata": {},
   "outputs": [],
   "source": [
    "def test11(**kwargs):\n",
    "    return kwargs"
   ]
  },
  {
   "cell_type": "code",
   "execution_count": 62,
   "id": "cbaf984c-85e1-4012-a1e4-cff6a2b1f2a5",
   "metadata": {},
   "outputs": [
    {
     "data": {
      "text/plain": [
       "{}"
      ]
     },
     "execution_count": 62,
     "metadata": {},
     "output_type": "execute_result"
    }
   ],
   "source": [
    "test11()"
   ]
  },
  {
   "cell_type": "code",
   "execution_count": 64,
   "id": "46795f32-c719-460b-ba50-bda73601045c",
   "metadata": {},
   "outputs": [
    {
     "data": {
      "text/plain": [
       "dict"
      ]
     },
     "execution_count": 64,
     "metadata": {},
     "output_type": "execute_result"
    }
   ],
   "source": [
    "type(test11())"
   ]
  },
  {
   "cell_type": "code",
   "execution_count": 66,
   "id": "32053cc9-e1fd-4c23-b2c4-7a038cf9565d",
   "metadata": {},
   "outputs": [
    {
     "data": {
      "text/plain": [
       "{'a': 3, 'b': 4, 'c': 10, 'd': [1, 2, 3, 4, 5, 8], 'e': ('Pras', 'Shin')}"
      ]
     },
     "execution_count": 66,
     "metadata": {},
     "output_type": "execute_result"
    }
   ],
   "source": [
    "test11(a=3,b=4,c=10,d=[1,2,3,4,5,8],e=(\"Pras\",\"Shin\"))"
   ]
  },
  {
   "cell_type": "code",
   "execution_count": 67,
   "id": "9f695312-7936-49b3-875d-b4a357e91f6d",
   "metadata": {},
   "outputs": [],
   "source": [
    "def test12(**kwargs):\n",
    "    for i in kwargs.keys():\n",
    "        if type(kwargs[i]) == list:\n",
    "             return i, kwargs[i]\n",
    "            "
   ]
  },
  {
   "cell_type": "code",
   "execution_count": 68,
   "id": "53be4619-c84d-42e4-8bba-6a4f06633c51",
   "metadata": {},
   "outputs": [
    {
     "data": {
      "text/plain": [
       "('d', [1, 2, 3, 4, 5, 8])"
      ]
     },
     "execution_count": 68,
     "metadata": {},
     "output_type": "execute_result"
    }
   ],
   "source": [
    "test12(a=3,b=4,c=10,d=[1,2,3,4,5,8],e=(\"Pras\",\"Shin\"))"
   ]
  },
  {
   "cell_type": "code",
   "execution_count": 69,
   "id": "7454b374-17fc-4ed5-b91e-650d9e81bafa",
   "metadata": {},
   "outputs": [],
   "source": [
    "def test13(*args, **kwargs):\n",
    "    return args, kwargs"
   ]
  },
  {
   "cell_type": "code",
   "execution_count": 70,
   "id": "a07db629-03a0-4209-af3e-9cae6ae8a9ca",
   "metadata": {},
   "outputs": [
    {
     "data": {
      "text/plain": [
       "((2, 3, 4, 5, 6, 7), {'a': 99, 'b': 33})"
      ]
     },
     "execution_count": 70,
     "metadata": {},
     "output_type": "execute_result"
    }
   ],
   "source": [
    "test13(2,3,4,5,6,7,a=99,b=33)"
   ]
  },
  {
   "cell_type": "markdown",
   "id": "3df08c65-ae4b-45c8-a823-715cf8ef6e2f",
   "metadata": {},
   "source": [
    "# Generator Function"
   ]
  },
  {
   "cell_type": "code",
   "execution_count": 71,
   "id": "d5d868aa-04a2-44f6-a405-700638562e03",
   "metadata": {},
   "outputs": [
    {
     "data": {
      "text/plain": [
       "range(1, 10)"
      ]
     },
     "execution_count": 71,
     "metadata": {},
     "output_type": "execute_result"
    }
   ],
   "source": [
    "range(1,10)"
   ]
  },
  {
   "cell_type": "code",
   "execution_count": 73,
   "id": "4b78d557-dce7-49a5-976a-f5778f3b0b01",
   "metadata": {},
   "outputs": [
    {
     "name": "stdout",
     "output_type": "stream",
     "text": [
      "1\n",
      "2\n",
      "3\n",
      "4\n",
      "5\n",
      "6\n",
      "7\n",
      "8\n",
      "9\n"
     ]
    }
   ],
   "source": [
    "for i in range(1,10):\n",
    "    print(i)"
   ]
  },
  {
   "cell_type": "code",
   "execution_count": 74,
   "id": "2d5b5d1a-f175-4056-9bc0-645cb9731b57",
   "metadata": {},
   "outputs": [],
   "source": [
    "def test14(a):\n",
    "    final_lst = []\n",
    "    for i in a:\n",
    "        if type(i) == int:\n",
    "            final_lst.append(i)\n",
    "    return final_lst"
   ]
  },
  {
   "cell_type": "code",
   "execution_count": 76,
   "id": "6890efd2-50f7-48ec-a797-1428cad28b82",
   "metadata": {},
   "outputs": [
    {
     "data": {
      "text/plain": [
       "[1, 2, 3]"
      ]
     },
     "execution_count": 76,
     "metadata": {},
     "output_type": "execute_result"
    }
   ],
   "source": [
    "test14(l)"
   ]
  },
  {
   "cell_type": "code",
   "execution_count": 78,
   "id": "9d9a2ab6-181f-4ceb-8e21-5cd3596a5890",
   "metadata": {},
   "outputs": [],
   "source": [
    "# Fibonacci series\n",
    "## 0,1,1,2,3,5,8,13,21,34.....\n",
    "\n",
    "def fibo(n):\n",
    "    a,b = 0,1\n",
    "    for i in range(n):\n",
    "        yield a\n",
    "        a,b = b, a+b"
   ]
  },
  {
   "cell_type": "code",
   "execution_count": 79,
   "id": "5a3f546b-ab91-45f6-a854-452a50eecf72",
   "metadata": {},
   "outputs": [
    {
     "data": {
      "text/plain": [
       "<generator object fibo at 0x7fddab5fbb50>"
      ]
     },
     "execution_count": 79,
     "metadata": {},
     "output_type": "execute_result"
    }
   ],
   "source": [
    "fibo(10)"
   ]
  },
  {
   "cell_type": "code",
   "execution_count": 80,
   "id": "083e341b-f0d4-46de-a73c-368dffc972af",
   "metadata": {},
   "outputs": [
    {
     "name": "stdout",
     "output_type": "stream",
     "text": [
      "0\n",
      "1\n",
      "1\n",
      "2\n",
      "3\n",
      "5\n",
      "8\n",
      "13\n",
      "21\n",
      "34\n"
     ]
    }
   ],
   "source": [
    "for i in fibo(10):\n",
    "    print(i)"
   ]
  },
  {
   "cell_type": "code",
   "execution_count": null,
   "id": "57f9d0d3-a6ec-4e88-9ecc-0019fb8ed4c9",
   "metadata": {},
   "outputs": [],
   "source": []
  }
 ],
 "metadata": {
  "kernelspec": {
   "display_name": "Python 3 (ipykernel)",
   "language": "python",
   "name": "python3"
  },
  "language_info": {
   "codemirror_mode": {
    "name": "ipython",
    "version": 3
   },
   "file_extension": ".py",
   "mimetype": "text/x-python",
   "name": "python",
   "nbconvert_exporter": "python",
   "pygments_lexer": "ipython3",
   "version": "3.10.8"
  }
 },
 "nbformat": 4,
 "nbformat_minor": 5
}
