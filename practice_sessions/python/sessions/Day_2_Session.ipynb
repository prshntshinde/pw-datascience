{
 "cells": [
  {
   "cell_type": "markdown",
   "id": "0adb197c-f6e5-4039-a6a7-924d389715bb",
   "metadata": {},
   "source": [
    "## Loops"
   ]
  },
  {
   "cell_type": "code",
   "execution_count": 3,
   "id": "7d60308f-554b-4b12-97aa-ca5eebc85a32",
   "metadata": {},
   "outputs": [
    {
     "name": "stdout",
     "output_type": "stream",
     "text": [
      "my age is:  27\n"
     ]
    }
   ],
   "source": [
    "age = 27\n",
    "print(\"my age is: \",age)"
   ]
  },
  {
   "cell_type": "code",
   "execution_count": 4,
   "id": "9abe6035-1a54-42e6-9a88-4e7c2e349c42",
   "metadata": {},
   "outputs": [
    {
     "name": "stdout",
     "output_type": "stream",
     "text": [
      "my age is 27\n"
     ]
    }
   ],
   "source": [
    "# F string\n",
    "print(f\"my age is {age}\")"
   ]
  },
  {
   "cell_type": "code",
   "execution_count": 6,
   "id": "96b8004a-3b44-4c7e-8dbb-73db92a849c7",
   "metadata": {},
   "outputs": [
    {
     "name": "stdout",
     "output_type": "stream",
     "text": [
      "My name is Prashant and age is 27\n"
     ]
    }
   ],
   "source": [
    "# Format()\n",
    "\n",
    "name = \"Prashant\"\n",
    "age = 27\n",
    "\n",
    "print(\"My name is {} and age is {}\".format(name,age))"
   ]
  },
  {
   "cell_type": "code",
   "execution_count": 9,
   "id": "920897f7-3d64-48f3-8ab1-bd660de120db",
   "metadata": {},
   "outputs": [
    {
     "name": "stdout",
     "output_type": "stream",
     "text": [
      "My name is Prashant and age is 27\n"
     ]
    }
   ],
   "source": [
    "# Place holder\n",
    "print(\"My name is {firstname} and age is {age_number}\".format(firstname=name,age_number=age))"
   ]
  },
  {
   "cell_type": "markdown",
   "id": "9a208e4d-d1b6-4c98-a553-877c95cd871e",
   "metadata": {},
   "source": [
    "## Control Flow\n",
    "### Decision Making Statements\n",
    "    1. if\n",
    "    2. if else\n",
    "    3. if elif else\n",
    "    4. Nested if\n",
    "    5. Single statement Suites"
   ]
  },
  {
   "cell_type": "code",
   "execution_count": 16,
   "id": "8d8d2a35-8b9f-4a4e-a583-2aa4580b5574",
   "metadata": {},
   "outputs": [
    {
     "name": "stdin",
     "output_type": "stream",
     "text": [
      "Enter your Age:  12\n"
     ]
    }
   ],
   "source": [
    "# If statements\n",
    "age = 121\n",
    "\n",
    "age = int(input(\"Enter your Age: \"))\n",
    "if age >= 18:\n",
    "    print(\"You are eligible to vote\")"
   ]
  },
  {
   "cell_type": "code",
   "execution_count": 20,
   "id": "feca8557-54fd-4294-9b33-fa9cabcc5661",
   "metadata": {},
   "outputs": [
    {
     "name": "stdin",
     "output_type": "stream",
     "text": [
      "Enter your Age:  56\n"
     ]
    },
    {
     "name": "stdout",
     "output_type": "stream",
     "text": [
      "Thank you. We will let you know\n"
     ]
    }
   ],
   "source": [
    "# Task\n",
    "# if age between 18 and 45 diaplay a message you are young blood\n",
    "\n",
    "age = int(input(\"Enter your Age: \"))\n",
    "\n",
    "# logic\n",
    "if age >= 18 and age <= 45:\n",
    "    print(\"YOu are young Blood\")\n",
    "else:\n",
    "    print(\"Thank you. We will let you know\")"
   ]
  },
  {
   "cell_type": "code",
   "execution_count": 2,
   "id": "794117dc-43c9-4dae-8bf6-89a94fd6233d",
   "metadata": {},
   "outputs": [
    {
     "name": "stdin",
     "output_type": "stream",
     "text": [
      "Enter the price (MRP) pf the Product:  1200\n"
     ]
    },
    {
     "name": "stdout",
     "output_type": "stream",
     "text": [
      "The discounted price is: 840.0\n"
     ]
    }
   ],
   "source": [
    "# Task\n",
    "# Product greater than 1000 then you will get 20% discount\n",
    "# display product price\n",
    "# Product lower than 1000 then you will get 30% discount\n",
    "# display product price\n",
    "\n",
    "mrp = int(input(\"Enter the price (MRP) pf the Product: \"))\n",
    "\n",
    "# Logic\n",
    "if mrp <= 1000:\n",
    "    discounted_price = mrp - (mrp * 0.2)\n",
    "    print(\"The Discounted price is: {}\".format(discounted_price))\n",
    "else:\n",
    "    discounted_price = mrp - (mrp * 0.3)\n",
    "    print(\"The discounted price is: {}\".format(discounted_price))\n",
    "          "
   ]
  },
  {
   "cell_type": "code",
   "execution_count": 6,
   "id": "31378221-6130-4f60-b462-a61e4db58cc5",
   "metadata": {},
   "outputs": [
    {
     "name": "stdin",
     "output_type": "stream",
     "text": [
      "Enter the price (MRP) pf the Product:  222\n"
     ]
    },
    {
     "name": "stdout",
     "output_type": "stream",
     "text": [
      "Sorry no discount applied 😢\n"
     ]
    }
   ],
   "source": [
    "# Task\n",
    "# Product greater than 3000 then you will get 20% discount\n",
    "# display product price\n",
    "# Product greater than or equal to 2000  and leass than or equal to 3000 then you will get 30% discount\n",
    "# display product price\n",
    "# Product less than 1000 and leass than or equal to 2000  then you will get 40% discount\n",
    "# display product price\n",
    "\n",
    "mrp = int(input(\"Enter the price (MRP) pf the Product: \"))\n",
    "\n",
    "# Logic\n",
    "if mrp > 3000:\n",
    "    print(\"The Discounted price is: {}\".format(mrp - (mrp * 0.2)))\n",
    "elif mrp >= 2000 and mrp <= 3000:\n",
    "    print(\"The Discounted price is: {}\".format(mrp - (mrp * 0.3)))\n",
    "elif mrp >= 1000 and mrp <2000:\n",
    "    print(\"The Discounted price is: {}\".format(mrp - (mrp * 0.4)))\n",
    "else:\n",
    "    print(\"Sorry no discount applied 😢\")\n"
   ]
  },
  {
   "cell_type": "markdown",
   "id": "27c678d4-d4c7-4710-b36b-8a32381aa9ea",
   "metadata": {},
   "source": [
    "# Loop Statements\n",
    "1. While\n",
    "2. For\n",
    "3. Nested Loops\n",
    "4. Loop control (Break, Continue, Pass)"
   ]
  },
  {
   "cell_type": "code",
   "execution_count": 10,
   "id": "6ed6a6e0-e3dd-4b2b-bc86-36a06b51a9fe",
   "metadata": {
    "tags": []
   },
   "outputs": [
    {
     "name": "stdout",
     "output_type": "stream",
     "text": [
      "25\n",
      "30\n",
      "35\n",
      "40\n",
      "45\n",
      "50\n",
      "55\n",
      "Sorry it's time to retire\n"
     ]
    }
   ],
   "source": [
    "# While loop\n",
    "\n",
    "joining_age = 25\n",
    "retirmen_age = 58\n",
    "\n",
    "while joining_age <=58:\n",
    "    print(joining_age)\n",
    "    joining_age = joining_age+5\n",
    "else:\n",
    "    print(\"Sorry it's time to retire\")\n",
    "    "
   ]
  },
  {
   "cell_type": "code",
   "execution_count": 16,
   "id": "01a8132d-201d-4298-bf1f-da7b94851a45",
   "metadata": {},
   "outputs": [
    {
     "data": {
      "text/plain": [
       "list"
      ]
     },
     "execution_count": 16,
     "metadata": {},
     "output_type": "execute_result"
    }
   ],
   "source": [
    "# For loop\n",
    "\n",
    "name_list = [\"Prashant\",\"Pluto\",\"Curiosity\",\"Nebula\",\"Planet-X\"]\n",
    "type(name_list)"
   ]
  },
  {
   "cell_type": "code",
   "execution_count": 17,
   "id": "a493a134-214b-46f5-a1ef-6a208db800c5",
   "metadata": {},
   "outputs": [
    {
     "name": "stdout",
     "output_type": "stream",
     "text": [
      "Prashant\n",
      "Pluto\n",
      "Curiosity\n",
      "Nebula\n",
      "Planet-X\n"
     ]
    }
   ],
   "source": [
    "for item in name_list:\n",
    "    print(item)"
   ]
  },
  {
   "cell_type": "code",
   "execution_count": 18,
   "id": "4137f9c7-affd-4dae-bacf-f49c6a197eb8",
   "metadata": {},
   "outputs": [
    {
     "name": "stdout",
     "output_type": "stream",
     "text": [
      "Prashant\n",
      "Pluto\n",
      "Curiosity\n",
      "Nebula\n",
      "Planet-X\n"
     ]
    }
   ],
   "source": [
    "for item in iter(name_list):\n",
    "    print(item)"
   ]
  },
  {
   "cell_type": "code",
   "execution_count": 24,
   "id": "689d6de7-6a4e-4c20-97fe-b1fe1ac33c28",
   "metadata": {},
   "outputs": [
    {
     "name": "stdout",
     "output_type": "stream",
     "text": [
      "*\n",
      "*\n",
      "*\n",
      "*\n",
      "*\n"
     ]
    }
   ],
   "source": [
    "# Nested Loops\n",
    "\n",
    "n = 6\n",
    "\n",
    "for i in range(1,6):\n",
    "    print(\"*\")"
   ]
  },
  {
   "cell_type": "code",
   "execution_count": 25,
   "id": "6fd2a82f-f6c8-4eea-8a1e-5123cb902dee",
   "metadata": {},
   "outputs": [
    {
     "name": "stdout",
     "output_type": "stream",
     "text": [
      "**\n",
      "***\n",
      "****\n",
      "*****\n",
      "******\n"
     ]
    }
   ],
   "source": [
    "for i in range(1,n):\n",
    "    for j in range(0,i+1):\n",
    "        print(\"*\",end=\"\")\n",
    "    print(\"\\r\")"
   ]
  },
  {
   "cell_type": "code",
   "execution_count": 41,
   "id": "97b846f5-a5b8-48a4-a9c5-ebf042f10997",
   "metadata": {},
   "outputs": [
    {
     "name": "stdout",
     "output_type": "stream",
     "text": [
      "\n",
      "*\n",
      "***\n",
      "******\n",
      "**********\n",
      "***************\n",
      "*********************\n",
      "****************************\n"
     ]
    }
   ],
   "source": [
    "# Task\n",
    "# Display pyramid of stars \n",
    "#    *\n",
    "#   ***\n",
    "#  *****\n",
    "\n",
    "num = 9\n",
    "\n",
    "for i in range(1,num):\n",
    "    space = \" \"\n",
    "    for j in range(0,i):\n",
    "        print(\"*\" * j,end=\"\")\n",
    "    print(\"\\r\")"
   ]
  },
  {
   "cell_type": "code",
   "execution_count": 4,
   "id": "4b84e753-0b81-41dc-9858-6e809ff368ff",
   "metadata": {},
   "outputs": [
    {
     "name": "stdout",
     "output_type": "stream",
     "text": [
      "Mango\n",
      "Apple\n",
      "The fruit is: Banana\n"
     ]
    }
   ],
   "source": [
    "# Loop controls\n",
    "# Break and Continue\n",
    "\n",
    "fruit_list = [\"Mango\",\"Apple\",\"Banana\",\"Jackfruit\",\"Papaya\"]\n",
    "\n",
    "# Logic\n",
    "for i in fruit_list:\n",
    "    if i == \"Banana\":\n",
    "        print(\"The fruit is:\",i)\n",
    "        break\n",
    "    print(i)\n"
   ]
  },
  {
   "cell_type": "code",
   "execution_count": 5,
   "id": "33cf0f95-73c2-45d8-b354-fc0998f8ff14",
   "metadata": {},
   "outputs": [
    {
     "name": "stdout",
     "output_type": "stream",
     "text": [
      "Mango\n",
      "Apple\n",
      "The fruit is: Banana\n",
      "Banana\n",
      "Jackfruit\n",
      "Papaya\n"
     ]
    }
   ],
   "source": [
    "# Pass - does nothing\n",
    "\n",
    "for i in fruit_list:\n",
    "    if i == \"Banana\":\n",
    "        print(\"The fruit is:\",i)\n",
    "        pass\n",
    "    print(i)"
   ]
  },
  {
   "cell_type": "code",
   "execution_count": 6,
   "id": "0a89c6cb-39b5-4f1f-9c88-ff8292277ebb",
   "metadata": {},
   "outputs": [
    {
     "name": "stdout",
     "output_type": "stream",
     "text": [
      "Mango\n",
      "Apple\n",
      "The fruit is: Banana\n",
      "Jackfruit\n",
      "Papaya\n"
     ]
    }
   ],
   "source": [
    "# continue - skips one step\n",
    "\n",
    "for i in fruit_list:\n",
    "    if i == \"Banana\":\n",
    "        print(\"The fruit is:\",i)\n",
    "        continue\n",
    "    print(i)"
   ]
  },
  {
   "cell_type": "code",
   "execution_count": null,
   "id": "7db61df9-9d5f-49b9-8e19-7a2d7802a53b",
   "metadata": {},
   "outputs": [],
   "source": []
  }
 ],
 "metadata": {
  "kernelspec": {
   "display_name": "Python 3 (ipykernel)",
   "language": "python",
   "name": "python3"
  },
  "language_info": {
   "codemirror_mode": {
    "name": "ipython",
    "version": 3
   },
   "file_extension": ".py",
   "mimetype": "text/x-python",
   "name": "python",
   "nbconvert_exporter": "python",
   "pygments_lexer": "ipython3",
   "version": "3.10.8"
  }
 },
 "nbformat": 4,
 "nbformat_minor": 5
}
