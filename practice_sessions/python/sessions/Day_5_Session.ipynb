{
 "cells": [
  {
   "cell_type": "markdown",
   "id": "419e4ab5-2035-45c5-90a1-e118f3d3cf04",
   "metadata": {},
   "source": [
    "# Tuples, Set, Dictionaries"
   ]
  },
  {
   "cell_type": "markdown",
   "id": "080e30e4-bbfa-4204-8ae5-f4498c252214",
   "metadata": {},
   "source": [
    "# Tuples"
   ]
  },
  {
   "cell_type": "code",
   "execution_count": 2,
   "id": "654bb2a5-64e7-4195-8e9c-f04521d8c0a8",
   "metadata": {},
   "outputs": [],
   "source": [
    "t = ()"
   ]
  },
  {
   "cell_type": "code",
   "execution_count": 3,
   "id": "23259d26-d7ed-4e96-b74d-a923902bad06",
   "metadata": {},
   "outputs": [
    {
     "data": {
      "text/plain": [
       "tuple"
      ]
     },
     "execution_count": 3,
     "metadata": {},
     "output_type": "execute_result"
    }
   ],
   "source": [
    "type(t)"
   ]
  },
  {
   "cell_type": "code",
   "execution_count": 4,
   "id": "6bde9e60-38e2-4a4b-bd01-3641a536f9f4",
   "metadata": {},
   "outputs": [],
   "source": [
    "t1 = (1,2,3,4,5,6,7,44.44,\"Prashant\",True, 2+5j)"
   ]
  },
  {
   "cell_type": "code",
   "execution_count": 5,
   "id": "e4ea83cc-aee8-4e0c-ba11-6c3fc32d70d9",
   "metadata": {},
   "outputs": [
    {
     "data": {
      "text/plain": [
       "tuple"
      ]
     },
     "execution_count": 5,
     "metadata": {},
     "output_type": "execute_result"
    }
   ],
   "source": [
    "type(t1)"
   ]
  },
  {
   "cell_type": "code",
   "execution_count": 6,
   "id": "e4467c42-f881-475a-9200-8ceaa70fe1e5",
   "metadata": {},
   "outputs": [
    {
     "data": {
      "text/plain": [
       "1"
      ]
     },
     "execution_count": 6,
     "metadata": {},
     "output_type": "execute_result"
    }
   ],
   "source": [
    "t1[0]"
   ]
  },
  {
   "cell_type": "code",
   "execution_count": 7,
   "id": "a224c301-69cd-48fd-ba8a-3de7d9a38490",
   "metadata": {},
   "outputs": [
    {
     "data": {
      "text/plain": [
       "5"
      ]
     },
     "execution_count": 7,
     "metadata": {},
     "output_type": "execute_result"
    }
   ],
   "source": [
    "t1[4]"
   ]
  },
  {
   "cell_type": "code",
   "execution_count": 8,
   "id": "d90ed9dd-3bd4-4479-b62d-efb0ca8b9bfb",
   "metadata": {},
   "outputs": [
    {
     "data": {
      "text/plain": [
       "'Prashant'"
      ]
     },
     "execution_count": 8,
     "metadata": {},
     "output_type": "execute_result"
    }
   ],
   "source": [
    "t1[8]"
   ]
  },
  {
   "cell_type": "code",
   "execution_count": 9,
   "id": "db73a8ba-2614-48ca-9573-7dd5a2a85ffe",
   "metadata": {},
   "outputs": [
    {
     "data": {
      "text/plain": [
       "((2+5j), True, 'Prashant', 44.44, 7, 6, 5, 4, 3, 2, 1)"
      ]
     },
     "execution_count": 9,
     "metadata": {},
     "output_type": "execute_result"
    }
   ],
   "source": [
    "t1[::-1]"
   ]
  },
  {
   "cell_type": "code",
   "execution_count": 10,
   "id": "d07c559e-4c33-4712-809c-0092fe007ed4",
   "metadata": {},
   "outputs": [
    {
     "data": {
      "text/plain": [
       "(1, 2, 3, 4, 5, 6, 7, 44.44, 'Prashant', True, (2+5j))"
      ]
     },
     "execution_count": 10,
     "metadata": {},
     "output_type": "execute_result"
    }
   ],
   "source": [
    "t1"
   ]
  },
  {
   "cell_type": "code",
   "execution_count": 11,
   "id": "069613c2-e6a7-4cae-926e-078dd94b3fbf",
   "metadata": {},
   "outputs": [
    {
     "data": {
      "text/plain": [
       "(1, 2, 3)"
      ]
     },
     "execution_count": 11,
     "metadata": {},
     "output_type": "execute_result"
    }
   ],
   "source": [
    "t1[:3]"
   ]
  },
  {
   "cell_type": "code",
   "execution_count": 14,
   "id": "6dfaa3a4-aee7-4fee-8674-cdc99b4bb5aa",
   "metadata": {},
   "outputs": [
    {
     "data": {
      "text/plain": [
       "1"
      ]
     },
     "execution_count": 14,
     "metadata": {},
     "output_type": "execute_result"
    }
   ],
   "source": [
    "t1.count(4)"
   ]
  },
  {
   "cell_type": "code",
   "execution_count": 15,
   "id": "0309d1ec-fad3-42b6-b4db-b01a03472682",
   "metadata": {},
   "outputs": [
    {
     "data": {
      "text/plain": [
       "0"
      ]
     },
     "execution_count": 15,
     "metadata": {},
     "output_type": "execute_result"
    }
   ],
   "source": [
    "t1.count(\"abc\")"
   ]
  },
  {
   "cell_type": "code",
   "execution_count": 16,
   "id": "495e14ee-06a7-4397-a5d1-eb928e085e06",
   "metadata": {},
   "outputs": [
    {
     "data": {
      "text/plain": [
       "0"
      ]
     },
     "execution_count": 16,
     "metadata": {},
     "output_type": "execute_result"
    }
   ],
   "source": [
    "t1.index(1)"
   ]
  },
  {
   "cell_type": "code",
   "execution_count": 18,
   "id": "6091b544-c37e-4437-b487-25c095189067",
   "metadata": {},
   "outputs": [
    {
     "data": {
      "text/plain": [
       "9"
      ]
     },
     "execution_count": 18,
     "metadata": {},
     "output_type": "execute_result"
    }
   ],
   "source": [
    "t1.index(1,1)"
   ]
  },
  {
   "cell_type": "code",
   "execution_count": 19,
   "id": "02a14729-ed00-4a0e-b644-3089a54fe06e",
   "metadata": {},
   "outputs": [
    {
     "data": {
      "text/plain": [
       "8"
      ]
     },
     "execution_count": 19,
     "metadata": {},
     "output_type": "execute_result"
    }
   ],
   "source": [
    "t1.index(\"Prashant\")"
   ]
  },
  {
   "cell_type": "code",
   "execution_count": 20,
   "id": "d9555847-5573-46ec-83f2-0a3fb0038104",
   "metadata": {},
   "outputs": [
    {
     "data": {
      "text/plain": [
       "2"
      ]
     },
     "execution_count": 20,
     "metadata": {},
     "output_type": "execute_result"
    }
   ],
   "source": [
    "t1.count(True)"
   ]
  },
  {
   "cell_type": "code",
   "execution_count": 21,
   "id": "5ac5c5ee-f338-4458-b812-ff252618c1f7",
   "metadata": {},
   "outputs": [],
   "source": [
    "l = [1,2,3,4]"
   ]
  },
  {
   "cell_type": "code",
   "execution_count": 22,
   "id": "0edf8f6d-8de8-42e1-bae5-7acd129fc64a",
   "metadata": {},
   "outputs": [
    {
     "data": {
      "text/plain": [
       "list"
      ]
     },
     "execution_count": 22,
     "metadata": {},
     "output_type": "execute_result"
    }
   ],
   "source": [
    "type(l)"
   ]
  },
  {
   "cell_type": "code",
   "execution_count": 23,
   "id": "8c5e3980-28e2-49b8-96e5-5de25f93050e",
   "metadata": {},
   "outputs": [
    {
     "data": {
      "text/plain": [
       "(1, 2, 3, 4, 5, 6, 7, 44.44, 'Prashant', True, (2+5j))"
      ]
     },
     "execution_count": 23,
     "metadata": {},
     "output_type": "execute_result"
    }
   ],
   "source": [
    "t1"
   ]
  },
  {
   "cell_type": "code",
   "execution_count": 24,
   "id": "598d7c2a-655c-4b78-a01c-27d6d99eed95",
   "metadata": {},
   "outputs": [
    {
     "ename": "TypeError",
     "evalue": "'tuple' object does not support item assignment",
     "output_type": "error",
     "traceback": [
      "\u001b[0;31m---------------------------------------------------------------------------\u001b[0m",
      "\u001b[0;31mTypeError\u001b[0m                                 Traceback (most recent call last)",
      "Cell \u001b[0;32mIn[24], line 1\u001b[0m\n\u001b[0;32m----> 1\u001b[0m \u001b[43mt1\u001b[49m\u001b[43m[\u001b[49m\u001b[38;5;241;43m0\u001b[39;49m\u001b[43m]\u001b[49m \u001b[38;5;241m=\u001b[39m \u001b[38;5;241m111\u001b[39m\n",
      "\u001b[0;31mTypeError\u001b[0m: 'tuple' object does not support item assignment"
     ]
    }
   ],
   "source": [
    "t1[0] = 111"
   ]
  },
  {
   "cell_type": "code",
   "execution_count": 25,
   "id": "56bb28b3-082b-46ba-a261-d9a293cfcc8a",
   "metadata": {},
   "outputs": [],
   "source": [
    "l[0] = 100"
   ]
  },
  {
   "cell_type": "code",
   "execution_count": 26,
   "id": "7a337e32-e907-4514-9383-39dff8af6958",
   "metadata": {},
   "outputs": [
    {
     "data": {
      "text/plain": [
       "[100, 2, 3, 4]"
      ]
     },
     "execution_count": 26,
     "metadata": {},
     "output_type": "execute_result"
    }
   ],
   "source": [
    "l"
   ]
  },
  {
   "cell_type": "code",
   "execution_count": 27,
   "id": "aeac2992-be19-428d-997e-21daacc8ba6e",
   "metadata": {},
   "outputs": [
    {
     "name": "stdout",
     "output_type": "stream",
     "text": [
      "1\n",
      "2\n",
      "3\n",
      "4\n",
      "5\n",
      "6\n",
      "7\n",
      "44.44\n",
      "Prashant\n",
      "True\n",
      "(2+5j)\n"
     ]
    }
   ],
   "source": [
    "for i in iter(t1):\n",
    "    print(i)"
   ]
  },
  {
   "cell_type": "code",
   "execution_count": 28,
   "id": "05fd5408-2cb8-4f67-92e5-aae45a20cf85",
   "metadata": {},
   "outputs": [
    {
     "name": "stdout",
     "output_type": "stream",
     "text": [
      "1 <class 'int'>\n",
      "2 <class 'int'>\n",
      "3 <class 'int'>\n",
      "4 <class 'int'>\n",
      "5 <class 'int'>\n",
      "6 <class 'int'>\n",
      "7 <class 'int'>\n",
      "44.44 <class 'float'>\n",
      "Prashant <class 'str'>\n",
      "True <class 'bool'>\n",
      "(2+5j) <class 'complex'>\n"
     ]
    }
   ],
   "source": [
    "for i in t1:\n",
    "    print(i, type(i))"
   ]
  },
  {
   "cell_type": "code",
   "execution_count": 30,
   "id": "f31ddd85-f659-4ea9-8571-f44c6c23c5c1",
   "metadata": {},
   "outputs": [],
   "source": [
    "t2 = (1,2,3,4,5,6)"
   ]
  },
  {
   "cell_type": "code",
   "execution_count": 31,
   "id": "c7feaab3-ac42-4d68-a86c-dee7982adfaa",
   "metadata": {},
   "outputs": [
    {
     "data": {
      "text/plain": [
       "(1, 2, 3, 4, 5, 6)"
      ]
     },
     "execution_count": 31,
     "metadata": {},
     "output_type": "execute_result"
    }
   ],
   "source": [
    "t2"
   ]
  },
  {
   "cell_type": "code",
   "execution_count": 32,
   "id": "6a19b3ba-dede-4474-a4d6-8f9f1bafead9",
   "metadata": {},
   "outputs": [
    {
     "data": {
      "text/plain": [
       "(1, 2, 3, 4, 5, 6, 1, 2, 3, 4, 5, 6, 1, 2, 3, 4, 5, 6)"
      ]
     },
     "execution_count": 32,
     "metadata": {},
     "output_type": "execute_result"
    }
   ],
   "source": [
    "t2 * 3"
   ]
  },
  {
   "cell_type": "code",
   "execution_count": 33,
   "id": "95453477-b1b5-41e1-b37f-c6b27f105243",
   "metadata": {},
   "outputs": [
    {
     "data": {
      "text/plain": [
       "(1, 2, 3, 4, 5, 6)"
      ]
     },
     "execution_count": 33,
     "metadata": {},
     "output_type": "execute_result"
    }
   ],
   "source": [
    "t2"
   ]
  },
  {
   "cell_type": "code",
   "execution_count": 35,
   "id": "dff21709-add9-494c-b670-2c5fcc49fdfc",
   "metadata": {},
   "outputs": [
    {
     "data": {
      "text/plain": [
       "6"
      ]
     },
     "execution_count": 35,
     "metadata": {},
     "output_type": "execute_result"
    }
   ],
   "source": [
    "max(t2)"
   ]
  },
  {
   "cell_type": "code",
   "execution_count": 36,
   "id": "c543b404-c552-438f-9d29-d39b699e45cf",
   "metadata": {},
   "outputs": [
    {
     "data": {
      "text/plain": [
       "1"
      ]
     },
     "execution_count": 36,
     "metadata": {},
     "output_type": "execute_result"
    }
   ],
   "source": [
    "min(t2)"
   ]
  },
  {
   "cell_type": "code",
   "execution_count": 37,
   "id": "6b429e65-ccfb-4762-9914-34c4595787a1",
   "metadata": {},
   "outputs": [],
   "source": [
    "# Tuples basically follows immutability concepts where no change is allowed at a peific index"
   ]
  },
  {
   "cell_type": "code",
   "execution_count": 38,
   "id": "c6a396cc-e3a4-419d-9a89-857d514b46b4",
   "metadata": {},
   "outputs": [],
   "source": [
    "t3 = (1,2,34,5)\n",
    "t4 = (5,6,7,88)"
   ]
  },
  {
   "cell_type": "code",
   "execution_count": 39,
   "id": "f691c6ec-fae6-4d12-97f2-e1bae6176b05",
   "metadata": {},
   "outputs": [],
   "source": [
    "t5 = (t3,t4)"
   ]
  },
  {
   "cell_type": "code",
   "execution_count": 40,
   "id": "957276bc-b053-4f77-9ae9-e28d87e8b3ae",
   "metadata": {},
   "outputs": [
    {
     "data": {
      "text/plain": [
       "((1, 2, 34, 5), (5, 6, 7, 88))"
      ]
     },
     "execution_count": 40,
     "metadata": {},
     "output_type": "execute_result"
    }
   ],
   "source": [
    "t5"
   ]
  },
  {
   "cell_type": "code",
   "execution_count": 41,
   "id": "365907fd-a1e5-4ab8-946a-8c41b3480289",
   "metadata": {},
   "outputs": [
    {
     "data": {
      "text/plain": [
       "(1, 2, 34, 5)"
      ]
     },
     "execution_count": 41,
     "metadata": {},
     "output_type": "execute_result"
    }
   ],
   "source": [
    "t5[0]"
   ]
  },
  {
   "cell_type": "code",
   "execution_count": 42,
   "id": "1a62a26a-72e3-4442-937b-47cea41f9e7e",
   "metadata": {},
   "outputs": [
    {
     "data": {
      "text/plain": [
       "1"
      ]
     },
     "execution_count": 42,
     "metadata": {},
     "output_type": "execute_result"
    }
   ],
   "source": [
    "t5[0][0]"
   ]
  },
  {
   "cell_type": "code",
   "execution_count": 43,
   "id": "060071d0-5257-4e55-b17f-70fc70f95913",
   "metadata": {},
   "outputs": [],
   "source": [
    "t6 = ((1,2,3),[4,5,6])"
   ]
  },
  {
   "cell_type": "code",
   "execution_count": 44,
   "id": "453a1c91-572f-4231-b0a1-be3693f4137e",
   "metadata": {},
   "outputs": [
    {
     "data": {
      "text/plain": [
       "((1, 2, 3), [4, 5, 6])"
      ]
     },
     "execution_count": 44,
     "metadata": {},
     "output_type": "execute_result"
    }
   ],
   "source": [
    "t6"
   ]
  },
  {
   "cell_type": "code",
   "execution_count": 46,
   "id": "1ce370ed-ab05-418b-ac3e-6729e03caac5",
   "metadata": {},
   "outputs": [
    {
     "data": {
      "text/plain": [
       "5"
      ]
     },
     "execution_count": 46,
     "metadata": {},
     "output_type": "execute_result"
    }
   ],
   "source": [
    "t6[1][1]"
   ]
  },
  {
   "cell_type": "code",
   "execution_count": 47,
   "id": "190d9536-846f-4d25-a7fc-09f6bccf859b",
   "metadata": {},
   "outputs": [],
   "source": [
    "del t6"
   ]
  },
  {
   "cell_type": "code",
   "execution_count": 48,
   "id": "9dd7f84b-e3dd-47c4-a354-1a17014a985c",
   "metadata": {},
   "outputs": [
    {
     "ename": "NameError",
     "evalue": "name 't6' is not defined",
     "output_type": "error",
     "traceback": [
      "\u001b[0;31m---------------------------------------------------------------------------\u001b[0m",
      "\u001b[0;31mNameError\u001b[0m                                 Traceback (most recent call last)",
      "Cell \u001b[0;32mIn[48], line 1\u001b[0m\n\u001b[0;32m----> 1\u001b[0m \u001b[43mt6\u001b[49m\n",
      "\u001b[0;31mNameError\u001b[0m: name 't6' is not defined"
     ]
    }
   ],
   "source": [
    "t6"
   ]
  },
  {
   "cell_type": "code",
   "execution_count": 49,
   "id": "d515c74a-87ed-4c3a-81e7-e62404582853",
   "metadata": {},
   "outputs": [
    {
     "data": {
      "text/plain": [
       "2"
      ]
     },
     "execution_count": 49,
     "metadata": {},
     "output_type": "execute_result"
    }
   ],
   "source": [
    "len(t5)"
   ]
  },
  {
   "cell_type": "code",
   "execution_count": 50,
   "id": "86aa3c77-ce39-42be-8bd4-8daa201b6eba",
   "metadata": {},
   "outputs": [
    {
     "data": {
      "text/plain": [
       "((1, 2, 34, 5), (5, 6, 7, 88))"
      ]
     },
     "execution_count": 50,
     "metadata": {},
     "output_type": "execute_result"
    }
   ],
   "source": [
    "t5"
   ]
  },
  {
   "cell_type": "code",
   "execution_count": 51,
   "id": "97006f9a-ecb2-433f-b7e4-c1737b060244",
   "metadata": {},
   "outputs": [
    {
     "data": {
      "text/plain": [
       "False"
      ]
     },
     "execution_count": 51,
     "metadata": {},
     "output_type": "execute_result"
    }
   ],
   "source": [
    "2 in t5"
   ]
  },
  {
   "cell_type": "code",
   "execution_count": 52,
   "id": "4beb3937-73c9-44b4-84ed-88ed0d5d4c0d",
   "metadata": {},
   "outputs": [
    {
     "data": {
      "text/plain": [
       "(1, 2, 3, 4, 5, 6, 7, 44.44, 'Prashant', True, (2+5j))"
      ]
     },
     "execution_count": 52,
     "metadata": {},
     "output_type": "execute_result"
    }
   ],
   "source": [
    "t1"
   ]
  },
  {
   "cell_type": "code",
   "execution_count": 53,
   "id": "7a6592a5-8314-45c4-9a39-df2f1f5f04f0",
   "metadata": {},
   "outputs": [
    {
     "data": {
      "text/plain": [
       "True"
      ]
     },
     "execution_count": 53,
     "metadata": {},
     "output_type": "execute_result"
    }
   ],
   "source": [
    "1 in t1"
   ]
  },
  {
   "cell_type": "code",
   "execution_count": 54,
   "id": "7af27cff-526c-4f01-8485-8e8772c08126",
   "metadata": {},
   "outputs": [
    {
     "data": {
      "text/plain": [
       "True"
      ]
     },
     "execution_count": 54,
     "metadata": {},
     "output_type": "execute_result"
    }
   ],
   "source": [
    "44.44 in t1"
   ]
  },
  {
   "cell_type": "markdown",
   "id": "9691a44c-d467-4516-9be6-83f5f3bf1a44",
   "metadata": {},
   "source": [
    "# Sets"
   ]
  },
  {
   "cell_type": "code",
   "execution_count": 55,
   "id": "703c6909-a602-4f2b-b1e6-11c1e63968f8",
   "metadata": {},
   "outputs": [],
   "source": [
    "s = {}"
   ]
  },
  {
   "cell_type": "code",
   "execution_count": 56,
   "id": "479a2d85-b75b-4ece-bb4c-c7b2fb368514",
   "metadata": {},
   "outputs": [
    {
     "data": {
      "text/plain": [
       "dict"
      ]
     },
     "execution_count": 56,
     "metadata": {},
     "output_type": "execute_result"
    }
   ],
   "source": [
    "type(s)"
   ]
  },
  {
   "cell_type": "code",
   "execution_count": 57,
   "id": "fc198943-57ed-4297-9b6f-07f6fc5175a5",
   "metadata": {},
   "outputs": [],
   "source": [
    "s1 = {1,2,3,4,5}"
   ]
  },
  {
   "cell_type": "code",
   "execution_count": 58,
   "id": "4117c55b-0d25-47e1-aab2-2d6c633a366a",
   "metadata": {},
   "outputs": [
    {
     "data": {
      "text/plain": [
       "set"
      ]
     },
     "execution_count": 58,
     "metadata": {},
     "output_type": "execute_result"
    }
   ],
   "source": [
    "type(s1)"
   ]
  },
  {
   "cell_type": "code",
   "execution_count": 69,
   "id": "9b0d01e1-6370-406f-8433-d71f8fe8c815",
   "metadata": {},
   "outputs": [],
   "source": [
    "s2 = {1,1,33,33,55,66,77,77}"
   ]
  },
  {
   "cell_type": "code",
   "execution_count": 60,
   "id": "be34ee99-a1eb-45e9-9658-ced045a69f7e",
   "metadata": {},
   "outputs": [
    {
     "data": {
      "text/plain": [
       "{1, 33, 55, 66, 77}"
      ]
     },
     "execution_count": 60,
     "metadata": {},
     "output_type": "execute_result"
    }
   ],
   "source": [
    "s2"
   ]
  },
  {
   "cell_type": "code",
   "execution_count": 61,
   "id": "e70e7d95-a2fc-4052-bc51-ae7f4d27f14b",
   "metadata": {},
   "outputs": [],
   "source": [
    "# Sets stores unique data or distinct data"
   ]
  },
  {
   "cell_type": "code",
   "execution_count": 65,
   "id": "b194838c-2a87-4efa-a240-045d3babdd79",
   "metadata": {},
   "outputs": [
    {
     "data": {
      "text/plain": [
       "[1, 66, 33, 55, 77]"
      ]
     },
     "execution_count": 65,
     "metadata": {},
     "output_type": "execute_result"
    }
   ],
   "source": [
    "l = list(s2)\n",
    "l"
   ]
  },
  {
   "cell_type": "code",
   "execution_count": 63,
   "id": "d0a25977-b023-4349-87d7-0d79f637d26a",
   "metadata": {},
   "outputs": [
    {
     "data": {
      "text/plain": [
       "(1, 66, 33, 55, 77)"
      ]
     },
     "execution_count": 63,
     "metadata": {},
     "output_type": "execute_result"
    }
   ],
   "source": [
    "tuple(s2)"
   ]
  },
  {
   "cell_type": "code",
   "execution_count": 66,
   "id": "5bb54d9f-4562-4f93-a09a-e7d0c79da3a4",
   "metadata": {},
   "outputs": [
    {
     "data": {
      "text/plain": [
       "{1, 33, 55, 66, 77}"
      ]
     },
     "execution_count": 66,
     "metadata": {},
     "output_type": "execute_result"
    }
   ],
   "source": [
    "set(l)"
   ]
  },
  {
   "cell_type": "code",
   "execution_count": 67,
   "id": "ae03d927-664d-4688-b0fa-22e8184d1d26",
   "metadata": {},
   "outputs": [
    {
     "ename": "TypeError",
     "evalue": "unhashable type: 'list'",
     "output_type": "error",
     "traceback": [
      "\u001b[0;31m---------------------------------------------------------------------------\u001b[0m",
      "\u001b[0;31mTypeError\u001b[0m                                 Traceback (most recent call last)",
      "Cell \u001b[0;32mIn[67], line 1\u001b[0m\n\u001b[0;32m----> 1\u001b[0m s4 \u001b[38;5;241m=\u001b[39m {\u001b[38;5;241m1\u001b[39m,\u001b[38;5;241m2\u001b[39m,\u001b[38;5;241m3\u001b[39m,\u001b[38;5;241m4\u001b[39m,[\u001b[38;5;241m1\u001b[39m,\u001b[38;5;241m2\u001b[39m,\u001b[38;5;241m3\u001b[39m,\u001b[38;5;241m4\u001b[39m]}\n",
      "\u001b[0;31mTypeError\u001b[0m: unhashable type: 'list'"
     ]
    }
   ],
   "source": [
    "s4 = {1,2,3,4,[1,2,3,4]}"
   ]
  },
  {
   "cell_type": "code",
   "execution_count": 70,
   "id": "3aff86c5-0743-41aa-998d-c4e1fa5d0feb",
   "metadata": {},
   "outputs": [
    {
     "data": {
      "text/plain": [
       "5"
      ]
     },
     "execution_count": 70,
     "metadata": {},
     "output_type": "execute_result"
    }
   ],
   "source": [
    "len(s2)"
   ]
  },
  {
   "cell_type": "code",
   "execution_count": 72,
   "id": "bf996d4a-5283-4f41-b604-37959a0d02e3",
   "metadata": {},
   "outputs": [],
   "source": [
    "s5 = {1,2,3,4, (6,7,8)}"
   ]
  },
  {
   "cell_type": "code",
   "execution_count": 73,
   "id": "6f52adb3-ae5d-4052-af28-aa426c798656",
   "metadata": {},
   "outputs": [
    {
     "data": {
      "text/plain": [
       "{(6, 7, 8), 1, 2, 3, 4}"
      ]
     },
     "execution_count": 73,
     "metadata": {},
     "output_type": "execute_result"
    }
   ],
   "source": [
    "s5"
   ]
  },
  {
   "cell_type": "code",
   "execution_count": 74,
   "id": "913452ae-a6a4-4257-b29d-e4aaf94049c6",
   "metadata": {},
   "outputs": [],
   "source": [
    "s6 = {\"prashant\",\"PRASHANT\",2,3,4,5}"
   ]
  },
  {
   "cell_type": "code",
   "execution_count": 75,
   "id": "7438a7e5-1afc-4f48-b285-c8a29c5f0edf",
   "metadata": {},
   "outputs": [
    {
     "data": {
      "text/plain": [
       "{2, 3, 4, 5, 'PRASHANT', 'prashant'}"
      ]
     },
     "execution_count": 75,
     "metadata": {},
     "output_type": "execute_result"
    }
   ],
   "source": [
    "s6"
   ]
  },
  {
   "cell_type": "code",
   "execution_count": 76,
   "id": "defe3d0a-1516-4ccf-9501-6a6283a0c942",
   "metadata": {},
   "outputs": [],
   "source": [
    "s7 = {\"prashant\",\"prashant\",2,3,4,5}"
   ]
  },
  {
   "cell_type": "code",
   "execution_count": 77,
   "id": "34ac3d86-d69f-45f5-9933-78fcb5abb5f1",
   "metadata": {},
   "outputs": [
    {
     "data": {
      "text/plain": [
       "{2, 3, 4, 5, 'prashant'}"
      ]
     },
     "execution_count": 77,
     "metadata": {},
     "output_type": "execute_result"
    }
   ],
   "source": [
    "s7"
   ]
  },
  {
   "cell_type": "code",
   "execution_count": 78,
   "id": "cba86c32-1d26-4228-a9d3-2c577967e911",
   "metadata": {},
   "outputs": [
    {
     "ename": "TypeError",
     "evalue": "'set' object is not subscriptable",
     "output_type": "error",
     "traceback": [
      "\u001b[0;31m---------------------------------------------------------------------------\u001b[0m",
      "\u001b[0;31mTypeError\u001b[0m                                 Traceback (most recent call last)",
      "Cell \u001b[0;32mIn[78], line 1\u001b[0m\n\u001b[0;32m----> 1\u001b[0m \u001b[43ms7\u001b[49m\u001b[43m[\u001b[49m\u001b[38;5;241;43m0\u001b[39;49m\u001b[43m]\u001b[49m\n",
      "\u001b[0;31mTypeError\u001b[0m: 'set' object is not subscriptable"
     ]
    }
   ],
   "source": [
    "s7[0]"
   ]
  },
  {
   "cell_type": "code",
   "execution_count": 79,
   "id": "5b4fc727-dbb9-4f79-96c7-f675808c062f",
   "metadata": {},
   "outputs": [
    {
     "ename": "TypeError",
     "evalue": "'set' object is not subscriptable",
     "output_type": "error",
     "traceback": [
      "\u001b[0;31m---------------------------------------------------------------------------\u001b[0m",
      "\u001b[0;31mTypeError\u001b[0m                                 Traceback (most recent call last)",
      "Cell \u001b[0;32mIn[79], line 1\u001b[0m\n\u001b[0;32m----> 1\u001b[0m \u001b[43ms7\u001b[49m\u001b[43m[\u001b[49m\u001b[43m:\u001b[49m\u001b[43m:\u001b[49m\u001b[38;5;241;43m-\u001b[39;49m\u001b[38;5;241;43m1\u001b[39;49m\u001b[43m]\u001b[49m\n",
      "\u001b[0;31mTypeError\u001b[0m: 'set' object is not subscriptable"
     ]
    }
   ],
   "source": [
    "s7[::-1]"
   ]
  },
  {
   "cell_type": "code",
   "execution_count": 80,
   "id": "653d596c-948a-40bc-af9c-1220cdc3a609",
   "metadata": {},
   "outputs": [
    {
     "data": {
      "text/plain": [
       "{2, 3, 4, 5, 'prashant'}"
      ]
     },
     "execution_count": 80,
     "metadata": {},
     "output_type": "execute_result"
    }
   ],
   "source": [
    "s7"
   ]
  },
  {
   "cell_type": "code",
   "execution_count": 82,
   "id": "f96c8121-d7e1-408c-9fd6-4dd8a21405f0",
   "metadata": {},
   "outputs": [
    {
     "name": "stdout",
     "output_type": "stream",
     "text": [
      "prashant\n",
      "2\n",
      "3\n",
      "4\n",
      "5\n"
     ]
    }
   ],
   "source": [
    "for i in s7:\n",
    "    print(i)"
   ]
  },
  {
   "cell_type": "code",
   "execution_count": 83,
   "id": "13c64711-e762-48c8-9b05-b39d05a739b0",
   "metadata": {},
   "outputs": [],
   "source": [
    "s7.add(10)"
   ]
  },
  {
   "cell_type": "code",
   "execution_count": 84,
   "id": "e7c421f6-cfb3-4aa6-a256-69bfc5773f0b",
   "metadata": {},
   "outputs": [
    {
     "data": {
      "text/plain": [
       "{10, 2, 3, 4, 5, 'prashant'}"
      ]
     },
     "execution_count": 84,
     "metadata": {},
     "output_type": "execute_result"
    }
   ],
   "source": [
    "s7"
   ]
  },
  {
   "cell_type": "code",
   "execution_count": 85,
   "id": "2e6d7c15-752a-4793-9cf6-35e84e2ed21a",
   "metadata": {},
   "outputs": [],
   "source": [
    "s7.add(2)"
   ]
  },
  {
   "cell_type": "code",
   "execution_count": 86,
   "id": "2e6ba672-eabc-4709-a542-80bed417cc9b",
   "metadata": {},
   "outputs": [
    {
     "data": {
      "text/plain": [
       "{10, 2, 3, 4, 5, 'prashant'}"
      ]
     },
     "execution_count": 86,
     "metadata": {},
     "output_type": "execute_result"
    }
   ],
   "source": [
    "s7"
   ]
  },
  {
   "cell_type": "code",
   "execution_count": 88,
   "id": "bfe4b5cd-eab6-4aa2-af88-0cec1967580d",
   "metadata": {},
   "outputs": [
    {
     "data": {
      "text/plain": [
       "6"
      ]
     },
     "execution_count": 88,
     "metadata": {},
     "output_type": "execute_result"
    }
   ],
   "source": [
    "len(s7)"
   ]
  },
  {
   "cell_type": "code",
   "execution_count": 89,
   "id": "5c667b7c-842e-4359-8123-2bfc6c357cea",
   "metadata": {},
   "outputs": [
    {
     "data": {
      "text/plain": [
       "'prashant'"
      ]
     },
     "execution_count": 89,
     "metadata": {},
     "output_type": "execute_result"
    }
   ],
   "source": [
    "s7.pop()"
   ]
  },
  {
   "cell_type": "code",
   "execution_count": 90,
   "id": "647466ed-c3ed-4529-a4c0-e68ac2d77f98",
   "metadata": {},
   "outputs": [
    {
     "data": {
      "text/plain": [
       "{2, 3, 4, 5, 10}"
      ]
     },
     "execution_count": 90,
     "metadata": {},
     "output_type": "execute_result"
    }
   ],
   "source": [
    "s7"
   ]
  },
  {
   "cell_type": "code",
   "execution_count": 91,
   "id": "c0ead513-dacd-40fd-a6fb-7042ffca28d9",
   "metadata": {},
   "outputs": [
    {
     "data": {
      "text/plain": [
       "2"
      ]
     },
     "execution_count": 91,
     "metadata": {},
     "output_type": "execute_result"
    }
   ],
   "source": [
    "s7.pop()"
   ]
  },
  {
   "cell_type": "code",
   "execution_count": 92,
   "id": "17acbfed-edf0-4100-a3f9-2741a0b50197",
   "metadata": {},
   "outputs": [
    {
     "data": {
      "text/plain": [
       "3"
      ]
     },
     "execution_count": 92,
     "metadata": {},
     "output_type": "execute_result"
    }
   ],
   "source": [
    "s7.pop()"
   ]
  },
  {
   "cell_type": "code",
   "execution_count": 93,
   "id": "e69a53f0-905c-4c28-bb17-73153148d1d3",
   "metadata": {},
   "outputs": [
    {
     "data": {
      "text/plain": [
       "4"
      ]
     },
     "execution_count": 93,
     "metadata": {},
     "output_type": "execute_result"
    }
   ],
   "source": [
    "s7.pop()"
   ]
  },
  {
   "cell_type": "code",
   "execution_count": 94,
   "id": "0da37f0c-27b0-4dad-80da-40d705135981",
   "metadata": {},
   "outputs": [
    {
     "data": {
      "text/plain": [
       "{5, 10}"
      ]
     },
     "execution_count": 94,
     "metadata": {},
     "output_type": "execute_result"
    }
   ],
   "source": [
    "s7"
   ]
  },
  {
   "cell_type": "code",
   "execution_count": 95,
   "id": "daeacca7-600d-4c5a-a161-12f13336feae",
   "metadata": {},
   "outputs": [],
   "source": [
    "s7.clear()"
   ]
  },
  {
   "cell_type": "code",
   "execution_count": 96,
   "id": "ff50d891-d8a6-4a25-ac78-074f4e2e9c23",
   "metadata": {},
   "outputs": [
    {
     "data": {
      "text/plain": [
       "set()"
      ]
     },
     "execution_count": 96,
     "metadata": {},
     "output_type": "execute_result"
    }
   ],
   "source": [
    "s7"
   ]
  },
  {
   "cell_type": "code",
   "execution_count": 97,
   "id": "f40a61db-881f-44e3-8c8c-987ce3ff0590",
   "metadata": {},
   "outputs": [],
   "source": [
    "s8 = {1,2,3,4}\n",
    "s9 ={1,2,3,5}"
   ]
  },
  {
   "cell_type": "code",
   "execution_count": 99,
   "id": "99085e0b-f6cf-4ad5-aa83-9f1bcb516d1e",
   "metadata": {},
   "outputs": [
    {
     "data": {
      "text/plain": [
       "{4}"
      ]
     },
     "execution_count": 99,
     "metadata": {},
     "output_type": "execute_result"
    }
   ],
   "source": [
    "s8.difference(s9)"
   ]
  },
  {
   "cell_type": "code",
   "execution_count": 100,
   "id": "4ff7a1fb-ae48-4fdf-9ce4-7cd8c9883633",
   "metadata": {},
   "outputs": [
    {
     "data": {
      "text/plain": [
       "{5}"
      ]
     },
     "execution_count": 100,
     "metadata": {},
     "output_type": "execute_result"
    }
   ],
   "source": [
    "s9.difference(s8)"
   ]
  },
  {
   "cell_type": "markdown",
   "id": "edbc8cc4-b5a6-419b-a9ea-c4e74b59fefa",
   "metadata": {},
   "source": [
    "# Dictionary"
   ]
  },
  {
   "cell_type": "code",
   "execution_count": 101,
   "id": "0e3aa79a-013a-4870-b0bc-b80581e72b48",
   "metadata": {},
   "outputs": [],
   "source": [
    "d = {}"
   ]
  },
  {
   "cell_type": "code",
   "execution_count": 102,
   "id": "9b4ebc85-7e6d-40f4-ba43-d32edee52a19",
   "metadata": {},
   "outputs": [
    {
     "data": {
      "text/plain": [
       "dict"
      ]
     },
     "execution_count": 102,
     "metadata": {},
     "output_type": "execute_result"
    }
   ],
   "source": [
    "type(d)"
   ]
  },
  {
   "cell_type": "code",
   "execution_count": 103,
   "id": "d962f64f-f0c1-415a-92ca-e2ae444e6685",
   "metadata": {},
   "outputs": [],
   "source": [
    "d1 = {\"name\": \"Prashant\", \"email\": \"prashant@gmail.com\"}"
   ]
  },
  {
   "cell_type": "code",
   "execution_count": 104,
   "id": "bf8d881c-43a6-4ce4-a86b-3c13d7203e71",
   "metadata": {},
   "outputs": [
    {
     "data": {
      "text/plain": [
       "dict"
      ]
     },
     "execution_count": 104,
     "metadata": {},
     "output_type": "execute_result"
    }
   ],
   "source": [
    "type(d1)"
   ]
  },
  {
   "cell_type": "code",
   "execution_count": 107,
   "id": "098c098d-b077-4375-82de-c375b882f811",
   "metadata": {},
   "outputs": [
    {
     "data": {
      "text/plain": [
       "'Prashant'"
      ]
     },
     "execution_count": 107,
     "metadata": {},
     "output_type": "execute_result"
    }
   ],
   "source": [
    "d1[\"name\"]"
   ]
  },
  {
   "cell_type": "code",
   "execution_count": 109,
   "id": "ee8af297-7fb1-4d35-bcd2-b86df40f1ade",
   "metadata": {},
   "outputs": [],
   "source": [
    "d2 = {\"name\":\"Prashant\",\"name\":\"PRASHANT\"}"
   ]
  },
  {
   "cell_type": "code",
   "execution_count": 110,
   "id": "43ea6cfe-a876-49e6-a1d4-3ec3577c0930",
   "metadata": {},
   "outputs": [
    {
     "data": {
      "text/plain": [
       "{'name': 'PRASHANT'}"
      ]
     },
     "execution_count": 110,
     "metadata": {},
     "output_type": "execute_result"
    }
   ],
   "source": [
    "d2"
   ]
  },
  {
   "cell_type": "code",
   "execution_count": 111,
   "id": "d1c0a6a6-2e73-4e1d-8e02-2cafd34cca5d",
   "metadata": {},
   "outputs": [],
   "source": [
    "# Key should alwsys be unique"
   ]
  },
  {
   "cell_type": "code",
   "execution_count": 120,
   "id": "9113d591-fc42-429d-8e15-5f055708f24d",
   "metadata": {},
   "outputs": [],
   "source": [
    "d3 = {2222 : \"ABC\"}"
   ]
  },
  {
   "cell_type": "code",
   "execution_count": 121,
   "id": "364556d5-dc03-430e-bd1c-e1c91ef19328",
   "metadata": {},
   "outputs": [
    {
     "data": {
      "text/plain": [
       "{2222: 'ABC'}"
      ]
     },
     "execution_count": 121,
     "metadata": {},
     "output_type": "execute_result"
    }
   ],
   "source": [
    "d3"
   ]
  },
  {
   "cell_type": "code",
   "execution_count": 122,
   "id": "12cfdb59-e4be-453d-81b5-957709be4a6e",
   "metadata": {},
   "outputs": [
    {
     "data": {
      "text/plain": [
       "dict"
      ]
     },
     "execution_count": 122,
     "metadata": {},
     "output_type": "execute_result"
    }
   ],
   "source": [
    "type(d3)"
   ]
  },
  {
   "cell_type": "code",
   "execution_count": 123,
   "id": "597fd111-a175-41d3-a0a0-27233756ad38",
   "metadata": {},
   "outputs": [
    {
     "data": {
      "text/plain": [
       "'ABC'"
      ]
     },
     "execution_count": 123,
     "metadata": {},
     "output_type": "execute_result"
    }
   ],
   "source": [
    "d3[2222]"
   ]
  },
  {
   "cell_type": "code",
   "execution_count": 124,
   "id": "9d63445f-ffe5-412a-9b74-c6588b94a31a",
   "metadata": {},
   "outputs": [],
   "source": [
    "d4 = {22.11 : \"float\"}"
   ]
  },
  {
   "cell_type": "code",
   "execution_count": 125,
   "id": "34d92af0-10c0-4f6a-ba41-9c236cdd3b3a",
   "metadata": {},
   "outputs": [
    {
     "data": {
      "text/plain": [
       "'float'"
      ]
     },
     "execution_count": 125,
     "metadata": {},
     "output_type": "execute_result"
    }
   ],
   "source": [
    "d4[22.11]"
   ]
  },
  {
   "cell_type": "code",
   "execution_count": 128,
   "id": "8f1d39d2-9c9e-4d66-b70b-b95cdf29c3b5",
   "metadata": {},
   "outputs": [],
   "source": [
    "d5 = {True : \"Bool\"}"
   ]
  },
  {
   "cell_type": "code",
   "execution_count": 129,
   "id": "54a54268-ce0a-4405-8778-3b01c566d988",
   "metadata": {},
   "outputs": [
    {
     "data": {
      "text/plain": [
       "'Bool'"
      ]
     },
     "execution_count": 129,
     "metadata": {},
     "output_type": "execute_result"
    }
   ],
   "source": [
    "d5[True]"
   ]
  },
  {
   "cell_type": "code",
   "execution_count": 131,
   "id": "fd7cf857-2e43-456e-9f5c-5bf211c93cca",
   "metadata": {},
   "outputs": [
    {
     "data": {
      "text/plain": [
       "dict_keys(['name', 'email'])"
      ]
     },
     "execution_count": 131,
     "metadata": {},
     "output_type": "execute_result"
    }
   ],
   "source": [
    "d1.keys()"
   ]
  },
  {
   "cell_type": "code",
   "execution_count": 132,
   "id": "d076c279-c744-484a-a4f7-ac8c6e1c7df0",
   "metadata": {},
   "outputs": [
    {
     "ename": "TypeError",
     "evalue": "unhashable type: 'list'",
     "output_type": "error",
     "traceback": [
      "\u001b[0;31m---------------------------------------------------------------------------\u001b[0m",
      "\u001b[0;31mTypeError\u001b[0m                                 Traceback (most recent call last)",
      "Cell \u001b[0;32mIn[132], line 1\u001b[0m\n\u001b[0;32m----> 1\u001b[0m d8 \u001b[38;5;241m=\u001b[39m {[\u001b[38;5;241m1\u001b[39m,\u001b[38;5;241m2\u001b[39m] : \u001b[38;5;241m3\u001b[39m}\n",
      "\u001b[0;31mTypeError\u001b[0m: unhashable type: 'list'"
     ]
    }
   ],
   "source": [
    "d8 = {[1,2] : 3}"
   ]
  },
  {
   "cell_type": "code",
   "execution_count": 133,
   "id": "eba4d41b-1ec7-47f5-a15a-58b7d32b2c3c",
   "metadata": {},
   "outputs": [],
   "source": [
    "d9 = {(1,2) : 1}"
   ]
  },
  {
   "cell_type": "code",
   "execution_count": 134,
   "id": "9b273a37-62db-413e-8e58-41cabe3e4ada",
   "metadata": {},
   "outputs": [
    {
     "data": {
      "text/plain": [
       "{(1, 2): 1}"
      ]
     },
     "execution_count": 134,
     "metadata": {},
     "output_type": "execute_result"
    }
   ],
   "source": [
    "d9"
   ]
  },
  {
   "cell_type": "code",
   "execution_count": 135,
   "id": "b9e29e6f-206c-40b8-a973-e0f93c91eb63",
   "metadata": {},
   "outputs": [
    {
     "ename": "TypeError",
     "evalue": "unhashable type: 'set'",
     "output_type": "error",
     "traceback": [
      "\u001b[0;31m---------------------------------------------------------------------------\u001b[0m",
      "\u001b[0;31mTypeError\u001b[0m                                 Traceback (most recent call last)",
      "Cell \u001b[0;32mIn[135], line 1\u001b[0m\n\u001b[0;32m----> 1\u001b[0m d10 \u001b[38;5;241m=\u001b[39m {{\u001b[38;5;241m1\u001b[39m,\u001b[38;5;241m2\u001b[39m,\u001b[38;5;241m3\u001b[39m} : \u001b[38;5;124m\"\u001b[39m\u001b[38;5;124mabc\u001b[39m\u001b[38;5;124m\"\u001b[39m}\n",
      "\u001b[0;31mTypeError\u001b[0m: unhashable type: 'set'"
     ]
    }
   ],
   "source": [
    "d10 = {{1,2,3} : \"abc\"}"
   ]
  },
  {
   "cell_type": "code",
   "execution_count": 136,
   "id": "475dc37c-bee2-450c-ad49-b66fa1a906a2",
   "metadata": {},
   "outputs": [
    {
     "ename": "TypeError",
     "evalue": "unhashable type: 'dict'",
     "output_type": "error",
     "traceback": [
      "\u001b[0;31m---------------------------------------------------------------------------\u001b[0m",
      "\u001b[0;31mTypeError\u001b[0m                                 Traceback (most recent call last)",
      "Cell \u001b[0;32mIn[136], line 1\u001b[0m\n\u001b[0;32m----> 1\u001b[0m d11 \u001b[38;5;241m=\u001b[39m {{\u001b[38;5;124m\"\u001b[39m\u001b[38;5;124mkey\u001b[39m\u001b[38;5;124m\"\u001b[39m: \u001b[38;5;241m234\u001b[39m}: \u001b[38;5;124m\"\u001b[39m\u001b[38;5;124mabc\u001b[39m\u001b[38;5;124m\"\u001b[39m}\n",
      "\u001b[0;31mTypeError\u001b[0m: unhashable type: 'dict'"
     ]
    }
   ],
   "source": [
    "d11 = {{\"key\": 234}: \"abc\"}"
   ]
  },
  {
   "cell_type": "code",
   "execution_count": 137,
   "id": "90cc7276-f2af-4251-a67c-77a936dc22fa",
   "metadata": {},
   "outputs": [],
   "source": [
    "d12 = {\"Course_name\": [\"Python\",\"Jave\",\"System Design\"]}"
   ]
  },
  {
   "cell_type": "code",
   "execution_count": 138,
   "id": "44c9a2e3-0677-4bde-b395-91894ed9e7bd",
   "metadata": {},
   "outputs": [
    {
     "data": {
      "text/plain": [
       "{'Course_name': ['Python', 'Jave', 'System Design']}"
      ]
     },
     "execution_count": 138,
     "metadata": {},
     "output_type": "execute_result"
    }
   ],
   "source": [
    "d12"
   ]
  },
  {
   "cell_type": "code",
   "execution_count": 139,
   "id": "1df64b14-3783-4cc5-8ae1-3936bf2be2db",
   "metadata": {},
   "outputs": [
    {
     "data": {
      "text/plain": [
       "['Python', 'Jave', 'System Design']"
      ]
     },
     "execution_count": 139,
     "metadata": {},
     "output_type": "execute_result"
    }
   ],
   "source": [
    "d12[\"Course_name\"]"
   ]
  },
  {
   "cell_type": "code",
   "execution_count": 140,
   "id": "20e7a1be-cca5-4b7e-9845-f2af315cbac8",
   "metadata": {},
   "outputs": [
    {
     "ename": "KeyError",
     "evalue": "'course_name'",
     "output_type": "error",
     "traceback": [
      "\u001b[0;31m---------------------------------------------------------------------------\u001b[0m",
      "\u001b[0;31mKeyError\u001b[0m                                  Traceback (most recent call last)",
      "Cell \u001b[0;32mIn[140], line 1\u001b[0m\n\u001b[0;32m----> 1\u001b[0m \u001b[43md12\u001b[49m\u001b[43m[\u001b[49m\u001b[38;5;124;43m\"\u001b[39;49m\u001b[38;5;124;43mcourse_name\u001b[39;49m\u001b[38;5;124;43m\"\u001b[39;49m\u001b[43m]\u001b[49m\n",
      "\u001b[0;31mKeyError\u001b[0m: 'course_name'"
     ]
    }
   ],
   "source": [
    "d12[\"course_name\"]"
   ]
  },
  {
   "cell_type": "code",
   "execution_count": 141,
   "id": "8e6eb26d-fae8-4312-a79b-aac2174cbe0d",
   "metadata": {},
   "outputs": [],
   "source": [
    "d13 = {\"key\": (1,2,3,4,5)}"
   ]
  },
  {
   "cell_type": "code",
   "execution_count": 142,
   "id": "942ee9eb-69ac-415a-97d3-154139ec35ea",
   "metadata": {},
   "outputs": [],
   "source": [
    "d14 = {\"key\": {1,2,3,4,5}}"
   ]
  },
  {
   "cell_type": "code",
   "execution_count": 143,
   "id": "77d3330a-3de3-4942-84e5-db9a82c9ef54",
   "metadata": {},
   "outputs": [],
   "source": [
    "d15 = {\"key\" : {\"name\": \"Prashant\"}}"
   ]
  },
  {
   "cell_type": "code",
   "execution_count": 144,
   "id": "058f5d6c-52f4-4d67-98ad-42f7fc220c92",
   "metadata": {},
   "outputs": [
    {
     "data": {
      "text/plain": [
       "{'key': {'name': 'Prashant'}}"
      ]
     },
     "execution_count": 144,
     "metadata": {},
     "output_type": "execute_result"
    }
   ],
   "source": [
    "d15"
   ]
  },
  {
   "cell_type": "code",
   "execution_count": 145,
   "id": "31a8851b-2624-458b-8313-c48644526125",
   "metadata": {},
   "outputs": [
    {
     "data": {
      "text/plain": [
       "{'name': 'Prashant'}"
      ]
     },
     "execution_count": 145,
     "metadata": {},
     "output_type": "execute_result"
    }
   ],
   "source": [
    "d15[\"key\"]"
   ]
  },
  {
   "cell_type": "code",
   "execution_count": 147,
   "id": "6818e32e-6f5f-4bac-8261-d30d33dc9352",
   "metadata": {},
   "outputs": [
    {
     "data": {
      "text/plain": [
       "'Prashant'"
      ]
     },
     "execution_count": 147,
     "metadata": {},
     "output_type": "execute_result"
    }
   ],
   "source": [
    "d15[\"key\"][\"name\"]"
   ]
  },
  {
   "cell_type": "code",
   "execution_count": 148,
   "id": "18dbbc45-ffb5-4ea0-97ea-4827ce89424d",
   "metadata": {},
   "outputs": [],
   "source": [
    "d16 = {\"batch_name\": [\"Data Science\",\"Java\",\"Web Development\"], \"start_date\": (28,14,21), \"mentor_name\": {\"Prashant\",\"Swaraj\"}}"
   ]
  },
  {
   "cell_type": "code",
   "execution_count": 149,
   "id": "58e506a0-af59-432c-ad4a-b9028e1c6522",
   "metadata": {},
   "outputs": [
    {
     "data": {
      "text/plain": [
       "{'batch_name': ['Data Science', 'Java', 'Web Development'],\n",
       " 'start_date': (28, 14, 21),\n",
       " 'mentor_name': {'Prashant', 'Swaraj'}}"
      ]
     },
     "execution_count": 149,
     "metadata": {},
     "output_type": "execute_result"
    }
   ],
   "source": [
    "d16"
   ]
  },
  {
   "cell_type": "code",
   "execution_count": 150,
   "id": "c07b6473-aa8f-4268-bc77-2d0b1c0ba869",
   "metadata": {},
   "outputs": [],
   "source": [
    "# Add element in dictionary"
   ]
  },
  {
   "cell_type": "code",
   "execution_count": 151,
   "id": "7769dbc9-5ee2-441f-bbaa-fffd164a4413",
   "metadata": {},
   "outputs": [],
   "source": [
    "d16[\"timing\"] = \"08:00\""
   ]
  },
  {
   "cell_type": "code",
   "execution_count": 152,
   "id": "e6e0e934-70ee-42ae-a2c6-56d436361e49",
   "metadata": {},
   "outputs": [
    {
     "data": {
      "text/plain": [
       "{'batch_name': ['Data Science', 'Java', 'Web Development'],\n",
       " 'start_date': (28, 14, 21),\n",
       " 'mentor_name': {'Prashant', 'Swaraj'},\n",
       " 'timing': '08:00'}"
      ]
     },
     "execution_count": 152,
     "metadata": {},
     "output_type": "execute_result"
    }
   ],
   "source": [
    "d16"
   ]
  },
  {
   "cell_type": "code",
   "execution_count": 153,
   "id": "8694d365-8c01-48ab-b544-4e1352c89fe9",
   "metadata": {},
   "outputs": [],
   "source": [
    "# Extract values"
   ]
  },
  {
   "cell_type": "code",
   "execution_count": 154,
   "id": "82ee40be-5919-4757-8a59-d7c191acc202",
   "metadata": {},
   "outputs": [
    {
     "data": {
      "text/plain": [
       "['Data Science', 'Java', 'Web Development']"
      ]
     },
     "execution_count": 154,
     "metadata": {},
     "output_type": "execute_result"
    }
   ],
   "source": [
    "d16[\"batch_name\"]"
   ]
  },
  {
   "cell_type": "code",
   "execution_count": 155,
   "id": "64bbc086-a3ba-4b58-b2bd-52333fa91ba6",
   "metadata": {},
   "outputs": [
    {
     "data": {
      "text/plain": [
       "'Data Science'"
      ]
     },
     "execution_count": 155,
     "metadata": {},
     "output_type": "execute_result"
    }
   ],
   "source": [
    "d16[\"batch_name\"][0]"
   ]
  },
  {
   "cell_type": "code",
   "execution_count": 156,
   "id": "cd90f1b6-a005-4a0f-86cd-f67d0b6bb694",
   "metadata": {},
   "outputs": [
    {
     "data": {
      "text/plain": [
       "{'Prashant', 'Swaraj'}"
      ]
     },
     "execution_count": 156,
     "metadata": {},
     "output_type": "execute_result"
    }
   ],
   "source": [
    "d16[\"mentor_name\"]"
   ]
  },
  {
   "cell_type": "code",
   "execution_count": 157,
   "id": "ff2573b3-80e0-4111-abbb-5f9e763094a0",
   "metadata": {},
   "outputs": [
    {
     "data": {
      "text/plain": [
       "set"
      ]
     },
     "execution_count": 157,
     "metadata": {},
     "output_type": "execute_result"
    }
   ],
   "source": [
    "type(d16[\"mentor_name\"])"
   ]
  },
  {
   "cell_type": "code",
   "execution_count": 158,
   "id": "560e1b29-bfa1-4e73-8dc3-9a038f1e5b28",
   "metadata": {},
   "outputs": [
    {
     "ename": "KeyError",
     "evalue": "'keyssss'",
     "output_type": "error",
     "traceback": [
      "\u001b[0;31m---------------------------------------------------------------------------\u001b[0m",
      "\u001b[0;31mKeyError\u001b[0m                                  Traceback (most recent call last)",
      "Cell \u001b[0;32mIn[158], line 1\u001b[0m\n\u001b[0;32m----> 1\u001b[0m \u001b[43md16\u001b[49m\u001b[43m[\u001b[49m\u001b[38;5;124;43m\"\u001b[39;49m\u001b[38;5;124;43mkeyssss\u001b[39;49m\u001b[38;5;124;43m\"\u001b[39;49m\u001b[43m]\u001b[49m\n",
      "\u001b[0;31mKeyError\u001b[0m: 'keyssss'"
     ]
    }
   ],
   "source": [
    "d16[\"keyssss\"]"
   ]
  },
  {
   "cell_type": "code",
   "execution_count": 160,
   "id": "01e58088-fa45-4768-a32d-83382bbc23bc",
   "metadata": {},
   "outputs": [],
   "source": [
    "d16[\"end_date\"] = (5,8,23)"
   ]
  },
  {
   "cell_type": "code",
   "execution_count": 161,
   "id": "02e8642c-4c53-4424-b61e-07dc7a3f08c3",
   "metadata": {},
   "outputs": [
    {
     "data": {
      "text/plain": [
       "{'batch_name': ['Data Science', 'Java', 'Web Development'],\n",
       " 'start_date': (28, 14, 21),\n",
       " 'mentor_name': {'Prashant', 'Swaraj'},\n",
       " 'timing': '08:00',\n",
       " 'end_date': (5, 8, 23)}"
      ]
     },
     "execution_count": 161,
     "metadata": {},
     "output_type": "execute_result"
    }
   ],
   "source": [
    "d16"
   ]
  },
  {
   "cell_type": "code",
   "execution_count": 165,
   "id": "c707a0d5-3237-4f89-8c82-3ee26150786e",
   "metadata": {},
   "outputs": [
    {
     "data": {
      "text/plain": [
       "['Data Science', 'Java', 'Web Development']"
      ]
     },
     "execution_count": 165,
     "metadata": {},
     "output_type": "execute_result"
    }
   ],
   "source": [
    "d16[\"batch_name\"]"
   ]
  },
  {
   "cell_type": "code",
   "execution_count": 166,
   "id": "5851805f-abe6-411a-af5a-1f1cafd56b9e",
   "metadata": {},
   "outputs": [
    {
     "data": {
      "text/plain": [
       "'DATA SCIENCE'"
      ]
     },
     "execution_count": 166,
     "metadata": {},
     "output_type": "execute_result"
    }
   ],
   "source": [
    "d16[\"batch_name\"][0].upper()"
   ]
  },
  {
   "cell_type": "code",
   "execution_count": 167,
   "id": "917aad45-73e7-4d11-b6b7-653a4fdcd6b4",
   "metadata": {},
   "outputs": [
    {
     "data": {
      "text/plain": [
       "{'key': {'name': 'Prashant'}}"
      ]
     },
     "execution_count": 167,
     "metadata": {},
     "output_type": "execute_result"
    }
   ],
   "source": [
    "d15"
   ]
  },
  {
   "cell_type": "code",
   "execution_count": 168,
   "id": "22d3547a-3523-4a36-a862-6365e3f752f0",
   "metadata": {},
   "outputs": [],
   "source": [
    "d15[\"key1\"] = \"abc\""
   ]
  },
  {
   "cell_type": "code",
   "execution_count": 169,
   "id": "e852a806-48bc-4a0b-9084-a03ee45d423d",
   "metadata": {},
   "outputs": [
    {
     "data": {
      "text/plain": [
       "{'key': {'name': 'Prashant'}, 'key1': 'abc'}"
      ]
     },
     "execution_count": 169,
     "metadata": {},
     "output_type": "execute_result"
    }
   ],
   "source": [
    "d15"
   ]
  },
  {
   "cell_type": "code",
   "execution_count": 170,
   "id": "d3a90f44-816a-464a-b261-8839ae2d31aa",
   "metadata": {},
   "outputs": [],
   "source": [
    "del d15[\"key1\"]"
   ]
  },
  {
   "cell_type": "code",
   "execution_count": 171,
   "id": "1e1bb962-af59-4dc4-b87b-fbea7a89ea11",
   "metadata": {},
   "outputs": [
    {
     "data": {
      "text/plain": [
       "{'key': {'name': 'Prashant'}}"
      ]
     },
     "execution_count": 171,
     "metadata": {},
     "output_type": "execute_result"
    }
   ],
   "source": [
    "d15"
   ]
  },
  {
   "cell_type": "code",
   "execution_count": 172,
   "id": "287316de-94b1-49a9-a91c-9cdf2f623518",
   "metadata": {},
   "outputs": [],
   "source": [
    "d15.clear()"
   ]
  },
  {
   "cell_type": "code",
   "execution_count": 173,
   "id": "f439aa38-c7e6-43fd-8ac9-5a02e5fa80fa",
   "metadata": {},
   "outputs": [
    {
     "data": {
      "text/plain": [
       "{}"
      ]
     },
     "execution_count": 173,
     "metadata": {},
     "output_type": "execute_result"
    }
   ],
   "source": [
    "d15"
   ]
  },
  {
   "cell_type": "code",
   "execution_count": 174,
   "id": "f6a8425d-1c86-45bb-84c6-8ebd59ab750c",
   "metadata": {},
   "outputs": [
    {
     "data": {
      "text/plain": [
       "5"
      ]
     },
     "execution_count": 174,
     "metadata": {},
     "output_type": "execute_result"
    }
   ],
   "source": [
    "len(d16)"
   ]
  },
  {
   "cell_type": "code",
   "execution_count": 175,
   "id": "64b0d23c-e81f-45bd-b1b4-dfe2fa075b2f",
   "metadata": {},
   "outputs": [
    {
     "data": {
      "text/plain": [
       "{'batch_name': ['Data Science', 'Java', 'Web Development'],\n",
       " 'start_date': (28, 14, 21),\n",
       " 'mentor_name': {'Prashant', 'Swaraj'},\n",
       " 'timing': '08:00',\n",
       " 'end_date': (5, 8, 23)}"
      ]
     },
     "execution_count": 175,
     "metadata": {},
     "output_type": "execute_result"
    }
   ],
   "source": [
    "d16"
   ]
  },
  {
   "cell_type": "code",
   "execution_count": 176,
   "id": "384e57ce-d028-4554-a305-a4213bdfec08",
   "metadata": {},
   "outputs": [
    {
     "data": {
      "text/plain": [
       "dict_keys(['batch_name', 'start_date', 'mentor_name', 'timing', 'end_date'])"
      ]
     },
     "execution_count": 176,
     "metadata": {},
     "output_type": "execute_result"
    }
   ],
   "source": [
    "d16.keys()"
   ]
  },
  {
   "cell_type": "code",
   "execution_count": 177,
   "id": "80f6c7af-3da5-49cd-816b-a355c672971e",
   "metadata": {},
   "outputs": [
    {
     "data": {
      "text/plain": [
       "dict_values([['Data Science', 'Java', 'Web Development'], (28, 14, 21), {'Prashant', 'Swaraj'}, '08:00', (5, 8, 23)])"
      ]
     },
     "execution_count": 177,
     "metadata": {},
     "output_type": "execute_result"
    }
   ],
   "source": [
    "d16.values()"
   ]
  },
  {
   "cell_type": "code",
   "execution_count": 178,
   "id": "9e5cdcdc-1562-4f75-9d78-4f7052d23853",
   "metadata": {},
   "outputs": [
    {
     "data": {
      "text/plain": [
       "['batch_name', 'start_date', 'mentor_name', 'timing', 'end_date']"
      ]
     },
     "execution_count": 178,
     "metadata": {},
     "output_type": "execute_result"
    }
   ],
   "source": [
    "list(d16.keys())"
   ]
  },
  {
   "cell_type": "code",
   "execution_count": 180,
   "id": "4f2b1d9b-3b18-4268-80a1-d504f91cf8da",
   "metadata": {},
   "outputs": [
    {
     "data": {
      "text/plain": [
       "dict_items([('batch_name', ['Data Science', 'Java', 'Web Development']), ('start_date', (28, 14, 21)), ('mentor_name', {'Prashant', 'Swaraj'}), ('timing', '08:00'), ('end_date', (5, 8, 23))])"
      ]
     },
     "execution_count": 180,
     "metadata": {},
     "output_type": "execute_result"
    }
   ],
   "source": [
    "d16.items()"
   ]
  },
  {
   "cell_type": "code",
   "execution_count": 181,
   "id": "a33ed1e7-43ed-480a-a9ac-fe2dfd627025",
   "metadata": {},
   "outputs": [
    {
     "data": {
      "text/plain": [
       "[('batch_name', ['Data Science', 'Java', 'Web Development']),\n",
       " ('start_date', (28, 14, 21)),\n",
       " ('mentor_name', {'Prashant', 'Swaraj'}),\n",
       " ('timing', '08:00'),\n",
       " ('end_date', (5, 8, 23))]"
      ]
     },
     "execution_count": 181,
     "metadata": {},
     "output_type": "execute_result"
    }
   ],
   "source": [
    "list(d16.items())"
   ]
  },
  {
   "cell_type": "code",
   "execution_count": 182,
   "id": "6d29c7b7-51c1-4048-811f-f0ca229e4951",
   "metadata": {},
   "outputs": [],
   "source": [
    "d17 = d16.copy()"
   ]
  },
  {
   "cell_type": "code",
   "execution_count": 183,
   "id": "e68f1ea8-b67c-40c0-b87c-ef3b225e9566",
   "metadata": {},
   "outputs": [
    {
     "data": {
      "text/plain": [
       "{'batch_name': ['Data Science', 'Java', 'Web Development'],\n",
       " 'start_date': (28, 14, 21),\n",
       " 'mentor_name': {'Prashant', 'Swaraj'},\n",
       " 'timing': '08:00',\n",
       " 'end_date': (5, 8, 23)}"
      ]
     },
     "execution_count": 183,
     "metadata": {},
     "output_type": "execute_result"
    }
   ],
   "source": [
    "d17"
   ]
  },
  {
   "cell_type": "code",
   "execution_count": 184,
   "id": "693c589a-3f4c-4d36-ad4a-169a8cabc2d2",
   "metadata": {},
   "outputs": [],
   "source": [
    "d18 = d17"
   ]
  },
  {
   "cell_type": "code",
   "execution_count": 185,
   "id": "0c22072c-95ec-484e-9dbe-1e0d9e1490d3",
   "metadata": {},
   "outputs": [
    {
     "data": {
      "text/plain": [
       "{'batch_name': ['Data Science', 'Java', 'Web Development'],\n",
       " 'start_date': (28, 14, 21),\n",
       " 'mentor_name': {'Prashant', 'Swaraj'},\n",
       " 'timing': '08:00',\n",
       " 'end_date': (5, 8, 23)}"
      ]
     },
     "execution_count": 185,
     "metadata": {},
     "output_type": "execute_result"
    }
   ],
   "source": [
    "d18"
   ]
  },
  {
   "cell_type": "code",
   "execution_count": 186,
   "id": "148aae57-1880-4745-893c-9efe979dadd9",
   "metadata": {},
   "outputs": [],
   "source": [
    "del d17[\"batch_name\"]"
   ]
  },
  {
   "cell_type": "code",
   "execution_count": 187,
   "id": "eb804e7d-3ac6-4653-9780-5009ab4a5564",
   "metadata": {},
   "outputs": [
    {
     "data": {
      "text/plain": [
       "{'start_date': (28, 14, 21),\n",
       " 'mentor_name': {'Prashant', 'Swaraj'},\n",
       " 'timing': '08:00',\n",
       " 'end_date': (5, 8, 23)}"
      ]
     },
     "execution_count": 187,
     "metadata": {},
     "output_type": "execute_result"
    }
   ],
   "source": [
    "d17"
   ]
  },
  {
   "cell_type": "code",
   "execution_count": 188,
   "id": "0e7f7e3b-3353-4d1c-b366-550565d11bc2",
   "metadata": {},
   "outputs": [
    {
     "data": {
      "text/plain": [
       "{'start_date': (28, 14, 21),\n",
       " 'mentor_name': {'Prashant', 'Swaraj'},\n",
       " 'timing': '08:00',\n",
       " 'end_date': (5, 8, 23)}"
      ]
     },
     "execution_count": 188,
     "metadata": {},
     "output_type": "execute_result"
    }
   ],
   "source": [
    "d18"
   ]
  },
  {
   "cell_type": "code",
   "execution_count": 189,
   "id": "b9f3a803-7a59-4c1b-b2a9-5fc6c8a1f255",
   "metadata": {},
   "outputs": [
    {
     "name": "stdout",
     "output_type": "stream",
     "text": [
      "139786795673984 139786798751296 139786798751296\n"
     ]
    }
   ],
   "source": [
    "print(id(d16),id(d17),id(d18))"
   ]
  },
  {
   "cell_type": "code",
   "execution_count": 190,
   "id": "39d3d682-7c79-4fac-9c2d-302d99f2449d",
   "metadata": {},
   "outputs": [],
   "source": [
    "# Deep copy and shallow copy\n",
    "# .copy function does a deep copy. Different memory is allocated."
   ]
  },
  {
   "cell_type": "code",
   "execution_count": 192,
   "id": "4385929e-d60a-4793-89a2-049aba4f098e",
   "metadata": {},
   "outputs": [
    {
     "data": {
      "text/plain": [
       "{'batch_name': ['Data Science', 'Java', 'Web Development'],\n",
       " 'start_date': (28, 14, 21),\n",
       " 'mentor_name': {'Prashant', 'Swaraj'},\n",
       " 'timing': '08:00',\n",
       " 'end_date': (5, 8, 23)}"
      ]
     },
     "execution_count": 192,
     "metadata": {},
     "output_type": "execute_result"
    }
   ],
   "source": [
    "d16"
   ]
  },
  {
   "cell_type": "code",
   "execution_count": 191,
   "id": "e5a9984e-6dd4-4df0-a967-ce229feecb57",
   "metadata": {},
   "outputs": [
    {
     "ename": "TypeError",
     "evalue": "pop expected at least 1 argument, got 0",
     "output_type": "error",
     "traceback": [
      "\u001b[0;31m---------------------------------------------------------------------------\u001b[0m",
      "\u001b[0;31mTypeError\u001b[0m                                 Traceback (most recent call last)",
      "Cell \u001b[0;32mIn[191], line 1\u001b[0m\n\u001b[0;32m----> 1\u001b[0m \u001b[43md16\u001b[49m\u001b[38;5;241;43m.\u001b[39;49m\u001b[43mpop\u001b[49m\u001b[43m(\u001b[49m\u001b[43m)\u001b[49m\n",
      "\u001b[0;31mTypeError\u001b[0m: pop expected at least 1 argument, got 0"
     ]
    }
   ],
   "source": [
    "d16.pop()"
   ]
  },
  {
   "cell_type": "code",
   "execution_count": 193,
   "id": "7b461eaf-fdc6-4d3b-be10-235a0e7506e4",
   "metadata": {},
   "outputs": [
    {
     "data": {
      "text/plain": [
       "'08:00'"
      ]
     },
     "execution_count": 193,
     "metadata": {},
     "output_type": "execute_result"
    }
   ],
   "source": [
    "d16.pop(\"timing\")"
   ]
  },
  {
   "cell_type": "code",
   "execution_count": 194,
   "id": "e55d237d-00d9-4575-95d3-94053a67db0a",
   "metadata": {},
   "outputs": [
    {
     "data": {
      "text/plain": [
       "{'batch_name': ['Data Science', 'Java', 'Web Development'],\n",
       " 'start_date': (28, 14, 21),\n",
       " 'mentor_name': {'Prashant', 'Swaraj'},\n",
       " 'end_date': (5, 8, 23)}"
      ]
     },
     "execution_count": 194,
     "metadata": {},
     "output_type": "execute_result"
    }
   ],
   "source": [
    "d16"
   ]
  },
  {
   "cell_type": "code",
   "execution_count": 195,
   "id": "287698d5-08eb-44f8-9001-aa15e05344ef",
   "metadata": {},
   "outputs": [
    {
     "data": {
      "text/plain": [
       "{'Prashant', 'Swaraj'}"
      ]
     },
     "execution_count": 195,
     "metadata": {},
     "output_type": "execute_result"
    }
   ],
   "source": [
    "d16.pop(\"mentor_name\")"
   ]
  },
  {
   "cell_type": "code",
   "execution_count": 196,
   "id": "48e462ec-9cae-4fd6-9d4f-db749aa7e7fb",
   "metadata": {},
   "outputs": [
    {
     "data": {
      "text/plain": [
       "{'batch_name': ['Data Science', 'Java', 'Web Development'],\n",
       " 'start_date': (28, 14, 21),\n",
       " 'end_date': (5, 8, 23)}"
      ]
     },
     "execution_count": 196,
     "metadata": {},
     "output_type": "execute_result"
    }
   ],
   "source": [
    "d16"
   ]
  },
  {
   "cell_type": "code",
   "execution_count": 197,
   "id": "4d26d711-0fbd-4c45-baee-5067ccc4bed3",
   "metadata": {},
   "outputs": [
    {
     "data": {
      "text/plain": [
       "{1: ('a', 'b', 'c'), 2: ('a', 'b', 'c'), 3: ('a', 'b', 'c')}"
      ]
     },
     "execution_count": 197,
     "metadata": {},
     "output_type": "execute_result"
    }
   ],
   "source": [
    "d.fromkeys((1,2,3),(\"a\",\"b\",\"c\"))"
   ]
  },
  {
   "cell_type": "code",
   "execution_count": 199,
   "id": "d8cab3a0-cd14-4063-8829-17449d091419",
   "metadata": {},
   "outputs": [],
   "source": [
    "d19 = {\"key1\": \"value1\", \"key2\": \"value2\"}\n",
    "d20 = {\"key3\": \"value3\", \"key4\": \"value4\"}"
   ]
  },
  {
   "cell_type": "code",
   "execution_count": 200,
   "id": "f08e1faf-4d1e-4e34-80ce-f190719ee282",
   "metadata": {},
   "outputs": [
    {
     "data": {
      "text/plain": [
       "({'key1': 'value1', 'key2': 'value2'}, {'key3': 'value3', 'key4': 'value4'})"
      ]
     },
     "execution_count": 200,
     "metadata": {},
     "output_type": "execute_result"
    }
   ],
   "source": [
    "(d19,d20)"
   ]
  },
  {
   "cell_type": "code",
   "execution_count": 201,
   "id": "3c8a6f10-7f4e-4ea4-8a09-3924e9ea2f95",
   "metadata": {},
   "outputs": [],
   "source": [
    "d19.update(d20)"
   ]
  },
  {
   "cell_type": "code",
   "execution_count": 202,
   "id": "440f9cb8-33fc-4704-b51e-12db0c80ec83",
   "metadata": {},
   "outputs": [
    {
     "data": {
      "text/plain": [
       "{'key1': 'value1', 'key2': 'value2', 'key3': 'value3', 'key4': 'value4'}"
      ]
     },
     "execution_count": 202,
     "metadata": {},
     "output_type": "execute_result"
    }
   ],
   "source": [
    "d19"
   ]
  },
  {
   "cell_type": "code",
   "execution_count": 203,
   "id": "96926858-e4cc-4d7f-b83e-fd7edf7b1c38",
   "metadata": {},
   "outputs": [
    {
     "data": {
      "text/plain": [
       "{'key3': 'value3', 'key4': 'value4'}"
      ]
     },
     "execution_count": 203,
     "metadata": {},
     "output_type": "execute_result"
    }
   ],
   "source": [
    "d20"
   ]
  },
  {
   "cell_type": "code",
   "execution_count": 204,
   "id": "9a1e28fb-1999-4f96-87aa-acc46f6cf577",
   "metadata": {},
   "outputs": [],
   "source": [
    "d20.get(\"key_no_exist\")"
   ]
  },
  {
   "cell_type": "code",
   "execution_count": 205,
   "id": "8d3d68e3-a747-463d-a448-923985b31d1a",
   "metadata": {},
   "outputs": [
    {
     "data": {
      "text/plain": [
       "'value3'"
      ]
     },
     "execution_count": 205,
     "metadata": {},
     "output_type": "execute_result"
    }
   ],
   "source": [
    "d20.get(\"key3\")"
   ]
  },
  {
   "cell_type": "markdown",
   "id": "1f25a9aa-d988-43ba-a87d-86adbbaaef32",
   "metadata": {},
   "source": [
    "# Dictionary Comprehension"
   ]
  },
  {
   "cell_type": "code",
   "execution_count": 207,
   "id": "2e5a62c2-c768-4b02-8006-e2cea944e5d1",
   "metadata": {},
   "outputs": [
    {
     "data": {
      "text/plain": [
       "{0: 0, 1: 1, 2: 4, 3: 9, 4: 16, 5: 25, 6: 36, 7: 49, 8: 64, 9: 81}"
      ]
     },
     "execution_count": 207,
     "metadata": {},
     "output_type": "execute_result"
    }
   ],
   "source": [
    "{i: i*i for i in range(0,10)}"
   ]
  },
  {
   "cell_type": "code",
   "execution_count": 215,
   "id": "5f79c7bb-7453-4092-a895-30a35832a859",
   "metadata": {},
   "outputs": [
    {
     "data": {
      "text/plain": [
       "{1: 0.0,\n",
       " 2: 0.3010299956639812,\n",
       " 3: 0.47712125471966244,\n",
       " 4: 0.6020599913279624,\n",
       " 5: 0.6989700043360189,\n",
       " 6: 0.7781512503836436,\n",
       " 7: 0.8450980400142568,\n",
       " 8: 0.9030899869919435,\n",
       " 9: 0.9542425094393249,\n",
       " 10: 1.0}"
      ]
     },
     "execution_count": 215,
     "metadata": {},
     "output_type": "execute_result"
    }
   ],
   "source": [
    "import math\n",
    "d21 = {i: math.log10(i) for i in range(1,11)}\n",
    "d21"
   ]
  },
  {
   "cell_type": "code",
   "execution_count": 212,
   "id": "680ad5e0-d17b-4773-9efa-4be6612cf9b1",
   "metadata": {},
   "outputs": [
    {
     "data": {
      "text/plain": [
       "{'batch_name': ['Data Science', 'Java', 'Web Development'],\n",
       " 'start_date': (28, 14, 21),\n",
       " 'end_date': (5, 8, 23)}"
      ]
     },
     "execution_count": 212,
     "metadata": {},
     "output_type": "execute_result"
    }
   ],
   "source": [
    "d16"
   ]
  },
  {
   "cell_type": "code",
   "execution_count": 213,
   "id": "1837ac09-26a8-430a-9fa8-30e93b60ec83",
   "metadata": {},
   "outputs": [
    {
     "data": {
      "text/plain": [
       "True"
      ]
     },
     "execution_count": 213,
     "metadata": {},
     "output_type": "execute_result"
    }
   ],
   "source": [
    "\"batch_name\" in d16"
   ]
  },
  {
   "cell_type": "code",
   "execution_count": 220,
   "id": "a5300711-b488-4001-8c38-5c3fec1f674c",
   "metadata": {},
   "outputs": [
    {
     "data": {
      "text/plain": [
       "{2: 0.3010299956639812,\n",
       " 4: 0.6020599913279624,\n",
       " 6: 0.7781512503836436,\n",
       " 8: 0.9030899869919435,\n",
       " 10: 1.0}"
      ]
     },
     "execution_count": 220,
     "metadata": {},
     "output_type": "execute_result"
    }
   ],
   "source": [
    "{i: d21[i] for i in d21 if i%2==0}"
   ]
  },
  {
   "cell_type": "code",
   "execution_count": null,
   "id": "ebfcf567-17c2-4c97-aab6-e850c135f5d4",
   "metadata": {},
   "outputs": [],
   "source": []
  }
 ],
 "metadata": {
  "kernelspec": {
   "display_name": "Python 3 (ipykernel)",
   "language": "python",
   "name": "python3"
  },
  "language_info": {
   "codemirror_mode": {
    "name": "ipython",
    "version": 3
   },
   "file_extension": ".py",
   "mimetype": "text/x-python",
   "name": "python",
   "nbconvert_exporter": "python",
   "pygments_lexer": "ipython3",
   "version": "3.10.8"
  }
 },
 "nbformat": 4,
 "nbformat_minor": 5
}
