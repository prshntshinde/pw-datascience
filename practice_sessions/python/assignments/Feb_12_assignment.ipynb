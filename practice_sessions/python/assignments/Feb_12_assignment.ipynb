{
 "cells": [
  {
   "attachments": {},
   "cell_type": "markdown",
   "metadata": {},
   "source": [
    "Q1: What is an Exception in Python? Write the difference between Exceptions and Syntax errors."
   ]
  },
  {
   "attachments": {},
   "cell_type": "markdown",
   "metadata": {},
   "source": [
    "- If a statement or expression is syntactically correct, it may cause an error when an attempt is made to execute it. Errors detected during execution are called exceptions.\n",
    "\n",
    "Difference between Exception and Syntax errors:\n",
    "- Syntax error is caused by the wrong syntax in the code.\n",
    "- example: while True print(\"Hi\") - This will give syntax error as we are missing colon (:) before print statement.\n",
    "- Exceptions are raised when the program is syntactically correct, but the code results in an error.\n",
    "- example: 6/0 - this will raise an ZeroDivisionError exception as we are dividing the number by zero. \n",
    "\n"
   ]
  },
  {
   "attachments": {},
   "cell_type": "markdown",
   "metadata": {},
   "source": []
  },
  {
   "attachments": {},
   "cell_type": "markdown",
   "metadata": {},
   "source": [
    "Q2: What happens when an exception is not handled? Explain with example"
   ]
  },
  {
   "attachments": {},
   "cell_type": "markdown",
   "metadata": {},
   "source": [
    "- If an exception is not handled the execution of a program stops and the further operations are not performed."
   ]
  },
  {
   "cell_type": "code",
   "execution_count": 2,
   "metadata": {},
   "outputs": [
    {
     "ename": "ZeroDivisionError",
     "evalue": "division by zero",
     "output_type": "error",
     "traceback": [
      "\u001b[1;31m---------------------------------------------------------------------------\u001b[0m",
      "\u001b[1;31mZeroDivisionError\u001b[0m                         Traceback (most recent call last)",
      "Cell \u001b[1;32mIn[2], line 1\u001b[0m\n\u001b[1;32m----> 1\u001b[0m result \u001b[39m=\u001b[39m \u001b[39m6\u001b[39;49m\u001b[39m/\u001b[39;49m\u001b[39m0\u001b[39;49m\n\u001b[0;32m      2\u001b[0m \u001b[39m# We can see that the print statement does not executes.\u001b[39;00m\n\u001b[0;32m      3\u001b[0m \u001b[39mprint\u001b[39m(\u001b[39m\"\u001b[39m\u001b[39mThe result is \u001b[39m\u001b[39m{}\u001b[39;00m\u001b[39m\"\u001b[39m\u001b[39m.\u001b[39mformat(result))\n",
      "\u001b[1;31mZeroDivisionError\u001b[0m: division by zero"
     ]
    }
   ],
   "source": [
    "result = 6/0\n",
    "# We can see that the print statement does not executes.\n",
    "print(\"The result is {}\".format(result))\n"
   ]
  },
  {
   "attachments": {},
   "cell_type": "markdown",
   "metadata": {},
   "source": [
    "Q3: Which Python statements are used to catch and handle exception? Explain with example."
   ]
  },
  {
   "attachments": {},
   "cell_type": "markdown",
   "metadata": {},
   "source": [
    "- try and except is used to handle exception."
   ]
  },
  {
   "cell_type": "code",
   "execution_count": 4,
   "metadata": {},
   "outputs": [
    {
     "name": "stdout",
     "output_type": "stream",
     "text": [
      "The program failed due to some issue: unsupported operand type(s) for +: 'int' and 'str'\n"
     ]
    }
   ],
   "source": [
    "try:\n",
    "    a = 24\n",
    "    b = \"Sample Text\"\n",
    "    result = a + b\n",
    "except Exception as e:\n",
    "    print(\"The program failed due to some issue: {}\".format(e))\n"
   ]
  },
  {
   "attachments": {},
   "cell_type": "markdown",
   "metadata": {},
   "source": [
    "Q4: Explain with an example:\n",
    "- a. try and else\n",
    "- b. finally\n",
    "- c. raise"
   ]
  },
  {
   "cell_type": "code",
   "execution_count": 6,
   "metadata": {},
   "outputs": [
    {
     "name": "stdout",
     "output_type": "stream",
     "text": [
      "In else block\n"
     ]
    }
   ],
   "source": [
    "# Try else\n",
    "\n",
    "# The else block only executes if the try block executes without any exception\n",
    "\n",
    "try:\n",
    "    infile = open(\"sample_file.txt\", \"r\")\n",
    "    data = infile.read()\n",
    "except Exception as e:\n",
    "    print(\"Some issue with the program: {}\".format(e))\n",
    "else:\n",
    "    infile.close()\n",
    "    print(\"In else block\")\n"
   ]
  },
  {
   "cell_type": "code",
   "execution_count": 7,
   "metadata": {},
   "outputs": [
    {
     "name": "stdout",
     "output_type": "stream",
     "text": [
      "The number cannot be divided by zero. division by zero\n",
      "In finally block which always executes.\n"
     ]
    }
   ],
   "source": [
    "# Finally\n",
    "\n",
    "# The finally block will always execute after the try and except blocks even if there is an exception.\n",
    "\n",
    "try:\n",
    "    result = 24/0\n",
    "    print(result)\n",
    "except Exception as e:\n",
    "    print(\"The number cannot be divided by zero. {}\".format(e))\n",
    "finally:\n",
    "    print(\"In finally block which always executes.\")\n"
   ]
  },
  {
   "cell_type": "code",
   "execution_count": 8,
   "metadata": {},
   "outputs": [
    {
     "name": "stdout",
     "output_type": "stream",
     "text": [
      "error: This an Name error exception\n"
     ]
    }
   ],
   "source": [
    "# Raise\n",
    "\n",
    "# The raise statement allows the programmer to force a specified exception to occur.\n",
    "\n",
    "try:\n",
    "    raise NameError(\"This an Name error exception\")\n",
    "except Exception as e:\n",
    "    print(\"error: {}\".format(e))\n"
   ]
  },
  {
   "attachments": {},
   "cell_type": "markdown",
   "metadata": {},
   "source": [
    "Q5: What are Custom Exception in python? Why do we need Custom Exception? Explain with an example"
   ]
  },
  {
   "attachments": {},
   "cell_type": "markdown",
   "metadata": {},
   "source": [
    "- User defined exceptions are known as custom exception.\n",
    "- Programmers can create their own exceptions by creating a new exception class derived from built-in Exception class.\n",
    "- Some use-cases needs to show custom or user defined exception for some scenarios. So Custom exception are useful in such situations."
   ]
  },
  {
   "cell_type": "code",
   "execution_count": 15,
   "metadata": {},
   "outputs": [
    {
     "name": "stdout",
     "output_type": "stream",
     "text": [
      "There is some issue with the program. The salary is not in the expected range.\n"
     ]
    }
   ],
   "source": [
    "\n",
    "# Customer exception class derived from built-in Exception class\n",
    "class ValidateSalary(Exception):\n",
    "    def __init__(self, message):\n",
    "        self.message = message\n",
    "\n",
    "try:\n",
    "    salary = int(input(\"Enter your salary\"))\n",
    "    if salary >= 5000 and salary <= 60000:\n",
    "        print(salary)\n",
    "    else:\n",
    "        raise ValidateSalary(\"The salary is not in the expected range.\")\n",
    "except Exception as e:\n",
    "    print(\"There is some issue with the program. {}\".format(e))"
   ]
  },
  {
   "attachments": {},
   "cell_type": "markdown",
   "metadata": {},
   "source": [
    "Q6: Create a custom exception class. Use this class to handle an exception."
   ]
  },
  {
   "cell_type": "code",
   "execution_count": 16,
   "metadata": {},
   "outputs": [
    {
     "name": "stdout",
     "output_type": "stream",
     "text": [
      "There is some issue with the program. The salary is not in the expected range.\n"
     ]
    }
   ],
   "source": [
    "\n",
    "# Customer exception class derived from built-in Exception class\n",
    "class ValidateSalary(Exception):\n",
    "    def __init__(self, message):\n",
    "        self.message = message\n",
    "\n",
    "try:\n",
    "    salary = int(input(\"Enter your salary\"))\n",
    "    if salary >= 5000 and salary <= 60000:\n",
    "        print(salary)\n",
    "    else:\n",
    "        raise ValidateSalary(\"The salary is not in the expected range.\")\n",
    "except Exception as e:\n",
    "    print(\"There is some issue with the program. {}\".format(e))"
   ]
  }
 ],
 "metadata": {
  "kernelspec": {
   "display_name": "Python 3",
   "language": "python",
   "name": "python3"
  },
  "language_info": {
   "codemirror_mode": {
    "name": "ipython",
    "version": 3
   },
   "file_extension": ".py",
   "mimetype": "text/x-python",
   "name": "python",
   "nbconvert_exporter": "python",
   "pygments_lexer": "ipython3",
   "version": "3.10.10"
  },
  "orig_nbformat": 4
 },
 "nbformat": 4,
 "nbformat_minor": 2
}
