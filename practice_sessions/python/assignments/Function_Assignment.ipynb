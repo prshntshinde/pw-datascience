{
 "cells": [
  {
   "cell_type": "markdown",
   "id": "e6ec1395-8986-4183-a838-35af87a89819",
   "metadata": {},
   "source": [
    "## Q1. Which keyword is used to create a function? Create a function to return a list of odd numbers in the range of 1 to 25.\n"
   ]
  },
  {
   "cell_type": "markdown",
   "id": "d3b5933c-f2d7-49a5-ba0b-237e6c4e7587",
   "metadata": {},
   "source": [
    "### Ans: def keywork is used to create a function.\n"
   ]
  },
  {
   "cell_type": "code",
   "execution_count": 2,
   "id": "b924ca2f-8368-4b29-8093-908715dd91d2",
   "metadata": {},
   "outputs": [
    {
     "data": {
      "text/plain": [
       "[1, 3, 5, 7, 9, 11, 13, 15, 17, 19, 21, 23, 25]"
      ]
     },
     "execution_count": 2,
     "metadata": {},
     "output_type": "execute_result"
    }
   ],
   "source": [
    "# function to return List of odd numbers in range 1 to 25\n",
    "\n",
    "def odd_num():\n",
    "    odd = []\n",
    "    for i in range(1,26):\n",
    "        if i % 2 != 0:\n",
    "            odd.append(i)\n",
    "    return odd\n",
    "\n",
    "odd_num()"
   ]
  },
  {
   "cell_type": "code",
   "execution_count": null,
   "id": "24cd8c3b-e40a-43ef-8b7c-ebefbbfe63ef",
   "metadata": {},
   "outputs": [],
   "source": []
  },
  {
   "cell_type": "markdown",
   "id": "308e61f4-1ba7-43c1-901f-6fc9fdbb6a47",
   "metadata": {},
   "source": [
    "## Q2. Why *args and **kwargs is used in some functions? Create a function each for *args and **kwargs to demonstrate their use.\n"
   ]
  },
  {
   "cell_type": "markdown",
   "id": "584e69b6-2448-41bb-9357-0382f846c0cb",
   "metadata": {},
   "source": [
    "### Ans: *args and **kwargs are used when we are not sure about the number of arguments that can be passed to a function. * args and **kwargs allows to pass the variable number of arguments to function."
   ]
  },
  {
   "cell_type": "code",
   "execution_count": 5,
   "id": "7d82883f-bb82-4002-837f-bf4938fa33a2",
   "metadata": {},
   "outputs": [],
   "source": [
    "def n_args(*args):\n",
    "    return args"
   ]
  },
  {
   "cell_type": "code",
   "execution_count": 6,
   "id": "e6777069-3003-4d47-8b96-5706881cd65c",
   "metadata": {},
   "outputs": [
    {
     "data": {
      "text/plain": [
       "(1, 2, 3, 4, 'Prashant')"
      ]
     },
     "execution_count": 6,
     "metadata": {},
     "output_type": "execute_result"
    }
   ],
   "source": [
    "n_args(1,2,3,4,\"Prashant\")"
   ]
  },
  {
   "cell_type": "code",
   "execution_count": 7,
   "id": "1b666dd2-dc66-438b-8719-03d1939339d6",
   "metadata": {},
   "outputs": [],
   "source": [
    "def n_kwargs(**kwargs):\n",
    "    return kwargs"
   ]
  },
  {
   "cell_type": "code",
   "execution_count": 8,
   "id": "aaa77d96-cd68-4989-ad37-7b108e9ab139",
   "metadata": {},
   "outputs": [
    {
     "data": {
      "text/plain": [
       "{'name': 'Prashant', 'age': 27}"
      ]
     },
     "execution_count": 8,
     "metadata": {},
     "output_type": "execute_result"
    }
   ],
   "source": [
    "n_kwargs(name=\"Prashant\",age = 27)"
   ]
  },
  {
   "cell_type": "code",
   "execution_count": null,
   "id": "89c80487-b79e-4c10-8b13-9d92005c6903",
   "metadata": {},
   "outputs": [],
   "source": []
  },
  {
   "cell_type": "markdown",
   "id": "0cb7c524-af28-4c71-a634-6f5af7e54207",
   "metadata": {},
   "source": [
    "## Q3. What is an iterator in python? Name the method used to initialise the iterator object and the method used for iteration. Use these methods to print the first five elements of the given list \n",
    " [2, 4, 6, 8, 10, 12, 14, 16,18, 20].\n"
   ]
  },
  {
   "cell_type": "markdown",
   "id": "7fe357af-1391-4bec-b4b4-370b39f1bebf",
   "metadata": {},
   "source": [
    "### Ans: \n",
    "- Iterator is an object thorugh which we can traves all values in the object.\n",
    "- iter method is used to initialize the iterator object.\n",
    "- next method is used for iteration. Returns the next item in the sequence or object. "
   ]
  },
  {
   "cell_type": "code",
   "execution_count": 9,
   "id": "da9a775a-c623-4084-823a-eb8d46f3ef41",
   "metadata": {},
   "outputs": [],
   "source": [
    "input_list = [2, 4, 6, 8, 10, 12, 14, 16,18, 20]"
   ]
  },
  {
   "cell_type": "code",
   "execution_count": 10,
   "id": "b2c9253d-7b6e-4d2a-90df-483a8fa731fd",
   "metadata": {},
   "outputs": [],
   "source": [
    "iter_list = iter(input_list)"
   ]
  },
  {
   "cell_type": "code",
   "execution_count": 11,
   "id": "df8d2704-c450-4f03-a3ad-5f3a686c9d10",
   "metadata": {},
   "outputs": [
    {
     "data": {
      "text/plain": [
       "list_iterator"
      ]
     },
     "execution_count": 11,
     "metadata": {},
     "output_type": "execute_result"
    }
   ],
   "source": [
    "type(iter_list)"
   ]
  },
  {
   "cell_type": "code",
   "execution_count": 12,
   "id": "9276369f-32a3-4cca-8d27-1f3a162356ef",
   "metadata": {},
   "outputs": [
    {
     "data": {
      "text/plain": [
       "2"
      ]
     },
     "execution_count": 12,
     "metadata": {},
     "output_type": "execute_result"
    }
   ],
   "source": [
    "next(iter_list)"
   ]
  },
  {
   "cell_type": "code",
   "execution_count": 13,
   "id": "a6585932-4d0f-40e7-aaad-5a5b952f542b",
   "metadata": {},
   "outputs": [
    {
     "data": {
      "text/plain": [
       "4"
      ]
     },
     "execution_count": 13,
     "metadata": {},
     "output_type": "execute_result"
    }
   ],
   "source": [
    "next(iter_list)"
   ]
  },
  {
   "cell_type": "code",
   "execution_count": 14,
   "id": "27a3f024-dc4a-42f2-abf9-e24374fe7f19",
   "metadata": {},
   "outputs": [
    {
     "name": "stdout",
     "output_type": "stream",
     "text": [
      "6\n",
      "8\n",
      "10\n"
     ]
    }
   ],
   "source": [
    "print(next(iter_list))\n",
    "print(next(iter_list))\n",
    "print(next(iter_list))\n"
   ]
  },
  {
   "cell_type": "code",
   "execution_count": null,
   "id": "6128dbc8-4cde-48cb-8e64-ed0fb2c9dc4e",
   "metadata": {},
   "outputs": [],
   "source": []
  },
  {
   "cell_type": "markdown",
   "id": "a0f7e1b4-427a-4608-9dd7-dda47b249f2e",
   "metadata": {},
   "source": [
    "## Q4. What is a generator function in python? Why yield keyword is used? Give an example of a generator function.\n"
   ]
  },
  {
   "cell_type": "markdown",
   "id": "9a5296ad-15ae-4f41-b324-b745759157bc",
   "metadata": {},
   "source": [
    "### Ans: \n",
    "- Generator functions which returns generator object through which we can iterate over values. It is useful when we we want to produce a large sequence of values, but we dont want to store all of them in memory at once.\n",
    "- Yield returns a value and pauses the execution while maintaining the internal states.\n"
   ]
  },
  {
   "cell_type": "code",
   "execution_count": 36,
   "id": "dbc795e2-e371-4002-ba8e-c7d125cb8454",
   "metadata": {},
   "outputs": [],
   "source": [
    "# Generator function example\n",
    "def gen_func(num):\n",
    "    for i in range(num):\n",
    "        yield i**2\n"
   ]
  },
  {
   "cell_type": "code",
   "execution_count": 37,
   "id": "6076ce26-423e-4024-97c0-daf14331ee77",
   "metadata": {},
   "outputs": [
    {
     "data": {
      "text/plain": [
       "generator"
      ]
     },
     "execution_count": 37,
     "metadata": {},
     "output_type": "execute_result"
    }
   ],
   "source": [
    "type(gen_func(10))"
   ]
  },
  {
   "cell_type": "code",
   "execution_count": 44,
   "id": "ef850e5c-1cc2-4203-897e-683c2e878697",
   "metadata": {},
   "outputs": [
    {
     "data": {
      "text/plain": [
       "<generator object gen_func at 0x7ff978fca490>"
      ]
     },
     "execution_count": 44,
     "metadata": {},
     "output_type": "execute_result"
    }
   ],
   "source": [
    "gen_func(6)"
   ]
  },
  {
   "cell_type": "code",
   "execution_count": 45,
   "id": "04179af2-09ba-4eff-aa5c-af5e8159d205",
   "metadata": {},
   "outputs": [
    {
     "data": {
      "text/plain": [
       "0"
      ]
     },
     "execution_count": 45,
     "metadata": {},
     "output_type": "execute_result"
    }
   ],
   "source": [
    "next(gen_func(9))"
   ]
  },
  {
   "cell_type": "code",
   "execution_count": 46,
   "id": "4d7d39a3-3fd2-440b-a307-ef12c429a7b9",
   "metadata": {},
   "outputs": [],
   "source": [
    "my_gen = gen_func(9)"
   ]
  },
  {
   "cell_type": "code",
   "execution_count": 50,
   "id": "dee67931-2267-4483-a66f-f04ff07afae1",
   "metadata": {},
   "outputs": [
    {
     "name": "stdout",
     "output_type": "stream",
     "text": [
      "9\n",
      "16\n",
      "25\n"
     ]
    }
   ],
   "source": [
    "print(next(my_gen))\n",
    "print(next(my_gen))\n",
    "print(next(my_gen))"
   ]
  },
  {
   "cell_type": "code",
   "execution_count": null,
   "id": "764eff1a-efca-4465-8fcd-b4c82259be4b",
   "metadata": {},
   "outputs": [],
   "source": []
  },
  {
   "cell_type": "markdown",
   "id": "8b24a892-c7bb-45ef-9698-0a98a97b22d9",
   "metadata": {},
   "source": [
    "## Q5. Create a generator function for prime numbers less than 1000. Use the next() method to print the first 20 prime numbers."
   ]
  },
  {
   "cell_type": "markdown",
   "id": "40146234-f540-4507-81ab-2785778d10e0",
   "metadata": {},
   "source": [
    "### Ans:"
   ]
  },
  {
   "cell_type": "code",
   "execution_count": 13,
   "id": "13270a7d-6f9c-40a4-a038-65f9ee2533d8",
   "metadata": {},
   "outputs": [],
   "source": [
    "max_num = 1000\n",
    "\n",
    "# Function to check if number is prime number or not\n",
    "def is_prime(num):\n",
    "    if num <= 1:\n",
    "        return False\n",
    "    if num == 2:\n",
    "        return True\n",
    "    for i in range(2,num):\n",
    "        if num % i == 0:\n",
    "            return False\n",
    "    return True    \n",
    "\n",
    "# Generator Function \n",
    "def prime_num(max_num):\n",
    "    for i in range(max_num):\n",
    "        if is_prime(i):\n",
    "            yield i"
   ]
  },
  {
   "cell_type": "code",
   "execution_count": 10,
   "id": "647d2587-e449-4297-9b47-b53ab4d726bf",
   "metadata": {},
   "outputs": [
    {
     "data": {
      "text/plain": [
       "False"
      ]
     },
     "execution_count": 10,
     "metadata": {},
     "output_type": "execute_result"
    }
   ],
   "source": [
    "is_prime(8)"
   ]
  },
  {
   "cell_type": "code",
   "execution_count": 11,
   "id": "a5494d7b-06d4-4524-a88d-026b94c3caee",
   "metadata": {},
   "outputs": [
    {
     "data": {
      "text/plain": [
       "False"
      ]
     },
     "execution_count": 11,
     "metadata": {},
     "output_type": "execute_result"
    }
   ],
   "source": [
    "is_prime(9)"
   ]
  },
  {
   "cell_type": "code",
   "execution_count": 12,
   "id": "baa8f818-8a50-4f39-9a56-f9c0a743702d",
   "metadata": {},
   "outputs": [
    {
     "data": {
      "text/plain": [
       "True"
      ]
     },
     "execution_count": 12,
     "metadata": {},
     "output_type": "execute_result"
    }
   ],
   "source": [
    "is_prime(11)"
   ]
  },
  {
   "cell_type": "code",
   "execution_count": 14,
   "id": "eaca59df-5ea2-4767-82a6-a53ef757c72a",
   "metadata": {},
   "outputs": [],
   "source": [
    "prime_gen = prime_num(100)"
   ]
  },
  {
   "cell_type": "code",
   "execution_count": 15,
   "id": "666b9075-61af-4341-9c88-7069ef353ca7",
   "metadata": {},
   "outputs": [
    {
     "data": {
      "text/plain": [
       "generator"
      ]
     },
     "execution_count": 15,
     "metadata": {},
     "output_type": "execute_result"
    }
   ],
   "source": [
    "type(prime_gen)"
   ]
  },
  {
   "cell_type": "code",
   "execution_count": 10,
   "id": "cf628d00-0ecc-4c12-b522-2bdac9d517e3",
   "metadata": {},
   "outputs": [
    {
     "data": {
      "text/plain": [
       "<generator object prime_num at 0x7f7e34b1d540>"
      ]
     },
     "execution_count": 10,
     "metadata": {},
     "output_type": "execute_result"
    }
   ],
   "source": [
    "prime_gen"
   ]
  },
  {
   "cell_type": "code",
   "execution_count": 16,
   "id": "279f47ab-66f7-47b3-bb0f-20c20d07718e",
   "metadata": {},
   "outputs": [
    {
     "name": "stdout",
     "output_type": "stream",
     "text": [
      "2\n",
      "3\n",
      "5\n",
      "7\n",
      "11\n",
      "13\n",
      "17\n",
      "19\n",
      "23\n",
      "29\n",
      "31\n",
      "37\n",
      "41\n",
      "43\n",
      "47\n",
      "53\n",
      "59\n",
      "61\n",
      "67\n",
      "71\n"
     ]
    }
   ],
   "source": [
    "for i in range(20):\n",
    "    print(next(prime_gen))"
   ]
  },
  {
   "cell_type": "code",
   "execution_count": null,
   "id": "ea0474e7-a305-4f1c-87ed-aaf1b8c31945",
   "metadata": {},
   "outputs": [],
   "source": []
  }
 ],
 "metadata": {
  "kernelspec": {
   "display_name": "Python 3 (ipykernel)",
   "language": "python",
   "name": "python3"
  },
  "language_info": {
   "codemirror_mode": {
    "name": "ipython",
    "version": 3
   },
   "file_extension": ".py",
   "mimetype": "text/x-python",
   "name": "python",
   "nbconvert_exporter": "python",
   "pygments_lexer": "ipython3",
   "version": "3.10.8"
  }
 },
 "nbformat": 4,
 "nbformat_minor": 5
}
