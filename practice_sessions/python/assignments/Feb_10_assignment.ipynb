{
 "cells": [
  {
   "attachments": {},
   "cell_type": "markdown",
   "metadata": {},
   "source": [
    "Q1. Which function is used to open a file? What are the different modes of opening a file? Explain each mode\n",
    "of file opening.\n"
   ]
  },
  {
   "attachments": {},
   "cell_type": "markdown",
   "metadata": {},
   "source": [
    "- open() function in python open the file.\n",
    "- Files can be opened in Read, Write, Binary, both reading and writing, text, appending, exclusive mode. By default open() function opens the file in read and text mode.\n",
    "\n",
    "|Mode|Description|\n",
    "|----|-----------|\n",
    "|r|Open a file in read mode.|\n",
    "|w|Open a file for writing. Creates a new file if it does not exist or truncates the file if it exist.|\n",
    "|x|Open a file for exclusive creation. If the file already exist the creation fails|\n",
    "|a|Open a file for appending at the end. Creates a new file if it does not exist.|\n",
    "|t|Open in text mode.|\n",
    "|b|Open in binary mode.|\n",
    "|+|Open a file for updating, both reading and writing|\n"
   ]
  },
  {
   "attachments": {},
   "cell_type": "markdown",
   "metadata": {},
   "source": [
    "Q2. Why close() function is used? Why is it important to close a file?\n"
   ]
  },
  {
   "attachments": {},
   "cell_type": "markdown",
   "metadata": {},
   "source": [
    "- close() function is used to close a file.\n",
    "- Once we are done with all the operation on the file we need to close the file. It will free up the resources that were tied with the file operations."
   ]
  },
  {
   "attachments": {},
   "cell_type": "markdown",
   "metadata": {},
   "source": [
    "Q3. Write a python program to create a text file. Write ‘I want to become a Data Scientist’ in that file. Then\n",
    "close the file. Open this file and read the content of the file.\n"
   ]
  },
  {
   "cell_type": "code",
   "execution_count": 18,
   "metadata": {},
   "outputs": [
    {
     "name": "stdout",
     "output_type": "stream",
     "text": [
      "I want to become a Data Scientist\n"
     ]
    }
   ],
   "source": [
    "sample_file = open(\"sample_file.txt\",\"w\")\n",
    "\n",
    "sample_file.write(\"I want to become a Data Scientist\")\n",
    "\n",
    "sample_file.close()\n",
    "\n",
    "# Opening the file for reading\n",
    "sample_file = open(\"sample_file.txt\",\"r\")\n",
    "print(sample_file.read())\n",
    "sample_file.close()"
   ]
  },
  {
   "attachments": {},
   "cell_type": "markdown",
   "metadata": {},
   "source": [
    "Q4. Explain the following with python code: read(), readline() and readlines().\n"
   ]
  },
  {
   "attachments": {},
   "cell_type": "markdown",
   "metadata": {},
   "source": [
    "- read() - Reads till the end of the file.\n",
    "- readline() - Reads and returns one line from the file.\n",
    "- readlines() - Reads and returns list of lines from the file."
   ]
  },
  {
   "cell_type": "code",
   "execution_count": 39,
   "metadata": {},
   "outputs": [
    {
     "name": "stdout",
     "output_type": "stream",
     "text": [
      "Read function output:\n",
      "Test write function\n",
      "List item 1\n",
      "List Item 2\n",
      "\n",
      "Readline function output:\n",
      "Test write function\n",
      "\n",
      "\n",
      "Readlines function output:\n",
      "['Test write function\\n', 'List item 1\\n', 'List Item 2']\n"
     ]
    }
   ],
   "source": [
    "# Read file using read() function\n",
    "sample_file = open(\"sample_file.txt\",\"r\")\n",
    "print(\"Read function output:\")\n",
    "print(sample_file.read())\n",
    "sample_file.close()\n",
    "\n",
    "# Read file using readline() function\n",
    "sample_file = open(\"sample_file.txt\",\"r\")\n",
    "print(\"\\nReadline function output:\")\n",
    "print(sample_file.readline())\n",
    "sample_file.close()\n",
    "\n",
    "# Read file using readlines() function\n",
    "sample_file = open(\"sample_file.txt\",\"r\")\n",
    "print(\"\\nReadlines function output:\")\n",
    "print(sample_file.readlines())\n",
    "sample_file.close()"
   ]
  },
  {
   "attachments": {},
   "cell_type": "markdown",
   "metadata": {},
   "source": [
    "Q5. Explain why with statement is used with open(). What is the advantage of using with statement and\n",
    "open() together?\n"
   ]
  },
  {
   "attachments": {},
   "cell_type": "markdown",
   "metadata": {},
   "source": [
    "- with() function takes care of closing the file without explicitly using close function.\n",
    "- with() function calls two built-in methods behind the scene, __enter()__ and __exit()__\n",
    "- __exit()__ function closes the file when the operations are done. "
   ]
  },
  {
   "attachments": {},
   "cell_type": "markdown",
   "metadata": {},
   "source": [
    "Q6. Explain the write() and writelines() functions. Give a suitable example."
   ]
  },
  {
   "attachments": {},
   "cell_type": "markdown",
   "metadata": {},
   "source": [
    "- write() - writes the string to the file.\n",
    "- writelines() - writes the list of string to the file."
   ]
  },
  {
   "cell_type": "code",
   "execution_count": 36,
   "metadata": {},
   "outputs": [
    {
     "name": "stdout",
     "output_type": "stream",
     "text": [
      "Test write function\n",
      "List item 1\n",
      "List Item 2\n"
     ]
    }
   ],
   "source": [
    "with open(\"sample_file.txt\",\"a+\") as sample_file:\n",
    "    sample_file.write(\"Test write function\\n\")\n",
    "    sample_file.writelines([\"List item 1\\n\",\"List Item 2\"])\n",
    "\n",
    "with open(\"sample_file.txt\",\"r\") as sample_file:\n",
    "    print(sample_file.read())"
   ]
  }
 ],
 "metadata": {
  "kernelspec": {
   "display_name": "Python 3",
   "language": "python",
   "name": "python3"
  },
  "language_info": {
   "codemirror_mode": {
    "name": "ipython",
    "version": 3
   },
   "file_extension": ".py",
   "mimetype": "text/x-python",
   "name": "python",
   "nbconvert_exporter": "python",
   "pygments_lexer": "ipython3",
   "version": "3.10.10"
  },
  "orig_nbformat": 4
 },
 "nbformat": 4,
 "nbformat_minor": 2
}
