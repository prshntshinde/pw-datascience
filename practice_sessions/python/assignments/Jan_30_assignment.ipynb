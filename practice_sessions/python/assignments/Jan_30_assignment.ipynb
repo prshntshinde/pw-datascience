{
 "cells": [
  {
   "attachments": {},
   "cell_type": "markdown",
   "metadata": {},
   "source": [
    "## 1. Write a program to accept percentage from the user and display the grade accordingly to the following criteria:\n",
    "\n",
    "|Marks|Grade|\n",
    "|-|-|\n",
    "|> 90|A|\n",
    "|> 80 and <=90|B|\n",
    "|>=60 and <=80|C|\n",
    "|below 60|D| \n",
    " "
   ]
  },
  {
   "cell_type": "code",
   "execution_count": 8,
   "metadata": {},
   "outputs": [
    {
     "name": "stdout",
     "output_type": "stream",
     "text": [
      "Your grade is: D\n"
     ]
    }
   ],
   "source": [
    "percentage = int(input(\"Enter your percentage: \"))\n",
    "grade = \"\"\n",
    "\n",
    "if percentage > 90:\n",
    "    grade = \"A\"\n",
    "    print(\"Your grade is:\", grade)\n",
    "elif percentage > 80 and percentage <= 90:\n",
    "    grade = \"B\"\n",
    "    print(\"Your grade is:\", grade)\n",
    "elif percentage >= 60 and percentage <= 80:\n",
    "    grade = \"C\"\n",
    "    print(\"Your grade is:\", grade)\n",
    "elif percentage < 60:\n",
    "    grade = \"D\"\n",
    "    print(\"Your grade is:\", grade)\n"
   ]
  },
  {
   "attachments": {},
   "cell_type": "markdown",
   "metadata": {},
   "source": [
    "## 2. Write a program to accept the cost price of a bike and display the road tax to be paid according to the following criteria:\n",
    "\n",
    "|Tax|Cost Price (in Rs)|\n",
    "|-|-|\n",
    "|15%|>100000|\n",
    "|10%|>50000 and <= 100000|\n",
    "|5%|<=50000|"
   ]
  },
  {
   "cell_type": "code",
   "execution_count": 12,
   "metadata": {},
   "outputs": [
    {
     "name": "stdout",
     "output_type": "stream",
     "text": [
      "The road tax of your bike is: 7800.0\n"
     ]
    }
   ],
   "source": [
    "bike_price = int(input(\"Enter Bike price: \"))\n",
    "road_tax = 0\n",
    "\n",
    "if bike_price > 100000:\n",
    "    road_tax = (bike_price * 15) / 100\n",
    "    print(\"The road tax of your bike is:\", road_tax)\n",
    "elif bike_price > 50000 and bike_price <= 100000:\n",
    "    road_tax = (bike_price * 10) / 100\n",
    "    print(\"The road tax of your bike is:\", road_tax)\n",
    "elif bike_price <= 50000:\n",
    "    road_tax = (bike_price * 5) / 100\n",
    "    print(\"The road tax of your bike is:\", road_tax)\n"
   ]
  },
  {
   "attachments": {},
   "cell_type": "markdown",
   "metadata": {},
   "source": [
    "## 3. Accept any city from the user and display monuments of that city\n",
    "\n",
    "|City|Monument|\n",
    "|-|-|\n",
    "|Delhi|Redfort|\n",
    "|Agra|Taj Mahal|\n",
    "|jaipur|Jal Mahal|"
   ]
  },
  {
   "cell_type": "code",
   "execution_count": 18,
   "metadata": {},
   "outputs": [
    {
     "name": "stdout",
     "output_type": "stream",
     "text": [
      "Sorry, no monument found for the ukhni city within our database.\n"
     ]
    }
   ],
   "source": [
    "city = input(\"Enter the city name: \")\n",
    "\n",
    "if city == \"Delhi\" or city == \"delhi\":\n",
    "    print(\"The Monument of Delhi is Redfort\")\n",
    "elif city == \"Agra\" or city == \"agra\":\n",
    "    print(\"The Monument of Agra is Taj Mahal\")\n",
    "elif city == \"Jaipur\" or city == \"jaipur\":\n",
    "    print(\"The Monument of Jaipur is Jal Mahal\")\n",
    "else:\n",
    "    print(f\"Sorry, no monument found for the {city} city within our database.\")\n"
   ]
  },
  {
   "attachments": {},
   "cell_type": "markdown",
   "metadata": {},
   "source": [
    "## 4. Check how many times a given number can be divided by 3 before it is less than or equal to 10."
   ]
  },
  {
   "cell_type": "code",
   "execution_count": 24,
   "metadata": {},
   "outputs": [
    {
     "name": "stdout",
     "output_type": "stream",
     "text": [
      "The given number can be divided by 3, 4 times.\n"
     ]
    }
   ],
   "source": [
    "input_num = int(input(\"Enter the number: \"))\n",
    "div_by_3_count = 0\n",
    "\n",
    "while input_num >= 10:\n",
    "    if input_num % 3 == 0:\n",
    "        div_by_3_count += 1\n",
    "    input_num -= 1\n",
    "\n",
    "print(f\"The given number can be divided by 3, {div_by_3_count} times.\")\n"
   ]
  },
  {
   "attachments": {},
   "cell_type": "markdown",
   "metadata": {},
   "source": [
    "## 5. Why and when to use While loop in python? Give a detail description with example.\n",
    "\n",
    "Ans: \n",
    "- When we do not know the number of time to execute a block we use while loop.\n",
    "- While loop repeats a block of code n number of times until a condition is no longer met.\n",
    "- While loop will first check the condition before running. If the condition is True then the loop will run the code within loop and will continue running it while the condition is true."
   ]
  },
  {
   "cell_type": "code",
   "execution_count": 30,
   "metadata": {},
   "outputs": [
    {
     "name": "stdout",
     "output_type": "stream",
     "text": [
      "Number guessed correctly!!!. The number was 4\n"
     ]
    }
   ],
   "source": [
    "# Example of While Loop.\n",
    "# Number guessing game.\n",
    "# guess number between 1 to 10.\n",
    "\n",
    "import random\n",
    "target_num = random.randint(1, 10)\n",
    "input_num = 0\n",
    "\n",
    "while input_num != target_num:\n",
    "    input_num = int(input(\"Incorrect Guess. Try guessing again: \"))\n",
    "print(f\"Number guessed correctly!!!. The number was {target_num}\")\n"
   ]
  },
  {
   "attachments": {},
   "cell_type": "markdown",
   "metadata": {},
   "source": [
    "## 6. Use nested while loop to print 3 different pattern. "
   ]
  },
  {
   "cell_type": "code",
   "execution_count": 1,
   "metadata": {},
   "outputs": [
    {
     "name": "stdout",
     "output_type": "stream",
     "text": [
      "*****\n",
      "****\n",
      "***\n",
      "**\n",
      "*\n"
     ]
    }
   ],
   "source": [
    "count = 5\n",
    "x = 5\n",
    "while count > 0:\n",
    "    while x > 0:\n",
    "        x -= 1\n",
    "    print(\"*\" * count)\n",
    "    count -= 1\n"
   ]
  },
  {
   "cell_type": "code",
   "execution_count": 7,
   "metadata": {},
   "outputs": [
    {
     "name": "stdout",
     "output_type": "stream",
     "text": [
      "* \n",
      "** \n",
      "*** \n",
      "**** \n",
      "***** \n"
     ]
    }
   ],
   "source": [
    "x, y, z, count = 1, 1, 1, 5\n",
    "\n",
    "while x <= count:\n",
    "    while y <= x:\n",
    "        print(\"*\" * z, end=\" \")\n",
    "        y += 1\n",
    "        z += 1\n",
    "    print()\n",
    "    x += 1\n"
   ]
  },
  {
   "cell_type": "code",
   "execution_count": 9,
   "metadata": {},
   "outputs": [
    {
     "name": "stdout",
     "output_type": "stream",
     "text": [
      "    * \n",
      "   * * \n",
      "  * * * \n",
      " * * * * \n",
      "* * * * * \n"
     ]
    }
   ],
   "source": [
    "i, count = 1, 5\n",
    "\n",
    "while i <= count:\n",
    "    print(\" \" * (count-i) + \"* \" * i)\n",
    "    i += 1\n"
   ]
  },
  {
   "attachments": {},
   "cell_type": "markdown",
   "metadata": {},
   "source": [
    "## 7. Reverse a while loop to display numbers from 10 to 1"
   ]
  },
  {
   "cell_type": "code",
   "execution_count": 32,
   "metadata": {},
   "outputs": [
    {
     "name": "stdout",
     "output_type": "stream",
     "text": [
      "10\n",
      "9\n",
      "8\n",
      "7\n",
      "6\n",
      "5\n",
      "4\n",
      "3\n",
      "2\n",
      "1\n"
     ]
    }
   ],
   "source": [
    "num = 10\n",
    "while num > 0:\n",
    "    print(num)\n",
    "    num -= 1\n"
   ]
  },
  {
   "attachments": {},
   "cell_type": "markdown",
   "metadata": {},
   "source": [
    "## 8. Reverse a while loop to display numbers from 10 to 1"
   ]
  },
  {
   "cell_type": "code",
   "execution_count": 33,
   "metadata": {},
   "outputs": [
    {
     "name": "stdout",
     "output_type": "stream",
     "text": [
      "10\n",
      "9\n",
      "8\n",
      "7\n",
      "6\n",
      "5\n",
      "4\n",
      "3\n",
      "2\n",
      "1\n"
     ]
    }
   ],
   "source": [
    "num = 10\n",
    "while num > 0:\n",
    "    print(num)\n",
    "    num -= 1\n"
   ]
  }
 ],
 "metadata": {
  "kernelspec": {
   "display_name": "Python 3",
   "language": "python",
   "name": "python3"
  },
  "language_info": {
   "codemirror_mode": {
    "name": "ipython",
    "version": 3
   },
   "file_extension": ".py",
   "mimetype": "text/x-python",
   "name": "python",
   "nbconvert_exporter": "python",
   "pygments_lexer": "ipython3",
   "version": "3.10.10"
  },
  "orig_nbformat": 4
 },
 "nbformat": 4,
 "nbformat_minor": 2
}
