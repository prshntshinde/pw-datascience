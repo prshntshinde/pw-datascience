{
 "cells": [
  {
   "attachments": {},
   "cell_type": "markdown",
   "metadata": {},
   "source": [
    "## Q: Who developed Python programming language?\n",
    "Ans: - Python is developed by Guido van Rossum"
   ]
  },
  {
   "attachments": {},
   "cell_type": "markdown",
   "metadata": {},
   "source": [
    "## Q: Which type of Programming language does Python support?\n",
    "Ans: Python supports object oriented programming\n"
   ]
  },
  {
   "attachments": {},
   "cell_type": "markdown",
   "metadata": {},
   "source": [
    "## Q: Is python case sensitive when dealing with identifiers?\n",
    "Ans: Yes, python is case sensitive."
   ]
  },
  {
   "attachments": {},
   "cell_type": "markdown",
   "metadata": {},
   "source": [
    "## Q: What is a correct extension of Python file?\n",
    "Ans: Correct extension of Python file are .py, .pyi, .pyc, .pyo, .pyd, pyz"
   ]
  },
  {
   "attachments": {},
   "cell_type": "markdown",
   "metadata": {},
   "source": [
    "## Q: Is python code compiled or interpreted?\n",
    "Ans: Python is an interpreted language"
   ]
  },
  {
   "attachments": {},
   "cell_type": "markdown",
   "metadata": {},
   "source": [
    "## Q: Name a few blocks of code used to define in python language\n",
    "Ans: \n",
    "\n",
    "if block\n",
    "```python\n",
    "if a >= 10:\n",
    "    print(\"Number is greater\")\n",
    "```\n",
    "\n",
    "Fuction block\n",
    "```python\n",
    "def add(num1,num2):\n",
    "    return num1+num2\n",
    "```"
   ]
  },
  {
   "attachments": {},
   "cell_type": "markdown",
   "metadata": {},
   "source": [
    "## Q: State a character used to give single-line connect in Python?\n",
    "Ans: \"#\" is used to give single line comment."
   ]
  },
  {
   "attachments": {},
   "cell_type": "markdown",
   "metadata": {},
   "source": [
    "## Q: Mention a function which can help us to find the version of python tht we are currently working on?\n",
    "Ans: version function from sys module will help us to get the current version of Python"
   ]
  },
  {
   "cell_type": "code",
   "execution_count": 2,
   "metadata": {},
   "outputs": [
    {
     "name": "stdout",
     "output_type": "stream",
     "text": [
      "3.10.10 (tags/v3.10.10:aad5f6a, Feb  7 2023, 17:20:36) [MSC v.1929 64 bit (AMD64)]\n"
     ]
    }
   ],
   "source": [
    "import sys\n",
    "print(sys.version)"
   ]
  },
  {
   "attachments": {},
   "cell_type": "markdown",
   "metadata": {},
   "source": [
    "## Q: Python supports creation of anonymous functions at runtime using a construct called\n",
    "Ans: Lambda."
   ]
  },
  {
   "attachments": {},
   "cell_type": "markdown",
   "metadata": {},
   "source": [
    "## Q: What does pip stands for?\n",
    "Ans: PIP stands for Package Installer for Python"
   ]
  },
  {
   "attachments": {},
   "cell_type": "markdown",
   "metadata": {},
   "source": [
    "## Q: Mention a few built-in functions in python\n",
    "Ans:\n",
    "1. input()\n",
    "2. len()\n",
    "3. pow()\n",
    "4. print()\n",
    "5. range()\n",
    "6. sum()"
   ]
  },
  {
   "attachments": {},
   "cell_type": "markdown",
   "metadata": {},
   "source": [
    "## Q: What is maximum possible length of an identifier?\n",
    "Ans: THe technical limit is unlimited characters however as per the PEP standards we should limit the identifiers with 79 characters."
   ]
  },
  {
   "attachments": {},
   "cell_type": "markdown",
   "metadata": {},
   "source": [
    "## Q: Benefits of using Python?\n",
    "Ans:\n",
    "1. Easy to read, write and learn\n",
    "2. Dynamically typed language\n",
    "3. Object oriented\n",
    "4. Works across operating systems\n",
    "5. Extensive libraries and community support\n"
   ]
  },
  {
   "attachments": {},
   "cell_type": "markdown",
   "metadata": {},
   "source": [
    "## Q: How is memory managed in python?\n",
    "Ans: Memory is managed in python using Pythons garbage collector."
   ]
  },
  {
   "attachments": {},
   "cell_type": "markdown",
   "metadata": {},
   "source": [
    "## Q: How to install python on windows and set path variables?\n",
    "Ans: Download python from the official pythn website and installer using the installer.\n",
    "Once installed open Environment variables and add python installation path to the PATH environment variable.\n"
   ]
  },
  {
   "attachments": {},
   "cell_type": "markdown",
   "metadata": {},
   "source": [
    "## Q: Is indentation required in python?\n",
    "Ans: Yes , indentation is required in python."
   ]
  },
  {
   "attachments": {},
   "cell_type": "markdown",
   "metadata": {},
   "source": []
  }
 ],
 "metadata": {
  "kernelspec": {
   "display_name": "Python 3",
   "language": "python",
   "name": "python3"
  },
  "language_info": {
   "codemirror_mode": {
    "name": "ipython",
    "version": 3
   },
   "file_extension": ".py",
   "mimetype": "text/x-python",
   "name": "python",
   "nbconvert_exporter": "python",
   "pygments_lexer": "ipython3",
   "version": "3.10.10"
  },
  "orig_nbformat": 4
 },
 "nbformat": 4,
 "nbformat_minor": 2
}
