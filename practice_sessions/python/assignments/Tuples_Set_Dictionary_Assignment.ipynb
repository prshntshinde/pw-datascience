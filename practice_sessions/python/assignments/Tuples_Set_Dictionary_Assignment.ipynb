{
 "cells": [
  {
   "cell_type": "markdown",
   "id": "662f0be9-2851-4dfd-b967-3069e4fe0d01",
   "metadata": {},
   "source": [
    "# Tuples Set and Dictionary assignment"
   ]
  },
  {
   "cell_type": "markdown",
   "id": "db69d967-a28a-4474-915b-6bb6066f7142",
   "metadata": {},
   "source": [
    "## Q1. What are the characteristics of the tuples? Is tuple immutable?"
   ]
  },
  {
   "cell_type": "code",
   "execution_count": 1,
   "id": "93887653-167b-470b-9382-2ae5fff5508c",
   "metadata": {},
   "outputs": [],
   "source": [
    "t = (1,2,3,4)"
   ]
  },
  {
   "cell_type": "code",
   "execution_count": 2,
   "id": "25207fb6-26fc-461f-8117-f9cd4eb8f049",
   "metadata": {},
   "outputs": [
    {
     "data": {
      "text/plain": [
       "tuple"
      ]
     },
     "execution_count": 2,
     "metadata": {},
     "output_type": "execute_result"
    }
   ],
   "source": [
    "type(t)"
   ]
  },
  {
   "cell_type": "code",
   "execution_count": 3,
   "id": "a451bc89-4fd5-410c-9d43-483341201e2f",
   "metadata": {},
   "outputs": [
    {
     "ename": "TypeError",
     "evalue": "'tuple' object does not support item assignment",
     "output_type": "error",
     "traceback": [
      "\u001b[0;31m---------------------------------------------------------------------------\u001b[0m",
      "\u001b[0;31mTypeError\u001b[0m                                 Traceback (most recent call last)",
      "Cell \u001b[0;32mIn[3], line 1\u001b[0m\n\u001b[0;32m----> 1\u001b[0m \u001b[43mt\u001b[49m\u001b[43m[\u001b[49m\u001b[38;5;241;43m0\u001b[39;49m\u001b[43m]\u001b[49m \u001b[38;5;241m=\u001b[39m \u001b[38;5;241m999\u001b[39m\n",
      "\u001b[0;31mTypeError\u001b[0m: 'tuple' object does not support item assignment"
     ]
    }
   ],
   "source": [
    "t[0] = 999"
   ]
  },
  {
   "cell_type": "code",
   "execution_count": 6,
   "id": "23b31f4f-47de-4515-a66c-6f6c35441941",
   "metadata": {},
   "outputs": [
    {
     "data": {
      "text/plain": [
       "1"
      ]
     },
     "execution_count": 6,
     "metadata": {},
     "output_type": "execute_result"
    }
   ],
   "source": [
    "t[0]"
   ]
  },
  {
   "cell_type": "code",
   "execution_count": 8,
   "id": "859284b7-7bd6-4c62-8e2f-20c70bca2888",
   "metadata": {},
   "outputs": [
    {
     "data": {
      "text/plain": [
       "(1, 1, 2, 2, 3, 3)"
      ]
     },
     "execution_count": 8,
     "metadata": {},
     "output_type": "execute_result"
    }
   ],
   "source": [
    "t = (1,1,2,2,3,3)\n",
    "t"
   ]
  },
  {
   "cell_type": "markdown",
   "id": "8eb560a1-1eb0-41af-9235-74c9591018d0",
   "metadata": {},
   "source": [
    "### Ans: The charactersistic of Tuple are as follows:\n",
    "1. Tuple is defined by using round braces \"()\".\n",
    "2. Tuple items are indexed.\n",
    "3. Tuples are ordered. \n",
    "4. Tuples can contain dupicate items.\n",
    "\n",
    "Tuple is immutable."
   ]
  },
  {
   "cell_type": "markdown",
   "id": "c79ddae0-ea28-4c3a-b490-5f786ab75987",
   "metadata": {},
   "source": [
    "## Q2. What are the two tuple methods in python? Give an example of each method. Give a reason why tuples have only two in-built methods as compared to Lists."
   ]
  },
  {
   "cell_type": "code",
   "execution_count": 11,
   "id": "1debfe34-86f6-456b-8fec-220f1fe9d6c6",
   "metadata": {},
   "outputs": [
    {
     "data": {
      "text/plain": [
       "(1, 2, 3, 4, 5, 1)"
      ]
     },
     "execution_count": 11,
     "metadata": {},
     "output_type": "execute_result"
    }
   ],
   "source": [
    "t = (1,2,3,4,5,1)\n",
    "t"
   ]
  },
  {
   "cell_type": "code",
   "execution_count": 16,
   "id": "d4e80900-f3fa-420f-85f6-f7f50d84028f",
   "metadata": {},
   "outputs": [
    {
     "name": "stdout",
     "output_type": "stream",
     "text": [
      "2\n",
      "1\n"
     ]
    }
   ],
   "source": [
    "# Gives occurance of the value\n",
    "print(t.count(1))\n",
    "print(t.count(4))"
   ]
  },
  {
   "cell_type": "code",
   "execution_count": 18,
   "id": "04e03c72-680b-4259-b0fa-690bbe1d811b",
   "metadata": {},
   "outputs": [
    {
     "name": "stdout",
     "output_type": "stream",
     "text": [
      "0\n",
      "3\n"
     ]
    }
   ],
   "source": [
    "# Return first index of value\n",
    "print(t.index(1))\n",
    "print(t.index(4))"
   ]
  },
  {
   "cell_type": "markdown",
   "id": "b38ce43e-70ec-4625-9f90-df62390952a7",
   "metadata": {},
   "source": [
    "### Ans: The two tuples methods in python are:\n",
    "1. Count\n",
    "2. Index\n",
    "\n",
    "As Tuples are immutable they have only two methods compared to List. "
   ]
  },
  {
   "cell_type": "markdown",
   "id": "7c5312f6-9c00-4310-99f5-b3159cc17a31",
   "metadata": {},
   "source": [
    "## Q3. Which collection datatypes in python do not allow duplicate items? Write a code using a set to remove duplicates from the given list.\n",
    "List = [1, 1, 1, 2, 1, 3, 1, 4, 2, 1, 2, 2, 2, 3, 2, 4, 3, 1, 3, 2, 3, 3, 3, 4, 4, 1, 4, 2, 4, 3, 4, 4]"
   ]
  },
  {
   "cell_type": "markdown",
   "id": "d6365680-cab6-4d51-9d36-aa82fb0b60e0",
   "metadata": {},
   "source": [
    "### Ans: Set type of collection do not allow duplicate items"
   ]
  },
  {
   "cell_type": "code",
   "execution_count": 25,
   "id": "f9d386a4-6f31-4a73-998b-c93ac1b1c697",
   "metadata": {},
   "outputs": [
    {
     "data": {
      "text/plain": [
       "[1,\n",
       " 1,\n",
       " 1,\n",
       " 2,\n",
       " 1,\n",
       " 3,\n",
       " 1,\n",
       " 4,\n",
       " 2,\n",
       " 1,\n",
       " 2,\n",
       " 2,\n",
       " 2,\n",
       " 3,\n",
       " 2,\n",
       " 4,\n",
       " 3,\n",
       " 1,\n",
       " 3,\n",
       " 2,\n",
       " 3,\n",
       " 3,\n",
       " 3,\n",
       " 4,\n",
       " 4,\n",
       " 1,\n",
       " 4,\n",
       " 2,\n",
       " 4,\n",
       " 3,\n",
       " 4,\n",
       " 4]"
      ]
     },
     "execution_count": 25,
     "metadata": {},
     "output_type": "execute_result"
    }
   ],
   "source": [
    "lst1 = [1, 1, 1, 2, 1, 3, 1, 4, 2, 1, 2, 2, 2, 3, 2, 4, 3, 1, 3, 2, 3, 3, 3, 4, 4, 1, 4, 2, 4, 3, 4, 4]\n",
    "lst1"
   ]
  },
  {
   "cell_type": "code",
   "execution_count": 26,
   "id": "34bb102b-d226-4a6a-8a5a-474487d994cf",
   "metadata": {},
   "outputs": [
    {
     "data": {
      "text/plain": [
       "{1, 2, 3, 4}"
      ]
     },
     "execution_count": 26,
     "metadata": {},
     "output_type": "execute_result"
    }
   ],
   "source": [
    "set1 = set(lst1) \n",
    "set1"
   ]
  },
  {
   "cell_type": "code",
   "execution_count": 27,
   "id": "62015562-391d-4bd1-98dc-e59c33fa5f01",
   "metadata": {},
   "outputs": [
    {
     "data": {
      "text/plain": [
       "set"
      ]
     },
     "execution_count": 27,
     "metadata": {},
     "output_type": "execute_result"
    }
   ],
   "source": [
    "type(set1)"
   ]
  },
  {
   "cell_type": "markdown",
   "id": "daf6aa22-9591-4257-a0fb-e9a64bedc479",
   "metadata": {},
   "source": [
    "## Q4. Explain the difference between the union() and update() methods for a set. Give an example of each method."
   ]
  },
  {
   "cell_type": "code",
   "execution_count": 37,
   "id": "0271d13c-958d-4de6-854b-69d959bb0edf",
   "metadata": {},
   "outputs": [
    {
     "name": "stdout",
     "output_type": "stream",
     "text": [
      "<class 'set'>\n",
      "<class 'set'>\n"
     ]
    }
   ],
   "source": [
    "# Uninon Method example\n",
    "whole_numbers = {0,1,2,3,4,5,6,7,8,9,10}\n",
    "even_numbers = {2,4,6,8,10,12,14,16,18,20}\n",
    "\n",
    "print(type(whole_numbers))\n",
    "print(type(even_numbers))"
   ]
  },
  {
   "cell_type": "code",
   "execution_count": 38,
   "id": "50ff01da-3fde-477d-bbeb-3bc40430687d",
   "metadata": {},
   "outputs": [
    {
     "data": {
      "text/plain": [
       "{0, 1, 2, 3, 4, 5, 6, 7, 8, 9, 10, 12, 14, 16, 18, 20}"
      ]
     },
     "execution_count": 38,
     "metadata": {},
     "output_type": "execute_result"
    }
   ],
   "source": [
    "even_numbers.union(whole_numbers)"
   ]
  },
  {
   "cell_type": "code",
   "execution_count": 39,
   "id": "81e084a1-1a06-49bc-937f-664a3d8f8430",
   "metadata": {},
   "outputs": [
    {
     "data": {
      "text/plain": [
       "{0, 1, 2, 3, 4, 5, 6, 7, 8, 9, 10, 12, 14, 16, 18, 20}"
      ]
     },
     "execution_count": 39,
     "metadata": {},
     "output_type": "execute_result"
    }
   ],
   "source": [
    "whole_numbers.union(even_numbers)"
   ]
  },
  {
   "cell_type": "code",
   "execution_count": 42,
   "id": "723f37c8-5395-4d7c-810b-363b1cfdf31a",
   "metadata": {},
   "outputs": [
    {
     "data": {
      "text/plain": [
       "{0, 1, 2, 3, 4, 5, 6, 7, 8, 9, 10, 12, 14, 16, 18, 20}"
      ]
     },
     "execution_count": 42,
     "metadata": {},
     "output_type": "execute_result"
    }
   ],
   "source": [
    "# Update Method example\n",
    "whole_numbers.update(even_numbers)\n",
    "whole_numbers"
   ]
  },
  {
   "cell_type": "markdown",
   "id": "8b61dece-f02e-4cde-846c-079866254da5",
   "metadata": {},
   "source": [
    "### Ans: \n",
    "- Union - this method will return a union of the sets given as input. \n",
    "- Update - this method will update itself with the uninon of the given inputs."
   ]
  },
  {
   "cell_type": "markdown",
   "id": "9d51a76a-d0bc-4cc5-8e2d-b4674db081cd",
   "metadata": {},
   "source": [
    "## Q5. What is a dictionary? Give an example. Also, state whether a dictionary is ordered or unordered."
   ]
  },
  {
   "cell_type": "code",
   "execution_count": 45,
   "id": "ae29188a-f8d0-488c-8250-da9062f88b32",
   "metadata": {},
   "outputs": [
    {
     "data": {
      "text/plain": [
       "{'dog': 'bark', 'cat': 'meow', 'duck': 'quack'}"
      ]
     },
     "execution_count": 45,
     "metadata": {},
     "output_type": "execute_result"
    }
   ],
   "source": [
    "animals_sound = {\"dog\": \"bark\",\"cat\": \"meow\",\"duck\": \"quack\"}\n",
    "animals_sound"
   ]
  },
  {
   "cell_type": "code",
   "execution_count": 46,
   "id": "3ac5ef4c-0e78-430b-bf5e-ae59d3d4c58c",
   "metadata": {},
   "outputs": [
    {
     "data": {
      "text/plain": [
       "dict"
      ]
     },
     "execution_count": 46,
     "metadata": {},
     "output_type": "execute_result"
    }
   ],
   "source": [
    "type(animals_sound)"
   ]
  },
  {
   "cell_type": "code",
   "execution_count": 48,
   "id": "0f1a6cb1-1304-4df7-a7c6-bfd3f1dac974",
   "metadata": {},
   "outputs": [
    {
     "ename": "KeyError",
     "evalue": "0",
     "output_type": "error",
     "traceback": [
      "\u001b[0;31m---------------------------------------------------------------------------\u001b[0m",
      "\u001b[0;31mKeyError\u001b[0m                                  Traceback (most recent call last)",
      "Cell \u001b[0;32mIn[48], line 1\u001b[0m\n\u001b[0;32m----> 1\u001b[0m \u001b[43manimals_sound\u001b[49m\u001b[43m[\u001b[49m\u001b[38;5;241;43m0\u001b[39;49m\u001b[43m]\u001b[49m\n",
      "\u001b[0;31mKeyError\u001b[0m: 0"
     ]
    }
   ],
   "source": [
    "animals_sound[0]"
   ]
  },
  {
   "cell_type": "code",
   "execution_count": 49,
   "id": "d378255e-c76f-4c7a-8e7d-2a9b0d3888fc",
   "metadata": {},
   "outputs": [
    {
     "data": {
      "text/plain": [
       "'bark'"
      ]
     },
     "execution_count": 49,
     "metadata": {},
     "output_type": "execute_result"
    }
   ],
   "source": [
    "animals_sound[\"dog\"]"
   ]
  },
  {
   "cell_type": "code",
   "execution_count": 50,
   "id": "b899f35f-07f7-4c59-acae-0c049168b171",
   "metadata": {},
   "outputs": [
    {
     "data": {
      "text/plain": [
       "'quack'"
      ]
     },
     "execution_count": 50,
     "metadata": {},
     "output_type": "execute_result"
    }
   ],
   "source": [
    "animals_sound[\"duck\"]"
   ]
  },
  {
   "cell_type": "markdown",
   "id": "5551e8b5-2e02-4bfb-8311-59099660b279",
   "metadata": {},
   "source": [
    "### Ans: \n",
    "- Dictionary is an collection which stores data in key and value pairs.\n",
    "- Dictionary are ordered. But we cannot refer to its items using index. We will need to use keys instead."
   ]
  },
  {
   "cell_type": "markdown",
   "id": "16865e81-6b26-47e4-ba52-57b96b28c001",
   "metadata": {},
   "source": [
    "## Q6. Can we create a nested dictionary? If so, please give an example by creating a simple one-level nested dictionary."
   ]
  },
  {
   "cell_type": "code",
   "execution_count": 52,
   "id": "26e158e3-0f85-47f7-b078-35fbb60eb7c8",
   "metadata": {},
   "outputs": [
    {
     "data": {
      "text/plain": [
       "{'dog': {'name': 'Bruno', 'sound': 'bark'},\n",
       " 'cat': {'name': 'Snowbell', 'sound': 'meow'}}"
      ]
     },
     "execution_count": 52,
     "metadata": {},
     "output_type": "execute_result"
    }
   ],
   "source": [
    "animals = {\"dog\": {\"name\": \"Bruno\",\"sound\": \"bark\"},\"cat\": {\"name\": \"Snowbell\",\"sound\": \"meow\"}}\n",
    "animals"
   ]
  },
  {
   "cell_type": "code",
   "execution_count": 53,
   "id": "cdc10d72-796e-49d3-b655-205e9e5ae3a6",
   "metadata": {},
   "outputs": [
    {
     "data": {
      "text/plain": [
       "dict"
      ]
     },
     "execution_count": 53,
     "metadata": {},
     "output_type": "execute_result"
    }
   ],
   "source": [
    "type(animals)"
   ]
  },
  {
   "cell_type": "code",
   "execution_count": 54,
   "id": "fb2e87dd-27b5-4e1d-9b88-1bac475d9ec4",
   "metadata": {},
   "outputs": [
    {
     "data": {
      "text/plain": [
       "{'name': 'Bruno', 'sound': 'bark'}"
      ]
     },
     "execution_count": 54,
     "metadata": {},
     "output_type": "execute_result"
    }
   ],
   "source": [
    "animals[\"dog\"]"
   ]
  },
  {
   "cell_type": "markdown",
   "id": "40566d9b-fad0-41b4-84f4-e4eac436d40c",
   "metadata": {},
   "source": [
    "### Ans: \n",
    "- Yes we can create nested dictionary"
   ]
  },
  {
   "cell_type": "markdown",
   "id": "d4af34a4-1b5b-4169-9335-6f79df646883",
   "metadata": {},
   "source": [
    "## Q7. Using setdefault() method, create key named topics in the given dictionary and also add the value of the key as this list ['Python', 'Machine Learning’, 'Deep Learning'] dict1 = {'language' : 'Python', 'course': 'Data Science Masters'}"
   ]
  },
  {
   "cell_type": "code",
   "execution_count": 56,
   "id": "1dc2647e-9b0c-4391-aef6-80f65d04aa54",
   "metadata": {},
   "outputs": [
    {
     "data": {
      "text/plain": [
       "{'language': 'Python', 'course': 'Data Science Masters'}"
      ]
     },
     "execution_count": 56,
     "metadata": {},
     "output_type": "execute_result"
    }
   ],
   "source": [
    "### Ans:\n",
    "\n",
    "dict1 = {'language' : 'Python', 'course': 'Data Science Masters'}\n",
    "dict1"
   ]
  },
  {
   "cell_type": "code",
   "execution_count": 59,
   "id": "c48a43f4-7e2e-4803-a3a2-e131cfc0c6b5",
   "metadata": {},
   "outputs": [
    {
     "data": {
      "text/plain": [
       "['Python', 'Machine Learning', 'Deep Learning']"
      ]
     },
     "execution_count": 59,
     "metadata": {},
     "output_type": "execute_result"
    }
   ],
   "source": [
    "lst1 = ['Python', 'Machine Learning', 'Deep Learning']\n",
    "lst1"
   ]
  },
  {
   "cell_type": "code",
   "execution_count": 61,
   "id": "0c2b35ab-6791-4386-a383-96cd6fd3511f",
   "metadata": {},
   "outputs": [
    {
     "data": {
      "text/plain": [
       "['Python', 'Machine Learning', 'Deep Learning']"
      ]
     },
     "execution_count": 61,
     "metadata": {},
     "output_type": "execute_result"
    }
   ],
   "source": [
    "dict1.setdefault(\"topics\", lst1)"
   ]
  },
  {
   "cell_type": "code",
   "execution_count": 62,
   "id": "314e337e-3404-4641-b8da-e34d27183d93",
   "metadata": {},
   "outputs": [
    {
     "data": {
      "text/plain": [
       "{'language': 'Python',\n",
       " 'course': 'Data Science Masters',\n",
       " 'topics': ['Python', 'Machine Learning', 'Deep Learning']}"
      ]
     },
     "execution_count": 62,
     "metadata": {},
     "output_type": "execute_result"
    }
   ],
   "source": [
    "dict1"
   ]
  },
  {
   "cell_type": "markdown",
   "id": "aa8b6431-27f1-40cf-87ca-5f3ed3c816f2",
   "metadata": {},
   "source": [
    "## Q8. What are the three view objects in dictionaries? Use the three in-built methods in python to display these three view objects for the given dictionary. \n",
    "dict1 = {'Sport': 'Cricket' , 'Teams': ['India', 'Australia', 'England', 'South Africa', 'Sri Lanka', 'New Zealand']}"
   ]
  },
  {
   "cell_type": "code",
   "execution_count": 64,
   "id": "fcb78afb-2633-4ed1-a144-7cac95b73d8b",
   "metadata": {},
   "outputs": [
    {
     "data": {
      "text/plain": [
       "{'Sport': 'Cricket',\n",
       " 'Teams': ['India',\n",
       "  'Australia',\n",
       "  'England',\n",
       "  'South Africa',\n",
       "  'Sri Lanka',\n",
       "  'New Zealand']}"
      ]
     },
     "execution_count": 64,
     "metadata": {},
     "output_type": "execute_result"
    }
   ],
   "source": [
    "dict1 =  {'Sport': 'Cricket' , 'Teams': ['India', 'Australia', 'England', 'South Africa', 'Sri Lanka', 'New Zealand']}\n",
    "dict1"
   ]
  },
  {
   "cell_type": "code",
   "execution_count": 65,
   "id": "536c9ada-1f03-4e5b-9f65-9e1e98839f59",
   "metadata": {},
   "outputs": [
    {
     "data": {
      "text/plain": [
       "dict_keys(['Sport', 'Teams'])"
      ]
     },
     "execution_count": 65,
     "metadata": {},
     "output_type": "execute_result"
    }
   ],
   "source": [
    "dict1.keys()"
   ]
  },
  {
   "cell_type": "code",
   "execution_count": 66,
   "id": "6a9259ef-8d62-4ff1-ac5c-0e69630f80fa",
   "metadata": {},
   "outputs": [
    {
     "data": {
      "text/plain": [
       "dict_values(['Cricket', ['India', 'Australia', 'England', 'South Africa', 'Sri Lanka', 'New Zealand']])"
      ]
     },
     "execution_count": 66,
     "metadata": {},
     "output_type": "execute_result"
    }
   ],
   "source": [
    "dict1.values()"
   ]
  },
  {
   "cell_type": "code",
   "execution_count": 67,
   "id": "862bc9c5-4732-43b6-bf9f-13ebf5296d8f",
   "metadata": {},
   "outputs": [
    {
     "data": {
      "text/plain": [
       "dict_items([('Sport', 'Cricket'), ('Teams', ['India', 'Australia', 'England', 'South Africa', 'Sri Lanka', 'New Zealand'])])"
      ]
     },
     "execution_count": 67,
     "metadata": {},
     "output_type": "execute_result"
    }
   ],
   "source": [
    "dict1.items()"
   ]
  },
  {
   "cell_type": "markdown",
   "id": "8c59698e-ddb7-4901-9fb2-9f134ba31b8e",
   "metadata": {},
   "source": [
    "### Ans:\n",
    "- The 3 view objects in dictionaries are keys, values, items."
   ]
  },
  {
   "cell_type": "code",
   "execution_count": null,
   "id": "dd554fc0-81bb-45df-9911-44fa43941b2f",
   "metadata": {},
   "outputs": [],
   "source": []
  }
 ],
 "metadata": {
  "kernelspec": {
   "display_name": "Python 3 (ipykernel)",
   "language": "python",
   "name": "python3"
  },
  "language_info": {
   "codemirror_mode": {
    "name": "ipython",
    "version": 3
   },
   "file_extension": ".py",
   "mimetype": "text/x-python",
   "name": "python",
   "nbconvert_exporter": "python",
   "pygments_lexer": "ipython3",
   "version": "3.10.8"
  }
 },
 "nbformat": 4,
 "nbformat_minor": 5
}
