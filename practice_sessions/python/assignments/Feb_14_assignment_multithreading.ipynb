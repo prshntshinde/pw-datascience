{
 "cells": [
  {
   "cell_type": "markdown",
   "metadata": {},
   "source": [
    "Q1. What is multithreading in python? Why is it used? Name the module used to handle threads in python."
   ]
  },
  {
   "cell_type": "markdown",
   "metadata": {},
   "source": [
    "- Multithreading is an ability of a processor to execute multiple threads simultaneously.\n",
    "- It increases performance and saves time.\n",
    "- \"threading\" module is used to handle threads in python."
   ]
  },
  {
   "cell_type": "markdown",
   "metadata": {},
   "source": [
    "Q2. Why threading module used? Write the use of the following functions:\n",
    "- activeCount()\n",
    "- currentThread()\n",
    "- enumerate()"
   ]
  },
  {
   "cell_type": "markdown",
   "metadata": {},
   "source": [
    "Threading module encapsulates threads, providing a clean interface to work with them.\n",
    "\n",
    "activeCount()\n",
    "- This returns the number of active thread objects.\n",
    "\n",
    "currentThread()\n",
    "- This returns the number of objects that are under the thread control of the caller.\n",
    "\n",
    "enumerate()\n",
    "- This returns the list of all thread objects that are presently active"
   ]
  },
  {
   "cell_type": "markdown",
   "metadata": {},
   "source": [
    "Q3. Explain the following functions:\n",
    "- run()\n",
    "- start()\n",
    "- join()\n",
    "- isAlive()"
   ]
  },
  {
   "cell_type": "markdown",
   "metadata": {},
   "source": [
    "run()\n",
    "- run() method is the entry point for a thread.\n",
    "\n",
    "start()\n",
    "- start() method starts a thread by calling the run method.\n",
    "\n",
    "join()\n",
    "- join() method is used to block the execution of another code until the thread terminates.\n",
    "\n",
    "isAlive()\n",
    "- isAlive() method checks whether a thread is still executing."
   ]
  },
  {
   "cell_type": "markdown",
   "metadata": {},
   "source": [
    "Q4. Write a python program to create two threads. Thread one must print the list of squares and thread\n",
    "two must print the list of cubes."
   ]
  },
  {
   "cell_type": "code",
   "execution_count": 4,
   "metadata": {},
   "outputs": [
    {
     "name": "stdout",
     "output_type": "stream",
     "text": [
      "Square of 2 is 4\n",
      "Square of 3 is 9\n",
      "Square of 4 is 16\n",
      "Square of 5 is 25\n",
      "Cube of 2 is 8\n",
      "Cube of 3 is 27\n",
      "Cube of 4 is 64\n",
      "Cube of 5 is 125\n"
     ]
    }
   ],
   "source": [
    "import time\n",
    "import threading\n",
    "\n",
    "def squares(x):\n",
    "    print('Square of %d is %d'%(x,x*x))\n",
    "    time.sleep(2)\n",
    "    #return x*x\n",
    "\n",
    "def cubes(x):\n",
    "    print('Cube of %d is %d'%(x,x**3))\n",
    "    time.sleep(2)\n",
    "    #return x**3\n",
    "\n",
    "thread_var1 = [threading.Thread(target=squares, args=(i,)) for i in [2,3,4,5]]\n",
    "thread_var2 = [threading.Thread(target=cubes,args=(i,)) for i in [2,3,4,5]]\n",
    "\n",
    "for t in thread_var1:\n",
    "    t.start()\n",
    "\n",
    "for t in thread_var2:\n",
    "    t.start()"
   ]
  },
  {
   "cell_type": "markdown",
   "metadata": {},
   "source": [
    "Q5. State advantages and disadvantages of multithreading."
   ]
  },
  {
   "cell_type": "markdown",
   "metadata": {},
   "source": [
    "|Advantage|Disadvantage|\n",
    "|-|-|\n",
    "|Multithreading enables efficient utilization of the resources as the threads share the data space and memory.|As number of threads increase, complexity increases.|\n",
    "|Multithreading in Python allows the concurrent and parallel occurrence of various tasks.|It is difficult to debug, result is sometimes unpredictable.|\n",
    "|It causes a reduction in time consumption or response time, thereby increasing the performance.|Potential deadlocks which leads to starvation, i.e. some threads may not be served with a bad design|"
   ]
  },
  {
   "cell_type": "markdown",
   "metadata": {},
   "source": [
    "Q6. Explain deadlocks and race conditions."
   ]
  },
  {
   "cell_type": "markdown",
   "metadata": {},
   "source": [
    "Deadlock:\n",
    "- A deadlock is a situation where a thread or threads wait for a condition that never occurs.\n",
    "\n",
    "\n",
    "Race Condition:\n",
    "- A race condition occurs when two or more threads try to access a shared variable simultaneously, leading to unpredictable outcomes.\n",
    "- We can use a threading lock object to prevent the race condition"
   ]
  }
 ],
 "metadata": {
  "kernelspec": {
   "display_name": "Python 3",
   "language": "python",
   "name": "python3"
  },
  "language_info": {
   "codemirror_mode": {
    "name": "ipython",
    "version": 3
   },
   "file_extension": ".py",
   "mimetype": "text/x-python",
   "name": "python",
   "nbconvert_exporter": "python",
   "pygments_lexer": "ipython3",
   "version": "3.10.10"
  },
  "orig_nbformat": 4
 },
 "nbformat": 4,
 "nbformat_minor": 2
}
