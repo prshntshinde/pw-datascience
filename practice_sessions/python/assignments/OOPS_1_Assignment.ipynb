{
 "cells": [
  {
   "attachments": {},
   "cell_type": "markdown",
   "metadata": {},
   "source": [
    "## Q1. Explain Class and Object with respect to Object-Oriented Programming. Give a suitable example."
   ]
  },
  {
   "attachments": {},
   "cell_type": "markdown",
   "metadata": {},
   "source": [
    "### Class\n",
    "- Class is an user-defined data-type which is a blue print for objects, methods.\n",
    "\n",
    "### objects\n",
    "- Objects are instances of a class which correlates to real world objects or entity.\n",
    "\n",
    "#### Example below:"
   ]
  },
  {
   "cell_type": "code",
   "execution_count": 10,
   "metadata": {},
   "outputs": [],
   "source": [
    "# Class Example\n",
    "class Animals:\n",
    "\n",
    "    def __init__(self, name):\n",
    "        self.name = name\n",
    "\n",
    "    def get_animal(self):\n",
    "        return self.name"
   ]
  },
  {
   "cell_type": "code",
   "execution_count": 11,
   "metadata": {},
   "outputs": [
    {
     "data": {
      "text/plain": [
       "'Bruno'"
      ]
     },
     "execution_count": 11,
     "metadata": {},
     "output_type": "execute_result"
    }
   ],
   "source": [
    "# Object example\n",
    "dog = Animals(\"Bruno\")\n",
    "dog.get_animal()"
   ]
  },
  {
   "attachments": {},
   "cell_type": "markdown",
   "metadata": {},
   "source": [
    "## Q2. Name the four pillars of OOPs."
   ]
  },
  {
   "attachments": {},
   "cell_type": "markdown",
   "metadata": {},
   "source": [
    "### 4 Pillars of OOPS\n",
    "- Inheritance\n",
    "- Polymorphism\n",
    "- Abstraction\n",
    "- Encapsulation\n"
   ]
  },
  {
   "attachments": {},
   "cell_type": "markdown",
   "metadata": {},
   "source": [
    "## Q3. Explain why the init() function is used. Give a suitable example."
   ]
  },
  {
   "attachments": {},
   "cell_type": "markdown",
   "metadata": {},
   "source": [
    "### init function usage\n",
    "- __init__ function is a constructor used to initialize the data members of class when an object is created.\n",
    "- init runs as soon as an object is created.\n",
    "\n",
    "#### Example below"
   ]
  },
  {
   "cell_type": "code",
   "execution_count": 13,
   "metadata": {},
   "outputs": [],
   "source": [
    "# INIT method example\n",
    "class Car:\n",
    "\n",
    "# init method\n",
    "    def __init__(self, name, company_name):\n",
    "        self.name = name\n",
    "        self.company_name = company_name\n"
   ]
  },
  {
   "cell_type": "code",
   "execution_count": 15,
   "metadata": {},
   "outputs": [
    {
     "data": {
      "text/plain": [
       "'Nexon'"
      ]
     },
     "execution_count": 15,
     "metadata": {},
     "output_type": "execute_result"
    }
   ],
   "source": [
    "nexon_obj = Car(\"Nexon\",\"Tata\")\n",
    "nexon_obj.name"
   ]
  },
  {
   "attachments": {},
   "cell_type": "markdown",
   "metadata": {},
   "source": [
    "## Q4. Why self is used in OOPs?"
   ]
  },
  {
   "attachments": {},
   "cell_type": "markdown",
   "metadata": {},
   "source": [
    "#### Self in OOPS\n",
    "- self binds the attributes of a class with the arguments.\n",
    "- It represents the instance of the class\n",
    "- self always points to current object"
   ]
  },
  {
   "attachments": {},
   "cell_type": "markdown",
   "metadata": {},
   "source": [
    "## Q5. What is inheritance? Give an example for each type of inheritance."
   ]
  },
  {
   "attachments": {},
   "cell_type": "markdown",
   "metadata": {},
   "source": [
    "#### Inheritance\n",
    "- One class is able to inherit methods and properties of another class.\n",
    "- Methods and Properties of Base class are inherited in Child class.\n",
    "\n",
    "There are 5 types of Inheritance:\n",
    "1. Single Inheritance\n",
    "2. Multiple Inheritance\n",
    "3. Multilevel Inheritance\n",
    "4. Hierarchical Inheritance\n",
    "5. Hybrid Inheritance"
   ]
  },
  {
   "cell_type": "code",
   "execution_count": 16,
   "metadata": {},
   "outputs": [],
   "source": [
    "# Single inheritance\n",
    "\n",
    "class Parent:\n",
    "    def get_parent(self):\n",
    "        print(\"Function from Parent Class\")\n",
    "\n",
    "class Child(Parent):\n",
    "    def get_child(self):\n",
    "        print(\"Function from Child Class\")"
   ]
  },
  {
   "cell_type": "code",
   "execution_count": 17,
   "metadata": {},
   "outputs": [],
   "source": [
    "obj1 = Child()"
   ]
  },
  {
   "cell_type": "code",
   "execution_count": 18,
   "metadata": {},
   "outputs": [
    {
     "name": "stdout",
     "output_type": "stream",
     "text": [
      "Function from Child Class\n",
      "Function from Parent Class\n"
     ]
    }
   ],
   "source": [
    "obj1.get_child()\n",
    "obj1.get_parent()"
   ]
  },
  {
   "cell_type": "code",
   "execution_count": 27,
   "metadata": {},
   "outputs": [],
   "source": [
    "# 2. Multiple Inheritance\n",
    "\n",
    "class Base1:\n",
    "    def set_b1_func1(self,name):\n",
    "        self.name1 = name \n",
    "\n",
    "    def get_b1_func1(self):\n",
    "        print(self.name1)\n",
    "\n",
    "class Base2:\n",
    "    def set_b2_func1(self,name):\n",
    "        self.name2 = name\n",
    "\n",
    "    def get_b2_func1(self):\n",
    "        print(self.name2) \n",
    "\n",
    "class Derived(Base1,Base2):\n",
    "    def get_derived(self):\n",
    "        print(\"From Derived class\")"
   ]
  },
  {
   "cell_type": "code",
   "execution_count": 28,
   "metadata": {},
   "outputs": [],
   "source": [
    "obj2 = Derived()"
   ]
  },
  {
   "cell_type": "code",
   "execution_count": 29,
   "metadata": {},
   "outputs": [
    {
     "name": "stdout",
     "output_type": "stream",
     "text": [
      "Base 1\n",
      "Base 2\n"
     ]
    }
   ],
   "source": [
    "obj2.set_b1_func1(\"Base 1\")\n",
    "obj2.set_b2_func1(\"Base 2\")\n",
    "\n",
    "obj2.get_b1_func1()\n",
    "obj2.get_b2_func1()"
   ]
  },
  {
   "cell_type": "code",
   "execution_count": 30,
   "metadata": {},
   "outputs": [],
   "source": [
    "# 3. MultiLevel Inheritance\n",
    "\n",
    "class Level1:\n",
    "    def l1_func1(self):\n",
    "        print(\"Function from Level1 class\")\n",
    "\n",
    "class Level2(Level1):\n",
    "    def l2_func1(self):\n",
    "        print(\"Function from Level2 class\")\n",
    "\n",
    "class Level3(Level2):\n",
    "    def l3_func1(self):\n",
    "        print(\"Function from Level3 class\")"
   ]
  },
  {
   "cell_type": "code",
   "execution_count": 31,
   "metadata": {},
   "outputs": [],
   "source": [
    "obj_l3 = Level3()"
   ]
  },
  {
   "cell_type": "code",
   "execution_count": 32,
   "metadata": {},
   "outputs": [
    {
     "name": "stdout",
     "output_type": "stream",
     "text": [
      "Function from Level1 class\n",
      "Function from Level2 class\n",
      "Function from Level3 class\n"
     ]
    }
   ],
   "source": [
    "obj_l3.l1_func1()\n",
    "obj_l3.l2_func1()\n",
    "obj_l3.l3_func1()"
   ]
  },
  {
   "cell_type": "code",
   "execution_count": 33,
   "metadata": {},
   "outputs": [
    {
     "name": "stdout",
     "output_type": "stream",
     "text": [
      "Function in Parent class\n",
      "Function in Child 1\n",
      "Function in Parent class\n",
      "Function in Child 2\n"
     ]
    }
   ],
   "source": [
    "# 4. Hierarchical Inheritance\n",
    "\n",
    "class Parent:\n",
    "    def p_fun(self):\n",
    "        print(\"Function in Parent class\")\n",
    "\n",
    "class Child1(Parent):\n",
    "    def c1_func(self):\n",
    "        print(\"Function in Child 1\")\n",
    "\n",
    "class Child2(Parent):\n",
    "    def c2_func(self):\n",
    "        print(\"Function in Child 2\")\n",
    "\n",
    "obj_hr1 = Child1()\n",
    "obj_hr2 = Child2()\n",
    "\n",
    "obj_hr1.p_fun()\n",
    "obj_hr1.c1_func()\n",
    "obj_hr2.p_fun()\n",
    "obj_hr2.c2_func()"
   ]
  },
  {
   "cell_type": "code",
   "execution_count": 43,
   "metadata": {},
   "outputs": [
    {
     "name": "stdout",
     "output_type": "stream",
     "text": [
      "Function from Class D\n",
      "Function from Class B\n",
      "Function from Class A\n"
     ]
    }
   ],
   "source": [
    "# 5. Hybrid Inheritance\n",
    "\n",
    "class A:\n",
    "    def fun_A(self):\n",
    "        print(\"Function from Class A\")\n",
    "\n",
    "class B(A):\n",
    "    def fun_B(self):\n",
    "        print(\"Function from Class B\")\n",
    "\n",
    "class C(A):\n",
    "    def fun_C(self):\n",
    "        print(\"Function from Class C\")\n",
    "\n",
    "class D(B):\n",
    "    def fun_D(self):\n",
    "        print(\"Function from Class D\")\n",
    "\n",
    "\n",
    "obj10 = D()\n",
    "obj10.fun_D()\n",
    "obj10.fun_B()\n",
    "obj10.fun_A()"
   ]
  },
  {
   "attachments": {},
   "cell_type": "markdown",
   "metadata": {},
   "source": []
  }
 ],
 "metadata": {
  "kernelspec": {
   "display_name": "Python 3",
   "language": "python",
   "name": "python3"
  },
  "language_info": {
   "codemirror_mode": {
    "name": "ipython",
    "version": 3
   },
   "file_extension": ".py",
   "mimetype": "text/x-python",
   "name": "python",
   "nbconvert_exporter": "python",
   "pygments_lexer": "ipython3",
   "version": "3.10.10"
  },
  "orig_nbformat": 4
 },
 "nbformat": 4,
 "nbformat_minor": 2
}
