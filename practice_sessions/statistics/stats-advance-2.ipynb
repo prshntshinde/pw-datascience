{
 "cells": [
  {
   "cell_type": "markdown",
   "metadata": {},
   "source": [
    "1. Continuous Uniform Distribution (continuous random variable)\n",
    "   -  "
   ]
  },
  {
   "cell_type": "markdown",
   "metadata": {},
   "source": [
    "2. Discrete Unifrm Distribution (Discrete random variable)\n",
    "\n"
   ]
  },
  {
   "cell_type": "markdown",
   "metadata": {},
   "source": [
    "Standard Normal Distribution (Z-score)\n",
    "- howmany std away from mean\n",
    "- standardization.\n",
    "\n",
    "\n"
   ]
  },
  {
   "cell_type": "markdown",
   "metadata": {},
   "source": [
    "Central Limit Theorem\n",
    "   -  "
   ]
  },
  {
   "cell_type": "markdown",
   "metadata": {},
   "source": [
    "# Inferential Statistics\n",
    "\n",
    "1. Estimate\n",
    "\n",
    "Types:\n",
    "- Point Estimate\n",
    "- Interval Estimate\n",
    "\n"
   ]
  },
  {
   "cell_type": "markdown",
   "metadata": {},
   "source": [
    "Hypothesis Testing:\n",
    "- Part of inferential Stats\n",
    "- Used to make conclusion about some unknown parameter.\n",
    "\n",
    "Stesp:\n",
    "- NUll hypothesis\n",
    "- Alternate hypothesis\n",
    "- Experimets \n",
    "- Accecpt NUll or Alternate hypothesis\n",
    "\n",
    "P Value\n",
    "- \n",
    "\n",
    "Hypothesis Testing and Statistical Analysis\n",
    "1. Z Test - Average\n",
    "2. T Test - Average\n",
    "3. CHI Square - Categorical Data\n",
    "4. ANNOVA - Variance"
   ]
  },
  {
   "cell_type": "code",
   "execution_count": 1,
   "metadata": {},
   "outputs": [
    {
     "name": "stdout",
     "output_type": "stream",
     "text": [
      "Sum of Extepected data 52, SUm of Observed Data 52\n"
     ]
    }
   ],
   "source": [
    "import numpy as np\n",
    "import scipy.stats as stat\n",
    "\n",
    "# No of hours Student study daily on a weekly basis\n",
    "# Monday, Tue, Wed, Thur, Fri,Sat,Sun.\n",
    "expected_data = [8,6,7,9,6,9,7]\n",
    "observed_data = [7,8,6,9,9,6,7]\n",
    "\n",
    "print(f\"Sum of Extepected data {sum(expected_data)}, SUm of Observed Data {sum(observed_data)}\")"
   ]
  },
  {
   "cell_type": "code",
   "execution_count": 3,
   "metadata": {},
   "outputs": [
    {
     "name": "stdout",
     "output_type": "stream",
     "text": [
      "Chi Square: 3.4345238095238093 and P-value is: 0.7526596580922865\n"
     ]
    }
   ],
   "source": [
    "# Chi square Goodness of Fit\n",
    "chisquare_test_statistics,p_value = stat.chisquare(observed_data,expected_data)\n",
    "print(f\"Chi Square: {chisquare_test_statistics} and P-value is: {p_value}\")"
   ]
  },
  {
   "cell_type": "code",
   "execution_count": 4,
   "metadata": {},
   "outputs": [
    {
     "name": "stdout",
     "output_type": "stream",
     "text": [
      "Critical value is: 12.591587243743977\n"
     ]
    }
   ],
   "source": [
    "# FInd the critical value\n",
    "significance = 0.05\n",
    "dof = len(observed_data) - 1\n",
    "critical_value = stat.chi2.ppf(1 - significance, dof)\n",
    "print(f\"Critical value is: {critical_value}\") "
   ]
  },
  {
   "cell_type": "code",
   "execution_count": 5,
   "metadata": {},
   "outputs": [
    {
     "name": "stdout",
     "output_type": "stream",
     "text": [
      "Accept the null hypothesis\n"
     ]
    }
   ],
   "source": [
    "if chisquare_test_statistics > critical_value:\n",
    "    print(\"Reject the null hypothesis\")\n",
    "else:\n",
    "    print(\"Accept the null hypothesis\")"
   ]
  },
  {
   "cell_type": "code",
   "execution_count": null,
   "metadata": {},
   "outputs": [],
   "source": []
  }
 ],
 "metadata": {
  "kernelspec": {
   "display_name": ".venv",
   "language": "python",
   "name": "python3"
  },
  "language_info": {
   "codemirror_mode": {
    "name": "ipython",
    "version": 3
   },
   "file_extension": ".py",
   "mimetype": "text/x-python",
   "name": "python",
   "nbconvert_exporter": "python",
   "pygments_lexer": "ipython3",
   "version": "3.10.11"
  }
 },
 "nbformat": 4,
 "nbformat_minor": 2
}
