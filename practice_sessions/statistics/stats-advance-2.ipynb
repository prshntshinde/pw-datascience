{
 "cells": [
  {
   "cell_type": "markdown",
   "metadata": {},
   "source": [
    "1. Continuous Uniform Distribution (continuous random variable)\n",
    "   -  "
   ]
  },
  {
   "cell_type": "markdown",
   "metadata": {},
   "source": [
    "2. Discrete Unifrm Distribution (Discrete random variable)\n",
    "\n"
   ]
  },
  {
   "cell_type": "markdown",
   "metadata": {},
   "source": [
    "Standard Normal Distribution (Z-score)\n",
    "- howmany std away from mean\n",
    "- standardization.\n",
    "\n",
    "\n"
   ]
  },
  {
   "cell_type": "markdown",
   "metadata": {},
   "source": [
    "Central Limit Theorem\n",
    "   -  "
   ]
  },
  {
   "cell_type": "markdown",
   "metadata": {},
   "source": [
    "# Inferential Statistics\n",
    "\n",
    "1. Estimate\n",
    "\n",
    "Types:\n",
    "- Point Estimate\n",
    "- Interval Estimate\n",
    "\n"
   ]
  },
  {
   "cell_type": "markdown",
   "metadata": {},
   "source": [
    "Hypothesis Testing:\n",
    "- Part of inferential Stats\n",
    "- Used to make conclusion about some unknown parameter.\n",
    "\n",
    "Stesp:\n",
    "- NUll hypothesis\n",
    "- Alternate hypothesis\n",
    "- Experimets \n",
    "- Accecpt NUll or Alternate hypothesis\n",
    "\n",
    "P Value\n",
    "- \n",
    "\n",
    "Hypothesis Testing and Statistical Analysis\n",
    "1. Z Test - Average\n",
    "2. T Test - Average\n",
    "3. CHI Square - Categorical Data\n",
    "4. ANNOVA - Variance"
   ]
  }
 ],
 "metadata": {
  "kernelspec": {
   "display_name": ".venv",
   "language": "python",
   "name": "python3"
  },
  "language_info": {
   "name": "python",
   "version": "3.10.11"
  }
 },
 "nbformat": 4,
 "nbformat_minor": 2
}
