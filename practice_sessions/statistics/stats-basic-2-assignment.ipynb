{
 "cells": [
  {
   "cell_type": "markdown",
   "metadata": {},
   "source": [
    "## Q1. What are the three measures of central tendency?"
   ]
  },
  {
   "cell_type": "markdown",
   "metadata": {},
   "source": [
    "The three measures of Central tendency are:\n",
    "1. Mode: The most frequent value.\n",
    "2. Median: The middle number in an ordered dataset.\n",
    "3. Mean: The sum of all values divided by the total number of values."
   ]
  },
  {
   "cell_type": "markdown",
   "metadata": {},
   "source": [
    "---\n",
    "## Q2. What is the difference between the mean, median, and mode? How are they used to measure the central tendency of a dataset?\n"
   ]
  },
  {
   "cell_type": "markdown",
   "metadata": {},
   "source": [
    "|Mean|Median|Mode|\n",
    "|-|-|-|\n",
    "|The average taken of given observations is called Mean.|The middle number in a given set of observations is called Median.|The most frequently occurred number in a given set of observations is called mode.|\n",
    "|When data is normally distributed, the mean is widely preferred.|When data distribution is skewed, median is the best representative.|When there is a nominal distribution of data, the mode is preferred.|\n",
    "\n",
    "\n",
    "1. Mode: The mode can be used for any level of measurement, but it is most meaningful for nominal and ordinal levels.\n",
    "2. Median: The median can only be used on data that can be ordered – that is, from ordinal, interval and ratio levels of measurement.\n",
    "3. Mean: The mean can only be used on interval and ratio levels of measurement because it requires equal spacing between adjacent values or scores in the scale."
   ]
  },
  {
   "cell_type": "markdown",
   "metadata": {},
   "source": [
    "---\n",
    "## Q3. Measure the three measures of central tendency for the given height data:\n",
    "[178,177,176,177,178.2,178,175,179,180,175,178.9,176.2,177,172.5,178,176.5]"
   ]
  },
  {
   "cell_type": "code",
   "execution_count": 2,
   "metadata": {},
   "outputs": [
    {
     "name": "stdout",
     "output_type": "stream",
     "text": [
      "Mean is: 177.01875\n",
      "Median is: 177.0\n",
      "Mode is: ModeResult(mode=177.0, count=3)\n"
     ]
    }
   ],
   "source": [
    "import numpy as np\n",
    "from scipy import stats\n",
    "\n",
    "\n",
    "heights_list = [178,177,176,177,178.2,178,175,179,180,175,178.9,176.2,177,172.5,178,176.5]\n",
    "\n",
    "print(f'Mean is: {np.mean(heights_list)}')\n",
    "print(f\"Median is: {np.median(heights_list)}\")\n",
    "print(f\"Mode is: {stats.mode(heights_list)}\")\n"
   ]
  },
  {
   "cell_type": "markdown",
   "metadata": {},
   "source": [
    "---\n",
    "## Q4. Find the standard deviation for the given data:\n",
    "[178,177,176,177,178.2,178,175,179,180,175,178.9,176.2,177,172.5,178,176.5]"
   ]
  },
  {
   "cell_type": "code",
   "execution_count": 3,
   "metadata": {},
   "outputs": [
    {
     "name": "stdout",
     "output_type": "stream",
     "text": [
      "Standard Deviation is: 1.7885814036548633\n"
     ]
    }
   ],
   "source": [
    "print(f\"Standard Deviation is: {np.std(heights_list)}\")"
   ]
  },
  {
   "cell_type": "markdown",
   "metadata": {},
   "source": [
    "---\n",
    "## Q5. How are measures of dispersion such as range, variance, and standard deviation used to describe the spread of a dataset? Provide an example."
   ]
  },
  {
   "cell_type": "markdown",
   "metadata": {},
   "source": [
    "The measures of central tendency are not adequate to describe data. Thus to describe data, one needs to know the extent of variability.\n",
    "\n",
    "1. Range: The range is the difference between the largest and the smallest observation in the data.\n",
    "2. Variance: The average squared deviation from the mean of the given data set is known as the variance. This measure of dispersion checks the spread of the data about the mean.\n",
    "3. Standard Deviation: It is a measure of spread of data about the mean. SD is the square root of sum of squared deviation from the mean divided by the number of observations."
   ]
  },
  {
   "cell_type": "markdown",
   "metadata": {},
   "source": [
    "Example:\n",
    "\n",
    "Range:\n",
    "- observations  = 20, 24, 31, 17, 45, 39, 51, 61\n",
    "- largest value = 61\n",
    "- smallest value = 17\n",
    "- range = 61 - 17 = 44\n",
    "\n",
    "Variance:\n",
    "- observations  = 20, 24, 31, 17, 45, 39, 51, 61\n",
    "- step-1: substract the mean value from individual value\n",
    "- = (20 - 36), (24 -36), ....\n",
    "- step-2: Squaring the above values\n",
    "- = 256, 144, ....\n",
    "- step-3: add the numbers\n",
    "- = 256 + 144 + ....\n",
    "- step-4: n = 8, variance = total/8 = 215.75\n",
    "\n",
    " Standard Deviation:\n",
    "- observations  = 20, 24, 31, 17, 45, 39, 51, 61\n",
    "- square root of variance = 14.68\n"
   ]
  },
  {
   "cell_type": "markdown",
   "metadata": {},
   "source": [
    "---\n",
    "## Q6. What is a Venn diagram?"
   ]
  },
  {
   "cell_type": "markdown",
   "metadata": {},
   "source": [
    "Venn Digram:\n",
    "- A Venn diagram is an illustration that uses circles to show the relationships among things or finite groups of things. \n",
    "- Circles that overlap have a commonality while circles that do not overlap do not share those traits. \n",
    "- Venn diagrams help to visually represent the similarities and differences between two concepts."
   ]
  },
  {
   "cell_type": "markdown",
   "metadata": {},
   "source": [
    "---\n",
    "## Q7. For the two given sets A = (2,3,4,5,6,7) & B = (0,2,6,8,10). Find:\n",
    "1. (i) A ∩ B\n",
    "2. (ii) A ⋃ B"
   ]
  },
  {
   "cell_type": "code",
   "execution_count": 8,
   "metadata": {},
   "outputs": [
    {
     "name": "stdout",
     "output_type": "stream",
     "text": [
      "1. A ∩ B = [2 6]\n",
      "2. A ⋃ B = [ 0  2  3  4  5  6  7  8 10]\n"
     ]
    }
   ],
   "source": [
    "A = [2,3,4,5,6,7]\n",
    "B = [0,2,6,8,10]\n",
    "\n",
    "print(f\"1. A ∩ B = {np.intersect1d(A,B)}\")\n",
    "print(f\"2. A ⋃ B = {np.union1d(A,B)}\")"
   ]
  },
  {
   "cell_type": "markdown",
   "metadata": {},
   "source": [
    "---\n",
    "## Q8. What do you understand about skewness in data?"
   ]
  },
  {
   "cell_type": "markdown",
   "metadata": {},
   "source": [
    "Skewness:\n",
    "- Skewness is the measure of how much the probability distribution of a random variable deviates from the normal distribution.\n",
    "- skewness tells us about the direction of outliers."
   ]
  },
  {
   "cell_type": "markdown",
   "metadata": {},
   "source": [
    "---\n",
    "## Q9. If a data is right skewed then what will be the position of median with respect to mean?\n"
   ]
  },
  {
   "cell_type": "markdown",
   "metadata": {},
   "source": [
    "- If the distribution of data is skewed to the right, the median is often less than the mean."
   ]
  },
  {
   "cell_type": "markdown",
   "metadata": {},
   "source": [
    "---\n",
    "## Q10. Explain the difference between covariance and correlation. How are these measures used in statistical analysis?\n"
   ]
  },
  {
   "cell_type": "markdown",
   "metadata": {},
   "source": [
    "|Covariance|Correlation|\n",
    "|:-:|:-:|\n",
    "|Covariance is an indicator of the extent to which 2 random variables are dependent on each other. A higher number denotes higher dependency.|Correlation is a statistical measure that indicates how strongly two variables are related.|\n",
    "|The value of covariance lies in the range of -∞ and +∞.|Correlation is limited to values between the range -1 and +1|\n",
    "|Change in scale affects covariance|Change in scale does not affect the correlation|\n"
   ]
  },
  {
   "cell_type": "markdown",
   "metadata": {},
   "source": [
    "---\n",
    "## Q11. What is the formula for calculating the sample mean? Provide an example calculation for a dataset."
   ]
  },
  {
   "cell_type": "markdown",
   "metadata": {},
   "source": [
    "Sample Mean:\n",
    "- The sample mean is an average value found in a sample.\n",
    "- The sample mean formula is:\n",
    "  > x̄ = ( Σ xi ) / n\n",
    "\n",
    "- x̄ just stands for the “sample mean”\n",
    "- Σ is summation notation, which means “add up”\n",
    "- xi “all of the x-values”\n",
    "- n means “the number of items in the sample”\n",
    "\n",
    "Example:\n",
    "- sample = 12,13,14,15,16,17\n",
    "- step-1: add all numbers:\n",
    "  - 12 + 13 + 14 + 15 + 16 + 17 = 87\n",
    "- step-2: number ot items in data set = 6\n",
    "- step-3: divide 87/6 = 14.5"
   ]
  },
  {
   "cell_type": "markdown",
   "metadata": {},
   "source": [
    "---\n",
    "## Q12. For a normal distribution data what is the relationship between its measure of central tendency?\n"
   ]
  },
  {
   "cell_type": "markdown",
   "metadata": {},
   "source": [
    "- The mean, mode and median are exactly the same in a normal distribution."
   ]
  },
  {
   "cell_type": "markdown",
   "metadata": {},
   "source": [
    "---\n",
    "## Q13. How is covariance different from correlation?\n"
   ]
  },
  {
   "cell_type": "markdown",
   "metadata": {},
   "source": [
    "- Covariance indicates the direction of the linear relationship between variables. \n",
    "- Correlation measures both the strength and direction of the linear relationship between two variables."
   ]
  },
  {
   "cell_type": "markdown",
   "metadata": {},
   "source": [
    "---\n",
    "## Q14. How do outliers affect measures of central tendency and dispersion? Provide an example"
   ]
  },
  {
   "cell_type": "markdown",
   "metadata": {},
   "source": [
    "Outlier:\n",
    "- An extreme value in a set of data which is much higher or lower than the other numbers.\n",
    "\n",
    "Its affect on Central Tendency:\n",
    "1. Mean: Outliers can pull the mean towards their extreme values. If there are outliers with large values, the mean can be inflated, while outliers with small values can lower the mean.\n",
    "2. Median: The median is less affected by outliers compared to the mean. It represents the middle value, so outliers have less impact unless they are close to the median and significantly change the order of values.\n",
    "3. Mode: The mode is the most frequent value. Outliers do not directly affect the mode unless they appear frequently and change the overall distribution of values.\n",
    "\n",
    "Its affect on Central Dispersion:\n",
    "1. Range: The range is the difference between the maximum and minimum values. Outliers can significantly increase the range if they are far from the other values.\n",
    "2. Variance: Outliers can increase the variance, as they introduce more variability to the dataset. \n",
    "3. Standard Deviation: Outliers can increase the standard deviation, as they introduce more variability to the dataset. \n"
   ]
  }
 ],
 "metadata": {
  "kernelspec": {
   "display_name": ".venv",
   "language": "python",
   "name": "python3"
  },
  "language_info": {
   "codemirror_mode": {
    "name": "ipython",
    "version": 3
   },
   "file_extension": ".py",
   "mimetype": "text/x-python",
   "name": "python",
   "nbconvert_exporter": "python",
   "pygments_lexer": "ipython3",
   "version": "3.10.11"
  },
  "orig_nbformat": 4
 },
 "nbformat": 4,
 "nbformat_minor": 2
}
