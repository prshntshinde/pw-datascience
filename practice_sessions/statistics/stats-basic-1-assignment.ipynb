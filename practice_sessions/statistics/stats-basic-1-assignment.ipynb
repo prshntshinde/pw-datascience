{
 "cells": [
  {
   "cell_type": "markdown",
   "metadata": {},
   "source": [
    "## Q1. What is Statistics?"
   ]
  },
  {
   "cell_type": "markdown",
   "metadata": {},
   "source": [
    "- Statistics is the science of collecting, organizing and analyzing the data.\n",
    "- It can be used while decision making process."
   ]
  },
  {
   "cell_type": "markdown",
   "metadata": {},
   "source": [
    "---\n",
    "## Q2. Define the different types of statistics and give an example of when each type might be used."
   ]
  },
  {
   "cell_type": "markdown",
   "metadata": {},
   "source": [
    "Types of Statistics:\n",
    "   1. Descriptive Statistics.\n",
    "        - It consists of organizing and summarizing the data.\n",
    "        - It offers methods to summarize data by transforming raw observations into meaningful information that is easy to interpret and share.\n",
    "        - example: Count, Sum, Standard Deviation, Percentile, Average, etc.\n",
    "    2. Inferential Statistics.\n",
    "        - It consists of using the data you have measured to form a conclusion.\n",
    "        - It offers methods to study experiments done on small samples of data and chalk out the inferences to the entire population.\n",
    "        - example: z-test, t-test, Hypothesis testing, P value, Significance, etc.\n",
    "        "
   ]
  },
  {
   "cell_type": "markdown",
   "metadata": {},
   "source": [
    "---\n",
    "## Q3. What are the different types of data and how do they differ from each other? Provide an example of each type of data."
   ]
  },
  {
   "cell_type": "markdown",
   "metadata": {},
   "source": [
    "Types of Data:\n",
    "\n",
    "1. Quantitative: (Numerical Data)\n",
    "    1. Discrete:\n",
    "        - Data that can take on only integer values, such as counts. Like integer, count.\n",
    "        - eg: No. of bank accounts, No. of children in family.\n",
    "    2. Continuous:\n",
    "        - Data that can take on any value in an interval. Like interval, float, numeric.\n",
    "        - eg: weight, height, temperature, speed.\n",
    "\n",
    "2. Qualitative: (Categorical Data)\n",
    "    1. Nominal:\n",
    "        - Data that can take on only a specific set of values representing a set of possible categories. Like enums, enumerated, factors.\n",
    "        - ex: gender, blood group, colors.\n",
    "\n",
    "    2. Ordinal:\n",
    "        - Categorical data that has an explicit ordering.\n",
    "        - feedback - good (1), bad (3), satisfactory (2)\n"
   ]
  },
  {
   "cell_type": "markdown",
   "metadata": {},
   "source": [
    "---\n",
    "## Q4. Categorise the following datasets with respect to quantitative and qualitative data types:\n",
    "- (i) Grading in exam: A+, A, B+, B, C+, C, D, E\n",
    "- (ii) Colour of mangoes: yellow, green, orange, red\n",
    "- (iii) Height data of a class: [178.9, 179, 179.5, 176, 177.2, 178.3, 175.8,...]\n",
    "- (iv) Number of mangoes exported by a farm: [500, 600, 478, 672, ...]"
   ]
  },
  {
   "cell_type": "markdown",
   "metadata": {},
   "source": [
    "|Question|Category (Data Type)|\n",
    "|-|-|\n",
    "|Grading in exam: A+, A, B+, B, C+, C, D, E|Ordinal|\n",
    "|Colour of mangoes: yellow, green, orange, red|Nominal|\n",
    "|Height data of a class: [178.9, 179, 179.5, 176, 177.2, 178.3, 175.8,...]|Continuous|\n",
    "|Number of mangoes exported by a farm: [500, 600, 478, 672, ...]|Discrete|"
   ]
  },
  {
   "cell_type": "markdown",
   "metadata": {},
   "source": [
    "---\n",
    "## Q5. Explain the concept of levels of measurement and give an example of a variable for each level."
   ]
  },
  {
   "cell_type": "markdown",
   "metadata": {},
   "source": [
    "- Levels of Measurement:\n",
    "    - Level of measurement refers to how precisely a variable has been measured.\n",
    "    - Level of measurement refers to how each variable is measured, and the mathematical nature of the values assigned to each variable. This, in turn, determines what type of analysis can be carried out.\n",
    "\n",
    "<br>\n",
    "\n",
    "- There are 4 levels of measurement:\n",
    "    1. Nominal: The data can only be categorized.\n",
    "        - eg: gender.\n",
    "    2. Ordinal: The data can be categorized and ranked.\n",
    "        - eg: School grades (A, B, C)\n",
    "    3. Interval: The data can be categorized, ranked and evenly spaced.\n",
    "        - eg: Temperature.\n",
    "    4. Ratio: The data can be categorized, ranked, evenly spaced and has a natural zero.\n",
    "        - eg: weight. \n",
    "\n"
   ]
  },
  {
   "cell_type": "markdown",
   "metadata": {},
   "source": [
    "---\n",
    "## Q6. Why is it important to understand the level of measurement when analyzing data? Provide an example to illustrate your answer."
   ]
  },
  {
   "cell_type": "markdown",
   "metadata": {},
   "source": [
    "- Level of measurement is important as it determines the type of statistical analysis we can carry out. \n",
    "- As a result, it affects both the nature and the depth of insights we are able to glean from the data. \n",
    "- Certain statistical tests can only be performed where more precise levels of measurement have been used, so it’s essential to plan in advance how you’ll gather and measure your data."
   ]
  },
  {
   "cell_type": "markdown",
   "metadata": {},
   "source": [
    "Example:\n",
    "\n",
    "We can measure the variable of income at an ordinal or ratio level.\n",
    "- Ordinal level: We create brackets of income ranges: $0–$19,999, $20,000–$39,999, and $40,000–$59,999. You ask participants to select the bracket that represents their annual income. The brackets are coded with numbers from 1–3.\n",
    "- Ratio level: We collect data on the exact annual incomes of your participants.\n",
    "\n",
    "<br>\n",
    "\n",
    "At a ratio level, we can see that the difference between A and B’s incomes is far greater than the difference between B and C’s incomes.\n",
    "\n",
    "At an ordinal level, however, we only know the income bracket for each participant, not their exact income. Since we cannot say exactly how much each income differs from the others in your data set, we can only order the income levels and group the participants."
   ]
  },
  {
   "cell_type": "markdown",
   "metadata": {},
   "source": [
    "---\n",
    "## Q7. How nominal data type is different from ordinal data type."
   ]
  },
  {
   "cell_type": "markdown",
   "metadata": {},
   "source": [
    "|Nominal|Ordinal|\n",
    "|:-:|:-:|\n",
    "|Nominal data is a group of non-parametric variables|Ordinal data is a group of non-parametric ordered variables.|\n",
    "|nominal data is analyzed by grouping variables into categories and calculating the distribution mode.|Ordinal data is analyzed by mode, median, quartiles, and percentile|\n",
    "|Nominal data are categorical|Ordinal data are both categorical and quantitative|\n",
    "|Example: Blood Type: A, B, O, AB|Example: Grades: A, B, C, D, F|"
   ]
  },
  {
   "cell_type": "markdown",
   "metadata": {},
   "source": [
    "---\n",
    "## Q8. Which type of plot can be used to display data in terms of range?"
   ]
  },
  {
   "cell_type": "markdown",
   "metadata": {},
   "source": [
    "- Histogram can be used to display data in terms of range."
   ]
  },
  {
   "cell_type": "markdown",
   "metadata": {},
   "source": [
    "---\n",
    "## Q9. Describe the difference between descriptive and inferential statistics. Give an example of each type of statistics and explain how they are used."
   ]
  },
  {
   "cell_type": "markdown",
   "metadata": {},
   "source": [
    "|Descriptive Statistics| Inferential Statistics|\n",
    "|:-:|:-:|\n",
    "|Describe the features of populations and/or samples|Use samples to make generalizations about larger populations|\n",
    "|Organize and present data in a purely factual way|Help us to make estimates and predict future outcomes|\n",
    "|Present final results visually, using tables, charts, or graphs|Present final results in the form of probabilities|\n",
    "|Draw conclusions based on known data|Draw conclusions that go beyond the available data|\n",
    "|Examples: Mean, median, mode, standard deviation, range, frequency tables|Examples: Hypothesis testing, confidence intervals, regression analysis, ANOVA (analysis of variance), chi-square tests, t-tests, etc.|"
   ]
  },
  {
   "cell_type": "markdown",
   "metadata": {},
   "source": [
    "---\n",
    "## Q10. What are some common measures of central tendency and variability used in statistics? Explain how each measure can be used to describe a dataset."
   ]
  },
  {
   "cell_type": "markdown",
   "metadata": {},
   "source": [
    "- Measures of Central Tendency:\n",
    "    1. Mean: \n",
    "        - Mean is the average of all data values which you work with. \n",
    "        - Mean is used to find the average value around which your data values range.\n",
    "    2. Median: \n",
    "        - Median refers to the middle value of your data. \n",
    "        - To find the median, you first sort the data in either ascending or descending order and then find the numerical value present in the middle of your data. \n",
    "        - The median refers to the middle value of your data. \n",
    "        - You can use the median to figure out the point around which your data is centered. \n",
    "    3. Mode:\n",
    "        - The Mode refers to the most frequently occurring value in your data. \n",
    "        - You find the frequency of occurrence of each number and the number with the highest frequency is your mode. \n",
    "        - If there are no recurring numbers, then there is no mode in the data.\n",
    "        - Using the mode, you can find the most commonly occurring point in your data.\n",
    "\n",
    "<br>\n",
    "\n",
    "- Measures of Variability:\n",
    "    1. Range:\n",
    "        - The range describes the difference between the largest and smallest data point in our data set. \n",
    "        - The bigger the range, the more the spread of data and vice versa.\n",
    "        - This measures the size of the distribution of values.\n",
    "    2. Variance:\n",
    "        - It is defined as an average squared deviation from the mean. \n",
    "        - It is calculated by finding the difference between every data point and the average which is also known as the mean, squaring them, adding all of them, and then dividing by the number of data points present in our data set.\n",
    "        - The variance refers to the degree of the spread and is measured as an average of the squared deviations.\n",
    "    3. Standard Deviation: \n",
    "        - It is defined as the square root of the variance. \n",
    "        - It is calculated by finding the Mean, then subtracting each number from the Mean which is also known as the average, and squaring the result. \n",
    "        - Adding all the values and then dividing by the no of terms followed by the square root.\n",
    "        - The standard deviation determines the difference between the observed score in the data set and the mean value.\n"
   ]
  }
 ],
 "metadata": {
  "language_info": {
   "name": "python"
  },
  "orig_nbformat": 4
 },
 "nbformat": 4,
 "nbformat_minor": 2
}
