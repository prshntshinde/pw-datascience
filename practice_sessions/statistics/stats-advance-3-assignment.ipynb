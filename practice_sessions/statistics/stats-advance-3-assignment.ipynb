{
 "cells": [
  {
   "cell_type": "markdown",
   "metadata": {},
   "source": [
    "## Q1: What is Estimation Statistics? Explain point estimate and interval estimate."
   ]
  },
  {
   "cell_type": "markdown",
   "metadata": {},
   "source": [
    "Estimation Statistics:\n",
    "- Estimation is a procedure used to calculate the value of some property of a population from observations of a sample drawn from the population.\n",
    "\n",
    "If a single figure is calculated for each unknown parameter, the process is called **point estimation**. If an interval is calculated within which the parameter is likely to occur, in some sense, the process is called **interval estimation**."
   ]
  },
  {
   "cell_type": "markdown",
   "metadata": {},
   "source": [
    "## Q2. Write a Python function to estimate the population mean using a sample mean and standard deviation."
   ]
  },
  {
   "cell_type": "code",
   "execution_count": 3,
   "metadata": {},
   "outputs": [
    {
     "data": {
      "text/plain": [
       "6.324555320336759"
      ]
     },
     "execution_count": 3,
     "metadata": {},
     "output_type": "execute_result"
    }
   ],
   "source": [
    "import math\n",
    "\n",
    "# Initialize the given values\n",
    "sample_mean = 50\n",
    "mean = 60\n",
    "std = 10\n",
    "n =40\n",
    "estimate = 0\n",
    "sample_std = 40\n",
    "\n",
    "def estimate_population_mean():\n",
    "    if n > 30:\n",
    "        estimate = (mean - sample_mean)/(std/math.sqrt(n))\n",
    "        return estimate\n",
    "    else:\n",
    "        estimate = (mean - sample_mean)/(sample_std/math.sqrt(n))\n",
    "        return estimate\n",
    "\n",
    "\n",
    "estimate_population_mean()"
   ]
  },
  {
   "cell_type": "markdown",
   "metadata": {},
   "source": [
    "## Q3: What is Hypothesis testing? Why is it used? State the importance of Hypothesis testing."
   ]
  },
  {
   "cell_type": "markdown",
   "metadata": {},
   "source": [
    "Hypothesis Testing:\n",
    "- Hypothesis Testing is a type of statistical analysis in which you put your assumptions about a population parameter to the test. It is used to estimate the relationship between 2 statistical variables.\n",
    "\n",
    "Importance:\n",
    "1. Provides evidence-based conclusions: It allows researchers to make objective conclusions based on empirical data, providing evidence to support or refute their research hypotheses.\n",
    "2. Supports decision-making: It helps make informed decisions, such as accepting or rejecting a new treatment, implementing policy changes, or adopting new practices.\n",
    "3. Adds rigor and validity: It adds scientific rigor to research using statistical methods to analyze data, ensuring that conclusions are based on sound statistical evidence.\n",
    "4. Contributes to the advancement of knowledge: By testing hypotheses, researchers contribute to the growth of knowledge in their respective fields by confirming existing theories or discovering new patterns and relationships."
   ]
  },
  {
   "cell_type": "markdown",
   "metadata": {},
   "source": [
    "## Q4. Create a hypothesis that states whether the average weight of male college students is greater than the average weight of female college students."
   ]
  },
  {
   "cell_type": "markdown",
   "metadata": {},
   "source": [
    "In order to test the hypotheses, we select a random sample of American males in 2006 and measure their weights. Suppose we have resources available to recruit n=100 men into our sample. We weigh each participant and compute summary statistics on the sample data. Suppose in the sample we determine the following:\n",
    "\n",
    "n=100\n",
    "\n",
    "s=25.6\n",
    "Do the sample data support the null or research hypothesis? The sample mean of 197.1 is numerically higher than 191. However, is this difference more than would be expected by chance? In hypothesis testing, we assume that the null hypothesis holds until proven otherwise. We therefore need to determine the likelihood of observing a sample mean of 197.1 or higher when the true population mean is 191 (i.e., if the null hypothesis is true or under the null hypothesis). We can compute this probability using the Central Limit Theorem. Specifically,\n",
    "\n",
    "\n",
    "\n",
    "(Notice that we use the sample standard deviation in computing the Z score. This is generally an appropriate substitution as long as the sample size is large, n > 30. Thus, there is less than a 1% probability of observing a sample mean as large as 197.1 when the true population mean is 191."
   ]
  },
  {
   "cell_type": "markdown",
   "metadata": {},
   "source": [
    "## Q5. Write a Python script to conduct a hypothesis test on the difference between two population means, given a sample from each population.\n"
   ]
  },
  {
   "cell_type": "code",
   "execution_count": 5,
   "metadata": {},
   "outputs": [
    {
     "name": "stdout",
     "output_type": "stream",
     "text": [
      "Test Statistics is: 0.5453609153686363\n",
      "P Value is: 0.5987587643373842\n",
      "Fail to reject the null hypothesis.\n"
     ]
    }
   ],
   "source": [
    "import numpy as np \n",
    "import scipy.stats as stat\n",
    "\n",
    "data = np.random.randint(10,100,10)\n",
    "\n",
    "t_stats, p_value = stat.ttest_1samp(data,49)\n",
    "\n",
    "print(f\"Test Statistics is: {t_stats}\")\n",
    "print(f\"P Value is: {p_value}\")\n",
    "\n",
    "if p_value < 0.05:\n",
    "    print(\"Reject the null Hypothesis\")\n",
    "else:\n",
    "    print(\"Fail to reject the null hypothesis.\")"
   ]
  },
  {
   "cell_type": "markdown",
   "metadata": {},
   "source": [
    "## Q6: What is a null and alternative hypothesis? Give some examples."
   ]
  },
  {
   "cell_type": "markdown",
   "metadata": {},
   "source": [
    "A null hypothesis is one's default belief or argument about a subject matter. In the case of the earth's shape, the null hypothesis was that the earth was flat.\n",
    "\n",
    "An alternate hypothesis is a belief or argument a person might try to establish. Aristotle and Eratosthenes argued that the earth was spherical."
   ]
  },
  {
   "cell_type": "markdown",
   "metadata": {},
   "source": [
    "## Q7: Write down the steps involved in hypothesis testing.\n"
   ]
  },
  {
   "cell_type": "markdown",
   "metadata": {},
   "source": [
    "Steps in Hypothesis testing:\n",
    "- Step #1 - Define the Null and Alternative Hypotheses\n",
    "- Step #2 - Choose a Significance Level\n",
    "- Step #3 - Collect Data and Calculate a Test Statistic\n",
    "- Step #4 - Decide on the Null Hypothesis Based on the Test Statistic and Significance Level\n",
    "- Step #5 - Interpret the Results"
   ]
  },
  {
   "cell_type": "markdown",
   "metadata": {},
   "source": [
    "## Q8. Define p-value and explain its significance in hypothesis testing."
   ]
  },
  {
   "cell_type": "markdown",
   "metadata": {},
   "source": [
    "P Value:\n",
    "- A p-value is a statistical measurement used to validate a hypothesis against observed data.\n",
    "A p-value measures the probability of obtaining the observed results, assuming that the null hypothesis is true.\n",
    "The lower the p-value, the greater the statistical significance of the observed difference.\n",
    "A p-value of 0.05 or lower is generally considered statistically significant.\n",
    "\n",
    "Significance:\n",
    "- The level of statistical significance is usually represented as a P-value between 0 and 1. The smaller the p-value, the more likely it is that you would reject the null hypothesis. \n",
    "\n",
    "   - A P-Value < or = 0.05 is considered statistically significant. It denotes strong evidence against the null hypothesis, since there is below 5% probability of the null being correct. So, we reject the null hypothesis and accept the alternative hypothesis.\n",
    "   - But if P-Value is lower than your threshold of significance, though the null hypothesis can be rejected, it does not mean that there is 95% probability of the alternative hypothesis being true.\n",
    "   - A P-Value >0.05 is not statistically significant. It denotes strong evidence for the null hypothesis being true. Thus, we retain the null hypothesis and reject the alternative hypothesis. We cannot accept null hypothesis; we can only reject or not reject it."
   ]
  },
  {
   "cell_type": "markdown",
   "metadata": {},
   "source": [
    "## Q9. Generate a Student's t-distribution plot using Python's matplotlib library, with the degrees of freedom parameter set to 10.\n"
   ]
  },
  {
   "cell_type": "code",
   "execution_count": 11,
   "metadata": {},
   "outputs": [
    {
     "data": {
      "image/png": "[encoded data removed]",
      "text/plain": [
       "<Figure size 640x480 with 1 Axes>"
      ]
     },
     "metadata": {},
     "output_type": "display_data"
    }
   ],
   "source": [
    "import matplotlib.pyplot as plt\n",
    "import numpy as np \n",
    "from scipy.stats import t\n",
    "\n",
    "x = np.linspace(-11,11,30)\n",
    "degree_of_freedom = 10\n",
    "\n",
    "y = t.pdf(x,degree_of_freedom)\n",
    "plt.plot(x,y)\n",
    "plt.show()\n"
   ]
  },
  {
   "cell_type": "markdown",
   "metadata": {},
   "source": [
    "## Q10. Write a Python program to calculate the two-sample t-test for independent samples, given two random samples of equal size and a null hypothesis that the population means are equal.\n"
   ]
  },
  {
   "cell_type": "code",
   "execution_count": 13,
   "metadata": {},
   "outputs": [
    {
     "data": {
      "text/plain": [
       "0.08223330792208822"
      ]
     },
     "execution_count": 13,
     "metadata": {},
     "output_type": "execute_result"
    }
   ],
   "source": [
    "import math\n",
    "\n",
    "# INtialize variables\n",
    "x_bar_1 = 22.29\n",
    "x_bar_2 = 14.95\n",
    "n1 = 10\n",
    "n2 = 13\n",
    "std_1 = 6.84\n",
    "std_2 = 5.32\n",
    "\n",
    "def two_sample_t_test():\n",
    "    pooled_standard_deviation = ((std_1*std_1) + (std_2*std_2)) / 2\n",
    "    t = (x_bar_1 - x_bar_2) / pooled_standard_deviation * math.sqrt((1/n1) + (1/n2))\n",
    "    return t\n",
    "\n",
    "two_sample_t_test()\n"
   ]
  },
  {
   "cell_type": "markdown",
   "metadata": {},
   "source": [
    "## Q11: What is Student’s t distribution? When to use the t-Distribution."
   ]
  },
  {
   "cell_type": "markdown",
   "metadata": {},
   "source": [
    "Students's t-distribution\n",
    "- The t-distribution, also known as the Student’s t-distribution, is a probability distribution that is used in inferential statistics when the sample size is small and the population standard deviation is unknown. \n",
    "- It is a variation of the normal distribution with heavier tails, which makes it more appropriate for estimating the mean of a population when the sample size is small or when there is uncertainty about the population standard deviation."
   ]
  },
  {
   "cell_type": "markdown",
   "metadata": {},
   "source": [
    "## Q12: What is t-statistic? State the formula for t-statistic."
   ]
  },
  {
   "cell_type": "markdown",
   "metadata": {},
   "source": [
    "t-statistic:\n",
    "- The T Statistic is used in a T test when you are deciding if you should support or reject the null hypothesis. \n",
    "- It’s very similar to a Z-score and you use it in the same way: find a cut off point, find your t score, and compare the two. \n",
    "- You use the t statistic when you have a small sample size, or if you don’t know the population standard deviation."
   ]
  },
  {
   "cell_type": "markdown",
   "metadata": {},
   "source": [
    "\n",
    "## Q13. A coffee shop owner wants to estimate the average daily revenue for their shop. They take a random sample of 50 days and find the sample mean revenue to be $500 with a standard deviation of $50. Estimate the population mean revenue with a 95% confidence interval."
   ]
  },
  {
   "cell_type": "code",
   "execution_count": 16,
   "metadata": {},
   "outputs": [
    {
     "name": "stdout",
     "output_type": "stream",
     "text": [
      "Z-Score is: 69.29646455628166\n",
      "Critical Z-Score is: 0.3520653267642995\n",
      "Reject NUll Hypothesis\n",
      "P-Value is: 1.0\n",
      "Fail to Reject NUll Hyposthesis\n"
     ]
    }
   ],
   "source": [
    "import scipy.stats as stat\n",
    "\n",
    "sample_mean = 500\n",
    "population_mean = 10\n",
    "sample_size = 50\n",
    "population_std = 50\n",
    "alpha = 0.50\n",
    "\n",
    "z_score = (sample_mean - population_mean) / (population_std / np.sqrt(sample_size))\n",
    "print(f\"Z-Score is: {z_score}\")\n",
    "\n",
    "# Approach 1 using Critical Z-score:\n",
    "\n",
    "z_critical = stat.norm.pdf(1-alpha)\n",
    "print(f\"Critical Z-Score is: {z_critical}\")\n",
    "\n",
    "if z_score > z_critical:\n",
    "    print(\"Reject NUll Hypothesis\")\n",
    "else:\n",
    "    print(\"Fail to Reject NUll Hyposthesis\")\n",
    "\n",
    "# Approach 2 using P-Value\n",
    "p_value = stat.norm.cdf(z_score)\n",
    "print(f\"P-Value is: {p_value}\")\n",
    "\n",
    "if p_value < alpha:\n",
    "    print(\"Reject NUll Hypothesis\")\n",
    "else:\n",
    "    print(\"Fail to Reject NUll Hyposthesis\")"
   ]
  },
  {
   "cell_type": "markdown",
   "metadata": {},
   "source": [
    "## Q14. A researcher hypothesizes that a new drug will decrease blood pressure by 10 mmHg. They conduct a clinical trial with 100 patients and find that the sample mean decrease in blood pressure is 8 mmHg with a standard deviation of 3 mmHg. Test the hypothesis with a significance level of 0.05."
   ]
  },
  {
   "cell_type": "code",
   "execution_count": 15,
   "metadata": {},
   "outputs": [
    {
     "name": "stdout",
     "output_type": "stream",
     "text": [
      "Z-Score is: -6.666666666666667\n",
      "Critical Z-Score is: 0.254059056469189\n",
      "Fail to Reject NUll Hyposthesis\n",
      "P-Value is: 1.3083924686052994e-11\n",
      "Reject NUll Hypothesis\n"
     ]
    }
   ],
   "source": [
    "import scipy.stats as stat\n",
    "\n",
    "sample_mean = 8\n",
    "population_mean = 10\n",
    "sample_size = 100\n",
    "population_std = 3\n",
    "alpha = 0.05\n",
    "\n",
    "z_score = (sample_mean - population_mean) / (population_std / np.sqrt(sample_size))\n",
    "print(f\"Z-Score is: {z_score}\")\n",
    "\n",
    "# Approach 1 using Critical Z-score:\n",
    "\n",
    "z_critical = stat.norm.pdf(1-alpha)\n",
    "print(f\"Critical Z-Score is: {z_critical}\")\n",
    "\n",
    "if z_score > z_critical:\n",
    "    print(\"Reject NUll Hypothesis\")\n",
    "else:\n",
    "    print(\"Fail to Reject NUll Hyposthesis\")\n",
    "\n",
    "# Approach 2 using P-Value\n",
    "p_value = stat.norm.cdf(z_score)\n",
    "print(f\"P-Value is: {p_value}\")\n",
    "\n",
    "if p_value < alpha:\n",
    "    print(\"Reject NUll Hypothesis\")\n",
    "else:\n",
    "    print(\"Fail to Reject NUll Hyposthesis\")"
   ]
  },
  {
   "cell_type": "markdown",
   "metadata": {},
   "source": [
    "## Q15. An electronics company produces a certain type of product with a mean weight of 5 pounds and a standard deviation of 0.5 pounds. A random sample of 25 products is taken, and the sample mean weight is found to be 4.8 pounds. Test the hypothesis that the true mean weight of the products is less than 5 pounds with a significance level of 0.01."
   ]
  },
  {
   "cell_type": "code",
   "execution_count": 2,
   "metadata": {},
   "outputs": [
    {
     "name": "stdout",
     "output_type": "stream",
     "text": [
      "T-Statics is: 42.99999999999999 \n",
      " \n",
      "P-Value is: 0.0 \n",
      " \n",
      "Reject NUll Hypothesis\n"
     ]
    }
   ],
   "source": [
    "import scipy.stats as stat\n",
    "import numpy as np\n",
    "\n",
    "sample_mean = 4.8\n",
    "population_mean = 5\n",
    "sample_size = 25\n",
    "population_std = 0.5\n",
    "alpha = 0.01\n",
    "dof = sample_size - 1 \n",
    "\n",
    "standard_error = population_std/np.sqrt(sample_size)\n",
    "\n",
    "t_statistic = (sample_mean - population_std) /  standard_error\n",
    "print(f\"T-Statics is: {t_statistic} \\n \")\n",
    "\n",
    "p_value = 2*(1 - stat.t.cdf(abs(t_statistic), df = dof))\n",
    "print(f\"P-Value is: {p_value} \\n \")\n",
    "\n",
    "if p_value < alpha:\n",
    "    print(\"Reject NUll Hypothesis\")\n",
    "else:\n",
    "    print(\"Fail to Reject NUll Hyposthesis\")"
   ]
  },
  {
   "cell_type": "markdown",
   "metadata": {},
   "source": [
    "## Q16. Two groups of students are given different study materials to prepare for a test. The first group (n1 = 30) has a mean score of 80 with a standard deviation of 10, and the second group (n2 = 40) has a mean score of 75 with a standard deviation of 8. Test the hypothesis that the population means for the two groups are equal with a significance level of 0.01."
   ]
  },
  {
   "cell_type": "code",
   "execution_count": 1,
   "metadata": {},
   "outputs": [
    {
     "name": "stdout",
     "output_type": "stream",
     "text": [
      "T-Statics is: 2.2511258444537408 \n",
      " \n",
      "P-Value is: 0.027613480367697507 \n",
      " \n",
      "Fail to Reject NUll Hyposthesis\n"
     ]
    }
   ],
   "source": [
    "import scipy.stats as stat\n",
    "import numpy as np\n",
    "\n",
    "sample1_mean = 80\n",
    "sample2_mean = 75\n",
    "population_mean = 5\n",
    "sample1_size = 30\n",
    "sample2_size = 40\n",
    "population1_std = 10\n",
    "population2_std = 8\n",
    "alpha = 0.01\n",
    "dof = sample1_size + sample2_size - 2 \n",
    "\n",
    "standard_error = np.sqrt((pow(population1_std/np.sqrt(sample1_size),2) + (pow(population2_std/np.sqrt(sample2_size),2))))\n",
    "\n",
    "\n",
    "                        \n",
    "t_statistic = (sample1_mean - sample2_mean) / standard_error \n",
    "print(f\"T-Statics is: {t_statistic} \\n \")\n",
    "\n",
    "p_value = 2*(1 - stat.t.cdf(abs(t_statistic), df = dof))\n",
    "print(f\"P-Value is: {p_value} \\n \")\n",
    "\n",
    "if p_value < alpha:\n",
    "    print(\"Reject NUll Hypothesis\")\n",
    "else:\n",
    "    print(\"Fail to Reject NUll Hyposthesis\")"
   ]
  },
  {
   "cell_type": "markdown",
   "metadata": {},
   "source": [
    "## Q17. A marketing company wants to estimate the average number of ads watched by viewers during a TV program. They take a random sample of 50 viewers and find that the sample mean is 4 with a standard deviation of 1.5. Estimate the population mean with a 99% confidence interval."
   ]
  },
  {
   "cell_type": "markdown",
   "metadata": {},
   "source": [
    "import scipy.stats as stat\n",
    "import numpy as np\n",
    "\n",
    "sample1_mean = 80\n",
    "sample2_mean = 75\n",
    "population_mean = 5\n",
    "sample1_size = 30\n",
    "sample2_size = 40\n",
    "population1_std = 10\n",
    "population2_std = 8\n",
    "alpha = 0.01\n",
    "dof = sample1_size + sample2_size - 2 \n",
    "\n",
    "standard_error = np.sqrt((pow(population1_std/np.sqrt(sample1_size),2) + (pow(population2_std/np.sqrt(sample2_size),2))))\n",
    "\n",
    "\n",
    "                        \n",
    "t_statistic = (sample1_mean - sample2_mean) / standard_error \n",
    "print(f\"T-Statics is: {t_statistic} \\n \")\n",
    "\n",
    "p_value = 2*(1 - stat.t.cdf(abs(t_statistic), df = dof))\n",
    "print(f\"P-Value is: {p_value} \\n \")\n",
    "\n",
    "if p_value < alpha:\n",
    "    print(\"Reject NUll Hypothesis\")\n",
    "else:\n",
    "    print(\"Fail to Reject NUll Hyposthesis\")"
   ]
  }
 ],
 "metadata": {
  "kernelspec": {
   "display_name": ".venv",
   "language": "python",
   "name": "python3"
  },
  "language_info": {
   "codemirror_mode": {
    "name": "ipython",
    "version": 3
   },
   "file_extension": ".py",
   "mimetype": "text/x-python",
   "name": "python",
   "nbconvert_exporter": "python",
   "pygments_lexer": "ipython3",
   "version": "3.10.11"
  }
 },
 "nbformat": 4,
 "nbformat_minor": 2
}
