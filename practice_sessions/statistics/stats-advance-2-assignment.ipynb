{
 "cells": [
  {
   "cell_type": "markdown",
   "metadata": {},
   "source": [
    "## Q1: What are the Probability Mass Function (PMF) and Probability Density Function (PDF)? Explain with an example."
   ]
  },
  {
   "cell_type": "markdown",
   "metadata": {},
   "source": [
    "Probability Mass Function (PMF):\n",
    "- Probability mass function denotes the probability that a discrete random variable will take on a particular value.\n",
    "- It is evaluated at an exact point.\n",
    "\n",
    "Probability Density Function (PDF):\n",
    "- Probability density function gives the probability that a continuous random variable will lie between a certain specified interval.\n",
    "- It is evaluated between a range of values."
   ]
  },
  {
   "cell_type": "markdown",
   "metadata": {},
   "source": [
    "## Q2: What is Cumulative Density Function (CDF)? Explain with an example. Why CDF is used?"
   ]
  },
  {
   "cell_type": "markdown",
   "metadata": {},
   "source": [
    "Cumulative Density Function (CDF):\n",
    "- The cumulative distribution function is used to describe the probability distribution of random variables. \n",
    "- It can be used to describe the probability for a discrete, continuous or mixed variable. \n",
    "- It is obtained by summing up the probability density function and getting the cumulative probability for a random variable."
   ]
  },
  {
   "cell_type": "markdown",
   "metadata": {},
   "source": [
    "## Q3: What are some examples of situations where the normal distribution might be used as a model? \n",
    "Explain how the parameters of the normal distribution relate to the shape of the distribution.\n"
   ]
  },
  {
   "cell_type": "markdown",
   "metadata": {},
   "source": [
    "Situations of Normal Distribution:\n",
    "1. Quality control: By measuring the mean and standard deviation of the process, companies can set control limits to ensure that the process stays within acceptable bounds.\n",
    "2. Sales forecasting: By estimating the mean and standard deviation of sales, companies can calculate the probability of achieving different levels of sales and set sales targets accordingly.\n",
    "3. Customer behavior analysis: Companies can use the normal distribution to model customer behavior, such as the amount of time spent on a website or the number of purchases made in a given period.\n",
    "4. Blood pressure: It generally follows a Gaussian distribution (normal) in the general population, and it makes Gaussian mixture models a suitable candidate for modelling blood pressure behaviour."
   ]
  },
  {
   "cell_type": "markdown",
   "metadata": {},
   "source": [
    "## Q4: Explain the importance of Normal Distribution. Give a few real-life examples of Normal Distribution."
   ]
  },
  {
   "cell_type": "markdown",
   "metadata": {},
   "source": [
    "Importance of Normal Distribution:\n",
    "- The normal distribution is an important probability distribution in math and statistics because many continuous data in nature and psychology display this bell-shaped curve when compiled and graphed.\n",
    "\n",
    "Properties of Normal Distribution:\n",
    "- Bell shaped\n",
    "- Symmetrical\n",
    "- Unimodal – it has one “peak”\n",
    "- Mean and median are equal; both are located at the center of the distribution\n",
    "- About 68% of data falls within one standard deviation of the mean\n",
    "- About 95% of data falls within two standard deviations of the mean\n",
    "- About 99.7% of data falls within three standard deviations of the mean"
   ]
  },
  {
   "cell_type": "markdown",
   "metadata": {},
   "source": [
    "## Q5: What is Bernaulli Distribution? Give an Example. What is the difference between Bernoulli Distribution and Binomial Distribution?"
   ]
  },
  {
   "cell_type": "markdown",
   "metadata": {},
   "source": [
    "Difference\n",
    "|Bernoulli Distribution|Binomial Distribution|\n",
    "|:-:|:-:|\n",
    "|Bernoulli distribution is used when we want to model the outcome of a single trial of an event.|If we want to model the outcome of multiple trials of an event, Binomial distribution is used.|\n",
    "|Example: Suppose the probability of passing an exam is 80% and failing is 20%. Then the Bernoulli distribution can be used to model the passing or failing in such an exam.|Example: Suppose the probability of passing an exam is 80% and failing is 20%. Then if we want to find the probability that a student will pass in exactly 4 out of 5 exams, we use the Binomial Distribution.|\n",
    "|It is represented as X ∼ Bernoulli (p). Here, p is the probability of success.|It is denoted as X ∼ Binomial (n, p). Where n is the number of trials.|"
   ]
  },
  {
   "cell_type": "markdown",
   "metadata": {},
   "source": [
    "## Q6. Consider a dataset with a mean of 50 and a standard deviation of 10. If we assume that the dataset is normally distributed, what is the probability that a randomly selected observation will be greater than 60? Use the appropriate formula and show your calculations.\n"
   ]
  },
  {
   "cell_type": "markdown",
   "metadata": {},
   "source": [
    "mean = 50\n",
    "std = 10\n",
    "\n",
    "Z = (60 - 50) / 10 = 1\n",
    "\n",
    "Probability is 0.84134 which is 84.13%"
   ]
  },
  {
   "cell_type": "markdown",
   "metadata": {},
   "source": [
    "## Q7: Explain uniform Distribution with an example."
   ]
  },
  {
   "cell_type": "markdown",
   "metadata": {},
   "source": [
    "Uniform Distribution:\n",
    "- A uniform distribution, sometimes also known as a rectangular distribution, is a distribution that has constant probability.\n",
    "- There are two types of uniform distributions: discrete and continuous.\n",
    "- Uniform distributions are probability distributions with equally likely outcomes.\n",
    "- In a discrete uniform distribution, outcomes are discrete and have the same probability.\n",
    "- In a continuous uniform distribution, outcomes are continuous and infinite.\n",
    "- In a normal distribution, data around the mean occur more frequently.\n",
    "- The frequency of occurrence decreases the farther you are from the mean in a normal distribution.\n",
    "\n",
    "Example:\n",
    "- The roll of a single dice yields one of six numbers: 1, 2, 3, 4, 5, or 6. Because there are only 6 possible outcomes, the probability of you landing on any one of them is 16.67% (1/6)."
   ]
  },
  {
   "cell_type": "markdown",
   "metadata": {},
   "source": [
    "## Q8: What is the z score? State the importance of the z score."
   ]
  },
  {
   "cell_type": "markdown",
   "metadata": {},
   "source": [
    "Z Score:\n",
    "- Oftentimes, we need to compare values from different datasets. These datasets may have different metrics, cumulative scores, and hence different means. In such situations, we need to standardize the scores to compare them.\n",
    "- The resulting standardized normal variable for each score is called Z.\n",
    "\n",
    "Importance:\n",
    "- A random normal variable X is standardized to have a mean of 0 and a standard deviation of 1.\n",
    "- z-score is used when the data is normally distributed.\n",
    "- The z-score will tell us how many standard deviations above or below the mean does a value lie."
   ]
  },
  {
   "cell_type": "markdown",
   "metadata": {},
   "source": [
    "## Q9: What is Central Limit Theorem? State the significance of the Central Limit Theorem."
   ]
  },
  {
   "cell_type": "markdown",
   "metadata": {},
   "source": [
    "Central Limit Theorem:\n",
    "- The central limit theorem states that when the sample size is large, the distribution of the sample mean will be normal. This holds true regardless of the original distribution of the population, be it normal, Poisson, binomial, or any other type.\n",
    "\n",
    "Significance:\n",
    "- Analyzing data involves statistical methods like hypothesis testing and constructing confidence intervals. These methods assume that the population is normally distributed. In the case of unknown or non-normal distributions, we treat the sampling distribution as normal according to the central limit theorem.\n",
    "- If we increase the samples drawn from the population, the standard deviation of sample means will decrease. This helps us estimate the mean of the population much more accurately. Also, the sample mean can be used to create the range of values known as a confidence interval (that is likely to consist of the population mean)."
   ]
  },
  {
   "cell_type": "markdown",
   "metadata": {},
   "source": [
    "## Q10: State the assumptions of the Central Limit Theorem."
   ]
  },
  {
   "cell_type": "markdown",
   "metadata": {},
   "source": [
    "Assumptions:\n",
    "1. The data must follow the randomization condition. It must be sampled randomly.\n",
    "2. Samples should be independent of each other. One sample should not influence the other samples\n",
    "3. Sample size should be not more than 10% of the population when sampling is done without replacement\n",
    "4. The sample size should be sufficiently large. Now, how will we figure out how large this size should be? Well, it depends on the population. When the population is skewed or asymmetric, the sample size should be large. If the population is symmetric, then we can draw small samples as well."
   ]
  }
 ],
 "metadata": {
  "kernelspec": {
   "display_name": ".venv",
   "language": "python",
   "name": "python3"
  },
  "language_info": {
   "name": "python",
   "version": "3.10.11"
  }
 },
 "nbformat": 4,
 "nbformat_minor": 2
}
