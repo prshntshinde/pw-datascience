{
 "cells": [
  {
   "cell_type": "markdown",
   "metadata": {},
   "source": [
    "### Q1. What is a database? Differentiate between SQL and NoSQL databases."
   ]
  },
  {
   "cell_type": "markdown",
   "metadata": {},
   "source": [
    "- Database is an organized collection of structured information, or data, stored in a computer system.\n",
    "---\n",
    "- SQL databases are relational databases. Data in a relational database are organized as a set of tables with columns and rows. \n",
    "- Relational database provides the most efficient way to access structured information.\n",
    "- Examples: MySQL, PostgreSQL, Oracle, MS-SQL Server, etc\n",
    "---\n",
    "- NoSQL databases are nonrelational database. They allow unstructured and semi-structured data to be stored and manipulated. \n",
    "- Data is stored in many ways like it can be document-oriented, column-oriented, graph-based, or organized as a key-value store.\n",
    "- Examples: MongoDB, GraphQL, HBase, Neo4j, Cassandra, etc"
   ]
  },
  {
   "cell_type": "markdown",
   "metadata": {},
   "source": []
  },
  {
   "cell_type": "markdown",
   "metadata": {},
   "source": [
    "### Q2. What is DDL? Explain why CREATE, DROP, ALTER, and TRUNCATE are used with an example."
   ]
  },
  {
   "cell_type": "markdown",
   "metadata": {},
   "source": [
    "- DDL:\n",
    "    - Data Definition Language consists of the SQL commands that can be used to define the database schema.\n",
    "    - It deals with descriptions of the database schema and is used to create and modify the structure of database in the database.\n",
    "    - DDL is a set of SQL commands used to create, modify, and delete database structures but not data.\n",
    "---\n",
    "- CREATE: \n",
    "    - This command is used to create the database or its objects like table, index, function, views, store procedure, and triggers.\n",
    "---\n",
    "- DROP:\n",
    "    - This command is used to delete a whole database or a table from the database.\n",
    "---\n",
    "- ALTER:\n",
    "    - This is used to alter the structure of the database.\n",
    "---\n",
    "- TRUNCATE:\n",
    "    - This is used to remove all records from a table, including all spaces allocated for the records are removed."
   ]
  },
  {
   "cell_type": "code",
   "execution_count": null,
   "metadata": {
    "vscode": {
     "languageId": "sql"
    }
   },
   "outputs": [],
   "source": [
    "// CREATE\n",
    "CREATE TABLE IF NOT EXISTS Skills.Employee(\n",
    "    EmpId INT,\n",
    "    EmpName VARCHAR(30),\n",
    "    Age INT\n",
    ");\n",
    "\n",
    "// ALTER\n",
    "ALTER TABLE Skills.Employee ADD EmpFirstName VARCHAR(30);\n",
    "\n",
    "ALTER TABLE Skills.Employee MODIFY COLUMN EmpName VARCHAR(50);\n",
    "\n",
    "ALTER TABLE Skills.Employee DROP COLUMN EmpName;\n",
    "\n",
    "// TRUNCATE\n",
    "TRUNCATE TABLE Skills.Employee;\n",
    "\n",
    "// DROP\n",
    "DROP TABLE Skills.Employee;\n",
    "\n",
    "DROP DATABASE Skills;"
   ]
  },
  {
   "cell_type": "markdown",
   "metadata": {},
   "source": []
  },
  {
   "cell_type": "markdown",
   "metadata": {},
   "source": [
    "Q3. What is DML? Explain INSERT, UPDATE, and DELETE with an example."
   ]
  },
  {
   "cell_type": "markdown",
   "metadata": {},
   "source": [
    "- DML:\n",
    "    - Data Manipulation Language consists of the SQL commands that can be used to manipulate the data present in database.\n",
    "    - DML is a set of SQL commands used to insert, update or delete the data in the database.\n",
    "---\n",
    "- INSERT: \n",
    "    - This command is used to insert data in database.\n",
    "---\n",
    "- UPDATE:\n",
    "    - This command is used to update data in the database.\n",
    "---\n",
    "- DELETE:\n",
    "    - This command is used to delete data from the database."
   ]
  },
  {
   "cell_type": "code",
   "execution_count": null,
   "metadata": {
    "vscode": {
     "languageId": "sql"
    }
   },
   "outputs": [],
   "source": [
    "//INSERT\n",
    "INSERT INTO Skills.Employee VALUES( 1,'Pras',25 );\n",
    "\n",
    "// UPDATE\n",
    "UPDATE Skills.Employee SET EmpName = 'Prashant' WHERE EmpId = 1;\n",
    "\n",
    "// DELETE\n",
    "DELETE FROM Skills.Employee WHERE EmpId = 1;"
   ]
  },
  {
   "cell_type": "markdown",
   "metadata": {},
   "source": [
    "Q4. What is DQL? Explain SELECT with an example."
   ]
  },
  {
   "cell_type": "markdown",
   "metadata": {},
   "source": [
    "- DQL:\n",
    "    - Data Query Language consists of the SQL commands that can be used to query the data present in database.\n",
    "    - It includes SELECT Statement.\n",
    "---\n",
    "- SELECT: \n",
    "    - This command is used to retrieve data from the database."
   ]
  },
  {
   "cell_type": "code",
   "execution_count": null,
   "metadata": {
    "vscode": {
     "languageId": "sql"
    }
   },
   "outputs": [],
   "source": [
    "// SELECT\n",
    "\n",
    "SELECT * FROM Skills.Employee;\n",
    "\n",
    "SELECT EmpId, EmpName FROM Skills.Employee;"
   ]
  },
  {
   "cell_type": "markdown",
   "metadata": {},
   "source": [
    "Q5. Explain Primary Key and Foreign Key.\n"
   ]
  },
  {
   "cell_type": "markdown",
   "metadata": {},
   "source": [
    "- Primary Key\n",
    "    - A Primary key is a key through which we can uniquely identify each record in a table.\n",
    "    - It is a unique key.\n",
    "    - It can identify only one record at a time.\n",
    "    - It has no duplicate values.\n",
    "    - It cannot be NULL.\n",
    "    - More than one column can also be a primary key for a table.\n",
    "---\n",
    "- Foreign Key\n",
    "    - A Foreign key is a key used to link two tables together.\n",
    "    - A Foreign key is a field in one table that refers to the PRIMARY KEY in another table.\n",
    "    - More than one column can also be a foreign key for a table."
   ]
  },
  {
   "cell_type": "markdown",
   "metadata": {},
   "source": [
    "Q6. Write a python code to connect MySQL to python. Explain the cursor() and execute() method.\n"
   ]
  },
  {
   "cell_type": "markdown",
   "metadata": {},
   "source": [
    "- Cursor:\n",
    "    - The cursor() method returns a MySQLCursor() object.\n",
    "    - The MySQLCursor class instantiates objects that can execute operations such as SQL statements. Cursor objects interact with the MySQL server using a MySQLConnection object.\n",
    "\n",
    "- Execute:\n",
    "    - The execute() method executes the given database operation like a query or command."
   ]
  },
  {
   "cell_type": "code",
   "execution_count": null,
   "metadata": {},
   "outputs": [],
   "source": [
    "import mysql.connector\n",
    "\n",
    "cnx = mysql.connector.connect(user='scott', password='password',\n",
    "                              host='127.0.0.1',\n",
    "                              database='employees')\n",
    "cnx.close()"
   ]
  },
  {
   "cell_type": "markdown",
   "metadata": {},
   "source": [
    "Q7. Give the order of execution of SQL clauses in an SQL query."
   ]
  },
  {
   "cell_type": "markdown",
   "metadata": {},
   "source": [
    "|Order|Clause|\n",
    "|-|-|\n",
    "|1|FROM|\n",
    "|2|WHERE|\n",
    "|3|GROUP BY|\n",
    "|4|HAVING|\n",
    "|5|SELECT|\n",
    "|6|ORDER BY|\n",
    "|7|LIMIT|"
   ]
  },
  {
   "cell_type": "markdown",
   "metadata": {},
   "source": []
  }
 ],
 "metadata": {
  "language_info": {
   "name": "python"
  },
  "orig_nbformat": 4
 },
 "nbformat": 4,
 "nbformat_minor": 2
}
