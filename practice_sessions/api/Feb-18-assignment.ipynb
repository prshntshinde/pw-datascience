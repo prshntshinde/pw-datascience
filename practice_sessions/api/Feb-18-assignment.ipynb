{
 "cells": [
  {
   "cell_type": "markdown",
   "metadata": {},
   "source": [
    "### Q1. What is an API? Give an example, where an API is used in real life."
   ]
  },
  {
   "cell_type": "markdown",
   "metadata": {},
   "source": [
    "- APIs are mechanisms that enable two software components to communicate with each other using a set of definitions and protocols.\n",
    "- For example, the weather bureau’s software system contains daily weather data. The weather app on your phone “talks” to this system via APIs and shows you daily weather updates on your phone."
   ]
  },
  {
   "cell_type": "markdown",
   "metadata": {},
   "source": [
    "### Q2. Give advantages and disadvantages of using API.\n"
   ]
  },
  {
   "cell_type": "markdown",
   "metadata": {},
   "source": [
    "|Advantages|Disadvantage|\n",
    "|-|-|\n",
    "|Increased Interoperability: API solutions enable different software systems to communicate with each other, regardless of their programming language or platform.|Security Concerns: API infrastructures can be vulnerable to security breaches, such as SQL injection attacks and cross-site scripting (XSS) attacks, making it crucial to implement security measures to protect against these threats.|\n",
    "|Improved Efficiency: API driven infrastructures enable developers to reuse code and functionality from existing software systems, saving time and reducing the amount of code that needs to be written from scratch.|Complexity: APIs can be complex, requiring a significant amount of development effort to implement and maintain.|\n",
    "|Better User Experience: APIs can enable third-party developers to create applications that integrate with existing software systems, providing a better user experience and increased functionality.|Compatibility Issues: APIs can have compatibility issues between different versions of the same software system or between different systems, which can lead to errors and system failures.|\n",
    "|Increased Flexibility: APIs provide developers with greater flexibility, enabling them to choose the best programming languages and frameworks for their needs.|Dependency on Third-Party Developers: APIs rely on third-party developers to create applications that integrate with the software system. This can create dependencies that are outside of the control of the company that owns the software system.|"
   ]
  },
  {
   "cell_type": "markdown",
   "metadata": {},
   "source": [
    "### Q3. What is a Web API? Differentiate between API and Web API.\n"
   ]
  },
  {
   "cell_type": "markdown",
   "metadata": {},
   "source": [
    "- Web API\n",
    "    - A Web API is an application processing interface between a web server and web browser. \n",
    "    - All web services are APIs but not all APIs are web services. \n",
    "    - REST API is a special type of Web API that uses the standard architectural style.\n",
    "\n",
    "|API|Web API|\n",
    "|-|-|\n",
    "|API is an interface that exposes an application's data to outside software|web applications are one type of API with stricter requirements.|\n",
    "|All APIs are not Web API's.|All Web API's are APIs|\n",
    "|API may use any style for communication.|A Web API uses only three styles of use: SOAP, REST and XML-RPC for communication.|\n",
    "|API may or may not need a network for operation.|A Web API always needs a network for its operation.|"
   ]
  },
  {
   "cell_type": "markdown",
   "metadata": {},
   "source": [
    "### Q4. Explain REST and SOAP Architecture. Mention shortcomings of SOAP.\n"
   ]
  },
  {
   "cell_type": "markdown",
   "metadata": {},
   "source": [
    "- REST (Representational State Transfer)\n",
    "    - REST is a software architectural style that imposes six conditions on how an API should work.\n",
    "    - These are the six principles REST APIs follow:\n",
    "        1. Client-server architecture. The sender and receiver are independent of each other regarding technology, platforming, programming language.\n",
    "        2. Layered. The server can have several intermediaries that work together to complete client requests, but they are invisible to the client.\n",
    "        3. Uniform interface. The API returns data in a standard format that is complete and fully useable.\n",
    "        4. Stateless. The API completes every new request independently of previous requests.\n",
    "        5. Cacheable. All API responses are cacheable.\n",
    "\n",
    "- SOAP (Simple Object Access Protocol)\n",
    "    - SOAP is a protocol that defines rigid communication rules. It has several associated standards that control every aspect of the data exchange.\n",
    "    - SOAP is an older technology that requires a strict communication contract between systems.\n",
    "    - These are a few standards:\n",
    "        1. Web Services Security (WS-Security) specifies security measures like using unique identifiers called tokens.\n",
    "        2. Web Services Addressing (WS-Addressing) requires including routing information as metadata.\n",
    "        3. WS-ReliableMessaging standardizes error handling in SOAP messaging.\n",
    "        4. Web Services Description Language (WSDL) describes the scope and function of SOAP web services.\n",
    "\n"
   ]
  },
  {
   "cell_type": "markdown",
   "metadata": {},
   "source": [
    "### Q5. Differentiate between REST and SOAP."
   ]
  },
  {
   "cell_type": "markdown",
   "metadata": {},
   "source": [
    "|REST|SOAP|\n",
    "|:-:|:-:|\n",
    "|REST is an architecture style for designing communication interfaces.|SOAP is a protocol for communication between applications|\n",
    "|REST API exposes the data.|SOAP API exposes the operation.|\n",
    "|REST works only with HTTPS.|SOAP is independent and can work with any transport protocol.|\n",
    "|REST supports XML, JSON, plain text, HTML.|SOAP supports only XML data exchange.|\n",
    "|REST has faster performance due to smaller messages and caching support.|SOAP messages are larger, which makes communication slower.|\n",
    "|REST is easy to scale. It’s stateless, so every message is processed independently of previous messages.|SOAP is difficult to scale. The server maintains state by storing all previous messages exchanged with a client.|\n",
    "\n"
   ]
  }
 ],
 "metadata": {
  "language_info": {
   "name": "python"
  },
  "orig_nbformat": 4
 },
 "nbformat": 4,
 "nbformat_minor": 2
}
